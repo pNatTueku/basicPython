{
 "cells": [
  {
   "cell_type": "code",
   "execution_count": 11,
   "metadata": {},
   "outputs": [],
   "source": [
    "i  = [1, 3, 5, 7, 9]"
   ]
  },
  {
   "cell_type": "code",
   "execution_count": 13,
   "metadata": {},
   "outputs": [
    {
     "name": "stdout",
     "output_type": "stream",
     "text": [
      "1\n",
      "3\n",
      "5\n",
      "7\n",
      "9\n",
      "Done!\n"
     ]
    }
   ],
   "source": [
    "# we know the end of loop, so we use if\n",
    "\n",
    "for tmp in i:\n",
    "    print(tmp)\n",
    "\n",
    "print('Done!')"
   ]
  },
  {
   "cell_type": "code",
   "execution_count": 14,
   "metadata": {},
   "outputs": [
    {
     "data": {
      "text/plain": [
       "{'Mark': 29,\n",
       " 'Jay_B': 29,\n",
       " 'Jackson': 28,\n",
       " 'Jinyoung': 28,\n",
       " 'Youngjae': 26,\n",
       " 'BamBam': 25,\n",
       " 'Yugyeom': 25}"
      ]
     },
     "execution_count": 14,
     "metadata": {},
     "output_type": "execute_result"
    }
   ],
   "source": [
    "# work with dictionary\n",
    "\n",
    "got7 = {\n",
    "    'Mark': 29,\n",
    "    'Jay_B': 29,\n",
    "    'Jackson': 28,\n",
    "    'Jinyoung': 28,\n",
    "    'Youngjae': 26,\n",
    "    'BamBam': 25,\n",
    "    'Yugyeom': 25\n",
    "}\n",
    "got7"
   ]
  },
  {
   "cell_type": "code",
   "execution_count": 15,
   "metadata": {},
   "outputs": [
    {
     "data": {
      "text/plain": [
       "dict"
      ]
     },
     "execution_count": 15,
     "metadata": {},
     "output_type": "execute_result"
    }
   ],
   "source": [
    "type(got7)"
   ]
  },
  {
   "cell_type": "code",
   "execution_count": 16,
   "metadata": {},
   "outputs": [
    {
     "name": "stdout",
     "output_type": "stream",
     "text": [
      "Mark 29\n",
      "Jay_B 29\n",
      "Jackson 28\n",
      "Jinyoung 28\n",
      "Youngjae 26\n",
      "BamBam 25\n",
      "Yugyeom 25\n",
      "Show GOT7 member's age, DONE!\n"
     ]
    }
   ],
   "source": [
    "for key, value in got7.items():\n",
    "    print(key, value)\n",
    "\n",
    "print(\"Show GOT7 member's age, DONE!\")"
   ]
  },
  {
   "cell_type": "code",
   "execution_count": null,
   "metadata": {},
   "outputs": [],
   "source": []
  }
 ],
 "metadata": {
  "kernelspec": {
   "display_name": "Python 3",
   "language": "python",
   "name": "python3"
  },
  "language_info": {
   "codemirror_mode": {
    "name": "ipython",
    "version": 3
   },
   "file_extension": ".py",
   "mimetype": "text/x-python",
   "name": "python",
   "nbconvert_exporter": "python",
   "pygments_lexer": "ipython3",
   "version": "3.11.1"
  },
  "orig_nbformat": 4,
  "vscode": {
   "interpreter": {
    "hash": "87a1d552f91eeb558c0ccd448f410e247f4277ae8c89a1716b4b50ef0e37ae74"
   }
  }
 },
 "nbformat": 4,
 "nbformat_minor": 2
}
