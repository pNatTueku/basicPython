{
 "cells": [
  {
   "cell_type": "code",
   "execution_count": 11,
   "metadata": {},
   "outputs": [],
   "source": [
    "i  = [1, 3, 5, 7, 9]"
   ]
  },
  {
   "cell_type": "code",
   "execution_count": 13,
   "metadata": {},
   "outputs": [
    {
     "name": "stdout",
     "output_type": "stream",
     "text": [
      "1\n",
      "3\n",
      "5\n",
      "7\n",
      "9\n",
      "Done!\n"
     ]
    }
   ],
   "source": [
    "# we know the end of loop, so we use if\n",
    "\n",
    "for tmp in i:\n",
    "    print(tmp)\n",
    "\n",
    "print('Done!')"
   ]
  },
  {
   "cell_type": "code",
   "execution_count": 46,
   "metadata": {},
   "outputs": [
    {
     "name": "stdout",
     "output_type": "stream",
     "text": [
      "0 1\n",
      "1 3\n",
      "2 5\n",
      "3 7\n",
      "4 9\n"
     ]
    }
   ],
   "source": [
    "# work with range\n",
    "\n",
    "# this one need enumerate a list\n",
    "idx = 0\n",
    "\n",
    "for item in i:\n",
    "    print(idx, item)\n",
    "\n",
    "    idx += 1\n",
    "\n"
   ]
  },
  {
   "cell_type": "code",
   "execution_count": 47,
   "metadata": {},
   "outputs": [
    {
     "name": "stdout",
     "output_type": "stream",
     "text": [
      "0 1\n",
      "1 3\n",
      "2 5\n",
      "3 7\n",
      "4 9\n"
     ]
    }
   ],
   "source": [
    "# let see how enumerate function help us\n",
    "\n",
    "for idx, item in enumerate(i):\n",
    "    print(idx, item)"
   ]
  },
  {
   "cell_type": "code",
   "execution_count": 14,
   "metadata": {},
   "outputs": [
    {
     "data": {
      "text/plain": [
       "{'Mark': 29,\n",
       " 'Jay_B': 29,\n",
       " 'Jackson': 28,\n",
       " 'Jinyoung': 28,\n",
       " 'Youngjae': 26,\n",
       " 'BamBam': 25,\n",
       " 'Yugyeom': 25}"
      ]
     },
     "execution_count": 14,
     "metadata": {},
     "output_type": "execute_result"
    }
   ],
   "source": [
    "# work with dictionary\n",
    "\n",
    "got7 = {\n",
    "    'Mark': 29,\n",
    "    'Jay_B': 29,\n",
    "    'Jackson': 28,\n",
    "    'Jinyoung': 28,\n",
    "    'Youngjae': 26,\n",
    "    'BamBam': 25,\n",
    "    'Yugyeom': 25\n",
    "}\n",
    "got7"
   ]
  },
  {
   "cell_type": "code",
   "execution_count": 15,
   "metadata": {},
   "outputs": [
    {
     "data": {
      "text/plain": [
       "dict"
      ]
     },
     "execution_count": 15,
     "metadata": {},
     "output_type": "execute_result"
    }
   ],
   "source": [
    "type(got7)"
   ]
  },
  {
   "cell_type": "code",
   "execution_count": 16,
   "metadata": {},
   "outputs": [
    {
     "name": "stdout",
     "output_type": "stream",
     "text": [
      "Mark 29\n",
      "Jay_B 29\n",
      "Jackson 28\n",
      "Jinyoung 28\n",
      "Youngjae 26\n",
      "BamBam 25\n",
      "Yugyeom 25\n",
      "Show GOT7 member's age, DONE!\n"
     ]
    }
   ],
   "source": [
    "for key, value in got7.items():\n",
    "    print(key, value)\n",
    "\n",
    "print(\"Show GOT7 member's age, DONE!\")"
   ]
  },
  {
   "cell_type": "code",
   "execution_count": 17,
   "metadata": {},
   "outputs": [
    {
     "data": {
      "text/plain": [
       "'aeiou'"
      ]
     },
     "execution_count": 17,
     "metadata": {},
     "output_type": "execute_result"
    }
   ],
   "source": [
    "# work with string\n",
    "\n",
    "str_1 = 'aeiou'\n",
    "str_1"
   ]
  },
  {
   "cell_type": "code",
   "execution_count": 18,
   "metadata": {},
   "outputs": [
    {
     "data": {
      "text/plain": [
       "5"
      ]
     },
     "execution_count": 18,
     "metadata": {},
     "output_type": "execute_result"
    }
   ],
   "source": [
    "len(str_1)"
   ]
  },
  {
   "cell_type": "code",
   "execution_count": 20,
   "metadata": {},
   "outputs": [
    {
     "name": "stdout",
     "output_type": "stream",
     "text": [
      "a\n",
      "e\n",
      "i\n",
      "o\n",
      "u\n",
      "Done to print character!\n"
     ]
    }
   ],
   "source": [
    "for char in str_1:\n",
    "    print(char)\n",
    "\n",
    "print('Done to print character!')"
   ]
  },
  {
   "cell_type": "code",
   "execution_count": 21,
   "metadata": {},
   "outputs": [
    {
     "name": "stdout",
     "output_type": "stream",
     "text": [
      "25\n"
     ]
    }
   ],
   "source": [
    "# work with list\n",
    "\n",
    "nums = [1, 3, 5, 7, 9]\n",
    "\n",
    "counter = 0\n",
    "\n",
    "for numbers in nums:\n",
    "\n",
    "    counter = counter + numbers\n",
    "    # counter += numbers\n",
    "\n",
    "print(counter)"
   ]
  },
  {
   "cell_type": "code",
   "execution_count": 22,
   "metadata": {},
   "outputs": [
    {
     "data": {
      "text/plain": [
       "'I am on the way to improve Python skill'"
      ]
     },
     "execution_count": 22,
     "metadata": {},
     "output_type": "execute_result"
    }
   ],
   "source": [
    "# work with a sentense\n",
    "\n",
    "sentence = 'I am on the way to improve Python skill'\n",
    "sentence\n",
    "\n"
   ]
  },
  {
   "cell_type": "code",
   "execution_count": 23,
   "metadata": {},
   "outputs": [
    {
     "data": {
      "text/plain": [
       "str"
      ]
     },
     "execution_count": 23,
     "metadata": {},
     "output_type": "execute_result"
    }
   ],
   "source": [
    "type(sentence)"
   ]
  },
  {
   "cell_type": "code",
   "execution_count": 24,
   "metadata": {},
   "outputs": [
    {
     "data": {
      "text/plain": [
       "39"
      ]
     },
     "execution_count": 24,
     "metadata": {},
     "output_type": "execute_result"
    }
   ],
   "source": [
    "len(sentence)"
   ]
  },
  {
   "cell_type": "code",
   "execution_count": 25,
   "metadata": {},
   "outputs": [
    {
     "data": {
      "text/plain": [
       "['I', 'am', 'on', 'the', 'way', 'to', 'improve', 'Python', 'skill']"
      ]
     },
     "execution_count": 25,
     "metadata": {},
     "output_type": "execute_result"
    }
   ],
   "source": [
    "# split a sentence to words\n",
    "\n",
    "words = sentence.split()\n",
    "words"
   ]
  },
  {
   "cell_type": "code",
   "execution_count": 26,
   "metadata": {},
   "outputs": [
    {
     "name": "stdout",
     "output_type": "stream",
     "text": [
      "I, am, on, the, way, to, improve, Python, skill, Done!\n"
     ]
    }
   ],
   "source": [
    "for word in words:\n",
    "\n",
    "    print(word, end = ', ')\n",
    "\n",
    "print('Done!')"
   ]
  },
  {
   "cell_type": "code",
   "execution_count": 27,
   "metadata": {},
   "outputs": [
    {
     "data": {
      "text/plain": [
       "list"
      ]
     },
     "execution_count": 27,
     "metadata": {},
     "output_type": "execute_result"
    }
   ],
   "source": [
    "type(words)"
   ]
  },
  {
   "cell_type": "code",
   "execution_count": 30,
   "metadata": {},
   "outputs": [],
   "source": [
    "words.append('am')"
   ]
  },
  {
   "cell_type": "code",
   "execution_count": 32,
   "metadata": {},
   "outputs": [
    {
     "data": {
      "text/plain": [
       "['I', 'am', 'on', 'the', 'way', 'to', 'improve', 'Python', 'skill', 'am']"
      ]
     },
     "execution_count": 32,
     "metadata": {},
     "output_type": "execute_result"
    }
   ],
   "source": [
    "words"
   ]
  },
  {
   "cell_type": "code",
   "execution_count": 31,
   "metadata": {},
   "outputs": [
    {
     "data": {
      "text/plain": [
       "{'I': 1,\n",
       " 'am': 2,\n",
       " 'on': 1,\n",
       " 'the': 1,\n",
       " 'way': 1,\n",
       " 'to': 1,\n",
       " 'improve': 1,\n",
       " 'Python': 1,\n",
       " 'skill': 1}"
      ]
     },
     "execution_count": 31,
     "metadata": {},
     "output_type": "execute_result"
    }
   ],
   "source": [
    "count = {}\n",
    "\n",
    "for word in words:\n",
    "\n",
    "    count[word] = count.get(word, 0) + 1\n",
    "\n",
    "count"
   ]
  },
  {
   "cell_type": "code",
   "execution_count": 33,
   "metadata": {},
   "outputs": [
    {
     "data": {
      "text/plain": [
       "dict"
      ]
     },
     "execution_count": 33,
     "metadata": {},
     "output_type": "execute_result"
    }
   ],
   "source": [
    "type(count)"
   ]
  },
  {
   "cell_type": "code",
   "execution_count": 34,
   "metadata": {},
   "outputs": [
    {
     "name": "stdout",
     "output_type": "stream",
     "text": [
      "I 1\n",
      "am 2\n",
      "on 1\n",
      "the 1\n",
      "way 1\n",
      "to 1\n",
      "improve 1\n",
      "Python 1\n",
      "skill 1\n"
     ]
    }
   ],
   "source": [
    "for word, word_cnt in count.items():\n",
    "\n",
    "    print(word, word_cnt)"
   ]
  },
  {
   "cell_type": "code",
   "execution_count": 44,
   "metadata": {},
   "outputs": [
    {
     "name": "stdout",
     "output_type": "stream",
     "text": [
      "an\n",
      "and\n",
      "be\n",
      "example\n",
      "is\n",
      "sentence\n",
      "sort\n",
      "split\n",
      "this\n",
      "which\n",
      "will\n"
     ]
    }
   ],
   "source": [
    "sentence = 'this is an example sentence which will be split and sort'\n",
    "sentence_split = sentence.split()\n",
    "sentence_split.sort()\n",
    "\n",
    "for word in sentence_split:\n",
    "\n",
    "    print(word)"
   ]
  },
  {
   "cell_type": "code",
   "execution_count": 45,
   "metadata": {},
   "outputs": [
    {
     "name": "stdout",
     "output_type": "stream",
     "text": [
      "This\n",
      "an\n",
      "and\n",
      "be\n",
      "example\n",
      "is\n",
      "sentence\n",
      "sort\n",
      "split\n",
      "which\n",
      "will\n"
     ]
    }
   ],
   "source": [
    "sentence = 'This is an example sentence which will be split and sort'\n",
    "sentence_split = sentence.split()\n",
    "sentence_split.sort()\n",
    "\n",
    "for word in sentence_split:\n",
    "\n",
    "    print(word)"
   ]
  },
  {
   "cell_type": "code",
   "execution_count": 51,
   "metadata": {},
   "outputs": [],
   "source": [
    "# work with lists and zip\n",
    "\n",
    "list_1 = [1, 2, 3, 4, 5]\n",
    "list_2 = ['a', 'e', 'i', 'o', 'u']\n"
   ]
  },
  {
   "cell_type": "code",
   "execution_count": 52,
   "metadata": {},
   "outputs": [
    {
     "name": "stdout",
     "output_type": "stream",
     "text": [
      "1 a\n",
      "2 e\n",
      "3 i\n",
      "4 o\n",
      "5 u\n"
     ]
    }
   ],
   "source": [
    "for i in range(len(list_1)):\n",
    "    print(list_1[i], list_2[i])"
   ]
  },
  {
   "cell_type": "code",
   "execution_count": null,
   "metadata": {},
   "outputs": [],
   "source": []
  }
 ],
 "metadata": {
  "kernelspec": {
   "display_name": "Python 3",
   "language": "python",
   "name": "python3"
  },
  "language_info": {
   "codemirror_mode": {
    "name": "ipython",
    "version": 3
   },
   "file_extension": ".py",
   "mimetype": "text/x-python",
   "name": "python",
   "nbconvert_exporter": "python",
   "pygments_lexer": "ipython3",
   "version": "3.11.1"
  },
  "orig_nbformat": 4,
  "vscode": {
   "interpreter": {
    "hash": "87a1d552f91eeb558c0ccd448f410e247f4277ae8c89a1716b4b50ef0e37ae74"
   }
  }
 },
 "nbformat": 4,
 "nbformat_minor": 2
}
