{
 "cells": [
  {
   "cell_type": "code",
   "execution_count": 1,
   "metadata": {},
   "outputs": [],
   "source": [
    "# !pip install --upgrade pip"
   ]
  },
  {
   "cell_type": "code",
   "execution_count": 2,
   "metadata": {},
   "outputs": [],
   "source": [
    "# !pip install yfinance"
   ]
  },
  {
   "cell_type": "code",
   "execution_count": 3,
   "metadata": {},
   "outputs": [],
   "source": [
    "# import libraries\n",
    "\n",
    "import numpy as np \n",
    "import pandas as pd\n",
    "import yfinance as yf\n",
    "\n",
    "from sklearn.preprocessing import StandardScaler # use it because kmean is sentsitive for the wide range of features, then we apply it for normalization\n",
    "\n",
    "import matplotlib.pyplot as plt \n",
    "%matplotlib inline"
   ]
  },
  {
   "cell_type": "code",
   "execution_count": 4,
   "metadata": {},
   "outputs": [],
   "source": [
    "start = \"2010-01-01\"\n",
    "end = \"2023-12-31\""
   ]
  },
  {
   "cell_type": "code",
   "execution_count": 5,
   "metadata": {},
   "outputs": [
    {
     "data": {
      "text/html": [
       "<div>\n",
       "<style scoped>\n",
       "    .dataframe tbody tr th:only-of-type {\n",
       "        vertical-align: middle;\n",
       "    }\n",
       "\n",
       "    .dataframe tbody tr th {\n",
       "        vertical-align: top;\n",
       "    }\n",
       "\n",
       "    .dataframe thead th {\n",
       "        text-align: right;\n",
       "    }\n",
       "</style>\n",
       "<table border=\"1\" class=\"dataframe\">\n",
       "  <thead>\n",
       "    <tr style=\"text-align: right;\">\n",
       "      <th></th>\n",
       "      <th>Open</th>\n",
       "      <th>High</th>\n",
       "      <th>Low</th>\n",
       "      <th>Close</th>\n",
       "      <th>Adj Close</th>\n",
       "      <th>Volume</th>\n",
       "    </tr>\n",
       "    <tr>\n",
       "      <th>Date</th>\n",
       "      <th></th>\n",
       "      <th></th>\n",
       "      <th></th>\n",
       "      <th></th>\n",
       "      <th></th>\n",
       "      <th></th>\n",
       "    </tr>\n",
       "  </thead>\n",
       "  <tbody>\n",
       "    <tr>\n",
       "      <th>2014-10-31</th>\n",
       "      <td>20.420000</td>\n",
       "      <td>20.420000</td>\n",
       "      <td>20.379999</td>\n",
       "      <td>20.379999</td>\n",
       "      <td>18.391508</td>\n",
       "      <td>2700</td>\n",
       "    </tr>\n",
       "    <tr>\n",
       "      <th>2014-11-03</th>\n",
       "      <td>20.490000</td>\n",
       "      <td>20.490000</td>\n",
       "      <td>20.350000</td>\n",
       "      <td>20.379999</td>\n",
       "      <td>18.391508</td>\n",
       "      <td>2300</td>\n",
       "    </tr>\n",
       "    <tr>\n",
       "      <th>2014-11-04</th>\n",
       "      <td>20.200001</td>\n",
       "      <td>20.270000</td>\n",
       "      <td>20.200001</td>\n",
       "      <td>20.260000</td>\n",
       "      <td>18.283218</td>\n",
       "      <td>7900</td>\n",
       "    </tr>\n",
       "    <tr>\n",
       "      <th>2014-11-05</th>\n",
       "      <td>20.510000</td>\n",
       "      <td>20.510000</td>\n",
       "      <td>20.000000</td>\n",
       "      <td>20.000000</td>\n",
       "      <td>18.048588</td>\n",
       "      <td>14900</td>\n",
       "    </tr>\n",
       "    <tr>\n",
       "      <th>2014-11-06</th>\n",
       "      <td>20.090000</td>\n",
       "      <td>20.139999</td>\n",
       "      <td>20.070000</td>\n",
       "      <td>20.139999</td>\n",
       "      <td>18.174925</td>\n",
       "      <td>2000</td>\n",
       "    </tr>\n",
       "  </tbody>\n",
       "</table>\n",
       "</div>"
      ],
      "text/plain": [
       "                 Open       High        Low      Close  Adj Close  Volume\n",
       "Date                                                                     \n",
       "2014-10-31  20.420000  20.420000  20.379999  20.379999  18.391508    2700\n",
       "2014-11-03  20.490000  20.490000  20.350000  20.379999  18.391508    2300\n",
       "2014-11-04  20.200001  20.270000  20.200001  20.260000  18.283218    7900\n",
       "2014-11-05  20.510000  20.510000  20.000000  20.000000  18.048588   14900\n",
       "2014-11-06  20.090000  20.139999  20.070000  20.139999  18.174925    2000"
      ]
     },
     "execution_count": 5,
     "metadata": {},
     "output_type": "execute_result"
    }
   ],
   "source": [
    "arkk_df = yf.download(\"ARKK\", start = start, end = end, progress = False) # raw data\n",
    "arkk_df.head()"
   ]
  },
  {
   "cell_type": "code",
   "execution_count": 6,
   "metadata": {},
   "outputs": [
    {
     "ename": "NameError",
     "evalue": "name 'arkk_df' is not defined",
     "output_type": "error",
     "traceback": [
      "\u001b[0;31m---------------------------------------------------------------------------\u001b[0m",
      "\u001b[0;31mNameError\u001b[0m                                 Traceback (most recent call last)",
      "Cell \u001b[0;32mIn[6], line 1\u001b[0m\n\u001b[0;32m----> 1\u001b[0m \u001b[43markk_df\u001b[49m\u001b[38;5;241m.\u001b[39mshape\n",
      "\u001b[0;31mNameError\u001b[0m: name 'arkk_df' is not defined"
     ]
    }
   ],
   "source": [
    "arkk_df.shape"
   ]
  },
  {
   "cell_type": "code",
   "execution_count": null,
   "metadata": {},
   "outputs": [],
   "source": [
    "arkk_df.index"
   ]
  },
  {
   "cell_type": "code",
   "execution_count": null,
   "metadata": {},
   "outputs": [],
   "source": [
    "type(arkk_df)"
   ]
  },
  {
   "cell_type": "code",
   "execution_count": null,
   "metadata": {},
   "outputs": [],
   "source": [
    "stock = arkk_df.copy()\n",
    "stock.head()"
   ]
  },
  {
   "cell_type": "code",
   "execution_count": null,
   "metadata": {},
   "outputs": [],
   "source": [
    "stock.shape"
   ]
  },
  {
   "cell_type": "code",
   "execution_count": null,
   "metadata": {},
   "outputs": [],
   "source": [
    "# plot \n",
    "\n",
    "plt.plot(stock['Adj Close'])"
   ]
  },
  {
   "cell_type": "code",
   "execution_count": null,
   "metadata": {},
   "outputs": [],
   "source": [
    "# get feature for clustering\n",
    "\n",
    "# calculate log return\n",
    "stock['Log Rets'] = np.log(stock['Adj Close'] / stock['Adj Close'].shift(1))\n",
    "stock.head()"
   ]
  },
  {
   "cell_type": "code",
   "execution_count": null,
   "metadata": {},
   "outputs": [],
   "source": [
    "stock.shape"
   ]
  },
  {
   "cell_type": "code",
   "execution_count": null,
   "metadata": {},
   "outputs": [],
   "source": [
    "stock.dropna(inplace = True)"
   ]
  },
  {
   "cell_type": "code",
   "execution_count": null,
   "metadata": {},
   "outputs": [],
   "source": [
    "stock.head()"
   ]
  },
  {
   "cell_type": "code",
   "execution_count": null,
   "metadata": {},
   "outputs": [],
   "source": [
    "stock.shape"
   ]
  },
  {
   "cell_type": "code",
   "execution_count": null,
   "metadata": {},
   "outputs": [],
   "source": [
    "# prepare features to be used for clustering\n",
    "\n",
    "stock['Rets Mean'] = stock['Log Rets'].rolling(5).mean() # calculate mean eavery 5 days\n",
    "stock.head()"
   ]
  },
  {
   "cell_type": "code",
   "execution_count": null,
   "metadata": {},
   "outputs": [],
   "source": [
    "stock['Rets STD'] = stock['Log Rets'].rolling(5).std() # calculate mean eavery 5 days\n",
    "stock.head()"
   ]
  },
  {
   "cell_type": "code",
   "execution_count": null,
   "metadata": {},
   "outputs": [],
   "source": [
    "stock.dropna(inplace = True)\n",
    "stock.head()\n",
    "\n",
    "# or we can use\n",
    "# stock = stock.dropna()"
   ]
  },
  {
   "cell_type": "code",
   "execution_count": null,
   "metadata": {},
   "outputs": [],
   "source": [
    "stock.shape"
   ]
  },
  {
   "cell_type": "code",
   "execution_count": null,
   "metadata": {},
   "outputs": [],
   "source": [
    "# plot\n",
    "\n",
    "plt.scatter(stock['Rets Mean'], stock['Rets STD']); # plot X and y"
   ]
  },
  {
   "cell_type": "code",
   "execution_count": null,
   "metadata": {},
   "outputs": [],
   "source": [
    "# get array X in order to perform clustering\n",
    "\n",
    "X1 = stock['Rets Mean']\n",
    "X1"
   ]
  },
  {
   "cell_type": "code",
   "execution_count": null,
   "metadata": {},
   "outputs": [],
   "source": [
    "type(X1)"
   ]
  },
  {
   "cell_type": "code",
   "execution_count": null,
   "metadata": {},
   "outputs": [],
   "source": [
    "X2 = stock['Rets STD']\n",
    "X2"
   ]
  },
  {
   "cell_type": "code",
   "execution_count": null,
   "metadata": {},
   "outputs": [],
   "source": [
    "type(X2)"
   ]
  },
  {
   "cell_type": "code",
   "execution_count": null,
   "metadata": {},
   "outputs": [],
   "source": [
    "X1 = stock['Rets Mean'].values\n",
    "X1"
   ]
  },
  {
   "cell_type": "code",
   "execution_count": null,
   "metadata": {},
   "outputs": [],
   "source": [
    "X2 = stock['Rets STD'].values\n",
    "X2"
   ]
  },
  {
   "cell_type": "code",
   "execution_count": null,
   "metadata": {},
   "outputs": [],
   "source": [
    "type(X1), type(X2)"
   ]
  },
  {
   "cell_type": "code",
   "execution_count": null,
   "metadata": {},
   "outputs": [],
   "source": [
    "X = np.array(list(zip(X1, X2)))\n",
    "X"
   ]
  },
  {
   "cell_type": "code",
   "execution_count": null,
   "metadata": {},
   "outputs": [],
   "source": [
    "type(X)"
   ]
  },
  {
   "cell_type": "code",
   "execution_count": null,
   "metadata": {},
   "outputs": [],
   "source": [
    "# plot \n",
    "\n",
    "plt.scatter(X[:, 0], X[:, 1]); # not need to use stock dataframe"
   ]
  },
  {
   "cell_type": "code",
   "execution_count": null,
   "metadata": {},
   "outputs": [],
   "source": [
    "# feature X are not bad but require normalization for kmean - better\n",
    "\n",
    "def normalizedFeature(x):\n",
    "    sc = StandardScaler()\n",
    "    x = sc.fit_transform(x)\n",
    "\n",
    "    return x\n"
   ]
  },
  {
   "cell_type": "code",
   "execution_count": null,
   "metadata": {},
   "outputs": [],
   "source": [
    "# call a function and keep data in X_norm\n",
    "X_norm = normalizedFeature(X)\n",
    "X_norm"
   ]
  },
  {
   "cell_type": "code",
   "execution_count": null,
   "metadata": {},
   "outputs": [],
   "source": [
    "# plot \n",
    "\n",
    "plt.scatter(X_norm[:, 0], X_norm[:, 1]);"
   ]
  },
  {
   "cell_type": "code",
   "execution_count": null,
   "metadata": {},
   "outputs": [],
   "source": [
    "# start KMean Clustering\n",
    "\n",
    "# prepare a function for distance between 2 points\n",
    "\n",
    "def distance_fn(a, b, ax = 1):\n",
    "    return np.linalg.norm(a-b, axis = ax) # Euclidean distance"
   ]
  },
  {
   "cell_type": "code",
   "execution_count": null,
   "metadata": {},
   "outputs": [],
   "source": [
    "def plotCluster(data, C, K, cluster_label):\n",
    "\n",
    "    colors = ['green', 'blue', 'orange', 'red', 'yellow', 'pink', 'purple', 'salmon']\n",
    "\n",
    "    plt.figure(figsize = (8, 6))\n",
    "\n",
    "    for i in range(K):\n",
    "        points = [] # empty list\n",
    "        points = np.array([data[j] for j in range(len(data)) if cluster_label[j] == i]) # find data for each cluster\n",
    "        plt.scatter(points[:, 0], points[:, 1], s = 7, c = colors[i]) # plot\n",
    "        plt.annotate(i, (C[i, 0], C[i, 1]), size = 20)\n",
    "        \n",
    "    plt.scatter(C[:, 0], C[:, 1], marker = '*', color = 'black', s = 200)\n",
    "\n",
    "    plt.xlabel('Variable #1')\n",
    "    plt.ylabel('Variable #2')\n",
    "    plt.title('Cluster')"
   ]
  },
  {
   "cell_type": "code",
   "execution_count": null,
   "metadata": {},
   "outputs": [],
   "source": [
    "def kmeanClustering(data, K):\n",
    "\n",
    "    # step 1. random centroids\n",
    "    C_x = np.random.randint(np.min(data[:, 0]), np.max(data[:, 0]), size = K)\n",
    "    C_y = np.random.randint(np.min(data[:, 1]), np.max(data[:, 1]), size = K)\n",
    "\n",
    "    # set Centroid to variable C\n",
    "    C = np.zeros((K, 2))\n",
    "    C_old = np.zeros(C.shape)\n",
    "\n",
    "    C[:, 0] = C_x \n",
    "    C[:, 1] = C_y \n",
    "\n",
    "    # Step 2. label data\n",
    "    cluster_label = np.zeros((len(data), 1))\n",
    "\n",
    "    for i in range(len(data)): # run 150 rounds - depands on length of data\n",
    "        distance = distance_fn(data[i, :], C)\n",
    "        cluster = np.argmin(distance) # for the shortest distance\n",
    "        cluster_label[i] = cluster\n",
    "\n",
    "    # Step 3. calculate new centroids\n",
    "    C_old = C.copy()\n",
    "\n",
    "    for i in range(K):\n",
    "        points = [] # empty list\n",
    "        points = np.array([data[j] for j in range(len(data)) if cluster_label[j] == i])\n",
    "        C[i] = np.mean(points, axis = 0) # calculate mean and keep in C for each group (i)\n",
    "\n",
    "    # Calculate error\n",
    "    error = distance_fn(C, C_old, None)\n",
    "    \n",
    "    # Plot\n",
    "    plotCluster(data, C, K, cluster_label)\n",
    "\n",
    "    # Check if error is ok to stop\n",
    "    while error != 0: # will stop when error = 0\n",
    "    \n",
    "        cluster_label = np.zeros((len(data), 1))\n",
    "    \n",
    "        for i in range(len(data)):\n",
    "            distance = distance_fn(data[i, :], C)\n",
    "            cluster = np.argmin(distance)\n",
    "            cluster_label[i] = cluster\n",
    "    \n",
    "        C_old = C.copy()\n",
    "    \n",
    "        for i in range(K):\n",
    "            points = []\n",
    "            points = np.array([data[j] for j in range(len(data)) if cluster_label[j] == i])\n",
    "            C[i] = np.mean(points, axis=0)\n",
    "        \n",
    "        plotCluster(data, C, K, cluster_label.copy())\n",
    "    \n",
    "        error = distance_fn(C, C_old, None)\n",
    "        print(error)\n",
    "\n",
    "    return cluster_label"
   ]
  },
  {
   "cell_type": "code",
   "execution_count": null,
   "metadata": {},
   "outputs": [],
   "source": [
    "# call a function\n",
    "K = 3\n",
    "label_kmean = kmeanClustering(X_norm, K)"
   ]
  },
  {
   "cell_type": "code",
   "execution_count": null,
   "metadata": {},
   "outputs": [],
   "source": [
    "label_kmean"
   ]
  },
  {
   "cell_type": "markdown",
   "metadata": {},
   "source": [
    "### Use label from KMean"
   ]
  },
  {
   "cell_type": "code",
   "execution_count": null,
   "metadata": {},
   "outputs": [],
   "source": [
    "stock['Class'] = label_kmean \n",
    "stock.head(10)"
   ]
  },
  {
   "cell_type": "code",
   "execution_count": null,
   "metadata": {},
   "outputs": [],
   "source": [
    "# idea to trade\n",
    "\n",
    "idx_c0 = np.where(stock['Class'] == 0) # find index in class 0\n",
    "idx_c0"
   ]
  },
  {
   "cell_type": "code",
   "execution_count": null,
   "metadata": {},
   "outputs": [],
   "source": [
    "len(idx_c0)"
   ]
  },
  {
   "cell_type": "code",
   "execution_count": null,
   "metadata": {},
   "outputs": [],
   "source": [
    "len(idx_c0[0])"
   ]
  },
  {
   "cell_type": "code",
   "execution_count": null,
   "metadata": {},
   "outputs": [],
   "source": [
    "idx_c1 = np.where(stock['Class'] == 1)\n",
    "idx_c1"
   ]
  },
  {
   "cell_type": "code",
   "execution_count": null,
   "metadata": {},
   "outputs": [],
   "source": [
    "len(idx_c1[0])"
   ]
  },
  {
   "cell_type": "code",
   "execution_count": null,
   "metadata": {},
   "outputs": [],
   "source": [
    "idx_c2 = np.where(stock['Class'] == 2)\n",
    "idx_c2"
   ]
  },
  {
   "cell_type": "code",
   "execution_count": null,
   "metadata": {},
   "outputs": [],
   "source": [
    "len(idx_c2[0])"
   ]
  },
  {
   "cell_type": "code",
   "execution_count": null,
   "metadata": {},
   "outputs": [],
   "source": [
    "len(stock), len(idx_c0[0]) + len(idx_c1[0]) + len(idx_c2[0])"
   ]
  },
  {
   "cell_type": "code",
   "execution_count": null,
   "metadata": {},
   "outputs": [],
   "source": [
    "# if we would like to trade only some class\n",
    "\n",
    "profit_c0 = stock['Log Rets']\n",
    "profit_c0"
   ]
  },
  {
   "cell_type": "code",
   "execution_count": null,
   "metadata": {},
   "outputs": [],
   "source": [
    "type(profit_c0)"
   ]
  },
  {
   "cell_type": "code",
   "execution_count": null,
   "metadata": {},
   "outputs": [],
   "source": [
    "profit_c0 = np.array(profit_c0).reshape(-1, 1)\n",
    "profit_c0"
   ]
  },
  {
   "cell_type": "code",
   "execution_count": null,
   "metadata": {},
   "outputs": [],
   "source": [
    "profit_c0[idx_c1, 0] = 0\n",
    "profit_c0[idx_c2, 0] = 0\n",
    "profit_c0"
   ]
  },
  {
   "cell_type": "code",
   "execution_count": null,
   "metadata": {},
   "outputs": [],
   "source": [
    "plt.plot(profit_c0.cumsum())"
   ]
  },
  {
   "cell_type": "code",
   "execution_count": null,
   "metadata": {},
   "outputs": [],
   "source": [
    "profit_c1 = np.array(stock['Log Rets']).reshape(-1, 1)\n",
    "profit_c1"
   ]
  },
  {
   "cell_type": "code",
   "execution_count": null,
   "metadata": {},
   "outputs": [],
   "source": [
    "profit_c1[idx_c0, 0] = 0\n",
    "profit_c1[idx_c2, 0] = 0\n",
    "profit_c1"
   ]
  },
  {
   "cell_type": "code",
   "execution_count": null,
   "metadata": {},
   "outputs": [],
   "source": [
    "plt.plot(profit_c1.cumsum())"
   ]
  },
  {
   "cell_type": "code",
   "execution_count": null,
   "metadata": {},
   "outputs": [],
   "source": [
    "profit_c2 = np.array(stock['Log Rets']).reshape(-1, 1)\n",
    "profit_c2"
   ]
  },
  {
   "cell_type": "code",
   "execution_count": null,
   "metadata": {},
   "outputs": [],
   "source": [
    "profit_c2[idx_c0, 0] = 0\n",
    "profit_c2[idx_c1, 0] = 0\n",
    "profit_c2"
   ]
  },
  {
   "cell_type": "code",
   "execution_count": null,
   "metadata": {},
   "outputs": [],
   "source": [
    "plt.plot(profit_c2.cumsum())"
   ]
  },
  {
   "cell_type": "markdown",
   "metadata": {},
   "source": [
    "*** Require to select the correct class and time before trade\n",
    "- What we require to do more\n",
    "    - Lock ahead bias\n",
    "    - In sample & Out sample"
   ]
  },
  {
   "cell_type": "code",
   "execution_count": null,
   "metadata": {},
   "outputs": [],
   "source": [
    "stock.head()"
   ]
  },
  {
   "cell_type": "code",
   "execution_count": null,
   "metadata": {},
   "outputs": [],
   "source": []
  }
 ],
 "metadata": {
  "kernelspec": {
   "display_name": "conda_env",
   "language": "python",
   "name": "python3"
  },
  "language_info": {
   "codemirror_mode": {
    "name": "ipython",
    "version": 3
   },
   "file_extension": ".py",
   "mimetype": "text/x-python",
   "name": "python",
   "nbconvert_exporter": "python",
   "pygments_lexer": "ipython3",
   "version": "3.9.15"
  }
 },
 "nbformat": 4,
 "nbformat_minor": 2
}
