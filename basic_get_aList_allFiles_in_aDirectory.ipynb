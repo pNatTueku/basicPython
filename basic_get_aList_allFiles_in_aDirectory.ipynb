{
 "cells": [
  {
   "cell_type": "code",
   "execution_count": 31,
   "metadata": {},
   "outputs": [],
   "source": [
    "# import a library\n",
    "\n",
    "import pathlib"
   ]
  },
  {
   "cell_type": "code",
   "execution_count": 32,
   "metadata": {},
   "outputs": [
    {
     "data": {
      "text/plain": [
       "PosixPath('files_to_process')"
      ]
     },
     "execution_count": 32,
     "metadata": {},
     "output_type": "execute_result"
    }
   ],
   "source": [
    "# set path\n",
    "\n",
    "pth = pathlib.Path(\"files_to_process\")\n",
    "pth"
   ]
  },
  {
   "cell_type": "code",
   "execution_count": 33,
   "metadata": {},
   "outputs": [
    {
     "data": {
      "text/plain": [
       "<generator object Path.iterdir at 0x10a9715f0>"
      ]
     },
     "execution_count": 33,
     "metadata": {},
     "output_type": "execute_result"
    }
   ],
   "source": [
    "pth.iterdir()"
   ]
  },
  {
   "cell_type": "code",
   "execution_count": 34,
   "metadata": {},
   "outputs": [
    {
     "data": {
      "text/plain": [
       "[PosixPath('files_to_process/.DS_Store'),\n",
       " PosixPath('files_to_process/D4.csv'),\n",
       " PosixPath('files_to_process/D5.csv'),\n",
       " PosixPath('files_to_process/D2.csv'),\n",
       " PosixPath('files_to_process/D3.csv'),\n",
       " PosixPath('files_to_process/D1.csv')]"
      ]
     },
     "execution_count": 34,
     "metadata": {},
     "output_type": "execute_result"
    }
   ],
   "source": [
    "list(dsk.iterdir())"
   ]
  },
  {
   "cell_type": "code",
   "execution_count": 35,
   "metadata": {},
   "outputs": [
    {
     "name": "stdout",
     "output_type": "stream",
     "text": [
      "files_to_process/.DS_Store\n",
      "files_to_process/D4.csv\n",
      "files_to_process/D5.csv\n",
      "files_to_process/D2.csv\n",
      "files_to_process/D3.csv\n",
      "files_to_process/D1.csv\n"
     ]
    }
   ],
   "source": [
    "# apply a for loop\n",
    "\n",
    "for item in pth.rglob(\"*\"):\n",
    "\n",
    "    if item.is_file():\n",
    "        print(item)"
   ]
  },
  {
   "cell_type": "code",
   "execution_count": 36,
   "metadata": {},
   "outputs": [
    {
     "data": {
      "text/plain": [
       "[PosixPath('files_to_process/.DS_Store'),\n",
       " PosixPath('files_to_process/D4.csv'),\n",
       " PosixPath('files_to_process/D5.csv'),\n",
       " PosixPath('files_to_process/D2.csv'),\n",
       " PosixPath('files_to_process/D3.csv'),\n",
       " PosixPath('files_to_process/D1.csv')]"
      ]
     },
     "execution_count": 36,
     "metadata": {},
     "output_type": "execute_result"
    }
   ],
   "source": [
    "# apply a list comprehension\n",
    "\n",
    "[item for item in pth.rglob(\"*\") if item.is_file()]"
   ]
  },
  {
   "cell_type": "code",
   "execution_count": 37,
   "metadata": {},
   "outputs": [
    {
     "data": {
      "text/plain": [
       "[PosixPath('files_to_process/.DS_Store'),\n",
       " PosixPath('files_to_process/D4.csv'),\n",
       " PosixPath('files_to_process/D5.csv'),\n",
       " PosixPath('files_to_process/D2.csv'),\n",
       " PosixPath('files_to_process/D3.csv'),\n",
       " PosixPath('files_to_process/D1.csv')]"
      ]
     },
     "execution_count": 37,
     "metadata": {},
     "output_type": "execute_result"
    }
   ],
   "source": [
    "# apply filter() function\n",
    "\n",
    "list(filter(lambda item: item.is_file(), pth.rglob(\"*\")))"
   ]
  },
  {
   "cell_type": "code",
   "execution_count": null,
   "metadata": {},
   "outputs": [],
   "source": []
  }
 ],
 "metadata": {
  "kernelspec": {
   "display_name": "conda_env",
   "language": "python",
   "name": "python3"
  },
  "language_info": {
   "codemirror_mode": {
    "name": "ipython",
    "version": 3
   },
   "file_extension": ".py",
   "mimetype": "text/x-python",
   "name": "python",
   "nbconvert_exporter": "python",
   "pygments_lexer": "ipython3",
   "version": "3.9.15"
  }
 },
 "nbformat": 4,
 "nbformat_minor": 2
}
