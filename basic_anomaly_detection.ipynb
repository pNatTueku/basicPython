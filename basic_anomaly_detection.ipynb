{
 "cells": [
  {
   "cell_type": "markdown",
   "metadata": {},
   "source": [
    "### Anomaly Detection\n",
    "- To indentify the data points that are different of the other data point\n",
    "- There are 3 categories\n",
    "    - Supervised Anomaly Dection: labels for both nomal and anomalous data\n",
    "    - Semi-Supervised Anomaly Dectection: only label of nomal data \n",
    "    - Unsupervise Anomaly Dectection: no label is available\n",
    "- Algorithms\n",
    "    - Mahalanobis Distance: \n",
    "        - For one single dimension data, z-score can be used for outlier/anomaly detection. A data point is labeled as an anomaly if |z| > T (Threshold)\n",
    "        - For multidimensional data, the z-score is not applicable. The Mahalanobis distance defined as https://en.wikipedia.org/wiki/Mahalanobis_distance\n",
    "        \n",
    "    - Density-based spatial clustering of application with noise (DBSCAN)\n",
    "    - Local Outlier Factor (LOF)\n",
    "    - Isolation Forest\n",
    "    - One-Class Support Vector Machine"
   ]
  },
  {
   "cell_type": "code",
   "execution_count": 3,
   "metadata": {},
   "outputs": [],
   "source": [
    "# import libraries\n",
    "import pandas as pd\n",
    "import numpy as np\n",
    "import matplotlib.pyplot as plt\n",
    "\n",
    "# make dataset\n",
    "from sklearn.datasets import make_blobs\n",
    "\n",
    "# statistical modules for data generation and critical values\n",
    "from scipy.stats import multivariate_normal, beta, uniform, t\n",
    "\n",
    "from functools import partial\n",
    "\n",
    "from sklearn import svm\n",
    "from sklearn.neighbors import NearestNeighbors\n",
    "from sklearn.metrics import pairwise_distances\n",
    "from sklearn.covariance import EllipticEnvelope # use for Mohalanobis distance\n",
    "from sklearn.cluster import DBSCAN\n",
    "from sklearn.ensemble import IsolationForest\n",
    "from sklearn.neighbors import LocalOutlierFactor\n",
    "from sklearn.linear_model import SGDOneClassSVM\n",
    "\n",
    "from sklearn.inspection import DecisionBoundaryDisplay\n",
    "from sklearn.metrics import classification_report\n",
    "from sklearn.metrics import roc_curve, auc\n",
    "\n",
    "from typing import Any\n"
   ]
  },
  {
   "cell_type": "code",
   "execution_count": null,
   "metadata": {},
   "outputs": [],
   "source": [
    "class MahalanobisOutlier(EllipticEnvelope):\n",
    "\n",
    "    def __init__(self, *, store_precision = True, assume_centered = False, support_fracetion = None, contamination = 0.1, alpha:float = 0.05, random_state = None, ) -> None:\n",
    "        super().__init__(store_precision = store_precision,\n",
    "                         assume_centered = assume_centered,\n",
    "                         support_fracetion = support_fracetion,\n",
    "                         contamination = contamination\n",
    "                         random_state = random_state,)\n",
    "        self.alpha = alpha\n",
    "\n",
    "    def predict(self, X):\n",
    "        dist = self.mahalanobis(X = X)\n",
    "        p = self.location_.shape[0] # dimension\n",
    "        n = self.support_.shape[0] # number of sample\n",
    "\n",
    "        if p > 1:\n",
    "            Tm = ((n - 1) ** 2)/n\n",
    "            alpha = self.alpha\n",
    "            b = beta.ppf(1 - alpha, a = p/2, b = (b - p -1)/2) # return quantile corresponding to the lower tail probability\n",
    "            Tm = Tm * b\n",
    "            inliers = 2 * (dist <= Tm).astype('int') - 1 # -1v for anomalies/outliers, +1 for inliers\n",
    "        else: # one dimension use Gubb's test\n",
    "            Tm = ((n - 1) ** 2)/n\n",
    "            t_sq = t.ppf(1 - alpha/2.0, df = n - 2) ** 2\n",
    "            th = t_sq/(n -2 - t_sq)\n",
    "            Tm = Tm * th\n",
    "            inliers = 2 * (dist <= Tm).astype('int') - 1\n",
    "        return inliers\n",
    "    \n",
    "    \n",
    "\n",
    "        "
   ]
  }
 ],
 "metadata": {
  "kernelspec": {
   "display_name": "conda_env",
   "language": "python",
   "name": "python3"
  },
  "language_info": {
   "codemirror_mode": {
    "name": "ipython",
    "version": 3
   },
   "file_extension": ".py",
   "mimetype": "text/x-python",
   "name": "python",
   "nbconvert_exporter": "python",
   "pygments_lexer": "ipython3",
   "version": "3.9.15"
  }
 },
 "nbformat": 4,
 "nbformat_minor": 2
}
