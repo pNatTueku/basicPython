{
 "cells": [
  {
   "cell_type": "markdown",
   "metadata": {},
   "source": [
    "### Anomaly Detection\n",
    "- To indentify the data points that are different of the other data point\n",
    "- There are 3 categories\n",
    "    - Supervised Anomaly Dection: labels for both nomal and anomalous data\n",
    "    - Semi-Supervised Anomaly Dectection: only label of nomal data \n",
    "    - Unsupervise Anomaly Dectection: no label is available\n",
    "- Algorithms\n",
    "    - Mahalanobis Distance: \n",
    "        - For one single dimension data, z-score can be used for outlier/anomaly detection. A data point is labeled as an anomaly if |z| > T (Threshold)\n",
    "        - For multidimensional data, the z-score is not applicable. The Mahalanobis distance defined as https://en.wikipedia.org/wiki/Mahalanobis_distance\n",
    "        \n",
    "    - Density-based spatial clustering of application with noise (DBSCAN)\n",
    "    - Local Outlier Factor (LOF)\n",
    "    - Isolation Forest\n",
    "    - One-Class Support Vector Machine"
   ]
  },
  {
   "cell_type": "code",
   "execution_count": 3,
   "metadata": {},
   "outputs": [],
   "source": [
    "# import libraries\n",
    "import pandas as pd\n",
    "import numpy as np\n",
    "import matplotlib.pyplot as plt\n",
    "\n",
    "# make dataset\n",
    "from sklearn.datasets import make_blobs\n",
    "\n",
    "# statistical modules for data generation and critical values\n",
    "from scipy.stats import multivariate_normal, beta, uniform, t\n",
    "\n",
    "from functools import partial\n",
    "\n",
    "from sklearn import svm\n",
    "from sklearn.neighbors import NearestNeighbors\n",
    "from sklearn.metrics import pairwise_distances\n",
    "from sklearn.covariance import EllipticEnvelope # use for Mohalanobis distance\n",
    "from sklearn.cluster import DBSCAN\n",
    "from sklearn.ensemble import IsolationForest\n",
    "from sklearn.neighbors import LocalOutlierFactor\n",
    "from sklearn.linear_model import SGDOneClassSVM\n",
    "\n",
    "from sklearn.inspection import DecisionBoundaryDisplay\n",
    "from sklearn.metrics import classification_report\n",
    "from sklearn.metrics import roc_curve, auc\n",
    "\n",
    "from typing import Any\n"
   ]
  },
  {
   "cell_type": "code",
   "execution_count": 9,
   "metadata": {},
   "outputs": [],
   "source": [
    "class MahalanobisOutlier(EllipticEnvelope):\n",
    "\n",
    "    def __init__(self, *, store_precision = True, assume_centered = False, support_fraction = None, contamination = 0.1, alpha:float = 0.05, random_state = None, ) -> None:\n",
    "        super().__init__(store_precision = store_precision,\n",
    "                         assume_centered = assume_centered,\n",
    "                         support_fraction = support_fraction,\n",
    "                         contamination = contamination,\n",
    "                         random_state = random_state,)\n",
    "        self.alpha = alpha\n",
    "\n",
    "    def predict(self, X):\n",
    "        dist = self.mahalanobis(X = X)\n",
    "        p = self.location_.shape[0] # dimension\n",
    "        n = self.support_.shape[0] # number of sample\n",
    "\n",
    "        if p > 1:\n",
    "            Tm = ((n - 1) ** 2)/n\n",
    "            alpha = self.alpha\n",
    "            b = beta.ppf(1 - alpha, a = p/2, b = (b - p - 1)/2) # return quantile corresponding to the lower tail probability\n",
    "            Tm = Tm * b\n",
    "            inliers = 2 * (dist <= Tm).astype('int') - 1 # -1v for anomalies/outliers, +1 for inliers\n",
    "        else: # one dimension use Gubb's test\n",
    "            Tm = ((n - 1) ** 2)/n\n",
    "            t_sq = t.ppf(1 - alpha/2.0, df = n - 2) ** 2\n",
    "            th = t_sq/(n - 2 - t_sq)\n",
    "            Tm = Tm * th\n",
    "            inliers = 2 * (dist <= Tm).astype('int') - 1\n",
    "        return inliers\n",
    "    \n",
    "    def decision_func(self, X:np.ndarray) -> np.ndarray:\n",
    "        p = self.location_.shape[0] # dimension\n",
    "        n = self.support_.shape[0] # number of sample\n",
    "\n",
    "        if p > 1:\n",
    "            Tm = ((n - 1) ** 2)/n\n",
    "            alpha = self.alpha\n",
    "            b = beta.ppf(1 - alpha, a = p/2, b = (b - p - 1)/2) # return quantile corresponding to the lower tail probability\n",
    "            Tm = Tm * b\n",
    "        else: # one dimension use Gubb's test\n",
    "            Tm = (n - 1)/np.sqrt(n)\n",
    "            t_sq = t.ppf(1 - alpha/2.0, df = n - 2) ** 2\n",
    "            th = np.sqrt(t_sq/(n - 2 - t_sq))\n",
    "            Tm = Tm * th\n",
    "        score = -self.mahalanobis(X = X) + Tm\n",
    "        return score           \n",
    "    "
   ]
  },
  {
   "cell_type": "code",
   "execution_count": 10,
   "metadata": {},
   "outputs": [],
   "source": [
    "# alpha: The significace value for detecting anomaly\n",
    "# contamination: The portion of training data that may be outlier or anormalies\n",
    "\n",
    "alpha = 0.01\n",
    "contamination = 0.01\n",
    "\n",
    "clf = MahalanobisOutlier(contamination = contamination, alpha = alpha)"
   ]
  },
  {
   "cell_type": "code",
   "execution_count": 11,
   "metadata": {},
   "outputs": [
    {
     "data": {
      "text/html": [
       "<style>#sk-container-id-1 {color: black;background-color: white;}#sk-container-id-1 pre{padding: 0;}#sk-container-id-1 div.sk-toggleable {background-color: white;}#sk-container-id-1 label.sk-toggleable__label {cursor: pointer;display: block;width: 100%;margin-bottom: 0;padding: 0.3em;box-sizing: border-box;text-align: center;}#sk-container-id-1 label.sk-toggleable__label-arrow:before {content: \"▸\";float: left;margin-right: 0.25em;color: #696969;}#sk-container-id-1 label.sk-toggleable__label-arrow:hover:before {color: black;}#sk-container-id-1 div.sk-estimator:hover label.sk-toggleable__label-arrow:before {color: black;}#sk-container-id-1 div.sk-toggleable__content {max-height: 0;max-width: 0;overflow: hidden;text-align: left;background-color: #f0f8ff;}#sk-container-id-1 div.sk-toggleable__content pre {margin: 0.2em;color: black;border-radius: 0.25em;background-color: #f0f8ff;}#sk-container-id-1 input.sk-toggleable__control:checked~div.sk-toggleable__content {max-height: 200px;max-width: 100%;overflow: auto;}#sk-container-id-1 input.sk-toggleable__control:checked~label.sk-toggleable__label-arrow:before {content: \"▾\";}#sk-container-id-1 div.sk-estimator input.sk-toggleable__control:checked~label.sk-toggleable__label {background-color: #d4ebff;}#sk-container-id-1 div.sk-label input.sk-toggleable__control:checked~label.sk-toggleable__label {background-color: #d4ebff;}#sk-container-id-1 input.sk-hidden--visually {border: 0;clip: rect(1px 1px 1px 1px);clip: rect(1px, 1px, 1px, 1px);height: 1px;margin: -1px;overflow: hidden;padding: 0;position: absolute;width: 1px;}#sk-container-id-1 div.sk-estimator {font-family: monospace;background-color: #f0f8ff;border: 1px dotted black;border-radius: 0.25em;box-sizing: border-box;margin-bottom: 0.5em;}#sk-container-id-1 div.sk-estimator:hover {background-color: #d4ebff;}#sk-container-id-1 div.sk-parallel-item::after {content: \"\";width: 100%;border-bottom: 1px solid gray;flex-grow: 1;}#sk-container-id-1 div.sk-label:hover label.sk-toggleable__label {background-color: #d4ebff;}#sk-container-id-1 div.sk-serial::before {content: \"\";position: absolute;border-left: 1px solid gray;box-sizing: border-box;top: 0;bottom: 0;left: 50%;z-index: 0;}#sk-container-id-1 div.sk-serial {display: flex;flex-direction: column;align-items: center;background-color: white;padding-right: 0.2em;padding-left: 0.2em;position: relative;}#sk-container-id-1 div.sk-item {position: relative;z-index: 1;}#sk-container-id-1 div.sk-parallel {display: flex;align-items: stretch;justify-content: center;background-color: white;position: relative;}#sk-container-id-1 div.sk-item::before, #sk-container-id-1 div.sk-parallel-item::before {content: \"\";position: absolute;border-left: 1px solid gray;box-sizing: border-box;top: 0;bottom: 0;left: 50%;z-index: -1;}#sk-container-id-1 div.sk-parallel-item {display: flex;flex-direction: column;z-index: 1;position: relative;background-color: white;}#sk-container-id-1 div.sk-parallel-item:first-child::after {align-self: flex-end;width: 50%;}#sk-container-id-1 div.sk-parallel-item:last-child::after {align-self: flex-start;width: 50%;}#sk-container-id-1 div.sk-parallel-item:only-child::after {width: 0;}#sk-container-id-1 div.sk-dashed-wrapped {border: 1px dashed gray;margin: 0 0.4em 0.5em 0.4em;box-sizing: border-box;padding-bottom: 0.4em;background-color: white;}#sk-container-id-1 div.sk-label label {font-family: monospace;font-weight: bold;display: inline-block;line-height: 1.2em;}#sk-container-id-1 div.sk-label-container {text-align: center;}#sk-container-id-1 div.sk-container {/* jupyter's `normalize.less` sets `[hidden] { display: none; }` but bootstrap.min.css set `[hidden] { display: none !important; }` so we also need the `!important` here to be able to override the default hidden behavior on the sphinx rendered scikit-learn.org. See: https://github.com/scikit-learn/scikit-learn/issues/21755 */display: inline-block !important;position: relative;}#sk-container-id-1 div.sk-text-repr-fallback {display: none;}</style><div id=\"sk-container-id-1\" class=\"sk-top-container\"><div class=\"sk-text-repr-fallback\"><pre>MahalanobisOutlier(alpha=0.01, contamination=0.01)</pre><b>In a Jupyter environment, please rerun this cell to show the HTML representation or trust the notebook. <br />On GitHub, the HTML representation is unable to render, please try loading this page with nbviewer.org.</b></div><div class=\"sk-container\" hidden><div class=\"sk-item\"><div class=\"sk-estimator sk-toggleable\"><input class=\"sk-toggleable__control sk-hidden--visually\" id=\"sk-estimator-id-1\" type=\"checkbox\" checked><label for=\"sk-estimator-id-1\" class=\"sk-toggleable__label sk-toggleable__label-arrow\">MahalanobisOutlier</label><div class=\"sk-toggleable__content\"><pre>MahalanobisOutlier(alpha=0.01, contamination=0.01)</pre></div></div></div></div></div>"
      ],
      "text/plain": [
       "MahalanobisOutlier(alpha=0.01, contamination=0.01)"
      ]
     },
     "execution_count": 11,
     "metadata": {},
     "output_type": "execute_result"
    }
   ],
   "source": [
    "clf"
   ]
  },
  {
   "cell_type": "code",
   "execution_count": null,
   "metadata": {},
   "outputs": [],
   "source": []
  }
 ],
 "metadata": {
  "kernelspec": {
   "display_name": "conda_env",
   "language": "python",
   "name": "python3"
  },
  "language_info": {
   "codemirror_mode": {
    "name": "ipython",
    "version": 3
   },
   "file_extension": ".py",
   "mimetype": "text/x-python",
   "name": "python",
   "nbconvert_exporter": "python",
   "pygments_lexer": "ipython3",
   "version": "3.9.15"
  }
 },
 "nbformat": 4,
 "nbformat_minor": 2
}
