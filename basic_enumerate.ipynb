{
 "cells": [
  {
   "cell_type": "code",
   "execution_count": 1,
   "metadata": {},
   "outputs": [
    {
     "name": "stdout",
     "output_type": "stream",
     "text": [
      "J\n",
      "a\n",
      "c\n",
      "k\n",
      "s\n",
      "o\n",
      "n\n",
      " \n",
      "W\n",
      "a\n",
      "n\n",
      "g\n"
     ]
    }
   ],
   "source": [
    "str = input()\n",
    "\n",
    "for i in str:\n",
    "    print(i)"
   ]
  },
  {
   "cell_type": "code",
   "execution_count": 2,
   "metadata": {},
   "outputs": [
    {
     "name": "stdout",
     "output_type": "stream",
     "text": [
      "0\n",
      "1\n",
      "2\n",
      "3\n",
      "4\n",
      "5\n",
      "6\n",
      "7\n",
      "8\n",
      "9\n",
      "10\n",
      "11\n"
     ]
    }
   ],
   "source": [
    "str = input()\n",
    "\n",
    "for i, c in enumerate(str): # c is using to store index of each charactor\n",
    "    print(i)"
   ]
  },
  {
   "cell_type": "code",
   "execution_count": 3,
   "metadata": {},
   "outputs": [
    {
     "name": "stdout",
     "output_type": "stream",
     "text": [
      "<enumerate object at 0x103cd3880>\n"
     ]
    }
   ],
   "source": [
    "str2 = input()\n",
    "\n",
    "print(enumerate(str2)) # we will get an enumerate object which need toop to print"
   ]
  },
  {
   "cell_type": "code",
   "execution_count": 4,
   "metadata": {},
   "outputs": [
    {
     "name": "stdout",
     "output_type": "stream",
     "text": [
      "a\n",
      "c\n",
      "s\n",
      "o\n",
      " \n",
      "W\n",
      "n\n",
      "g\n"
     ]
    }
   ],
   "source": [
    "# skip some charactor and print\n",
    "\n",
    "str = input()\n",
    "\n",
    "for i, c in enumerate(str): # c is using to store index of each charactor\n",
    "    if i % 3 != 0:\n",
    "        print(c)"
   ]
  },
  {
   "cell_type": "code",
   "execution_count": 5,
   "metadata": {},
   "outputs": [
    {
     "name": "stdout",
     "output_type": "stream",
     "text": [
      "acso Wng"
     ]
    }
   ],
   "source": [
    "# skip some charactor and print\n",
    "\n",
    "str = input()\n",
    "\n",
    "for i, c in enumerate(str): # c is using to store index of each charactor\n",
    "    if i % 3 != 0:\n",
    "        print(c, end = \"\")"
   ]
  },
  {
   "cell_type": "code",
   "execution_count": 9,
   "metadata": {},
   "outputs": [
    {
     "name": "stdout",
     "output_type": "stream",
     "text": [
      "Jackson Wang\n",
      "12\n",
      "acso Wng\n"
     ]
    }
   ],
   "source": [
    "# another solution to skip some charactor and print\n",
    "\n",
    "str2 = input()\n",
    "print(str2)\n",
    "print(len(str2))\n",
    "\n",
    "result = \"\"\n",
    "\n",
    "for i in range(len(str2)):\n",
    "    if i % 3 != 0:\n",
    "        result += str2[i]\n",
    "\n",
    "print(result)"
   ]
  },
  {
   "cell_type": "code",
   "execution_count": null,
   "metadata": {},
   "outputs": [],
   "source": []
  }
 ],
 "metadata": {
  "kernelspec": {
   "display_name": "Python 3",
   "language": "python",
   "name": "python3"
  },
  "language_info": {
   "codemirror_mode": {
    "name": "ipython",
    "version": 3
   },
   "file_extension": ".py",
   "mimetype": "text/x-python",
   "name": "python",
   "nbconvert_exporter": "python",
   "pygments_lexer": "ipython3",
   "version": "3.11.1"
  }
 },
 "nbformat": 4,
 "nbformat_minor": 2
}
