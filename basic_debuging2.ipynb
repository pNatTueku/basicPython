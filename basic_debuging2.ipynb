{
 "cells": [
  {
   "cell_type": "markdown",
   "metadata": {},
   "source": [
    "### Program doesn't provide correct results"
   ]
  },
  {
   "cell_type": "code",
   "execution_count": 20,
   "metadata": {},
   "outputs": [],
   "source": [
    "def max_num(nums_str):\n",
    "    \"\"\"\n",
    "    inputs a list of strings with integer values\n",
    "    returns the max integer value of the string\n",
    "    \"\"\"\n",
    "\n",
    "    return max(nums_str)"
   ]
  },
  {
   "cell_type": "code",
   "execution_count": 21,
   "metadata": {},
   "outputs": [
    {
     "ename": "AssertionError",
     "evalue": "",
     "output_type": "error",
     "traceback": [
      "\u001b[0;31m---------------------------------------------------------------------------\u001b[0m",
      "\u001b[0;31mAssertionError\u001b[0m                            Traceback (most recent call last)",
      "Cell \u001b[0;32mIn[21], line 7\u001b[0m\n\u001b[1;32m      5\u001b[0m \u001b[39massert\u001b[39;00m max_num([\u001b[39m'\u001b[39m\u001b[39m4\u001b[39m\u001b[39m'\u001b[39m, \u001b[39m'\u001b[39m\u001b[39m5\u001b[39m\u001b[39m'\u001b[39m]) \u001b[39m==\u001b[39m \u001b[39m'\u001b[39m\u001b[39m5\u001b[39m\u001b[39m'\u001b[39m\n\u001b[1;32m      6\u001b[0m \u001b[39massert\u001b[39;00m max_num([\u001b[39m'\u001b[39m\u001b[39m5\u001b[39m\u001b[39m'\u001b[39m, \u001b[39m'\u001b[39m\u001b[39m5\u001b[39m\u001b[39m'\u001b[39m]) \u001b[39m==\u001b[39m \u001b[39m'\u001b[39m\u001b[39m5\u001b[39m\u001b[39m'\u001b[39m\n\u001b[0;32m----> 7\u001b[0m \u001b[39massert\u001b[39;00m max_num([\u001b[39m'\u001b[39m\u001b[39m6\u001b[39m\u001b[39m'\u001b[39m, \u001b[39m'\u001b[39m\u001b[39m5\u001b[39m\u001b[39m'\u001b[39m]) \u001b[39m==\u001b[39m \u001b[39m'\u001b[39m\u001b[39m5\u001b[39m\u001b[39m'\u001b[39m\n",
      "\u001b[0;31mAssertionError\u001b[0m: "
     ]
    }
   ],
   "source": [
    "assert max_num(['0', '5']) == '5'\n",
    "assert max_num(['1', '5']) == '5'\n",
    "assert max_num(['2', '5']) == '5'\n",
    "assert max_num(['3', '5']) == '5'\n",
    "assert max_num(['4', '5']) == '5'\n",
    "assert max_num(['5', '5']) == '5'\n",
    "assert max_num(['6', '5']) == '5'\n"
   ]
  },
  {
   "cell_type": "code",
   "execution_count": 22,
   "metadata": {},
   "outputs": [],
   "source": [
    "# fix the function\n",
    "\n",
    "def max_num(nums_str):\n",
    "    \"\"\"\n",
    "    inputs a list of strings with integer values\n",
    "    returns the max integer value of the string\n",
    "    \"\"\"\n",
    "\n",
    "    max_num = int(nums_str[0])\n",
    "\n",
    "    for num_str in nums_str:\n",
    "        num = int(num_str)\n",
    "\n",
    "        if num > max_num:\n",
    "            max_num = num\n",
    "\n",
    "    return str(max_num)"
   ]
  },
  {
   "cell_type": "code",
   "execution_count": 23,
   "metadata": {},
   "outputs": [],
   "source": [
    "assert max_num(['0', '5']) == '5'\n",
    "assert max_num(['1', '5']) == '5'\n",
    "assert max_num(['2', '5']) == '5'\n",
    "assert max_num(['3', '5']) == '5'\n",
    "assert max_num(['4', '5']) == '5'\n",
    "assert max_num(['5', '5']) == '5'\n",
    "assert max_num(['6', '5']) == '6'"
   ]
  },
  {
   "cell_type": "code",
   "execution_count": null,
   "metadata": {},
   "outputs": [],
   "source": []
  }
 ],
 "metadata": {
  "kernelspec": {
   "display_name": "Python 3",
   "language": "python",
   "name": "python3"
  },
  "language_info": {
   "codemirror_mode": {
    "name": "ipython",
    "version": 3
   },
   "file_extension": ".py",
   "mimetype": "text/x-python",
   "name": "python",
   "nbconvert_exporter": "python",
   "pygments_lexer": "ipython3",
   "version": "3.11.1"
  },
  "orig_nbformat": 4
 },
 "nbformat": 4,
 "nbformat_minor": 2
}
