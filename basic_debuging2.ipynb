{
 "cells": [
  {
   "cell_type": "markdown",
   "metadata": {},
   "source": [
    "### Program doesn't provide correct results"
   ]
  },
  {
   "cell_type": "code",
   "execution_count": 6,
   "metadata": {},
   "outputs": [],
   "source": [
    "def max_num(nums_str):\n",
    "    \"\"\"\n",
    "    inputs a list of strings with integer values\n",
    "    returns the max integer value of the string\n",
    "    \"\"\"\n",
    "\n",
    "    return max(nums_str)"
   ]
  },
  {
   "cell_type": "code",
   "execution_count": 7,
   "metadata": {},
   "outputs": [],
   "source": [
    "assert max_num(['0', '5']) == '5'\n",
    "assert max_num(['1', '5']) == '5'\n",
    "assert max_num(['2', '5']) == '5'\n",
    "assert max_num(['3', '5']) == '5'\n",
    "assert max_num(['4', '5']) == '5'\n",
    "assert max_num(['5', '5']) == '5'\n",
    "assert max_num(['6', '5']) == '6'\n"
   ]
  },
  {
   "cell_type": "code",
   "execution_count": 8,
   "metadata": {},
   "outputs": [],
   "source": [
    "# fix the function\n",
    "\n",
    "def max_num(nums_str):\n",
    "    \"\"\"\n",
    "    inputs a list of strings with integer values\n",
    "    returns the max integer value of the string\n",
    "    \"\"\"\n",
    "\n",
    "    max_num = int(nums_str[0])\n",
    "\n",
    "    for num_str in nums_str:\n",
    "        num = int(num_str)\n",
    "\n",
    "        if num > max_num:\n",
    "            max_num = num\n",
    "\n",
    "    return str(max_num)"
   ]
  },
  {
   "cell_type": "code",
   "execution_count": 9,
   "metadata": {},
   "outputs": [],
   "source": [
    "assert max_num(['0', '5']) == '5'\n",
    "assert max_num(['1', '5']) == '5'\n",
    "assert max_num(['2', '5']) == '5'\n",
    "assert max_num(['3', '5']) == '5'\n",
    "assert max_num(['4', '5']) == '5'\n",
    "assert max_num(['5', '5']) == '5'\n",
    "assert max_num(['6', '5']) == '6'"
   ]
  },
  {
   "cell_type": "code",
   "execution_count": null,
   "metadata": {},
   "outputs": [],
   "source": []
  }
 ],
 "metadata": {
  "kernelspec": {
   "display_name": "Python 3",
   "language": "python",
   "name": "python3"
  },
  "language_info": {
   "codemirror_mode": {
    "name": "ipython",
    "version": 3
   },
   "file_extension": ".py",
   "mimetype": "text/x-python",
   "name": "python",
   "nbconvert_exporter": "python",
   "pygments_lexer": "ipython3",
   "version": "3.9.15"
  },
  "orig_nbformat": 4
 },
 "nbformat": 4,
 "nbformat_minor": 2
}
