{
 "cells": [
  {
   "cell_type": "code",
   "execution_count": 3,
   "metadata": {},
   "outputs": [],
   "source": [
    "x = 13\n",
    "y = 0"
   ]
  },
  {
   "cell_type": "code",
   "execution_count": 4,
   "metadata": {},
   "outputs": [
    {
     "ename": "ZeroDivisionError",
     "evalue": "division by zero",
     "output_type": "error",
     "traceback": [
      "\u001b[0;31m---------------------------------------------------------------------------\u001b[0m",
      "\u001b[0;31mZeroDivisionError\u001b[0m                         Traceback (most recent call last)",
      "Cell \u001b[0;32mIn[4], line 1\u001b[0m\n\u001b[0;32m----> 1\u001b[0m x\u001b[39m/\u001b[39;49my\n",
      "\u001b[0;31mZeroDivisionError\u001b[0m: division by zero"
     ]
    }
   ],
   "source": [
    "x/y"
   ]
  },
  {
   "cell_type": "code",
   "execution_count": 5,
   "metadata": {},
   "outputs": [
    {
     "name": "stdout",
     "output_type": "stream",
     "text": [
      "division by zero\n",
      "always executes\n"
     ]
    }
   ],
   "source": [
    "try:\n",
    "\n",
    "    x/y\n",
    "\n",
    "except ZeroDivisionError:\n",
    "    print('division by zero')\n",
    "\n",
    "finally:\n",
    "    print('always executes')"
   ]
  },
  {
   "cell_type": "code",
   "execution_count": 6,
   "metadata": {},
   "outputs": [],
   "source": [
    "x = 0\n",
    "y = 3"
   ]
  },
  {
   "cell_type": "code",
   "execution_count": 8,
   "metadata": {},
   "outputs": [
    {
     "name": "stdout",
     "output_type": "stream",
     "text": [
      "**********\n",
      "1, 14 - always executes\n",
      "1, 14 - main while loop\n",
      "**********\n",
      "2, 15 - always executes\n",
      "2, 15 - main while loop\n",
      "**********\n",
      "3, 16 - always executes\n",
      "3, 16 - main while loop\n",
      "**********\n",
      "4, 17 - always executes\n",
      "4, 17 - main while loop\n",
      "**********\n",
      "5, 18 - always executes\n",
      "5, 18 - main while loop\n",
      "**********\n",
      "6, 19 - always executes\n",
      "6, 19 - main while loop\n",
      "**********\n",
      "7, 20 - always executes\n",
      "7, 20 - main while loop\n",
      "**********\n",
      "8, 21 - always executes\n",
      "8, 21 - main while loop\n",
      "**********\n",
      "9, 22 - always executes\n",
      "9, 22 - main while loop\n",
      "**********\n",
      "10, 23 - always executes\n",
      "10, 23 - main while loop\n"
     ]
    }
   ],
   "source": [
    "while x < 5:\n",
    "    print('**********')\n",
    "\n",
    "    x += 1\n",
    "    y += 1\n",
    "\n",
    "    try:\n",
    "        x/y\n",
    "        \n",
    "    except ZeroDivisionError:\n",
    "        print(\"{0}, {1} - devision by zero\".format(x, y))\n",
    "        continue\n",
    "\n",
    "    finally:\n",
    "        print(\"{0}, {1} - always executes\".format(x, y))\n",
    "\n",
    "    print(\"{0}, {1} - main while loop\".format(x, y))\n",
    "\n",
    "\n"
   ]
  },
  {
   "cell_type": "code",
   "execution_count": null,
   "metadata": {},
   "outputs": [],
   "source": []
  }
 ],
 "metadata": {
  "kernelspec": {
   "display_name": "Python 3",
   "language": "python",
   "name": "python3"
  },
  "language_info": {
   "codemirror_mode": {
    "name": "ipython",
    "version": 3
   },
   "file_extension": ".py",
   "mimetype": "text/x-python",
   "name": "python",
   "nbconvert_exporter": "python",
   "pygments_lexer": "ipython3",
   "version": "3.11.1"
  },
  "orig_nbformat": 4,
  "vscode": {
   "interpreter": {
    "hash": "87a1d552f91eeb558c0ccd448f410e247f4277ae8c89a1716b4b50ef0e37ae74"
   }
  }
 },
 "nbformat": 4,
 "nbformat_minor": 2
}
