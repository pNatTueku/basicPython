{
 "cells": [
  {
   "cell_type": "code",
   "execution_count": 3,
   "metadata": {},
   "outputs": [],
   "source": [
    "x = 13\n",
    "y = 0"
   ]
  },
  {
   "cell_type": "code",
   "execution_count": 4,
   "metadata": {},
   "outputs": [
    {
     "ename": "ZeroDivisionError",
     "evalue": "division by zero",
     "output_type": "error",
     "traceback": [
      "\u001b[0;31m---------------------------------------------------------------------------\u001b[0m",
      "\u001b[0;31mZeroDivisionError\u001b[0m                         Traceback (most recent call last)",
      "Cell \u001b[0;32mIn[4], line 1\u001b[0m\n\u001b[0;32m----> 1\u001b[0m x\u001b[39m/\u001b[39;49my\n",
      "\u001b[0;31mZeroDivisionError\u001b[0m: division by zero"
     ]
    }
   ],
   "source": [
    "x/y"
   ]
  },
  {
   "cell_type": "code",
   "execution_count": 5,
   "metadata": {},
   "outputs": [
    {
     "name": "stdout",
     "output_type": "stream",
     "text": [
      "division by zero\n",
      "always executes\n"
     ]
    }
   ],
   "source": [
    "try:\n",
    "\n",
    "    x/y\n",
    "\n",
    "except ZeroDivisionError:\n",
    "    print('division by zero')\n",
    "\n",
    "finally:\n",
    "    print('always executes')"
   ]
  },
  {
   "cell_type": "code",
   "execution_count": 14,
   "metadata": {},
   "outputs": [
    {
     "name": "stdout",
     "output_type": "stream",
     "text": [
      "**********\n",
      "1, 2 - always executes\n",
      "1, 2 - main while loop\n",
      "**********\n",
      "2, 1 - always executes\n",
      "2, 1 - main while loop\n",
      "**********\n",
      "3, 0 - devision by zero\n",
      "3, 0 - always executes\n",
      "**********\n",
      "4, -1 - always executes\n",
      "4, -1 - main while loop\n",
      "**********\n",
      "5, -2 - always executes\n",
      "5, -2 - main while loop\n"
     ]
    }
   ],
   "source": [
    "x = 0\n",
    "y = 3\n",
    "\n",
    "while x < 5:\n",
    "    print('**********')\n",
    "\n",
    "    x += 1\n",
    "    y -= 1\n",
    "\n",
    "    try:\n",
    "        x/y\n",
    "        \n",
    "    except ZeroDivisionError:\n",
    "        print(\"{0}, {1} - devision by zero\".format(x, y))\n",
    "        continue\n",
    "\n",
    "    finally:\n",
    "        print(\"{0}, {1} - always executes\".format(x, y))\n",
    "\n",
    "    print(\"{0}, {1} - main while loop\".format(x, y))\n",
    "\n",
    "\n"
   ]
  },
  {
   "cell_type": "code",
   "execution_count": 17,
   "metadata": {},
   "outputs": [
    {
     "name": "stdout",
     "output_type": "stream",
     "text": [
      "**********\n",
      "1, 2 - always executes\n",
      "1, 2 - main while loop\n",
      "**********\n",
      "2, 1 - always executes\n",
      "2, 1 - main while loop\n",
      "**********\n",
      "3, 0 - devision by zero\n",
      "3, 0 - always executes\n"
     ]
    }
   ],
   "source": [
    "# use break\n",
    "\n",
    "x = 0\n",
    "y = 3\n",
    "\n",
    "while x < 5:\n",
    "    print('**********')\n",
    "\n",
    "    x += 1\n",
    "    y -= 1\n",
    "\n",
    "    try:\n",
    "        x/y\n",
    "        \n",
    "    except ZeroDivisionError:\n",
    "        print(\"{0}, {1} - devision by zero\".format(x, y))\n",
    "        break\n",
    "\n",
    "    finally:\n",
    "        print(\"{0}, {1} - always executes\".format(x, y))\n",
    "\n",
    "    print(\"{0}, {1} - main while loop\".format(x, y))\n",
    "\n",
    "else:\n",
    "    print('Code executes without a zero division error')"
   ]
  },
  {
   "cell_type": "code",
   "execution_count": 19,
   "metadata": {},
   "outputs": [
    {
     "name": "stdout",
     "output_type": "stream",
     "text": [
      "**********\n",
      "1, 12 - always executes\n",
      "1, 12 - main while loop\n",
      "**********\n",
      "2, 11 - always executes\n",
      "2, 11 - main while loop\n",
      "**********\n",
      "3, 10 - always executes\n",
      "3, 10 - main while loop\n",
      "**********\n",
      "4, 9 - always executes\n",
      "4, 9 - main while loop\n",
      "**********\n",
      "5, 8 - always executes\n",
      "5, 8 - main while loop\n",
      "Code executes without a zero division error\n"
     ]
    }
   ],
   "source": [
    "# use break\n",
    "\n",
    "x = 0\n",
    "y = 13\n",
    "\n",
    "while x < 5:\n",
    "    print('**********')\n",
    "\n",
    "    x += 1\n",
    "    y -= 1\n",
    "\n",
    "    try:\n",
    "        x/y\n",
    "        \n",
    "    except ZeroDivisionError:\n",
    "        print(\"{0}, {1} - devision by zero\".format(x, y))\n",
    "        break\n",
    "\n",
    "    finally:\n",
    "        print(\"{0}, {1} - always executes\".format(x, y))\n",
    "\n",
    "    print(\"{0}, {1} - main while loop\".format(x, y))\n",
    "\n",
    "else:\n",
    "    print('Code executes without a zero division error')"
   ]
  },
  {
   "cell_type": "code",
   "execution_count": null,
   "metadata": {},
   "outputs": [],
   "source": []
  }
 ],
 "metadata": {
  "kernelspec": {
   "display_name": "Python 3",
   "language": "python",
   "name": "python3"
  },
  "language_info": {
   "codemirror_mode": {
    "name": "ipython",
    "version": 3
   },
   "file_extension": ".py",
   "mimetype": "text/x-python",
   "name": "python",
   "nbconvert_exporter": "python",
   "pygments_lexer": "ipython3",
   "version": "3.11.1 (main, Dec 24 2022, 22:46:17) [Clang 14.0.0 (clang-1400.0.29.202)]"
  },
  "orig_nbformat": 4,
  "vscode": {
   "interpreter": {
    "hash": "87a1d552f91eeb558c0ccd448f410e247f4277ae8c89a1716b4b50ef0e37ae74"
   }
  }
 },
 "nbformat": 4,
 "nbformat_minor": 2
}
