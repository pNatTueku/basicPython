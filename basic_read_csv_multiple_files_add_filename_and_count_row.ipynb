{
 "cells": [
  {
   "cell_type": "code",
   "execution_count": 1,
   "metadata": {},
   "outputs": [],
   "source": [
    "import pandas as pd\n",
    "import glob"
   ]
  },
  {
   "cell_type": "code",
   "execution_count": 2,
   "metadata": {},
   "outputs": [
    {
     "data": {
      "text/plain": [
       "['multiple_csv/AB012401_20230601_182004_PRO01_AB123460_none_AB123461_414X11.csv',\n",
       " 'multiple_csv/AB012002_20230601_180308_PRO01_AB123458_none_AB123459_414X10.csv',\n",
       " 'multiple_csv/AB013005_20230601_182410_PRO01_AB123463_none_AB123464_414X12.csv']"
      ]
     },
     "execution_count": 2,
     "metadata": {},
     "output_type": "execute_result"
    }
   ],
   "source": [
    "# list all csv files in the directory\n",
    "path = r'multiple_csv/'\n",
    "\n",
    "files_path = glob.glob(path + \"*.csv\")\n",
    "files_path"
   ]
  },
  {
   "cell_type": "code",
   "execution_count": 4,
   "metadata": {},
   "outputs": [],
   "source": [
    "# create a function to read the number of rows in each file\n",
    "\n",
    "def count_row(filepath):\n",
    "\n",
    "    num_row = 0\n",
    "    f = open(filepath, 'r') # read\n",
    "    num_row = len(f.readlines())\n",
    "    f.close()\n",
    "\n",
    "    return num_row"
   ]
  },
  {
   "cell_type": "code",
   "execution_count": 6,
   "metadata": {},
   "outputs": [
    {
     "name": "stdout",
     "output_type": "stream",
     "text": [
      "[6, 6, 6]\n"
     ]
    }
   ],
   "source": [
    "# use list comprehension to use a count_row function\n",
    "\n",
    "counts = [count_row(filepath) for filepath in files_path]\n",
    "print(counts)"
   ]
  },
  {
   "cell_type": "code",
   "execution_count": 7,
   "metadata": {},
   "outputs": [
    {
     "data": {
      "text/html": [
       "<div>\n",
       "<style scoped>\n",
       "    .dataframe tbody tr th:only-of-type {\n",
       "        vertical-align: middle;\n",
       "    }\n",
       "\n",
       "    .dataframe tbody tr th {\n",
       "        vertical-align: top;\n",
       "    }\n",
       "\n",
       "    .dataframe thead th {\n",
       "        text-align: right;\n",
       "    }\n",
       "</style>\n",
       "<table border=\"1\" class=\"dataframe\">\n",
       "  <thead>\n",
       "    <tr style=\"text-align: right;\">\n",
       "      <th></th>\n",
       "      <th>filename</th>\n",
       "      <th>number_of_rows</th>\n",
       "    </tr>\n",
       "  </thead>\n",
       "  <tbody>\n",
       "    <tr>\n",
       "      <th>0</th>\n",
       "      <td>multiple_csv/AB012401_20230601_182004_PRO01_AB...</td>\n",
       "      <td>6</td>\n",
       "    </tr>\n",
       "    <tr>\n",
       "      <th>1</th>\n",
       "      <td>multiple_csv/AB012002_20230601_180308_PRO01_AB...</td>\n",
       "      <td>6</td>\n",
       "    </tr>\n",
       "    <tr>\n",
       "      <th>2</th>\n",
       "      <td>multiple_csv/AB013005_20230601_182410_PRO01_AB...</td>\n",
       "      <td>6</td>\n",
       "    </tr>\n",
       "  </tbody>\n",
       "</table>\n",
       "</div>"
      ],
      "text/plain": [
       "                                            filename  number_of_rows\n",
       "0  multiple_csv/AB012401_20230601_182004_PRO01_AB...               6\n",
       "1  multiple_csv/AB012002_20230601_180308_PRO01_AB...               6\n",
       "2  multiple_csv/AB013005_20230601_182410_PRO01_AB...               6"
      ]
     },
     "execution_count": 7,
     "metadata": {},
     "output_type": "execute_result"
    }
   ],
   "source": [
    "# create new table to store data\n",
    "\n",
    "df = pd.DataFrame() # empty dataframe\n",
    "\n",
    "df['filename'] = files_path\n",
    "df['number_of_rows'] = counts\n",
    "df"
   ]
  },
  {
   "cell_type": "code",
   "execution_count": 8,
   "metadata": {},
   "outputs": [],
   "source": [
    "# export\n",
    "\n",
    "df.to_csv(path + 'multiple_csv_files_and_count_row_number.csv')"
   ]
  },
  {
   "cell_type": "code",
   "execution_count": null,
   "metadata": {},
   "outputs": [],
   "source": []
  }
 ],
 "metadata": {
  "kernelspec": {
   "display_name": "conda_env",
   "language": "python",
   "name": "python3"
  },
  "language_info": {
   "codemirror_mode": {
    "name": "ipython",
    "version": 3
   },
   "file_extension": ".py",
   "mimetype": "text/x-python",
   "name": "python",
   "nbconvert_exporter": "python",
   "pygments_lexer": "ipython3",
   "version": "3.9.15"
  }
 },
 "nbformat": 4,
 "nbformat_minor": 2
}
