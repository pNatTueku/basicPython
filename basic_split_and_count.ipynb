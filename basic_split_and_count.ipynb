{
 "cells": [
  {
   "cell_type": "code",
   "execution_count": 9,
   "metadata": {},
   "outputs": [
    {
     "name": "stdout",
     "output_type": "stream",
     "text": [
      "Mark Tuan\n",
      "Word length is 9.\n",
      "['Mark', 'Tuan']\n",
      "There are 2 words.\n"
     ]
    }
   ],
   "source": [
    "words = input()\n",
    "print(words)\n",
    "print(f'Word length is {len(words)}.')\n",
    "print(words.split())\n",
    "print(f'There are {len(words.split(\" \"))} words.')"
   ]
  },
  {
   "cell_type": "code",
   "execution_count": 10,
   "metadata": {},
   "outputs": [
    {
     "name": "stdout",
     "output_type": "stream",
     "text": [
      "Mark Tuan\n",
      "Word length is 9.\n",
      "['Mark', 'Tuan']\n",
      "There are 2 words.\n"
     ]
    }
   ],
   "source": [
    "words = input()\n",
    "print(words)\n",
    "print(f'Word length is {len(words)}.')\n",
    "print(words.split())\n",
    "print(f'There are {words.count(\" \") + 1} words.')"
   ]
  },
  {
   "cell_type": "code",
   "execution_count": 11,
   "metadata": {},
   "outputs": [
    {
     "name": "stdout",
     "output_type": "stream",
     "text": [
      "M\n",
      "a\n",
      "r\n",
      "k\n",
      " \n",
      "T\n",
      "u\n",
      "a\n",
      "n\n"
     ]
    }
   ],
   "source": [
    "str = input()\n",
    "\n",
    "for i in str:\n",
    "    print(i)"
   ]
  },
  {
   "cell_type": "code",
   "execution_count": 12,
   "metadata": {},
   "outputs": [
    {
     "name": "stdout",
     "output_type": "stream",
     "text": [
      "0\n",
      "1\n",
      "2\n",
      "3\n",
      "4\n",
      "5\n",
      "6\n",
      "7\n",
      "8\n"
     ]
    }
   ],
   "source": [
    "str = input()\n",
    "\n",
    "for i, c in enumerate(str): # c is using to store index of each charactor - enumerate is ab object which need toop to print\n",
    "    print(i)"
   ]
  }
 ],
 "metadata": {
  "kernelspec": {
   "display_name": "Python 3",
   "language": "python",
   "name": "python3"
  },
  "language_info": {
   "codemirror_mode": {
    "name": "ipython",
    "version": 3
   },
   "file_extension": ".py",
   "mimetype": "text/x-python",
   "name": "python",
   "nbconvert_exporter": "python",
   "pygments_lexer": "ipython3",
   "version": "3.11.1"
  }
 },
 "nbformat": 4,
 "nbformat_minor": 2
}
