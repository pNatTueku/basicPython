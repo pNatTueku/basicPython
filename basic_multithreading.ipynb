{
 "cells": [
  {
   "cell_type": "markdown",
   "metadata": {},
   "source": [
    "### Multithreading\n",
    "\n",
    "- allows us to run multiple threads simultaneously - multithreads are smaller units of process\n",
    "- makes our programs more efficient, especially for I/O-bound tasks\n",
    "- allows us to manage concurrent operations without having to deal with multiple processes"
   ]
  },
  {
   "cell_type": "code",
   "execution_count": 15,
   "metadata": {},
   "outputs": [],
   "source": [
    "# Let's see how to make our programs faster and more responsive by perfprmimg tasks in parallel\n",
    "# Here are are going to run aa simple functin twice sequently (without threading)\n",
    "\n",
    "import time\n",
    "\n",
    "def task(sq_num):\n",
    "\n",
    "    print(f\"Task {sq_num} started\")\n",
    "    time.sleep(1)\n",
    "    print(f'Task {sq_num} completed')\n"
   ]
  },
  {
   "cell_type": "code",
   "execution_count": 16,
   "metadata": {},
   "outputs": [
    {
     "data": {
      "text/plain": [
       "1724563239.559051"
      ]
     },
     "execution_count": 16,
     "metadata": {},
     "output_type": "execute_result"
    }
   ],
   "source": [
    "# setting\n",
    "\n",
    "start = time.time()\n",
    "start"
   ]
  },
  {
   "cell_type": "code",
   "execution_count": 17,
   "metadata": {},
   "outputs": [
    {
     "name": "stdout",
     "output_type": "stream",
     "text": [
      "Task 1 started\n",
      "Task 1 completed\n"
     ]
    }
   ],
   "source": [
    "# call task function seq #1\n",
    "task(1)"
   ]
  },
  {
   "cell_type": "code",
   "execution_count": 18,
   "metadata": {},
   "outputs": [
    {
     "name": "stdout",
     "output_type": "stream",
     "text": [
      "Task 2 started\n",
      "Task 2 completed\n"
     ]
    }
   ],
   "source": [
    "# call task function seq #2\n",
    "task(2)"
   ]
  },
  {
   "cell_type": "code",
   "execution_count": 19,
   "metadata": {},
   "outputs": [
    {
     "data": {
      "text/plain": [
       "1724563241.592677"
      ]
     },
     "execution_count": 19,
     "metadata": {},
     "output_type": "execute_result"
    }
   ],
   "source": [
    "end = time.time()\n",
    "end"
   ]
  },
  {
   "cell_type": "code",
   "execution_count": 20,
   "metadata": {},
   "outputs": [
    {
     "name": "stdout",
     "output_type": "stream",
     "text": [
      "Execution Time: 2.03 seconds\n"
     ]
    }
   ],
   "source": [
    "print(f\"Execution Time: {end - start:.2f} seconds\")"
   ]
  },
  {
   "cell_type": "code",
   "execution_count": 21,
   "metadata": {},
   "outputs": [
    {
     "name": "stdout",
     "output_type": "stream",
     "text": [
      "Task 1 started\n",
      "Task 1 completed\n",
      "Task 2 started\n",
      "Task 2 completed\n"
     ]
    },
    {
     "ename": "TypeError",
     "evalue": "unsupported operand type(s) for -: 'builtin_function_or_method' and 'float'",
     "output_type": "error",
     "traceback": [
      "\u001b[0;31m---------------------------------------------------------------------------\u001b[0m",
      "\u001b[0;31mTypeError\u001b[0m                                 Traceback (most recent call last)",
      "Cell \u001b[0;32mIn[21], line 18\u001b[0m\n\u001b[1;32m     15\u001b[0m task(\u001b[38;5;241m2\u001b[39m) \u001b[38;5;66;03m# call task function seq #2\u001b[39;00m\n\u001b[1;32m     16\u001b[0m end \u001b[38;5;241m=\u001b[39m time\u001b[38;5;241m.\u001b[39mtime \u001b[38;5;66;03m# get end time\u001b[39;00m\n\u001b[0;32m---> 18\u001b[0m \u001b[38;5;28mprint\u001b[39m(\u001b[38;5;124mf\u001b[39m\u001b[38;5;124m\"\u001b[39m\u001b[38;5;124mExecution Time: \u001b[39m\u001b[38;5;132;01m{\u001b[39;00m\u001b[43mend\u001b[49m\u001b[38;5;250;43m \u001b[39;49m\u001b[38;5;241;43m-\u001b[39;49m\u001b[38;5;250;43m \u001b[39;49m\u001b[43mstart\u001b[49m\u001b[38;5;132;01m:\u001b[39;00m\u001b[38;5;124m.2f\u001b[39m\u001b[38;5;132;01m}\u001b[39;00m\u001b[38;5;124m seconds\u001b[39m\u001b[38;5;124m\"\u001b[39m) \u001b[38;5;66;03m# calculate and print the ediferent between start and end times\u001b[39;00m\n",
      "\u001b[0;31mTypeError\u001b[0m: unsupported operand type(s) for -: 'builtin_function_or_method' and 'float'"
     ]
    }
   ],
   "source": [
    "# Let's see how to make our programs faster and more responsive by perfprmimg tasks in parallel\n",
    "# Here are are going to run aa simple functin twice sequently (without threading)\n",
    "\n",
    "import time\n",
    "\n",
    "def task(sq_num):\n",
    "\n",
    "    print(f\"Task {sq_num} started\")\n",
    "    time.sleep(1)\n",
    "    print(f'Task {sq_num} completed')\n",
    "\n",
    "\n",
    "start = time.time() # get start time\n",
    "task(1) # call task function seq #1\n",
    "task(2) # call task function seq #2\n",
    "end = time.time # get end time\n",
    "\n",
    "print(f\"Execution Time: {end - start:.2f} seconds\") # calculate and print the ediferent between start and end times"
   ]
  },
  {
   "cell_type": "code",
   "execution_count": null,
   "metadata": {},
   "outputs": [],
   "source": []
  }
 ],
 "metadata": {
  "kernelspec": {
   "display_name": "conda_env",
   "language": "python",
   "name": "python3"
  },
  "language_info": {
   "codemirror_mode": {
    "name": "ipython",
    "version": 3
   },
   "file_extension": ".py",
   "mimetype": "text/x-python",
   "name": "python",
   "nbconvert_exporter": "python",
   "pygments_lexer": "ipython3",
   "version": "3.9.15"
  }
 },
 "nbformat": 4,
 "nbformat_minor": 2
}
