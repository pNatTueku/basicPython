{
 "cells": [
  {
   "cell_type": "markdown",
   "metadata": {},
   "source": [
    "### Multithreading\n",
    "\n",
    "- allows us to run multiple threads simultaneously - multithreads are smaller units of process\n",
    "- makes our programs more efficient, especially for I/O-bound tasks\n",
    "- allows us to manage concurrent operations without having to deal with multiple processes"
   ]
  },
  {
   "cell_type": "code",
   "execution_count": 46,
   "metadata": {},
   "outputs": [],
   "source": [
    "# Let's see how to make our programs faster and more responsive by perfprmimg tasks in parallel\n",
    "# Here are are going to run aa simple functin twice sequently (without threading)\n",
    "\n",
    "import time\n",
    "\n",
    "def task(sq_num):\n",
    "\n",
    "    print(f\"Task {sq_num} started\")\n",
    "    time.sleep(1)\n",
    "    print(f'Task {sq_num} completed')\n"
   ]
  },
  {
   "cell_type": "code",
   "execution_count": 47,
   "metadata": {},
   "outputs": [
    {
     "data": {
      "text/plain": [
       "1724580996.456554"
      ]
     },
     "execution_count": 47,
     "metadata": {},
     "output_type": "execute_result"
    }
   ],
   "source": [
    "# setting\n",
    "\n",
    "start = time.time()\n",
    "start"
   ]
  },
  {
   "cell_type": "code",
   "execution_count": 48,
   "metadata": {},
   "outputs": [
    {
     "name": "stdout",
     "output_type": "stream",
     "text": [
      "Task 1 started\n",
      "Task 1 completed\n"
     ]
    }
   ],
   "source": [
    "# call task function seq #1\n",
    "task(1)"
   ]
  },
  {
   "cell_type": "code",
   "execution_count": 49,
   "metadata": {},
   "outputs": [
    {
     "name": "stdout",
     "output_type": "stream",
     "text": [
      "Task 2 started\n",
      "Task 2 completed\n"
     ]
    }
   ],
   "source": [
    "# call task function seq #2\n",
    "task(2)"
   ]
  },
  {
   "cell_type": "code",
   "execution_count": 50,
   "metadata": {},
   "outputs": [
    {
     "data": {
      "text/plain": [
       "1724580998.4953291"
      ]
     },
     "execution_count": 50,
     "metadata": {},
     "output_type": "execute_result"
    }
   ],
   "source": [
    "end = time.time()\n",
    "end"
   ]
  },
  {
   "cell_type": "code",
   "execution_count": 51,
   "metadata": {},
   "outputs": [
    {
     "name": "stdout",
     "output_type": "stream",
     "text": [
      "Execution Time: 2.04 seconds\n"
     ]
    }
   ],
   "source": [
    "print(f\"Execution Time: {end - start:.2f} seconds\")"
   ]
  },
  {
   "cell_type": "code",
   "execution_count": 52,
   "metadata": {},
   "outputs": [
    {
     "name": "stdout",
     "output_type": "stream",
     "text": [
      "Task 1 started\n",
      "Task 1 completed\n",
      "Task 2 started\n",
      "Task 2 completed\n",
      "Execution Time: 2.01 seconds\n"
     ]
    }
   ],
   "source": [
    "# Let's see how to make our programs faster and more responsive by perfprmimg tasks in parallel\n",
    "# Here are are going to run aa simple functin twice sequently (without threading)\n",
    "\n",
    "import time\n",
    "\n",
    "def task(sq_num):\n",
    "\n",
    "    print(f\"Task {sq_num} started\")\n",
    "    time.sleep(1)\n",
    "    print(f'Task {sq_num} completed')\n",
    "\n",
    "\n",
    "start = time.time() # get start time\n",
    "task(1) # call task function seq #1\n",
    "task(2) # call task function seq #2\n",
    "end = time.time() # get end time\n",
    "\n",
    "print(f\"Execution Time: {end - start:.2f} seconds\") # calculate and print the different between start and end times"
   ]
  },
  {
   "cell_type": "code",
   "execution_count": 53,
   "metadata": {},
   "outputs": [
    {
     "name": "stdout",
     "output_type": "stream",
     "text": [
      "Task 1 started\n",
      "Task 2 started\n",
      "Task 1 completed\n",
      "Task 2 completed\n",
      "Execution Time: 1.01 seconds\n"
     ]
    }
   ],
   "source": [
    "# Let's add threading to the mix and see the difference in execution time\n",
    "\n",
    "# import libraries\n",
    "import threading\n",
    "import time\n",
    "\n",
    "start = time.time() # get a start time\n",
    "\n",
    "thread_1 = threading.Thread(target = task, args = [1])\n",
    "thread_2 = threading.Thread(target = task, args = [2])\n",
    "\n",
    "thread_1.start() # start thread #1\n",
    "thread_2.start() # start thread #2\n",
    "\n",
    "thread_1.join() # join() makes sure that the threads complete before executing of the script\n",
    "thread_2.join()\n",
    "\n",
    "end = time.time() # get an end time\n",
    "\n",
    "print(f'Execution Time: {end - start:.2f} seconds')\n"
   ]
  },
  {
   "cell_type": "code",
   "execution_count": 54,
   "metadata": {},
   "outputs": [
    {
     "name": "stdout",
     "output_type": "stream",
     "text": [
      "Task 0 startedTask 1 started\n",
      "\n",
      "Task 2 started\n",
      "Task 3 started\n",
      "Task 4 started\n",
      "Task 0 completed\n",
      "Task 4 completed\n",
      "Task 2 completed\n",
      "Task 1 completed\n",
      "Task 3 completed\n",
      "For Loop Execution Time: 1.01 seconds\n"
     ]
    }
   ],
   "source": [
    "# Let's try on the for loop to run function multiple times to see the power of multithreading\n",
    "\n",
    "# import libraries\n",
    "import threading\n",
    "import time\n",
    "\n",
    "threads = [] # create and empty list to store all our threads\n",
    "start = time.time() # get a start time\n",
    "\n",
    "# start our threads\n",
    "for i in range(5): # here we set 5 threads\n",
    "\n",
    "    thread = threading.Thread(target = task, args = [i])\n",
    "    threads.append(thread) # append our thread\n",
    "    thread.start()\n",
    "\n",
    "# now we join them\n",
    "for thread in threads:\n",
    "    thread.join()\n",
    "\n",
    "end = time.time() # get an end time\n",
    "\n",
    "print(f'For Loop Execution Time: {end - start:.2f} seconds')"
   ]
  },
  {
   "cell_type": "code",
   "execution_count": 55,
   "metadata": {},
   "outputs": [
    {
     "name": "stdout",
     "output_type": "stream",
     "text": [
      "Task 0 startedTask 1 started\n",
      "Task 2 started\n",
      "Task 3 started\n",
      "\n",
      "Task 4 started\n",
      "Task 1 completedTask 2 completed\n",
      "Task 0 completed\n",
      "\n",
      "Task 3 completed\n",
      "Task 4 completed\n",
      "ThreadPool Execution Time: 1.01 seconds\n"
     ]
    }
   ],
   "source": [
    "# *** Let's try on a ThreadPool to make our thread simpler ***\n",
    "\n",
    "# import libraries\n",
    "from concurrent.futures import ThreadPoolExecutor, as_completed\n",
    "import time\n",
    "\n",
    "start = time.time() # get a start time\n",
    "\n",
    "with ThreadPoolExecutor() as executor: # submits a function to be executed and returns a future object\n",
    "\n",
    "    futures = [executor.submit(task, i) for i in range(5)] # a future object allows us to check the status of submitted function\n",
    "\n",
    "for f in as_completed(futures): # iterates over future objects and return them in order of completion\n",
    "\n",
    "    f.result()\n",
    "\n",
    "end = time.time()\n",
    "\n",
    "print(f\"ThreadPool Execution Time: {end - start:.2f} seconds\")"
   ]
  },
  {
   "cell_type": "code",
   "execution_count": null,
   "metadata": {},
   "outputs": [],
   "source": []
  }
 ],
 "metadata": {
  "kernelspec": {
   "display_name": "conda_env",
   "language": "python",
   "name": "python3"
  },
  "language_info": {
   "codemirror_mode": {
    "name": "ipython",
    "version": 3
   },
   "file_extension": ".py",
   "mimetype": "text/x-python",
   "name": "python",
   "nbconvert_exporter": "python",
   "pygments_lexer": "ipython3",
   "version": "3.9.15"
  }
 },
 "nbformat": 4,
 "nbformat_minor": 2
}
