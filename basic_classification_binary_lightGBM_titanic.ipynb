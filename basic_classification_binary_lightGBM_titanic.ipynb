{
 "cells": [
  {
   "cell_type": "code",
   "execution_count": 3,
   "metadata": {},
   "outputs": [],
   "source": [
    "# import libraries\n",
    "\n",
    "import pandas as pd\n",
    "import numpy as np\n",
    "import seaborn as sns\n",
    "import math\n",
    "import matplotlib.pyplot as plt\n",
    "\n",
    "%matplotlib inline\n",
    "%config InlineBackend.figure_format = 'retina'"
   ]
  },
  {
   "cell_type": "code",
   "execution_count": 2,
   "metadata": {},
   "outputs": [],
   "source": [
    "import warnings\n",
    "\n",
    "warnings.filterwarnings('ignore')"
   ]
  },
  {
   "cell_type": "code",
   "execution_count": 4,
   "metadata": {},
   "outputs": [
    {
     "name": "stdout",
     "output_type": "stream",
     "text": [
      "pandas version: 1.5.2\n",
      "numpy version: 1.24.1\n",
      "seaborn version: 0.12.2\n"
     ]
    }
   ],
   "source": [
    "print(f'pandas version: {pd.__version__}')\n",
    "print(f'numpy version: {np.__version__}')\n",
    "print(f'seaborn version: {sns.__version__}')"
   ]
  },
  {
   "cell_type": "markdown",
   "metadata": {},
   "source": [
    "### Utility functions"
   ]
  },
  {
   "cell_type": "code",
   "execution_count": null,
   "metadata": {},
   "outputs": [],
   "source": [
    "def df_unique_value(df):\n",
    "\n",
    "    for c in df.columns:\n",
    "        col_type = df[c].type\n",
    "\n",
    "        if col_type == 'object' or col_type.name == 'category':\n",
    "            print(f'{c:10}\\n{df[c].unique()}')\n",
    "            print('-' * 65)\n",
    "\n",
    "def convert_col_to_category(df, cols:list):\n",
    "    \"\"\" \n",
    "    convert 'cols' to 'category\n",
    "    \"\"\"\n",
    "\n",
    "    for c in df[cols]:\n",
    "        \n",
    "        df[c] = df[c].astype('category')\n",
    "        return df\n",
    "    \n",
    "def convert_obj_columns_tocategory(df):\n",
    "\n",
    "    for c in df.columns:\n",
    "        col_type = df[c].dtype\n",
    "\n",
    "        if col_type == 'object' or col_type.name == 'category':\n",
    "            df[c] = df[c].astype('category')\n",
    "    return df\n",
    "\n",
    "def print_category_columns(df):\n",
    "\n",
    "    for c in df.columns:\n",
    "        col_type = df[c].dtype\n",
    "\n",
    "        if col_type.name == 'category':\n",
    "            print(f'{c}: {df[c].cat.categories}')\n",
    "            print(pd.Series(df[c].cat.categories))\n",
    "            print(f'{c:15}: {list(enumerate(df[c].cat.categories))}')\n"
   ]
  }
 ],
 "metadata": {
  "kernelspec": {
   "display_name": "conda_env",
   "language": "python",
   "name": "python3"
  },
  "language_info": {
   "codemirror_mode": {
    "name": "ipython",
    "version": 3
   },
   "file_extension": ".py",
   "mimetype": "text/x-python",
   "name": "python",
   "nbconvert_exporter": "python",
   "pygments_lexer": "ipython3",
   "version": "3.9.15"
  },
  "orig_nbformat": 4
 },
 "nbformat": 4,
 "nbformat_minor": 2
}
