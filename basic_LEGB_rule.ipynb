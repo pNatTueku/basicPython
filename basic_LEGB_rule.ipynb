{
 "cells": [
  {
   "cell_type": "markdown",
   "metadata": {},
   "source": [
    "### LEGB Rule\n",
    "#### - The scopes of L: Local, E: Enclosing, G: G: Gobal, B: Build-in\n",
    "#### - The order is Local --> Enclosinf --> Global --> Build-in\n",
    "- Local:\n",
    "    - Local scope referes to variables defined within a function\n",
    "    - We can only access the variables within the function where they are defined.\n",
    "    - The variables are created at the functin's call and destroyed when the function ends.\n",
    "- Enclosing:\n",
    "    - It is relavant in the context of nested functions\n",
    "    - If a variable isn't in the local scope but it is defined in an outer function, it is in the enclosing scope\n",
    "    - We can access it from the inner function but not from the global scope\n",
    "- Global:\n",
    "    - The variables are defined at the top leval of script or a module\n",
    "    - We can access the global variable from anywhere within the module or script, including inside any functions\n",
    "    - It is created when the script starts and last until it ends\n",
    "- Build-in\n",
    "    - It includes names that are pre-defined in the Python language\n",
    "    - It contain functions like 'print()', 'len()', and tyoes likr 'int', 'float' which are always available without the need for any imports\n",
    "\n",
    "- Credits to Akshay Pachaar"
   ]
  },
  {
   "cell_type": "code",
   "execution_count": 1,
   "metadata": {},
   "outputs": [],
   "source": [
    "# Local Scope\n",
    "\n",
    "def square_nums(n):\n",
    "    result = n ** 2\n",
    "    return result"
   ]
  },
  {
   "cell_type": "code",
   "execution_count": 2,
   "metadata": {},
   "outputs": [
    {
     "name": "stdout",
     "output_type": "stream",
     "text": [
      "81\n"
     ]
    }
   ],
   "source": [
    "# call square_fn function\n",
    "print(square_nums(9))"
   ]
  },
  {
   "cell_type": "code",
   "execution_count": 3,
   "metadata": {},
   "outputs": [
    {
     "ename": "NameError",
     "evalue": "name 'result' is not defined",
     "output_type": "error",
     "traceback": [
      "\u001b[0;31m---------------------------------------------------------------------------\u001b[0m",
      "\u001b[0;31mNameError\u001b[0m                                 Traceback (most recent call last)",
      "Cell \u001b[0;32mIn[3], line 1\u001b[0m\n\u001b[0;32m----> 1\u001b[0m \u001b[38;5;28mprint\u001b[39m(\u001b[43mresult\u001b[49m) \u001b[38;5;66;03m# This one will be error as NameError: name result is not defined\u001b[39;00m\n",
      "\u001b[0;31mNameError\u001b[0m: name 'result' is not defined"
     ]
    }
   ],
   "source": [
    "print(result) # This one will be error as NameError: name result is not defined"
   ]
  },
  {
   "cell_type": "code",
   "execution_count": 7,
   "metadata": {},
   "outputs": [
    {
     "name": "stdout",
     "output_type": "stream",
     "text": [
      "9\n"
     ]
    }
   ],
   "source": [
    "# Enclosing Scope\n",
    "\n",
    "def outer_fn(x):\n",
    "\n",
    "    def inner_fn(y):\n",
    "        return x ** y # x here is obtained from the enclosing scope i.e outer_fn\n",
    "    return inner_fn(2)\n",
    "\n",
    "# call outer_fn function\n",
    "print(outer_fn(3))"
   ]
  },
  {
   "cell_type": "code",
   "execution_count": 8,
   "metadata": {},
   "outputs": [
    {
     "name": "stdout",
     "output_type": "stream",
     "text": [
      "8\n"
     ]
    }
   ],
   "source": [
    "# Global Scope\n",
    "\n",
    "global_var = 8\n",
    "\n",
    "def my_fn():\n",
    "    print(global_var)\n",
    "\n",
    "# call my_fn function\n",
    "my_fn()"
   ]
  },
  {
   "cell_type": "code",
   "execution_count": 9,
   "metadata": {},
   "outputs": [
    {
     "data": {
      "text/plain": [
       "3"
      ]
     },
     "execution_count": 9,
     "metadata": {},
     "output_type": "execute_result"
    }
   ],
   "source": [
    "# Build-in Scope\n",
    "\n",
    "name = ['Mark', \"Jackson\", 'BamBam']\n",
    "\n",
    "# call a build-in funtion 'len'\n",
    "len(name)"
   ]
  },
  {
   "cell_type": "code",
   "execution_count": null,
   "metadata": {},
   "outputs": [],
   "source": []
  }
 ],
 "metadata": {
  "kernelspec": {
   "display_name": "conda_env",
   "language": "python",
   "name": "python3"
  },
  "language_info": {
   "codemirror_mode": {
    "name": "ipython",
    "version": 3
   },
   "file_extension": ".py",
   "mimetype": "text/x-python",
   "name": "python",
   "nbconvert_exporter": "python",
   "pygments_lexer": "ipython3",
   "version": "3.9.15"
  }
 },
 "nbformat": 4,
 "nbformat_minor": 2
}
