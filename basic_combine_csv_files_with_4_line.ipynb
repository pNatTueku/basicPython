{
 "cells": [
  {
   "cell_type": "code",
   "execution_count": 52,
   "metadata": {},
   "outputs": [],
   "source": [
    "# import libraries\n",
    "\n",
    "import os\n",
    "import pandas as pd"
   ]
  },
  {
   "cell_type": "code",
   "execution_count": 53,
   "metadata": {},
   "outputs": [
    {
     "data": {
      "text/plain": [
       "'Data/DWJ_download/'"
      ]
     },
     "execution_count": 53,
     "metadata": {},
     "output_type": "execute_result"
    }
   ],
   "source": [
    "files_path = \"Data/DWJ_download/\"\n",
    "files_path"
   ]
  },
  {
   "cell_type": "code",
   "execution_count": 54,
   "metadata": {},
   "outputs": [
    {
     "data": {
      "text/html": [
       "<div>\n",
       "<style scoped>\n",
       "    .dataframe tbody tr th:only-of-type {\n",
       "        vertical-align: middle;\n",
       "    }\n",
       "\n",
       "    .dataframe tbody tr th {\n",
       "        vertical-align: top;\n",
       "    }\n",
       "\n",
       "    .dataframe thead th {\n",
       "        text-align: right;\n",
       "    }\n",
       "</style>\n",
       "<table border=\"1\" class=\"dataframe\">\n",
       "  <thead>\n",
       "    <tr style=\"text-align: right;\">\n",
       "      <th></th>\n",
       "      <th>Date</th>\n",
       "      <th>Open</th>\n",
       "      <th>High</th>\n",
       "      <th>Low</th>\n",
       "      <th>Close</th>\n",
       "      <th>Adj Close</th>\n",
       "      <th>Volume</th>\n",
       "    </tr>\n",
       "  </thead>\n",
       "  <tbody>\n",
       "    <tr>\n",
       "      <th>0</th>\n",
       "      <td>1990-02-16</td>\n",
       "      <td>0.000000</td>\n",
       "      <td>0.079861</td>\n",
       "      <td>0.073785</td>\n",
       "      <td>0.077257</td>\n",
       "      <td>0.052820</td>\n",
       "      <td>940636800</td>\n",
       "    </tr>\n",
       "    <tr>\n",
       "      <th>1</th>\n",
       "      <td>1990-02-20</td>\n",
       "      <td>0.000000</td>\n",
       "      <td>0.079861</td>\n",
       "      <td>0.074653</td>\n",
       "      <td>0.079861</td>\n",
       "      <td>0.054600</td>\n",
       "      <td>151862400</td>\n",
       "    </tr>\n",
       "    <tr>\n",
       "      <th>2</th>\n",
       "      <td>1990-02-21</td>\n",
       "      <td>0.000000</td>\n",
       "      <td>0.078993</td>\n",
       "      <td>0.075521</td>\n",
       "      <td>0.078125</td>\n",
       "      <td>0.053413</td>\n",
       "      <td>70531200</td>\n",
       "    </tr>\n",
       "    <tr>\n",
       "      <th>3</th>\n",
       "      <td>1990-02-22</td>\n",
       "      <td>0.000000</td>\n",
       "      <td>0.081597</td>\n",
       "      <td>0.078993</td>\n",
       "      <td>0.078993</td>\n",
       "      <td>0.054007</td>\n",
       "      <td>45216000</td>\n",
       "    </tr>\n",
       "    <tr>\n",
       "      <th>4</th>\n",
       "      <td>1990-02-23</td>\n",
       "      <td>0.000000</td>\n",
       "      <td>0.079861</td>\n",
       "      <td>0.078125</td>\n",
       "      <td>0.078559</td>\n",
       "      <td>0.053710</td>\n",
       "      <td>44697600</td>\n",
       "    </tr>\n",
       "    <tr>\n",
       "      <th>...</th>\n",
       "      <td>...</td>\n",
       "      <td>...</td>\n",
       "      <td>...</td>\n",
       "      <td>...</td>\n",
       "      <td>...</td>\n",
       "      <td>...</td>\n",
       "      <td>...</td>\n",
       "    </tr>\n",
       "    <tr>\n",
       "      <th>355301</th>\n",
       "      <td>2024-02-13</td>\n",
       "      <td>280.410004</td>\n",
       "      <td>283.429993</td>\n",
       "      <td>276.420013</td>\n",
       "      <td>281.149994</td>\n",
       "      <td>281.149994</td>\n",
       "      <td>4956600</td>\n",
       "    </tr>\n",
       "    <tr>\n",
       "      <th>355302</th>\n",
       "      <td>2024-02-14</td>\n",
       "      <td>285.000000</td>\n",
       "      <td>289.459991</td>\n",
       "      <td>284.640015</td>\n",
       "      <td>289.149994</td>\n",
       "      <td>289.149994</td>\n",
       "      <td>3850700</td>\n",
       "    </tr>\n",
       "    <tr>\n",
       "      <th>355303</th>\n",
       "      <td>2024-02-15</td>\n",
       "      <td>291.339996</td>\n",
       "      <td>292.000000</td>\n",
       "      <td>288.010010</td>\n",
       "      <td>291.940002</td>\n",
       "      <td>291.940002</td>\n",
       "      <td>3986500</td>\n",
       "    </tr>\n",
       "    <tr>\n",
       "      <th>355304</th>\n",
       "      <td>2024-02-16</td>\n",
       "      <td>292.000000</td>\n",
       "      <td>292.070007</td>\n",
       "      <td>287.880005</td>\n",
       "      <td>289.720001</td>\n",
       "      <td>289.720001</td>\n",
       "      <td>4159100</td>\n",
       "    </tr>\n",
       "    <tr>\n",
       "      <th>355305</th>\n",
       "      <td>2024-02-20</td>\n",
       "      <td>289.500000</td>\n",
       "      <td>290.850006</td>\n",
       "      <td>284.154999</td>\n",
       "      <td>286.390015</td>\n",
       "      <td>286.390015</td>\n",
       "      <td>3360472</td>\n",
       "    </tr>\n",
       "  </tbody>\n",
       "</table>\n",
       "<p>355306 rows × 7 columns</p>\n",
       "</div>"
      ],
      "text/plain": [
       "              Date        Open        High         Low       Close  \\\n",
       "0       1990-02-16    0.000000    0.079861    0.073785    0.077257   \n",
       "1       1990-02-20    0.000000    0.079861    0.074653    0.079861   \n",
       "2       1990-02-21    0.000000    0.078993    0.075521    0.078125   \n",
       "3       1990-02-22    0.000000    0.081597    0.078993    0.078993   \n",
       "4       1990-02-23    0.000000    0.079861    0.078125    0.078559   \n",
       "...            ...         ...         ...         ...         ...   \n",
       "355301  2024-02-13  280.410004  283.429993  276.420013  281.149994   \n",
       "355302  2024-02-14  285.000000  289.459991  284.640015  289.149994   \n",
       "355303  2024-02-15  291.339996  292.000000  288.010010  291.940002   \n",
       "355304  2024-02-16  292.000000  292.070007  287.880005  289.720001   \n",
       "355305  2024-02-20  289.500000  290.850006  284.154999  286.390015   \n",
       "\n",
       "         Adj Close     Volume  \n",
       "0         0.052820  940636800  \n",
       "1         0.054600  151862400  \n",
       "2         0.053413   70531200  \n",
       "3         0.054007   45216000  \n",
       "4         0.053710   44697600  \n",
       "...            ...        ...  \n",
       "355301  281.149994    4956600  \n",
       "355302  289.149994    3850700  \n",
       "355303  291.940002    3986500  \n",
       "355304  289.720001    4159100  \n",
       "355305  286.390015    3360472  \n",
       "\n",
       "[355306 rows x 7 columns]"
      ]
     },
     "execution_count": 54,
     "metadata": {},
     "output_type": "execute_result"
    }
   ],
   "source": [
    "combined_df = pd.concat([pd.read_csv(os.path.join(files_path, filename)) for \\\n",
    "                            filename in os.listdir(files_path) if \\\n",
    "                                filename.endswith('.csv')], ignore_index = True)\n",
    "combined_df"
   ]
  },
  {
   "cell_type": "code",
   "execution_count": 55,
   "metadata": {},
   "outputs": [
    {
     "data": {
      "text/plain": [
       "(355306, 7)"
      ]
     },
     "execution_count": 55,
     "metadata": {},
     "output_type": "execute_result"
    }
   ],
   "source": [
    "combined_df.shape"
   ]
  },
  {
   "cell_type": "code",
   "execution_count": 56,
   "metadata": {},
   "outputs": [
    {
     "name": "stdout",
     "output_type": "stream",
     "text": [
      "<class 'pandas.core.frame.DataFrame'>\n",
      "RangeIndex: 355306 entries, 0 to 355305\n",
      "Data columns (total 7 columns):\n",
      " #   Column     Non-Null Count   Dtype  \n",
      "---  ------     --------------   -----  \n",
      " 0   Date       355306 non-null  object \n",
      " 1   Open       355306 non-null  float64\n",
      " 2   High       355306 non-null  float64\n",
      " 3   Low        355306 non-null  float64\n",
      " 4   Close      355306 non-null  float64\n",
      " 5   Adj Close  355306 non-null  float64\n",
      " 6   Volume     355306 non-null  int64  \n",
      "dtypes: float64(5), int64(1), object(1)\n",
      "memory usage: 19.0+ MB\n"
     ]
    }
   ],
   "source": [
    "combined_df.info()"
   ]
  },
  {
   "cell_type": "code",
   "execution_count": 57,
   "metadata": {},
   "outputs": [
    {
     "data": {
      "text/html": [
       "<div>\n",
       "<style scoped>\n",
       "    .dataframe tbody tr th:only-of-type {\n",
       "        vertical-align: middle;\n",
       "    }\n",
       "\n",
       "    .dataframe tbody tr th {\n",
       "        vertical-align: top;\n",
       "    }\n",
       "\n",
       "    .dataframe thead th {\n",
       "        text-align: right;\n",
       "    }\n",
       "</style>\n",
       "<table border=\"1\" class=\"dataframe\">\n",
       "  <thead>\n",
       "    <tr style=\"text-align: right;\">\n",
       "      <th></th>\n",
       "      <th>Open</th>\n",
       "      <th>High</th>\n",
       "      <th>Low</th>\n",
       "      <th>Close</th>\n",
       "      <th>Adj Close</th>\n",
       "      <th>Volume</th>\n",
       "    </tr>\n",
       "  </thead>\n",
       "  <tbody>\n",
       "    <tr>\n",
       "      <th>count</th>\n",
       "      <td>355306.000000</td>\n",
       "      <td>355306.000000</td>\n",
       "      <td>355306.000000</td>\n",
       "      <td>355306.000000</td>\n",
       "      <td>355306.000000</td>\n",
       "      <td>3.553060e+05</td>\n",
       "    </tr>\n",
       "    <tr>\n",
       "      <th>mean</th>\n",
       "      <td>45.430173</td>\n",
       "      <td>46.105285</td>\n",
       "      <td>45.179803</td>\n",
       "      <td>45.652425</td>\n",
       "      <td>36.172231</td>\n",
       "      <td>1.933918e+07</td>\n",
       "    </tr>\n",
       "    <tr>\n",
       "      <th>std</th>\n",
       "      <td>62.372632</td>\n",
       "      <td>62.828177</td>\n",
       "      <td>61.625461</td>\n",
       "      <td>62.239404</td>\n",
       "      <td>58.598272</td>\n",
       "      <td>8.165658e+07</td>\n",
       "    </tr>\n",
       "    <tr>\n",
       "      <th>min</th>\n",
       "      <td>0.000000</td>\n",
       "      <td>0.015625</td>\n",
       "      <td>0.014404</td>\n",
       "      <td>0.015625</td>\n",
       "      <td>0.008620</td>\n",
       "      <td>0.000000e+00</td>\n",
       "    </tr>\n",
       "    <tr>\n",
       "      <th>25%</th>\n",
       "      <td>4.062500</td>\n",
       "      <td>5.015625</td>\n",
       "      <td>4.906250</td>\n",
       "      <td>4.968750</td>\n",
       "      <td>1.654928</td>\n",
       "      <td>1.871970e+06</td>\n",
       "    </tr>\n",
       "    <tr>\n",
       "      <th>50%</th>\n",
       "      <td>23.551016</td>\n",
       "      <td>23.843750</td>\n",
       "      <td>23.270000</td>\n",
       "      <td>23.561329</td>\n",
       "      <td>13.260249</td>\n",
       "      <td>4.681896e+06</td>\n",
       "    </tr>\n",
       "    <tr>\n",
       "      <th>75%</th>\n",
       "      <td>57.560001</td>\n",
       "      <td>58.180000</td>\n",
       "      <td>56.963829</td>\n",
       "      <td>57.570000</td>\n",
       "      <td>42.334503</td>\n",
       "      <td>1.002374e+07</td>\n",
       "    </tr>\n",
       "    <tr>\n",
       "      <th>max</th>\n",
       "      <td>555.000000</td>\n",
       "      <td>558.099976</td>\n",
       "      <td>550.130005</td>\n",
       "      <td>555.150024</td>\n",
       "      <td>551.089966</td>\n",
       "      <td>7.421641e+09</td>\n",
       "    </tr>\n",
       "  </tbody>\n",
       "</table>\n",
       "</div>"
      ],
      "text/plain": [
       "                Open           High            Low          Close  \\\n",
       "count  355306.000000  355306.000000  355306.000000  355306.000000   \n",
       "mean       45.430173      46.105285      45.179803      45.652425   \n",
       "std        62.372632      62.828177      61.625461      62.239404   \n",
       "min         0.000000       0.015625       0.014404       0.015625   \n",
       "25%         4.062500       5.015625       4.906250       4.968750   \n",
       "50%        23.551016      23.843750      23.270000      23.561329   \n",
       "75%        57.560001      58.180000      56.963829      57.570000   \n",
       "max       555.000000     558.099976     550.130005     555.150024   \n",
       "\n",
       "           Adj Close        Volume  \n",
       "count  355306.000000  3.553060e+05  \n",
       "mean       36.172231  1.933918e+07  \n",
       "std        58.598272  8.165658e+07  \n",
       "min         0.008620  0.000000e+00  \n",
       "25%         1.654928  1.871970e+06  \n",
       "50%        13.260249  4.681896e+06  \n",
       "75%        42.334503  1.002374e+07  \n",
       "max       551.089966  7.421641e+09  "
      ]
     },
     "execution_count": 57,
     "metadata": {},
     "output_type": "execute_result"
    }
   ],
   "source": [
    "combined_df.describe()"
   ]
  },
  {
   "cell_type": "code",
   "execution_count": 58,
   "metadata": {},
   "outputs": [
    {
     "data": {
      "text/html": [
       "<div>\n",
       "<style scoped>\n",
       "    .dataframe tbody tr th:only-of-type {\n",
       "        vertical-align: middle;\n",
       "    }\n",
       "\n",
       "    .dataframe tbody tr th {\n",
       "        vertical-align: top;\n",
       "    }\n",
       "\n",
       "    .dataframe thead th {\n",
       "        text-align: right;\n",
       "    }\n",
       "</style>\n",
       "<table border=\"1\" class=\"dataframe\">\n",
       "  <thead>\n",
       "    <tr style=\"text-align: right;\">\n",
       "      <th></th>\n",
       "      <th>Date</th>\n",
       "      <th>Open</th>\n",
       "      <th>High</th>\n",
       "      <th>Low</th>\n",
       "      <th>Close</th>\n",
       "      <th>Adj Close</th>\n",
       "      <th>Volume</th>\n",
       "    </tr>\n",
       "  </thead>\n",
       "  <tbody>\n",
       "    <tr>\n",
       "      <th>0</th>\n",
       "      <td>1990-02-16</td>\n",
       "      <td>0.0</td>\n",
       "      <td>0.079861</td>\n",
       "      <td>0.073785</td>\n",
       "      <td>0.077257</td>\n",
       "      <td>0.052820</td>\n",
       "      <td>940636800</td>\n",
       "    </tr>\n",
       "    <tr>\n",
       "      <th>1</th>\n",
       "      <td>1990-02-20</td>\n",
       "      <td>0.0</td>\n",
       "      <td>0.079861</td>\n",
       "      <td>0.074653</td>\n",
       "      <td>0.079861</td>\n",
       "      <td>0.054600</td>\n",
       "      <td>151862400</td>\n",
       "    </tr>\n",
       "    <tr>\n",
       "      <th>2</th>\n",
       "      <td>1990-02-21</td>\n",
       "      <td>0.0</td>\n",
       "      <td>0.078993</td>\n",
       "      <td>0.075521</td>\n",
       "      <td>0.078125</td>\n",
       "      <td>0.053413</td>\n",
       "      <td>70531200</td>\n",
       "    </tr>\n",
       "    <tr>\n",
       "      <th>3</th>\n",
       "      <td>1990-02-22</td>\n",
       "      <td>0.0</td>\n",
       "      <td>0.081597</td>\n",
       "      <td>0.078993</td>\n",
       "      <td>0.078993</td>\n",
       "      <td>0.054007</td>\n",
       "      <td>45216000</td>\n",
       "    </tr>\n",
       "    <tr>\n",
       "      <th>4</th>\n",
       "      <td>1990-02-23</td>\n",
       "      <td>0.0</td>\n",
       "      <td>0.079861</td>\n",
       "      <td>0.078125</td>\n",
       "      <td>0.078559</td>\n",
       "      <td>0.053710</td>\n",
       "      <td>44697600</td>\n",
       "    </tr>\n",
       "    <tr>\n",
       "      <th>5</th>\n",
       "      <td>1990-02-26</td>\n",
       "      <td>0.0</td>\n",
       "      <td>0.079861</td>\n",
       "      <td>0.076389</td>\n",
       "      <td>0.076389</td>\n",
       "      <td>0.052226</td>\n",
       "      <td>26928000</td>\n",
       "    </tr>\n",
       "    <tr>\n",
       "      <th>6</th>\n",
       "      <td>1990-02-27</td>\n",
       "      <td>0.0</td>\n",
       "      <td>0.079427</td>\n",
       "      <td>0.076389</td>\n",
       "      <td>0.078125</td>\n",
       "      <td>0.053413</td>\n",
       "      <td>25574400</td>\n",
       "    </tr>\n",
       "    <tr>\n",
       "      <th>7</th>\n",
       "      <td>1990-02-28</td>\n",
       "      <td>0.0</td>\n",
       "      <td>0.082465</td>\n",
       "      <td>0.078125</td>\n",
       "      <td>0.080729</td>\n",
       "      <td>0.055194</td>\n",
       "      <td>67968000</td>\n",
       "    </tr>\n",
       "    <tr>\n",
       "      <th>8</th>\n",
       "      <td>1990-03-01</td>\n",
       "      <td>0.0</td>\n",
       "      <td>0.081597</td>\n",
       "      <td>0.079861</td>\n",
       "      <td>0.079861</td>\n",
       "      <td>0.054600</td>\n",
       "      <td>28425600</td>\n",
       "    </tr>\n",
       "    <tr>\n",
       "      <th>9</th>\n",
       "      <td>1990-03-02</td>\n",
       "      <td>0.0</td>\n",
       "      <td>0.081597</td>\n",
       "      <td>0.079861</td>\n",
       "      <td>0.080729</td>\n",
       "      <td>0.055194</td>\n",
       "      <td>8438400</td>\n",
       "    </tr>\n",
       "  </tbody>\n",
       "</table>\n",
       "</div>"
      ],
      "text/plain": [
       "         Date  Open      High       Low     Close  Adj Close     Volume\n",
       "0  1990-02-16   0.0  0.079861  0.073785  0.077257   0.052820  940636800\n",
       "1  1990-02-20   0.0  0.079861  0.074653  0.079861   0.054600  151862400\n",
       "2  1990-02-21   0.0  0.078993  0.075521  0.078125   0.053413   70531200\n",
       "3  1990-02-22   0.0  0.081597  0.078993  0.078993   0.054007   45216000\n",
       "4  1990-02-23   0.0  0.079861  0.078125  0.078559   0.053710   44697600\n",
       "5  1990-02-26   0.0  0.079861  0.076389  0.076389   0.052226   26928000\n",
       "6  1990-02-27   0.0  0.079427  0.076389  0.078125   0.053413   25574400\n",
       "7  1990-02-28   0.0  0.082465  0.078125  0.080729   0.055194   67968000\n",
       "8  1990-03-01   0.0  0.081597  0.079861  0.079861   0.054600   28425600\n",
       "9  1990-03-02   0.0  0.081597  0.079861  0.080729   0.055194    8438400"
      ]
     },
     "execution_count": 58,
     "metadata": {},
     "output_type": "execute_result"
    }
   ],
   "source": [
    "data = combined_df.copy()\n",
    "data.head(10)"
   ]
  },
  {
   "cell_type": "code",
   "execution_count": 59,
   "metadata": {},
   "outputs": [],
   "source": [
    "import matplotlib.pyplot as plt"
   ]
  },
  {
   "cell_type": "code",
   "execution_count": 60,
   "metadata": {},
   "outputs": [
    {
     "data": {
      "text/plain": [
       "[<matplotlib.lines.Line2D at 0x13606cbb0>]"
      ]
     },
     "execution_count": 60,
     "metadata": {},
     "output_type": "execute_result"
    },
    {
     "data": {
      "image/png": "[encoded data removed]",
      "text/plain": [
       "<Figure size 640x480 with 1 Axes>"
      ]
     },
     "metadata": {},
     "output_type": "display_data"
    }
   ],
   "source": [
    "plt.plot(data['Adj Close'])"
   ]
  },
  {
   "cell_type": "code",
   "execution_count": 61,
   "metadata": {},
   "outputs": [
    {
     "data": {
      "text/plain": [
       "Index(['Date', 'Open', 'High', 'Low', 'Close', 'Adj Close', 'Volume'], dtype='object')"
      ]
     },
     "execution_count": 61,
     "metadata": {},
     "output_type": "execute_result"
    }
   ],
   "source": [
    "data.columns"
   ]
  },
  {
   "cell_type": "code",
   "execution_count": 62,
   "metadata": {},
   "outputs": [
    {
     "data": {
      "text/plain": [
       "RangeIndex(start=0, stop=355306, step=1)"
      ]
     },
     "execution_count": 62,
     "metadata": {},
     "output_type": "execute_result"
    }
   ],
   "source": [
    "data.index"
   ]
  },
  {
   "cell_type": "code",
   "execution_count": null,
   "metadata": {},
   "outputs": [],
   "source": []
  }
 ],
 "metadata": {
  "kernelspec": {
   "display_name": "conda_env",
   "language": "python",
   "name": "python3"
  },
  "language_info": {
   "codemirror_mode": {
    "name": "ipython",
    "version": 3
   },
   "file_extension": ".py",
   "mimetype": "text/x-python",
   "name": "python",
   "nbconvert_exporter": "python",
   "pygments_lexer": "ipython3",
   "version": "3.9.15"
  }
 },
 "nbformat": 4,
 "nbformat_minor": 2
}
