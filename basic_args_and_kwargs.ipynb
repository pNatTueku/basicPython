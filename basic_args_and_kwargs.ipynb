{
 "cells": [
  {
   "cell_type": "markdown",
   "metadata": {},
   "source": [
    "### *args and **kwargs\n",
    "\n",
    "- They allow us to pass a vaible number of arguments to a function.\n",
    "    - *args handles positional arguments as tuple --> It allows use to pass a variable number of non-keyword arguments to a function. \n",
    "    - **kwargs manages keyword arguments as a dictionary. --> It allows us to pass a variable number of keyword arguments to a function.\n",
    "- They are power tolls that make our functions more flexible and adaptable  to different situations.\n",
    "- They make our code more dynamic and easier to work with."
   ]
  },
  {
   "cell_type": "code",
   "execution_count": 5,
   "metadata": {},
   "outputs": [],
   "source": [
    "# *args collects all non-keyword arguments passed to the function and stores them as a tiple\n",
    "\n",
    "def print_args(*args):\n",
    "\n",
    "    for arg in args: # args is a tuple\n",
    "        print(arg)"
   ]
  },
  {
   "cell_type": "code",
   "execution_count": 6,
   "metadata": {},
   "outputs": [
    {
     "name": "stdout",
     "output_type": "stream",
     "text": [
      "1 2 3\n"
     ]
    }
   ],
   "source": [
    "print(1, 2, 3)"
   ]
  },
  {
   "cell_type": "code",
   "execution_count": 7,
   "metadata": {},
   "outputs": [
    {
     "name": "stdout",
     "output_type": "stream",
     "text": [
      "1\n",
      "2\n",
      "3\n"
     ]
    }
   ],
   "source": [
    "print_args(1, 2, 3)"
   ]
  },
  {
   "cell_type": "code",
   "execution_count": 8,
   "metadata": {},
   "outputs": [
    {
     "name": "stdout",
     "output_type": "stream",
     "text": [
      "1\n",
      "2\n",
      "3\n",
      "4\n"
     ]
    }
   ],
   "source": [
    "print_args(1, 2, 3, 4) # Different number of arguments"
   ]
  },
  {
   "cell_type": "code",
   "execution_count": 9,
   "metadata": {},
   "outputs": [],
   "source": [
    "# **kwargs collects all keyword arguments passed to the function and stores them as a dictionary\n",
    "\n",
    "def print_kwargs(**kwargs):\n",
    "\n",
    "    for key, value in kwargs.items(): # kwargs is a dictionary\n",
    "        print(f\"{key}: {value}\")"
   ]
  },
  {
   "cell_type": "code",
   "execution_count": 10,
   "metadata": {},
   "outputs": [
    {
     "name": "stdout",
     "output_type": "stream",
     "text": [
      "a: 1\n",
      "b: 2\n",
      "c: 3\n"
     ]
    }
   ],
   "source": [
    "print_kwargs(a = 1, b = 2, c = 3)"
   ]
  },
  {
   "cell_type": "code",
   "execution_count": 11,
   "metadata": {},
   "outputs": [],
   "source": [
    "# We can use *args and **kwargs together in a function definition\n",
    "\n",
    "def print_args_kwargs(*args, **kwargs):\n",
    "\n",
    "    for arg in args:\n",
    "        print(f\"Non-keyword argument: {arg}\")\n",
    "\n",
    "    for key, value in kwargs.items():\n",
    "        print(f\"Keyword argument: {key} = {value}\")"
   ]
  },
  {
   "cell_type": "code",
   "execution_count": 12,
   "metadata": {},
   "outputs": [
    {
     "name": "stdout",
     "output_type": "stream",
     "text": [
      "Non-keyword argument: 1\n",
      "Non-keyword argument: 2\n",
      "Non-keyword argument: 3\n",
      "Keyword argument: a = 4\n",
      "Keyword argument: b = 5\n",
      "Keyword argument: c = 6\n"
     ]
    }
   ],
   "source": [
    "print_args_kwargs(1, 2, 3, a = 4, b = 5, c = 6)"
   ]
  },
  {
   "cell_type": "code",
   "execution_count": null,
   "metadata": {},
   "outputs": [],
   "source": [
    "# Please NOTE that the order of parameters in the function definition matter, the syntax for using *args and **kwargs is\n",
    "\n",
    "# correct_function_definition.py\n",
    "def my_function_correct(normal_args, *args, **kwargs):\n",
    "    pass\n",
    "\n",
    "# wrong_function_definition.py\n",
    "def my_function_wrong(normal_args, **kwargs, *args):\n",
    "    pass"
   ]
  }
 ],
 "metadata": {
  "kernelspec": {
   "display_name": "conda_env",
   "language": "python",
   "name": "python3"
  },
  "language_info": {
   "codemirror_mode": {
    "name": "ipython",
    "version": 3
   },
   "file_extension": ".py",
   "mimetype": "text/x-python",
   "name": "python",
   "nbconvert_exporter": "python",
   "pygments_lexer": "ipython3",
   "version": "3.9.15"
  }
 },
 "nbformat": 4,
 "nbformat_minor": 2
}
