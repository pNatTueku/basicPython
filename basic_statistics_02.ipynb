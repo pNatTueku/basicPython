{
 "cells": [
  {
   "cell_type": "markdown",
   "metadata": {},
   "source": [
    "### Let's learn the basic statistics"
   ]
  },
  {
   "cell_type": "code",
   "execution_count": 1,
   "metadata": {},
   "outputs": [],
   "source": [
    "# import a library\n",
    "\n",
    "import statistics"
   ]
  },
  {
   "cell_type": "code",
   "execution_count": 2,
   "metadata": {},
   "outputs": [
    {
     "data": {
      "text/plain": [
       "[1, 3, 5, 7, 9, 7, 11]"
      ]
     },
     "execution_count": 2,
     "metadata": {},
     "output_type": "execute_result"
    }
   ],
   "source": [
    "# create a list of data x1\n",
    "\n",
    "x1 = [1, 3, 5, 7, 9, 7, 11]\n",
    "x1"
   ]
  },
  {
   "cell_type": "code",
   "execution_count": null,
   "metadata": {},
   "outputs": [],
   "source": [
    "# create a list of data x2\n",
    "\n",
    "x2 = [2, 4, 6, 8, 7, 11, 11]"
   ]
  },
  {
   "cell_type": "code",
   "execution_count": null,
   "metadata": {},
   "outputs": [],
   "source": [
    "# calculate the statistics values\n",
    "\n",
    "mean_x1 = statistics.mean(x1)\n",
    "median_x1 = statistics.median(x1)\n",
    "std_x1 = statistics.stdev(x1)\n",
    "mode_x1 = statistics.mode(x1)\n",
    "variance_x1 = statistics.variance(x1)\n",
    "q1_x1 = statistics.quantiles(x1, n = 4)[0]\n",
    "q3_x1 = statistics.quantiles(x1, n = 4)[-1]\n",
    "corr_coeff_x1_x2 = statistics.correlation(x1, x2)"
   ]
  },
  {
   "cell_type": "code",
   "execution_count": null,
   "metadata": {},
   "outputs": [
    {
     "name": "stdout",
     "output_type": "stream",
     "text": [
      "Mean:  6.142857142857143\n",
      "Median:  7\n",
      "Standard Deviation:  3.4364987719368982\n",
      "Mode:  7\n",
      "Variance:  11.80952380952381\n",
      "First Quartile (Q1):  3.0\n",
      "Third Quartile (Q3):  9.0\n",
      "Correlation Coefficient:  0.8643805297377731\n"
     ]
    }
   ],
   "source": [
    "# print/show results\n",
    "\n",
    "print(\"Mean: \", mean_x1)\n",
    "print('Median: ', median_x1)\n",
    "print('Standard Deviation: ', std_x1)\n",
    "print('Mode: ', mode_x1)\n",
    "print(\"Variance: \", variance_x1)\n",
    "print(\"First Quartile (Q1): \", q1_x1)\n",
    "print(\"Third Quartile (Q3): \", q3_x1)\n",
    "print('Correlation Coefficient: ', corr_coeff_x1_x2)"
   ]
  },
  {
   "cell_type": "code",
   "execution_count": null,
   "metadata": {},
   "outputs": [],
   "source": []
  }
 ],
 "metadata": {
  "kernelspec": {
   "display_name": "Python 3",
   "language": "python",
   "name": "python3"
  },
  "language_info": {
   "codemirror_mode": {
    "name": "ipython",
    "version": 3
   },
   "file_extension": ".py",
   "mimetype": "text/x-python",
   "name": "python",
   "nbconvert_exporter": "python",
   "pygments_lexer": "ipython3",
   "version": "3.11.1"
  }
 },
 "nbformat": 4,
 "nbformat_minor": 2
}
