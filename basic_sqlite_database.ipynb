{
 "cells": [
  {
   "cell_type": "code",
   "execution_count": 1,
   "metadata": {},
   "outputs": [],
   "source": [
    "# import a library\n",
    "\n",
    "import sqlite3"
   ]
  },
  {
   "cell_type": "code",
   "execution_count": 2,
   "metadata": {},
   "outputs": [
    {
     "data": {
      "text/plain": [
       "<sqlite3.Cursor at 0x1084b83b0>"
      ]
     },
     "execution_count": 2,
     "metadata": {},
     "output_type": "execute_result"
    }
   ],
   "source": [
    "# create database\n",
    "\n",
    "conn = sqlite3.connect(\"people.db\") # create a connection to the database file.\n",
    "columns = [\n",
    "    \"id INTEGER PRIMARY KEY\",\n",
    "    \"lname VACHAR UNIQUE\",\n",
    "    \"fname VACHAR\",\n",
    "    \"timestamp DATETIME\"\n",
    "]\n",
    "\n",
    "create_table_cmd = f\"CREATE TABLE person ({','.join(columns)})\"\n",
    "conn.execute(create_table_cmd)"
   ]
  },
  {
   "cell_type": "code",
   "execution_count": 3,
   "metadata": {},
   "outputs": [],
   "source": [
    "# manual update data to  database\n",
    "\n",
    "conn = sqlite3.connect(\"people.db\")\n",
    "\n",
    "people = [\n",
    "    \"1, 'Mark', 'Tuan', '2023-10-08 05:11:10'\",\n",
    "    \"2, 'Jackson', 'Wang', '2023-10-08 05:11:13'\",\n",
    "    \"3, 'Michel', 'Jackson', '2023-10-08 05:11:27'\",\n",
    "]\n",
    "\n",
    "for person_data in people:\n",
    "    insert_cmd = f\"INSERT INTO person VALUES ({person_data})\"\n",
    "    conn.execute(insert_cmd)\n",
    "\n",
    "conn.commit()"
   ]
  },
  {
   "cell_type": "code",
   "execution_count": 4,
   "metadata": {},
   "outputs": [
    {
     "name": "stdout",
     "output_type": "stream",
     "text": [
      "(1, 'Mark', 'Tuan', '2023-10-08 05:11:10')\n",
      "(2, 'Jackson', 'Wang', '2023-10-08 05:11:13')\n",
      "(3, 'Michel', 'Jackson', '2023-10-08 05:11:27')\n"
     ]
    }
   ],
   "source": [
    "# read data from database\n",
    "\n",
    "conn = sqlite3.connect(\"people.db\") \n",
    "cur = conn.cursor() # create a cursor from the connection. \n",
    "cur.execute(\"SELECT * FROM person\") # use the cursor to execute a SQL query expressed as a string\n",
    "\n",
    "people = cur.fetchall() # get all the records returned by the SQL query and assigns them to the people variable.\n",
    "for person in people: # iterate over people and print out the data of each person.\n",
    "    print(person)"
   ]
  },
  {
   "cell_type": "code",
   "execution_count": null,
   "metadata": {},
   "outputs": [],
   "source": []
  }
 ],
 "metadata": {
  "kernelspec": {
   "display_name": "conda_env",
   "language": "python",
   "name": "python3"
  },
  "language_info": {
   "codemirror_mode": {
    "name": "ipython",
    "version": 3
   },
   "file_extension": ".py",
   "mimetype": "text/x-python",
   "name": "python",
   "nbconvert_exporter": "python",
   "pygments_lexer": "ipython3",
   "version": "3.9.15"
  },
  "orig_nbformat": 4
 },
 "nbformat": 4,
 "nbformat_minor": 2
}
