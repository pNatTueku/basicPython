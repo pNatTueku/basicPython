{
 "cells": [
  {
   "cell_type": "code",
   "execution_count": 3,
   "metadata": {},
   "outputs": [],
   "source": [
    "def sum_divided_by_sum(list_a, list_b):\n",
    "\n",
    "    sum_a = list_a[0]\n",
    "\n",
    "    for num in list_a[1:]:\n",
    "        sum_a += num\n",
    "\n",
    "    sum_b = list_b[0]\n",
    "\n",
    "    for num in list_b[1:]:\n",
    "        sum_b += num\n",
    "\n",
    "    return sum_a/sum_b"
   ]
  },
  {
   "cell_type": "code",
   "execution_count": 4,
   "metadata": {},
   "outputs": [],
   "source": [
    "assert sum_divided_by_sum([2],[2]) == 1.0\n",
    "assert sum_divided_by_sum([0], [1, 2, 3]) == 0.0\n",
    "assert sum_divided_by_sum([1, 2, 3], [1, 2, 3]) == 1.0"
   ]
  },
  {
   "cell_type": "code",
   "execution_count": 5,
   "metadata": {},
   "outputs": [
    {
     "ename": "IndexError",
     "evalue": "list index out of range",
     "output_type": "error",
     "traceback": [
      "\u001b[0;31m---------------------------------------------------------------------------\u001b[0m",
      "\u001b[0;31mIndexError\u001b[0m                                Traceback (most recent call last)",
      "Cell \u001b[0;32mIn[5], line 1\u001b[0m\n\u001b[0;32m----> 1\u001b[0m sum_divided_by_sum([], [\u001b[39m1\u001b[39;49m]) \u001b[39m# empty list\u001b[39;00m\n",
      "Cell \u001b[0;32mIn[3], line 3\u001b[0m, in \u001b[0;36msum_divided_by_sum\u001b[0;34m(list_a, list_b)\u001b[0m\n\u001b[1;32m      1\u001b[0m \u001b[39mdef\u001b[39;00m \u001b[39msum_divided_by_sum\u001b[39m(list_a, list_b):\n\u001b[0;32m----> 3\u001b[0m     sum_a \u001b[39m=\u001b[39m list_a[\u001b[39m0\u001b[39;49m]\n\u001b[1;32m      5\u001b[0m     \u001b[39mfor\u001b[39;00m num \u001b[39min\u001b[39;00m list_a[\u001b[39m1\u001b[39m:]:\n\u001b[1;32m      6\u001b[0m         sum_a \u001b[39m+\u001b[39m\u001b[39m=\u001b[39m num\n",
      "\u001b[0;31mIndexError\u001b[0m: list index out of range"
     ]
    }
   ],
   "source": [
    "sum_divided_by_sum([], [1]) # empty list"
   ]
  },
  {
   "cell_type": "code",
   "execution_count": 8,
   "metadata": {},
   "outputs": [
    {
     "data": {
      "text/plain": [
       "0"
      ]
     },
     "execution_count": 8,
     "metadata": {},
     "output_type": "execute_result"
    }
   ],
   "source": [
    "# above result should be zero but it show error\n",
    "# empty list is zero\n",
    "\n",
    "sum([])"
   ]
  },
  {
   "cell_type": "code",
   "execution_count": null,
   "metadata": {},
   "outputs": [],
   "source": []
  }
 ],
 "metadata": {
  "kernelspec": {
   "display_name": "Python 3",
   "language": "python",
   "name": "python3"
  },
  "language_info": {
   "codemirror_mode": {
    "name": "ipython",
    "version": 3
   },
   "file_extension": ".py",
   "mimetype": "text/x-python",
   "name": "python",
   "nbconvert_exporter": "python",
   "pygments_lexer": "ipython3",
   "version": "3.11.1"
  },
  "orig_nbformat": 4
 },
 "nbformat": 4,
 "nbformat_minor": 2
}
