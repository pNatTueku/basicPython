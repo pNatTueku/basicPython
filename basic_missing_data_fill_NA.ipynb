{
 "cells": [
  {
   "cell_type": "code",
   "execution_count": 1,
   "metadata": {},
   "outputs": [],
   "source": [
    "import pandas as pd"
   ]
  },
  {
   "cell_type": "code",
   "execution_count": 2,
   "metadata": {},
   "outputs": [
    {
     "data": {
      "text/html": [
       "<div>\n",
       "<style scoped>\n",
       "    .dataframe tbody tr th:only-of-type {\n",
       "        vertical-align: middle;\n",
       "    }\n",
       "\n",
       "    .dataframe tbody tr th {\n",
       "        vertical-align: top;\n",
       "    }\n",
       "\n",
       "    .dataframe thead th {\n",
       "        text-align: right;\n",
       "    }\n",
       "</style>\n",
       "<table border=\"1\" class=\"dataframe\">\n",
       "  <thead>\n",
       "    <tr style=\"text-align: right;\">\n",
       "      <th></th>\n",
       "      <th>Date</th>\n",
       "      <th>Open</th>\n",
       "      <th>High</th>\n",
       "      <th>Low</th>\n",
       "      <th>Close</th>\n",
       "      <th>Adj Close</th>\n",
       "      <th>Volume</th>\n",
       "    </tr>\n",
       "  </thead>\n",
       "  <tbody>\n",
       "    <tr>\n",
       "      <th>0</th>\n",
       "      <td>2000-01-04</td>\n",
       "      <td>44.599998</td>\n",
       "      <td>46.000000</td>\n",
       "      <td>43.000000</td>\n",
       "      <td>43.400002</td>\n",
       "      <td>11.032709</td>\n",
       "      <td>1039000</td>\n",
       "    </tr>\n",
       "    <tr>\n",
       "      <th>1</th>\n",
       "      <td>2000-01-05</td>\n",
       "      <td>38.200001</td>\n",
       "      <td>41.000000</td>\n",
       "      <td>38.000000</td>\n",
       "      <td>40.599998</td>\n",
       "      <td>10.320922</td>\n",
       "      <td>2624000</td>\n",
       "    </tr>\n",
       "    <tr>\n",
       "      <th>2</th>\n",
       "      <td>2000-01-06</td>\n",
       "      <td>41.000000</td>\n",
       "      <td>41.200001</td>\n",
       "      <td>38.400002</td>\n",
       "      <td>38.599998</td>\n",
       "      <td>9.812499</td>\n",
       "      <td>1341000</td>\n",
       "    </tr>\n",
       "    <tr>\n",
       "      <th>3</th>\n",
       "      <td>2000-01-07</td>\n",
       "      <td>38.599998</td>\n",
       "      <td>39.799999</td>\n",
       "      <td>38.000000</td>\n",
       "      <td>38.599998</td>\n",
       "      <td>9.812499</td>\n",
       "      <td>1164000</td>\n",
       "    </tr>\n",
       "    <tr>\n",
       "      <th>4</th>\n",
       "      <td>2000-01-10</td>\n",
       "      <td>39.799999</td>\n",
       "      <td>40.799999</td>\n",
       "      <td>39.599998</td>\n",
       "      <td>40.000000</td>\n",
       "      <td>10.168396</td>\n",
       "      <td>761000</td>\n",
       "    </tr>\n",
       "  </tbody>\n",
       "</table>\n",
       "</div>"
      ],
      "text/plain": [
       "         Date       Open       High        Low      Close  Adj Close   Volume\n",
       "0  2000-01-04  44.599998  46.000000  43.000000  43.400002  11.032709  1039000\n",
       "1  2000-01-05  38.200001  41.000000  38.000000  40.599998  10.320922  2624000\n",
       "2  2000-01-06  41.000000  41.200001  38.400002  38.599998   9.812499  1341000\n",
       "3  2000-01-07  38.599998  39.799999  38.000000  38.599998   9.812499  1164000\n",
       "4  2000-01-10  39.799999  40.799999  39.599998  40.000000  10.168396   761000"
      ]
     },
     "execution_count": 2,
     "metadata": {},
     "output_type": "execute_result"
    }
   ],
   "source": [
    "df = pd.read_csv('Data/SET50_download_r2/ADVANC.BK.csv')\n",
    "df.head()"
   ]
  },
  {
   "cell_type": "code",
   "execution_count": 3,
   "metadata": {},
   "outputs": [
    {
     "data": {
      "text/plain": [
       "(5994, 7)"
      ]
     },
     "execution_count": 3,
     "metadata": {},
     "output_type": "execute_result"
    }
   ],
   "source": [
    "df.shape"
   ]
  },
  {
   "cell_type": "code",
   "execution_count": 4,
   "metadata": {},
   "outputs": [
    {
     "name": "stdout",
     "output_type": "stream",
     "text": [
      "<class 'pandas.core.frame.DataFrame'>\n",
      "RangeIndex: 5994 entries, 0 to 5993\n",
      "Data columns (total 7 columns):\n",
      " #   Column     Non-Null Count  Dtype  \n",
      "---  ------     --------------  -----  \n",
      " 0   Date       5994 non-null   object \n",
      " 1   Open       5994 non-null   float64\n",
      " 2   High       5994 non-null   float64\n",
      " 3   Low        5994 non-null   float64\n",
      " 4   Close      5994 non-null   float64\n",
      " 5   Adj Close  5994 non-null   float64\n",
      " 6   Volume     5994 non-null   int64  \n",
      "dtypes: float64(5), int64(1), object(1)\n",
      "memory usage: 327.9+ KB\n"
     ]
    }
   ],
   "source": [
    "df.info()"
   ]
  },
  {
   "cell_type": "code",
   "execution_count": 5,
   "metadata": {},
   "outputs": [
    {
     "data": {
      "text/html": [
       "<div>\n",
       "<style scoped>\n",
       "    .dataframe tbody tr th:only-of-type {\n",
       "        vertical-align: middle;\n",
       "    }\n",
       "\n",
       "    .dataframe tbody tr th {\n",
       "        vertical-align: top;\n",
       "    }\n",
       "\n",
       "    .dataframe thead th {\n",
       "        text-align: right;\n",
       "    }\n",
       "</style>\n",
       "<table border=\"1\" class=\"dataframe\">\n",
       "  <thead>\n",
       "    <tr style=\"text-align: right;\">\n",
       "      <th></th>\n",
       "      <th>Date</th>\n",
       "      <th>Open</th>\n",
       "      <th>High</th>\n",
       "      <th>Low</th>\n",
       "      <th>Close</th>\n",
       "      <th>Adj Close</th>\n",
       "      <th>Volume</th>\n",
       "    </tr>\n",
       "  </thead>\n",
       "  <tbody>\n",
       "    <tr>\n",
       "      <th>0</th>\n",
       "      <td>2001-12-06</td>\n",
       "      <td>3.800</td>\n",
       "      <td>3.825</td>\n",
       "      <td>3.55</td>\n",
       "      <td>3.575</td>\n",
       "      <td>1.400592</td>\n",
       "      <td>1736808000</td>\n",
       "    </tr>\n",
       "    <tr>\n",
       "      <th>1</th>\n",
       "      <td>2001-12-07</td>\n",
       "      <td>3.625</td>\n",
       "      <td>3.625</td>\n",
       "      <td>3.55</td>\n",
       "      <td>3.550</td>\n",
       "      <td>1.390798</td>\n",
       "      <td>412533000</td>\n",
       "    </tr>\n",
       "    <tr>\n",
       "      <th>2</th>\n",
       "      <td>2001-12-10</td>\n",
       "      <td>3.550</td>\n",
       "      <td>3.550</td>\n",
       "      <td>3.55</td>\n",
       "      <td>3.550</td>\n",
       "      <td>1.390798</td>\n",
       "      <td>0</td>\n",
       "    </tr>\n",
       "    <tr>\n",
       "      <th>3</th>\n",
       "      <td>2001-12-11</td>\n",
       "      <td>3.550</td>\n",
       "      <td>3.550</td>\n",
       "      <td>3.40</td>\n",
       "      <td>3.400</td>\n",
       "      <td>1.332031</td>\n",
       "      <td>409158000</td>\n",
       "    </tr>\n",
       "    <tr>\n",
       "      <th>4</th>\n",
       "      <td>2001-12-12</td>\n",
       "      <td>3.425</td>\n",
       "      <td>3.525</td>\n",
       "      <td>3.40</td>\n",
       "      <td>3.500</td>\n",
       "      <td>1.371209</td>\n",
       "      <td>307291000</td>\n",
       "    </tr>\n",
       "  </tbody>\n",
       "</table>\n",
       "</div>"
      ],
      "text/plain": [
       "         Date   Open   High   Low  Close  Adj Close      Volume\n",
       "0  2001-12-06  3.800  3.825  3.55  3.575   1.400592  1736808000\n",
       "1  2001-12-07  3.625  3.625  3.55  3.550   1.390798   412533000\n",
       "2  2001-12-10  3.550  3.550  3.55  3.550   1.390798           0\n",
       "3  2001-12-11  3.550  3.550  3.40  3.400   1.332031   409158000\n",
       "4  2001-12-12  3.425  3.525  3.40  3.500   1.371209   307291000"
      ]
     },
     "execution_count": 5,
     "metadata": {},
     "output_type": "execute_result"
    }
   ],
   "source": [
    "df2 = pd.read_csv('Data/SET50_download_r2/PTT.BK.csv')\n",
    "df2.head()"
   ]
  },
  {
   "cell_type": "code",
   "execution_count": 6,
   "metadata": {},
   "outputs": [
    {
     "data": {
      "text/plain": [
       "(5492, 7)"
      ]
     },
     "execution_count": 6,
     "metadata": {},
     "output_type": "execute_result"
    }
   ],
   "source": [
    "df2.shape"
   ]
  },
  {
   "cell_type": "code",
   "execution_count": 7,
   "metadata": {},
   "outputs": [
    {
     "name": "stdout",
     "output_type": "stream",
     "text": [
      "<class 'pandas.core.frame.DataFrame'>\n",
      "RangeIndex: 5492 entries, 0 to 5491\n",
      "Data columns (total 7 columns):\n",
      " #   Column     Non-Null Count  Dtype  \n",
      "---  ------     --------------  -----  \n",
      " 0   Date       5492 non-null   object \n",
      " 1   Open       5492 non-null   float64\n",
      " 2   High       5492 non-null   float64\n",
      " 3   Low        5492 non-null   float64\n",
      " 4   Close      5492 non-null   float64\n",
      " 5   Adj Close  5492 non-null   float64\n",
      " 6   Volume     5492 non-null   int64  \n",
      "dtypes: float64(5), int64(1), object(1)\n",
      "memory usage: 300.5+ KB\n"
     ]
    }
   ],
   "source": [
    "df2.info()"
   ]
  },
  {
   "cell_type": "code",
   "execution_count": null,
   "metadata": {},
   "outputs": [],
   "source": []
  }
 ],
 "metadata": {
  "kernelspec": {
   "display_name": "conda_env",
   "language": "python",
   "name": "python3"
  },
  "language_info": {
   "codemirror_mode": {
    "name": "ipython",
    "version": 3
   },
   "file_extension": ".py",
   "mimetype": "text/x-python",
   "name": "python",
   "nbconvert_exporter": "python",
   "pygments_lexer": "ipython3",
   "version": "3.9.15"
  }
 },
 "nbformat": 4,
 "nbformat_minor": 2
}
