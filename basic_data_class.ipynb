{
 "cells": [
  {
   "cell_type": "markdown",
   "metadata": {},
   "source": [
    "### Data Class\n",
    "\n",
    "- It is introduced in Python 3.7.\n",
    "- It provides a con venient way to create classes that promarity store data\n",
    "- With minimal boilerplate code, data classes automatically generate special methods like \"__init__\", \"__repr__\", \"__eq__\" and etc.\n",
    "- It makes our code cleaner and more readable be reducing redundancy\n",
    "- It can be used to generate instances that are immutable which can help prevent bufs that instances remain consistent throughout their lifetime.\n",
    "- A special method \"__post_init__\" that is called after the instance has been initialized. It can be used to perform affitional setup or validation on the instance's attibutes.\n"
   ]
  },
  {
   "cell_type": "code",
   "execution_count": 1,
   "metadata": {},
   "outputs": [],
   "source": [
    "# Regular Class\n",
    "\n",
    "class Car:\n",
    "\n",
    "    def __init__(self, brand, model, year):\n",
    "        # all cars will have properties as following\n",
    "        self.brand = brand\n",
    "        self.model = model\n",
    "        self.year = year"
   ]
  },
  {
   "cell_type": "code",
   "execution_count": 2,
   "metadata": {},
   "outputs": [],
   "source": [
    "my_car1 = Car(\"Toyota\", 'Sienta', 2017)\n",
    "my_car2 = Car(model = 'Sienta', brand = \"Toyota\", year = 2017)\n",
    "my_car3 = Car(year = 2015, brand = \"Honda\", model = 'CRV')"
   ]
  },
  {
   "cell_type": "code",
   "execution_count": 3,
   "metadata": {},
   "outputs": [
    {
     "name": "stdout",
     "output_type": "stream",
     "text": [
      "<__main__.Car object at 0x1114dd340>\n"
     ]
    }
   ],
   "source": [
    "print(my_car1) # cannot print a human-readable format"
   ]
  },
  {
   "cell_type": "code",
   "execution_count": 4,
   "metadata": {},
   "outputs": [
    {
     "data": {
      "text/plain": [
       "(4585280320, 4585282960, 4585282624)"
      ]
     },
     "execution_count": 4,
     "metadata": {},
     "output_type": "execute_result"
    }
   ],
   "source": [
    "id(my_car1), id(my_car2), id(my_car3)"
   ]
  },
  {
   "cell_type": "code",
   "execution_count": 5,
   "metadata": {},
   "outputs": [
    {
     "data": {
      "text/plain": [
       "False"
      ]
     },
     "execution_count": 5,
     "metadata": {},
     "output_type": "execute_result"
    }
   ],
   "source": [
    "my_car1 == my_car2"
   ]
  },
  {
   "cell_type": "code",
   "execution_count": 6,
   "metadata": {},
   "outputs": [
    {
     "data": {
      "text/plain": [
       "False"
      ]
     },
     "execution_count": 6,
     "metadata": {},
     "output_type": "execute_result"
    }
   ],
   "source": [
    "my_car1 is my_car2"
   ]
  },
  {
   "cell_type": "code",
   "execution_count": 7,
   "metadata": {},
   "outputs": [],
   "source": [
    "# Let's see Data Class\n",
    "\n",
    "from dataclasses import dataclass"
   ]
  },
  {
   "cell_type": "code",
   "execution_count": 8,
   "metadata": {},
   "outputs": [],
   "source": [
    "@dataclass\n",
    "\n",
    "class Car:\n",
    "    brand: str\n",
    "    model: str\n",
    "    year: int"
   ]
  },
  {
   "cell_type": "code",
   "execution_count": 9,
   "metadata": {},
   "outputs": [],
   "source": [
    "my_car1 = Car(\"Toyota\", 'Sienta', 2017)\n",
    "my_car2 = Car(model = 'Sienta', brand = \"Toyota\", year = 2017)\n",
    "my_car3 = Car(year = 2015, brand = \"Honda\", model = 'CRV')"
   ]
  },
  {
   "cell_type": "code",
   "execution_count": 10,
   "metadata": {},
   "outputs": [
    {
     "name": "stdout",
     "output_type": "stream",
     "text": [
      "Car(brand='Toyota', model='Sienta', year=2017)\n"
     ]
    }
   ],
   "source": [
    "print(my_car1)"
   ]
  },
  {
   "cell_type": "code",
   "execution_count": 11,
   "metadata": {},
   "outputs": [
    {
     "data": {
      "text/plain": [
       "(4585240992, 4585242576, 4585241184)"
      ]
     },
     "execution_count": 11,
     "metadata": {},
     "output_type": "execute_result"
    }
   ],
   "source": [
    "id(my_car1), id(my_car2), id(my_car3)"
   ]
  },
  {
   "cell_type": "code",
   "execution_count": 12,
   "metadata": {},
   "outputs": [
    {
     "data": {
      "text/plain": [
       "True"
      ]
     },
     "execution_count": 12,
     "metadata": {},
     "output_type": "execute_result"
    }
   ],
   "source": [
    "my_car1 == my_car2"
   ]
  },
  {
   "cell_type": "code",
   "execution_count": 13,
   "metadata": {},
   "outputs": [
    {
     "data": {
      "text/plain": [
       "False"
      ]
     },
     "execution_count": 13,
     "metadata": {},
     "output_type": "execute_result"
    }
   ],
   "source": [
    "my_car1 is my_car2 # False bcs they are different objects in the memory which have different id"
   ]
  },
  {
   "cell_type": "code",
   "execution_count": 14,
   "metadata": {},
   "outputs": [],
   "source": [
    "# Ler's generate instances that are immutable \n",
    "\n",
    "from dataclasses import dataclass\n",
    "\n",
    "@dataclass(frozen = True)\n",
    "\n",
    "class Car:\n",
    "    brand: str\n",
    "    model: str\n",
    "    year: int"
   ]
  },
  {
   "cell_type": "code",
   "execution_count": 15,
   "metadata": {},
   "outputs": [],
   "source": [
    "my_car1 = Car(\"Toyota\", 'Sienta', 2017)"
   ]
  },
  {
   "cell_type": "code",
   "execution_count": 16,
   "metadata": {},
   "outputs": [
    {
     "data": {
      "text/plain": [
       "Car(brand='Toyota', model='Sienta', year=2017)"
      ]
     },
     "execution_count": 16,
     "metadata": {},
     "output_type": "execute_result"
    }
   ],
   "source": [
    "my_car1"
   ]
  },
  {
   "cell_type": "code",
   "execution_count": 17,
   "metadata": {},
   "outputs": [
    {
     "name": "stdout",
     "output_type": "stream",
     "text": [
      "Car(brand='Toyota', model='Sienta', year=2017)\n"
     ]
    }
   ],
   "source": [
    "print(my_car1)"
   ]
  },
  {
   "cell_type": "code",
   "execution_count": 18,
   "metadata": {},
   "outputs": [
    {
     "ename": "FrozenInstanceError",
     "evalue": "cannot assign to field 'brand'",
     "output_type": "error",
     "traceback": [
      "\u001b[0;31m---------------------------------------------------------------------------\u001b[0m",
      "\u001b[0;31mFrozenInstanceError\u001b[0m                       Traceback (most recent call last)",
      "Cell \u001b[0;32mIn[18], line 1\u001b[0m\n\u001b[0;32m----> 1\u001b[0m \u001b[43mmy_car1\u001b[49m\u001b[38;5;241;43m.\u001b[39;49m\u001b[43mbrand\u001b[49m \u001b[38;5;241m=\u001b[39m \u001b[38;5;124m\"\u001b[39m\u001b[38;5;124mHonda\u001b[39m\u001b[38;5;124m\"\u001b[39m\n",
      "File \u001b[0;32m<string>:4\u001b[0m, in \u001b[0;36m__setattr__\u001b[0;34m(self, name, value)\u001b[0m\n",
      "\u001b[0;31mFrozenInstanceError\u001b[0m: cannot assign to field 'brand'"
     ]
    }
   ],
   "source": [
    "my_car1.brand = \"Honda\" # We will see FrozenInstanceError: cannot assign to field 'brand'"
   ]
  },
  {
   "cell_type": "code",
   "execution_count": 21,
   "metadata": {},
   "outputs": [],
   "source": [
    "# Let's work on a special method \"__post_init__\n",
    "\n",
    "from dataclasses import dataclass, field\n",
    "\n",
    "@dataclass\n",
    "\n",
    "class Car:\n",
    "    brand: str\n",
    "    model: str\n",
    "    year: int\n",
    "    horsepower: int\n",
    "    weight: int\n",
    "    acceleration: int\n",
    "    mpg: float = field(init = False)\n",
    "\n",
    "    def __post_init__(self):\n",
    "        self.mpg = self.horsepower + self.weight + self.acceleration # mpg ~ horsepower + weight + acceleration\n",
    "    "
   ]
  },
  {
   "cell_type": "code",
   "execution_count": 27,
   "metadata": {},
   "outputs": [
    {
     "data": {
      "text/plain": [
       "Car(brand='Mazda', model='RX4', year=2000, horsepower=110, weight=2.62, acceleration=1, mpg=113.62)"
      ]
     },
     "execution_count": 27,
     "metadata": {},
     "output_type": "execute_result"
    }
   ],
   "source": [
    "car1 = Car(brand=\"Mazda\", model = \"RX4\", year = 2000, horsepower = 110, weight = 2.62, acceleration = 1)\n",
    "car1"
   ]
  },
  {
   "cell_type": "code",
   "execution_count": 28,
   "metadata": {},
   "outputs": [
    {
     "data": {
      "text/plain": [
       "113.62"
      ]
     },
     "execution_count": 28,
     "metadata": {},
     "output_type": "execute_result"
    }
   ],
   "source": [
    "car1.mpg"
   ]
  },
  {
   "cell_type": "code",
   "execution_count": null,
   "metadata": {},
   "outputs": [],
   "source": []
  }
 ],
 "metadata": {
  "kernelspec": {
   "display_name": "conda_env",
   "language": "python",
   "name": "python3"
  },
  "language_info": {
   "codemirror_mode": {
    "name": "ipython",
    "version": 3
   },
   "file_extension": ".py",
   "mimetype": "text/x-python",
   "name": "python",
   "nbconvert_exporter": "python",
   "pygments_lexer": "ipython3",
   "version": "3.9.15"
  }
 },
 "nbformat": 4,
 "nbformat_minor": 2
}
