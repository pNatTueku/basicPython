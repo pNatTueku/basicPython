{
 "cells": [
  {
   "cell_type": "markdown",
   "metadata": {},
   "source": [
    "### Water marking in Python\n",
    "\n",
    "- Learning from Python Coding @clcoding from X on 5-Sep-24"
   ]
  },
  {
   "cell_type": "code",
   "execution_count": 19,
   "metadata": {},
   "outputs": [],
   "source": [
    "from PIL import Image, ImageDraw, ImageFont\n",
    "import os"
   ]
  },
  {
   "cell_type": "code",
   "execution_count": 20,
   "metadata": {},
   "outputs": [],
   "source": [
    "def added_watermark(input_dir, output_dir, watermark_txt):\n",
    "\n",
    "    ori_img = Image.open(input_dir).convert(\"RGBA\")\n",
    "    txt = Image.new(\"RGBA\", ori_img.size, (255, 255, 255, 0))\n",
    "    font = ImageFont.truetype(\"arial.ttf\", 40)\n",
    "    draw = ImageDraw.Draw(txt)\n",
    "    width, hight = ori_img.size\n",
    "    txtbbox = draw.textbbox((0,0), watermark_txt, font = font)\n",
    "    txtwidth = txtbbox[2] - txtbbox[0]\n",
    "    txthight = txtbbox[3] - txtbbox[1]\n",
    "    position = (width - txtwidth - 10, hight - txthight - 10)\n",
    "    draw.text(position, watermark_txt, fill = (255, 255, 55, 128), font = font)\n",
    "    watermarked = Image.alpha_composite(ori_img, txt)\n",
    "    watermarked.show()\n",
    "    watermarked.convert(\"RGB\").save(output_dir, \"JPEG\")\n",
    "\n"
   ]
  },
  {
   "cell_type": "code",
   "execution_count": 21,
   "metadata": {},
   "outputs": [
    {
     "data": {
      "text/plain": [
       "['natty.jpeg']"
      ]
     },
     "execution_count": 21,
     "metadata": {},
     "output_type": "execute_result"
    }
   ],
   "source": [
    "input_dir = os.listdir(r'pics/')\n",
    "input_dir"
   ]
  },
  {
   "cell_type": "code",
   "execution_count": 22,
   "metadata": {},
   "outputs": [
    {
     "data": {
      "text/plain": [
       "['natty.jpeg']"
      ]
     },
     "execution_count": 22,
     "metadata": {},
     "output_type": "execute_result"
    }
   ],
   "source": [
    "output_dir = os.listdir(r'pics/')\n",
    "output_dir"
   ]
  }
 ],
 "metadata": {
  "kernelspec": {
   "display_name": "conda_env",
   "language": "python",
   "name": "python3"
  },
  "language_info": {
   "codemirror_mode": {
    "name": "ipython",
    "version": 3
   },
   "file_extension": ".py",
   "mimetype": "text/x-python",
   "name": "python",
   "nbconvert_exporter": "python",
   "pygments_lexer": "ipython3",
   "version": "3.9.15"
  }
 },
 "nbformat": 4,
 "nbformat_minor": 2
}
