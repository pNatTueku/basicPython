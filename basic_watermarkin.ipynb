{
 "cells": [
  {
   "cell_type": "markdown",
   "metadata": {},
   "source": [
    "### Water marking in Python\n",
    "\n",
    "- Learning from Python Coding @clcoding from X on 5-Sep-24"
   ]
  },
  {
   "cell_type": "code",
   "execution_count": 1,
   "metadata": {},
   "outputs": [],
   "source": [
    "from PIL import Image, ImageDraw, ImageFont"
   ]
  },
  {
   "cell_type": "code",
   "execution_count": null,
   "metadata": {},
   "outputs": [],
   "source": [
    "def added_watermark(input_dir, output_dir, watermark_txt):\n",
    "\n",
    "    ori_img = Image.open(input_dir).convert(\"RGBA\")\n",
    "    txt = Image.new(\"RGBA\", ori_img.size, (255, 255, 255, 0))\n",
    "    font = ImageFont.truetype(\"arial.ttf\", 40)\n",
    "    draw = ImageDraw.Draw(txt)\n",
    "    width, hight = ori_img.size"
   ]
  }
 ],
 "metadata": {
  "kernelspec": {
   "display_name": "conda_env",
   "language": "python",
   "name": "python3"
  },
  "language_info": {
   "codemirror_mode": {
    "name": "ipython",
    "version": 3
   },
   "file_extension": ".py",
   "mimetype": "text/x-python",
   "name": "python",
   "nbconvert_exporter": "python",
   "pygments_lexer": "ipython3",
   "version": "3.9.15"
  }
 },
 "nbformat": 4,
 "nbformat_minor": 2
}
