{
 "cells": [
  {
   "cell_type": "code",
   "execution_count": 1,
   "metadata": {},
   "outputs": [
    {
     "name": "stdout",
     "output_type": "stream",
     "text": [
      "Requirement already satisfied: nltk in /opt/homebrew/Caskroom/miniforge/base/envs/conda_env/lib/python3.9/site-packages (3.8.1)\n",
      "Requirement already satisfied: click in /opt/homebrew/Caskroom/miniforge/base/envs/conda_env/lib/python3.9/site-packages (from nltk) (8.1.3)\n",
      "Requirement already satisfied: joblib in /opt/homebrew/Caskroom/miniforge/base/envs/conda_env/lib/python3.9/site-packages (from nltk) (1.2.0)\n",
      "Requirement already satisfied: regex>=2021.8.3 in /opt/homebrew/Caskroom/miniforge/base/envs/conda_env/lib/python3.9/site-packages (from nltk) (2023.6.3)\n",
      "Requirement already satisfied: tqdm in /opt/homebrew/Caskroom/miniforge/base/envs/conda_env/lib/python3.9/site-packages (from nltk) (4.65.0)\n"
     ]
    }
   ],
   "source": [
    "# install a library\n",
    "\n",
    "# !pip install nltk"
   ]
  },
  {
   "cell_type": "code",
   "execution_count": 2,
   "metadata": {},
   "outputs": [],
   "source": [
    "# import a library\n",
    "\n",
    "import nltk"
   ]
  },
  {
   "cell_type": "code",
   "execution_count": 3,
   "metadata": {},
   "outputs": [
    {
     "name": "stdout",
     "output_type": "stream",
     "text": [
      "Grammar with 12 productions (start state = S)\n",
      "    S -> NP VP\n",
      "    NP -> D N\n",
      "    NP -> N\n",
      "    VP -> V\n",
      "    VP -> V NP\n",
      "    D -> 'the'\n",
      "    D -> 'a'\n",
      "    N -> 'she'\n",
      "    N -> 'cat'\n",
      "    N -> 'car'\n",
      "    V -> 'loves'\n",
      "    V -> 'drove'\n"
     ]
    }
   ],
   "source": [
    "grammar = nltk.CFG.fromstring(\"\"\"\n",
    "    S -> NP VP \n",
    "    \n",
    "    NP -> D N | N \n",
    "    VP -> V | V NP\n",
    "    \n",
    "    D -> 'the' | 'a'\n",
    "    N -> 'she' | 'cat' | 'car'\n",
    "    V -> 'loves' | 'drove'                          \n",
    "\"\"\")\n",
    "\n",
    "print(grammar)"
   ]
  },
  {
   "cell_type": "code",
   "execution_count": 4,
   "metadata": {},
   "outputs": [
    {
     "name": "stdout",
     "output_type": "stream",
     "text": [
      "<nltk.parse.chart.ChartParser object at 0x17751e250>\n"
     ]
    }
   ],
   "source": [
    "parser = nltk.ChartParser(grammar)\n",
    "\n",
    "print(parser)"
   ]
  },
  {
   "cell_type": "code",
   "execution_count": 5,
   "metadata": {},
   "outputs": [
    {
     "name": "stdout",
     "output_type": "stream",
     "text": [
      "      S          \n",
      "  ____|____       \n",
      " |         VP    \n",
      " |     ____|___   \n",
      " NP   |        NP\n",
      " |    |        |  \n",
      " N    V        N \n",
      " |    |        |  \n",
      "she loves     cat\n",
      "\n"
     ]
    }
   ],
   "source": [
    "# try with valid grammar - she loves cat\n",
    "\n",
    "sentense = input().split()\n",
    "\n",
    "for tree in parser.parse(sentense):\n",
    "    tree.pretty_print()"
   ]
  },
  {
   "cell_type": "code",
   "execution_count": 6,
   "metadata": {},
   "outputs": [
    {
     "name": "stdout",
     "output_type": "stream",
     "text": [
      "      S          \n",
      "  ____|____       \n",
      " |         VP    \n",
      " |     ____|___   \n",
      " NP   |        NP\n",
      " |    |        |  \n",
      " N    V        N \n",
      " |    |        |  \n",
      "she drove     car\n",
      "\n"
     ]
    }
   ],
   "source": [
    "# try with valid grammar - she drove car\n",
    "\n",
    "sentense = input().split()\n",
    "\n",
    "for tree in parser.parse(sentense):\n",
    "    tree.pretty_print()"
   ]
  },
  {
   "cell_type": "code",
   "execution_count": 7,
   "metadata": {},
   "outputs": [],
   "source": [
    "# try with invalid grammar - she cat\n",
    "\n",
    "sentense = input().split()\n",
    "\n",
    "for tree in parser.parse(sentense):\n",
    "    tree.pretty_print()"
   ]
  },
  {
   "cell_type": "code",
   "execution_count": null,
   "metadata": {},
   "outputs": [],
   "source": []
  }
 ],
 "metadata": {
  "kernelspec": {
   "display_name": "conda_env",
   "language": "python",
   "name": "python3"
  },
  "language_info": {
   "codemirror_mode": {
    "name": "ipython",
    "version": 3
   },
   "file_extension": ".py",
   "mimetype": "text/x-python",
   "name": "python",
   "nbconvert_exporter": "python",
   "pygments_lexer": "ipython3",
   "version": "3.9.15"
  },
  "orig_nbformat": 4
 },
 "nbformat": 4,
 "nbformat_minor": 2
}
