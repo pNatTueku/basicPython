{
 "cells": [
  {
   "attachments": {},
   "cell_type": "markdown",
   "metadata": {},
   "source": [
    "### Let's create a spreedsheet file"
   ]
  },
  {
   "cell_type": "code",
   "execution_count": 22,
   "metadata": {},
   "outputs": [],
   "source": [
    "# !pip install xlsxwriter"
   ]
  },
  {
   "cell_type": "code",
   "execution_count": 23,
   "metadata": {},
   "outputs": [],
   "source": [
    "# import a library\n",
    "\n",
    "import xlsxwriter"
   ]
  },
  {
   "cell_type": "code",
   "execution_count": 24,
   "metadata": {},
   "outputs": [],
   "source": [
    "workbook = xlsxwriter.Workbook('example_01.xlsx')"
   ]
  },
  {
   "cell_type": "code",
   "execution_count": 25,
   "metadata": {},
   "outputs": [],
   "source": [
    "worksheet = workbook.add_worksheet('My_data')"
   ]
  },
  {
   "cell_type": "code",
   "execution_count": 26,
   "metadata": {},
   "outputs": [],
   "source": [
    "# create a list of lists of data\n",
    "data = [\n",
    "    ['Natty', 1000],\n",
    "    ['Nueng', 2000],\n",
    "    ['JJ', 2500],\n",
    "    ['James', 1500]\n",
    "]"
   ]
  },
  {
   "cell_type": "code",
   "execution_count": 27,
   "metadata": {},
   "outputs": [],
   "source": [
    "row, col = 0,0"
   ]
  },
  {
   "cell_type": "code",
   "execution_count": 28,
   "metadata": {},
   "outputs": [],
   "source": [
    "for name, cost in data:\n",
    "    worksheet.write(row, col, name)\n",
    "    worksheet.write(row, col + 1, cost)\n",
    "    row += 1\n",
    "\n",
    "worksheet.write(row, 0, 'Total')\n",
    "worksheet.write(row, 1, '=SUM(B1:B4)')\n",
    "\n",
    "workbook.close()"
   ]
  },
  {
   "cell_type": "markdown",
   "metadata": {},
   "source": [
    "### Let's create a formatted spreedsheet file"
   ]
  },
  {
   "cell_type": "code",
   "execution_count": 29,
   "metadata": {},
   "outputs": [],
   "source": [
    "import xlsxwriter\n",
    "\n",
    "workbook = xlsxwriter.Workbook('example_02.xlsx')\n",
    "worksheet = workbook.add_worksheet('My_data')\n",
    "\n",
    "# create a list of lists of data\n",
    "data = [\n",
    "    ['Natty', 1000],\n",
    "    ['Nueng', 2000],\n",
    "    ['JJ', 2500],\n",
    "    ['James', 1500]\n",
    "]\n",
    "\n",
    "bold = workbook.add_format({'bold': True}) # here we have a dictionary\n",
    "money = workbook.add_format({'num_format': '$#,##0'})\n",
    "total = workbook.add_format({'bold': True, 'num_format': '$#,##0'})\n",
    "\n",
    "worksheet.write('A1', 'Name', bold)\n",
    "worksheet.write('B1', 'Debt', bold)\n",
    "\n",
    "row = 1\n",
    "col = 0\n",
    "\n",
    "for name, cost in data:\n",
    "    worksheet.write(row, col, name)\n",
    "    worksheet.write(row, col + 1, cost, money)\n",
    "    row += 1\n",
    "\n",
    "worksheet.write(row, 0, 'Total', bold)\n",
    "worksheet.write(row, 1, '=SUM(B1:B4)', total)\n",
    "\n",
    "workbook.close()"
   ]
  },
  {
   "cell_type": "code",
   "execution_count": null,
   "metadata": {},
   "outputs": [],
   "source": []
  }
 ],
 "metadata": {
  "kernelspec": {
   "display_name": "conda_env",
   "language": "python",
   "name": "python3"
  },
  "language_info": {
   "codemirror_mode": {
    "name": "ipython",
    "version": 3
   },
   "file_extension": ".py",
   "mimetype": "text/x-python",
   "name": "python",
   "nbconvert_exporter": "python",
   "pygments_lexer": "ipython3",
   "version": "3.9.15"
  },
  "orig_nbformat": 4
 },
 "nbformat": 4,
 "nbformat_minor": 2
}
