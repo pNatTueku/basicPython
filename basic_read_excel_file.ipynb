{
 "cells": [
  {
   "attachments": {},
   "cell_type": "markdown",
   "metadata": {},
   "source": [
    "### Let's create a spreedsheet file"
   ]
  },
  {
   "cell_type": "code",
   "execution_count": 22,
   "metadata": {},
   "outputs": [],
   "source": [
    "# !pip install xlsxwriter"
   ]
  },
  {
   "cell_type": "code",
   "execution_count": 23,
   "metadata": {},
   "outputs": [],
   "source": [
    "# import a library\n",
    "\n",
    "import xlsxwriter"
   ]
  },
  {
   "cell_type": "code",
   "execution_count": 24,
   "metadata": {},
   "outputs": [],
   "source": [
    "workbook = xlsxwriter.Workbook('example_01.xlsx')"
   ]
  },
  {
   "cell_type": "code",
   "execution_count": 25,
   "metadata": {},
   "outputs": [],
   "source": [
    "worksheet = workbook.add_worksheet('My_data')"
   ]
  },
  {
   "cell_type": "code",
   "execution_count": 26,
   "metadata": {},
   "outputs": [],
   "source": [
    "# create a list of lists of data\n",
    "data = [\n",
    "    ['Natty', 1000],\n",
    "    ['Nueng', 2000],\n",
    "    ['JJ', 2500],\n",
    "    ['James', 1500]\n",
    "]"
   ]
  },
  {
   "cell_type": "code",
   "execution_count": 27,
   "metadata": {},
   "outputs": [],
   "source": [
    "row, col = 0,0"
   ]
  },
  {
   "cell_type": "code",
   "execution_count": 28,
   "metadata": {},
   "outputs": [],
   "source": [
    "for name, cost in data:\n",
    "    worksheet.write(row, col, name)\n",
    "    worksheet.write(row, col + 1, cost)\n",
    "    row += 1\n",
    "\n",
    "worksheet.write(row, 0, 'Total')\n",
    "worksheet.write(row, 1, '=SUM(B1:B4)')\n",
    "\n",
    "workbook.close()"
   ]
  },
  {
   "cell_type": "markdown",
   "metadata": {},
   "source": [
    "### Let's create a formatted spreedsheet file"
   ]
  },
  {
   "cell_type": "code",
   "execution_count": 29,
   "metadata": {},
   "outputs": [],
   "source": [
    "import xlsxwriter\n",
    "\n",
    "workbook = xlsxwriter.Workbook('example_02.xlsx')\n",
    "worksheet = workbook.add_worksheet('My_data')\n",
    "\n",
    "# create a list of lists of data\n",
    "data = [\n",
    "    ['Natty', 1000],\n",
    "    ['Nueng', 2000],\n",
    "    ['JJ', 2500],\n",
    "    ['James', 1500]\n",
    "]\n",
    "\n",
    "bold = workbook.add_format({'bold': True}) # here we have a dictionary\n",
    "money = workbook.add_format({'num_format': '$#,##0'})\n",
    "total = workbook.add_format({'bold': True, 'num_format': '$#,##0'})\n",
    "\n",
    "worksheet.write('A1', 'Name', bold)\n",
    "worksheet.write('B1', 'Debt', bold)\n",
    "\n",
    "row = 1\n",
    "col = 0\n",
    "\n",
    "for name, cost in data:\n",
    "    worksheet.write(row, col, name)\n",
    "    worksheet.write(row, col + 1, cost, money)\n",
    "    row += 1\n",
    "\n",
    "worksheet.write(row, 0, 'Total', bold)\n",
    "worksheet.write(row, 1, '=SUM(B1:B4)', total)\n",
    "\n",
    "workbook.close()"
   ]
  },
  {
   "cell_type": "code",
   "execution_count": 31,
   "metadata": {},
   "outputs": [],
   "source": [
    "from datetime import datetime\n",
    "import xlsxwriter"
   ]
  },
  {
   "cell_type": "code",
   "execution_count": 32,
   "metadata": {},
   "outputs": [],
   "source": [
    "workbook = xlsxwriter.Workbook('example_03.xlsx')\n",
    "worksheet = workbook.add_worksheet('Data')"
   ]
  },
  {
   "cell_type": "code",
   "execution_count": 33,
   "metadata": {},
   "outputs": [],
   "source": [
    "# create a list of lists \n",
    "\n",
    "data = [\n",
    "    ['Panatda', '2023-03-31', 4000],\n",
    "    ['Panida', '2023-04-01', 5500]\n",
    "]"
   ]
  },
  {
   "cell_type": "code",
   "execution_count": 34,
   "metadata": {},
   "outputs": [],
   "source": [
    "# set the format\n",
    "\n",
    "bold = workbook.add_format({'bold': True})\n",
    "money = workbook.add_format({'num_format': '$#,##0'})\n",
    "total = workbook.add_format({'bold': True, 'num_format': '$#,##0'})\n",
    "date_format = workbook.add_format({'num_format': 'mmmm d yyyy'})"
   ]
  },
  {
   "cell_type": "code",
   "execution_count": 35,
   "metadata": {},
   "outputs": [
    {
     "data": {
      "text/plain": [
       "0"
      ]
     },
     "execution_count": 35,
     "metadata": {},
     "output_type": "execute_result"
    }
   ],
   "source": [
    "# set format to worksheet's cell\n",
    "\n",
    "worksheet.write('A1', 'Name', bold)\n",
    "worksheet.write('B1', 'Date', bold)\n",
    "worksheet.set_column('B:B', 15)\n",
    "worksheet.write('C1', 'Debt', bold)"
   ]
  },
  {
   "cell_type": "code",
   "execution_count": 36,
   "metadata": {},
   "outputs": [],
   "source": [
    "row = 1\n",
    "col = 0"
   ]
  },
  {
   "cell_type": "code",
   "execution_count": 37,
   "metadata": {},
   "outputs": [],
   "source": [
    "for name, date_str, cost in data:\n",
    "    date = datetime.strptime(date_str, '%Y-%m-%d') # convert date to datetime object\n",
    "\n",
    "    worksheet.write_string(row, col, name)\n",
    "    worksheet.write_datetime(row, col + 1, date, date_format) # tell excel how to present the date\n",
    "    worksheet.write_number(row, col + 2, cost, money)\n",
    "    row += 1\n",
    "\n",
    "worksheet.write(row, 0, 'Total', bold)\n",
    "worksheet.write(row, 2, '=SUM(C2:C3)', total)\n",
    "\n",
    "workbook.close()"
   ]
  },
  {
   "cell_type": "code",
   "execution_count": 40,
   "metadata": {},
   "outputs": [],
   "source": [
    "from datetime import datetime\n",
    "import xlsxwriter\n",
    "\n",
    "workbook = xlsxwriter.Workbook('example_04.xlsx')\n",
    "worksheet = workbook.add_worksheet('Data')\n",
    "\n",
    "# create a list of lists \n",
    "data = [\n",
    "    ['Panatda', '2023-03-31', 4000],\n",
    "    ['Panida', '2023-04-01', 5500],\n",
    "    ['Narongsak', '2023-04-02', 7500]\n",
    "]\n",
    "\n",
    "# set the format\n",
    "bold = workbook.add_format({'bold': True})\n",
    "money = workbook.add_format({'num_format': '$#,##0'})\n",
    "total = workbook.add_format({'bold': True, 'num_format': '$#,##0'})\n",
    "date_format = workbook.add_format({'num_format': 'mmmm d yyyy'})\n",
    "\n",
    "# set format to worksheet's cell\n",
    "worksheet.write('A1', 'Name', bold)\n",
    "worksheet.write('B1', 'Date', bold)\n",
    "worksheet.set_column('B:B', 15)\n",
    "worksheet.write('C1', 'Debt', bold)\n",
    "\n",
    "row, col = 1, 0\n",
    "\n",
    "# write data\n",
    "for name, date_str, cost in data:\n",
    "    date = datetime.strptime(date_str, '%Y-%m-%d') # convert date to datetime object\n",
    "\n",
    "    worksheet.write_string(row, col, name)\n",
    "    worksheet.write_datetime(row, col + 1, date, date_format) # tell excel how to present the date\n",
    "    worksheet.write_number(row, col + 2, cost, money)\n",
    "    row += 1\n",
    "\n",
    "worksheet.write(row, 0, 'Total', bold)\n",
    "worksheet.write(row, 2, '=SUM(C2:C4)', total)\n",
    "\n",
    "# create a chart\n",
    "chart1 = workbook.add_chart({'type': 'pie'}) # insert chart\n",
    "\n",
    "chart1.add_series({\n",
    "    'name':       'Debt',\n",
    "    'categories': ['Data', 1, 0, 3, 0], # Data is my sheet #1, row&col to start, row&col to end\n",
    "    'values':     ['Data', 1, 2, 3, 2],\n",
    "})\n",
    "\n",
    "chart1.set_title({'name': 'Debt'}) # set title\n",
    "chart1.set_style(10) # set style - colors with white outline and shadow\n",
    "worksheet.insert_chart('D2', chart1, {'x_offset': 25, 'y_offset': 10}) # insert chart to work sheet\n",
    "\n",
    "workbook.close()"
   ]
  },
  {
   "cell_type": "code",
   "execution_count": 42,
   "metadata": {},
   "outputs": [
    {
     "name": "stdout",
     "output_type": "stream",
     "text": [
      "Collecting openpyxl\n",
      "  Downloading openpyxl-3.1.2-py2.py3-none-any.whl (249 kB)\n",
      "\u001b[2K     \u001b[90m━━━━━━━━━━━━━━━━━━━━━━━━━━━━━━━━━━━━━━━\u001b[0m \u001b[32m250.0/250.0 kB\u001b[0m \u001b[31m1.6 MB/s\u001b[0m eta \u001b[36m0:00:00\u001b[0m00:01\u001b[0m00:01\u001b[0m\n",
      "\u001b[?25hCollecting et-xmlfile\n",
      "  Downloading et_xmlfile-1.1.0-py3-none-any.whl (4.7 kB)\n",
      "Installing collected packages: et-xmlfile, openpyxl\n",
      "Successfully installed et-xmlfile-1.1.0 openpyxl-3.1.2\n"
     ]
    }
   ],
   "source": [
    "# !pip install openpyxl"
   ]
  },
  {
   "cell_type": "code",
   "execution_count": 43,
   "metadata": {},
   "outputs": [],
   "source": [
    "# import library\n",
    "import openpyxl\n",
    "\n",
    "wb = openpyxl.load_workbook('example_03.xlsx') # load spreadsheet\n",
    "sheet = wb.active # read active sheet\n",
    "conv_content = list(sheet.values) # convert all content to a list"
   ]
  },
  {
   "cell_type": "code",
   "execution_count": 44,
   "metadata": {},
   "outputs": [
    {
     "data": {
      "text/plain": [
       "[('Name', 'Date', 'Debt'),\n",
       " ('Panatda', datetime.datetime(2023, 3, 31, 0, 0), 4000),\n",
       " ('Panida', datetime.datetime(2023, 4, 1, 0, 0), 5500),\n",
       " ('Total', None, '=SUM(C2:C3)')]"
      ]
     },
     "execution_count": 44,
     "metadata": {},
     "output_type": "execute_result"
    }
   ],
   "source": [
    "# show it\n",
    "conv_content"
   ]
  },
  {
   "cell_type": "code",
   "execution_count": 45,
   "metadata": {},
   "outputs": [
    {
     "data": {
      "text/plain": [
       "('Panatda', datetime.datetime(2023, 3, 31, 0, 0), 4000)"
      ]
     },
     "execution_count": 45,
     "metadata": {},
     "output_type": "execute_result"
    }
   ],
   "source": [
    "conv_content[1]"
   ]
  },
  {
   "cell_type": "code",
   "execution_count": 46,
   "metadata": {},
   "outputs": [
    {
     "data": {
      "text/plain": [
       "datetime.datetime(2023, 4, 1, 0, 0)"
      ]
     },
     "execution_count": 46,
     "metadata": {},
     "output_type": "execute_result"
    }
   ],
   "source": [
    "conv_content[2][1]"
   ]
  },
  {
   "cell_type": "code",
   "execution_count": 47,
   "metadata": {},
   "outputs": [
    {
     "data": {
      "text/plain": [
       "'=SUM(C2:C3)'"
      ]
     },
     "execution_count": 47,
     "metadata": {},
     "output_type": "execute_result"
    }
   ],
   "source": [
    "conv_content[3][2]"
   ]
  },
  {
   "cell_type": "code",
   "execution_count": null,
   "metadata": {},
   "outputs": [],
   "source": []
  }
 ],
 "metadata": {
  "kernelspec": {
   "display_name": "conda_env",
   "language": "python",
   "name": "python3"
  },
  "language_info": {
   "codemirror_mode": {
    "name": "ipython",
    "version": 3
   },
   "file_extension": ".py",
   "mimetype": "text/x-python",
   "name": "python",
   "nbconvert_exporter": "python",
   "pygments_lexer": "ipython3",
   "version": "3.9.15"
  },
  "orig_nbformat": 4,
  "vscode": {
   "interpreter": {
    "hash": "d19fa70d25f5c0ea1da134813c129f7ec3e6bc45d897e9ed5d7d1912ac335777"
   }
  }
 },
 "nbformat": 4,
 "nbformat_minor": 2
}
