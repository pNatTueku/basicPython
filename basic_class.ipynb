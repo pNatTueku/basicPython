{
 "cells": [
  {
   "cell_type": "markdown",
   "metadata": {},
   "source": [
    "### Class\n",
    "\n",
    "- It is a regular class."
   ]
  },
  {
   "cell_type": "code",
   "execution_count": 11,
   "metadata": {},
   "outputs": [
    {
     "name": "stdout",
     "output_type": "stream",
     "text": [
      "3\n",
      "4\n"
     ]
    }
   ],
   "source": [
    "class Coordinate():\n",
    "\n",
    "    def __init__(self, input1, input2): # self represents the coordinate itself\n",
    "        self.x = input1\n",
    "        self.y = input2\n",
    "\n",
    "c = Coordinate(3, 4)\n",
    "print(c.x)\n",
    "print(c.y)"
   ]
  },
  {
   "cell_type": "code",
   "execution_count": 12,
   "metadata": {},
   "outputs": [],
   "source": [
    "# hotel room\n",
    "\n",
    "class Hotel_booking():\n",
    "\n",
    "    def __init__(self, num_of_room):\n",
    "        self.num_of_room = num_of_room\n",
    "        self.booking = []\n",
    "\n",
    "    # add name who is booking\n",
    "    def add_customer(self, name):\n",
    "        if not self.open_rooms():\n",
    "            return False\n",
    "        self.booking.append(name)\n",
    "        return True # means that everything is OK\n",
    "\n",
    "    # check the number of open rooms\n",
    "    def open_rooms(self):\n",
    "        return self.num_of_room - len(self.booking)"
   ]
  },
  {
   "cell_type": "code",
   "execution_count": 13,
   "metadata": {},
   "outputs": [
    {
     "name": "stdout",
     "output_type": "stream",
     "text": [
      "Add BamBam to the hotel booking successfully\n",
      "Add Jackson to the hotel booking successfully\n",
      "Add Mark to the hotel booking successfully\n",
      "Add Jinyoung to the hotel booking successfully\n",
      "No available rooms for Youngjae\n",
      "No available rooms for Yugyeom\n",
      "No available rooms for  Jay B\n"
     ]
    }
   ],
   "source": [
    "hotel_booking = Hotel_booking(4)\n",
    "customer = [\"BamBam\", \"Jackson\", \"Mark\", \"Jinyoung\", \"Youngjae\", \"Yugyeom\", \" Jay B\"]\n",
    "\n",
    "for name in customer:\n",
    "    success_booking = hotel_booking.add_customer(name)\n",
    "\n",
    "    if success_booking:\n",
    "        print(f\"Add {name} to the hotel booking successfully\")\n",
    "    else:\n",
    "        print(f\"No available rooms for {name}\")\n"
   ]
  },
  {
   "cell_type": "code",
   "execution_count": null,
   "metadata": {},
   "outputs": [],
   "source": []
  }
 ],
 "metadata": {
  "kernelspec": {
   "display_name": "Python 3",
   "language": "python",
   "name": "python3"
  },
  "language_info": {
   "codemirror_mode": {
    "name": "ipython",
    "version": 3
   },
   "file_extension": ".py",
   "mimetype": "text/x-python",
   "name": "python",
   "nbconvert_exporter": "python",
   "pygments_lexer": "ipython3",
   "version": "3.11.1"
  },
  "orig_nbformat": 4,
  "vscode": {
   "interpreter": {
    "hash": "87a1d552f91eeb558c0ccd448f410e247f4277ae8c89a1716b4b50ef0e37ae74"
   }
  }
 },
 "nbformat": 4,
 "nbformat_minor": 2
}
