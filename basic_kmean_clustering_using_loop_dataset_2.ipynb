{
 "cells": [
  {
   "cell_type": "code",
   "execution_count": null,
   "metadata": {},
   "outputs": [],
   "source": [
    "import pandas as pd \n",
    "import numpy as np \n",
    "import matplotlib.pyplot as plt"
   ]
  },
  {
   "cell_type": "code",
   "execution_count": null,
   "metadata": {},
   "outputs": [],
   "source": [
    "data = pd.read_csv('iris.csv')\n",
    "data.head()"
   ]
  },
  {
   "cell_type": "code",
   "execution_count": null,
   "metadata": {},
   "outputs": [],
   "source": [
    "data.shape"
   ]
  },
  {
   "cell_type": "code",
   "execution_count": null,
   "metadata": {},
   "outputs": [],
   "source": [
    "data.info()"
   ]
  },
  {
   "cell_type": "code",
   "execution_count": null,
   "metadata": {},
   "outputs": [],
   "source": [
    "plt.figure(figsize = (8, 6))\n",
    "\n",
    "plt.scatter(data['SepalLengthCm'], data['SepalWidthCm'], color = 'green')\n",
    "plt.xlabel('SepalLengthCm')\n",
    "plt.ylabel('SepalWidthCm')\n",
    "plt.title('Sepal Length and Width (cm)')"
   ]
  },
  {
   "cell_type": "code",
   "execution_count": null,
   "metadata": {},
   "outputs": [],
   "source": [
    "plt.figure(figsize = (8, 6))\n",
    "\n",
    "plt.scatter(data['PetalLengthCm'], data['PetalWidthCm'], color = 'green')\n",
    "plt.xlabel('PetalLengthCm')\n",
    "plt.ylabel('PetalalWidthCm')\n",
    "plt.title('Petal Length and Width (cm)')"
   ]
  },
  {
   "cell_type": "code",
   "execution_count": null,
   "metadata": {},
   "outputs": [],
   "source": [
    "data.columns"
   ]
  },
  {
   "cell_type": "code",
   "execution_count": null,
   "metadata": {},
   "outputs": [],
   "source": [
    "data = data.drop(columns= ['Id', 'PetalLengthCm', 'PetalWidthCm','Species'])\n",
    "data"
   ]
  },
  {
   "cell_type": "code",
   "execution_count": null,
   "metadata": {},
   "outputs": [],
   "source": [
    "# prepare a function for distance between 2 points\n",
    "\n",
    "def distance_fn(a, b, ax = 1):\n",
    "    return np.linalg.norm(a-b, axis = ax) # Euclidean distance"
   ]
  },
  {
   "cell_type": "markdown",
   "metadata": {},
   "source": [
    "### Round 1"
   ]
  },
  {
   "cell_type": "code",
   "execution_count": null,
   "metadata": {},
   "outputs": [],
   "source": [
    "K = 3 # there are 3 groups\n",
    "data = np.array(data)\n",
    "data"
   ]
  },
  {
   "cell_type": "code",
   "execution_count": null,
   "metadata": {},
   "outputs": [],
   "source": [
    "C_x = np.random.randint(np.min(data[:, 0]), np.max(data[:, 0]), size = K)\n",
    "C_x"
   ]
  },
  {
   "cell_type": "code",
   "execution_count": null,
   "metadata": {},
   "outputs": [],
   "source": [
    "C_y = np.random.randint(np.min(data[:, 1]), np.max(data[:, 1]), size = K)\n",
    "C_y"
   ]
  },
  {
   "cell_type": "code",
   "execution_count": null,
   "metadata": {},
   "outputs": [],
   "source": [
    "# Centriods\n",
    "\n",
    "C = np.zeros((3, 2))\n",
    "C"
   ]
  },
  {
   "cell_type": "code",
   "execution_count": null,
   "metadata": {},
   "outputs": [],
   "source": [
    "C_old = np.zeros(C.shape)\n",
    "C_old"
   ]
  },
  {
   "cell_type": "code",
   "execution_count": null,
   "metadata": {},
   "outputs": [],
   "source": [
    "C[:, 0] = C_x \n",
    "C[:, 1] = C_y \n",
    "C"
   ]
  },
  {
   "cell_type": "markdown",
   "metadata": {},
   "source": [
    "### 2. Assign each data point to a specific cluster "
   ]
  },
  {
   "cell_type": "code",
   "execution_count": null,
   "metadata": {},
   "outputs": [],
   "source": [
    "cluster_label = np.zeros((len(data)))\n",
    "cluster_label"
   ]
  },
  {
   "cell_type": "code",
   "execution_count": null,
   "metadata": {},
   "outputs": [],
   "source": [
    "for i in range(len(data)): # run 150 rounds\n",
    "    distance = distance_fn(data[i, :], C)\n",
    "    cluster = np.argmin(distance) # for the shortest distance\n",
    "    cluster_label[i] = cluster"
   ]
  },
  {
   "cell_type": "code",
   "execution_count": null,
   "metadata": {},
   "outputs": [],
   "source": [
    "(cluster_label == 0).sum()"
   ]
  },
  {
   "cell_type": "markdown",
   "metadata": {},
   "source": [
    "### 3. Recalculate the new Contriods"
   ]
  },
  {
   "cell_type": "code",
   "execution_count": null,
   "metadata": {},
   "outputs": [],
   "source": [
    "C_old = C.copy()\n",
    "C_old"
   ]
  },
  {
   "cell_type": "code",
   "execution_count": null,
   "metadata": {},
   "outputs": [],
   "source": [
    "for i in range(K):\n",
    "    pints = [] # empty list\n",
    "    points = np.array([data[j] for j in range(len(data)) if cluster_label[j] == i])\n",
    "    C[i] = np.mean(points, axis = 0) # calculate mean and keep in C for each group (i)"
   ]
  },
  {
   "cell_type": "markdown",
   "metadata": {},
   "source": [
    "### Check if centriods have changed, repeat step 2 and 3"
   ]
  },
  {
   "cell_type": "code",
   "execution_count": null,
   "metadata": {},
   "outputs": [],
   "source": [
    "# calculate error\n",
    "\n",
    "error = distance_fn(C, C_old, None)\n",
    "error"
   ]
  },
  {
   "cell_type": "markdown",
   "metadata": {},
   "source": [
    "# create code to do looping to work as above steps"
   ]
  },
  {
   "cell_type": "code",
   "execution_count": null,
   "metadata": {},
   "outputs": [],
   "source": [
    "def plotCluster(data, C, cluster_label):\n",
    "\n",
    "    colors = ['green', 'blue', 'orange', 'red', 'yellow', 'pink', 'purple', 'salmon']\n",
    "\n",
    "    plt.figure(figsize = (8, 6))\n",
    "\n",
    "    for i in range(K):\n",
    "        points = [] # empty list\n",
    "        points = np.array([data[j] for j in range(len(data)) if cluster_label[j] == i])\n",
    "        plt.scatter(points[:, 0], points[:, 1], s = 7, c = colors[i])\n",
    "        \n",
    "    plt.scatter(C[:, 0], C[:, 1], marker = '*', color = 'black', s = 200)\n",
    "\n",
    "    plt.xlabel('PetalLengthCm')\n",
    "    plt.ylabel('PetalalWidthCm')\n",
    "    plt.title('Cluster')"
   ]
  },
  {
   "cell_type": "code",
   "execution_count": null,
   "metadata": {},
   "outputs": [],
   "source": [
    "while error != 0: # will stop when error = 0\n",
    "    \n",
    "    cluster_label = np.zeros((len(data), 1))\n",
    "    \n",
    "    for i in range(len(data)):\n",
    "        distance = distance_fn(data[i, :], C)\n",
    "        cluster = np.argmin(distance)\n",
    "        cluster_label[i] = cluster\n",
    "    \n",
    "    C_old = C.copy()\n",
    "    \n",
    "    for i in range(K):\n",
    "        points = []\n",
    "        points = np.array([data[j] for j in range(len(data)) if cluster_label[j] == i])\n",
    "        C[i] = np.mean(points, axis=0)\n",
    "        \n",
    "    plotCluster(data, C, cluster_label.copy())\n",
    "    \n",
    "    error = distance_fn(C, C_old, None)\n",
    "    print(error)\n"
   ]
  },
  {
   "cell_type": "code",
   "execution_count": null,
   "metadata": {},
   "outputs": [],
   "source": []
  }
 ],
 "metadata": {
  "kernelspec": {
   "display_name": "conda_env",
   "language": "python",
   "name": "python3"
  },
  "language_info": {
   "codemirror_mode": {
    "name": "ipython",
    "version": 3
   },
   "file_extension": ".py",
   "mimetype": "text/x-python",
   "name": "python",
   "nbconvert_exporter": "python",
   "pygments_lexer": "ipython3",
   "version": "3.9.15"
  }
 },
 "nbformat": 4,
 "nbformat_minor": 2
}
