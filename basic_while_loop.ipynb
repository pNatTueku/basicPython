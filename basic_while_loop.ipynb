{
 "cells": [
  {
   "cell_type": "markdown",
   "metadata": {},
   "source": [
    "### While\n",
    "\n",
    "- It works if True\n",
    "- It works until hit the condition"
   ]
  },
  {
   "cell_type": "code",
   "execution_count": 1,
   "metadata": {},
   "outputs": [
    {
     "name": "stdout",
     "output_type": "stream",
     "text": [
      "0\n",
      "1\n",
      "2\n",
      "3\n",
      "4\n"
     ]
    }
   ],
   "source": [
    "# as we don't know the end of loop so we use the while loop - iterate as long as something is TRUE\n",
    "\n",
    "i = 0\n",
    "\n",
    "while i < 5: # will exit if i less than 5\n",
    "    print(i)\n",
    "\n",
    "    i = i + 1\n",
    "\n",
    "i = None"
   ]
  },
  {
   "cell_type": "code",
   "execution_count": 2,
   "metadata": {},
   "outputs": [
    {
     "name": "stdout",
     "output_type": "stream",
     "text": [
      "20\n"
     ]
    }
   ],
   "source": [
    "# end and show the input if we get the input from user\n",
    "\n",
    "user_input = ''\n",
    "\n",
    "while user_input == '':\n",
    "\n",
    "    user_input = input('Pls write your input: ')\n",
    "\n",
    "print(user_input)"
   ]
  },
  {
   "cell_type": "code",
   "execution_count": 3,
   "metadata": {},
   "outputs": [
    {
     "name": "stdout",
     "output_type": "stream",
     "text": [
      "no\n"
     ]
    }
   ],
   "source": [
    "# end and show the input if we get the input from user is not in our condition\n",
    "\n",
    "user_input = ''\n",
    "\n",
    "while user_input not in ['yes', 'no', 'ok']:\n",
    "\n",
    "    user_input = input('Pls write your input (yes/no/ok): ')\n",
    "\n",
    "print(user_input)"
   ]
  },
  {
   "cell_type": "code",
   "execution_count": 4,
   "metadata": {},
   "outputs": [
    {
     "name": "stdout",
     "output_type": "stream",
     "text": [
      "Welcome to our while loop\n",
      "Welcome to our while loop\n",
      "Welcome to our while loop\n",
      "OK! goodbye\n"
     ]
    }
   ],
   "source": [
    "# apply break to our while loop\n",
    "\n",
    "while True:\n",
    "\n",
    "    print('Welcome to our while loop')\n",
    "    user_answer = input('Do you want to continue? Please answer yes or no: ')\n",
    "\n",
    "    if user_answer == 'no':\n",
    "\n",
    "        print('OK! goodbye')\n",
    "        break"
   ]
  },
  {
   "cell_type": "code",
   "execution_count": 5,
   "metadata": {},
   "outputs": [
    {
     "name": "stdout",
     "output_type": "stream",
     "text": [
      "[1, 2, 3, 4, 5]\n"
     ]
    }
   ],
   "source": [
    "myList = [1, 2, 3, 4]\n",
    "a = 5\n",
    "idx = 0\n",
    "\n",
    "while idx < len(myList):\n",
    "    \n",
    "    if myList[idx] == a:\n",
    "        break\n",
    "    idx += 1\n",
    "\n",
    "else:\n",
    "    myList.append(a)\n",
    "\n",
    "print(myList)"
   ]
  },
  {
   "cell_type": "code",
   "execution_count": 6,
   "metadata": {},
   "outputs": [
    {
     "name": "stdout",
     "output_type": "stream",
     "text": [
      "1\n",
      "3\n",
      "5\n",
      "7\n",
      "9\n"
     ]
    }
   ],
   "source": [
    "# continue\n",
    "\n",
    "a = 0\n",
    "\n",
    "while a < 10:\n",
    "\n",
    "    a = a + 1\n",
    "    if a%2 == 0: \n",
    "        continue\n",
    "    print(a)"
   ]
  },
  {
   "cell_type": "code",
   "execution_count": 9,
   "metadata": {},
   "outputs": [
    {
     "name": "stdout",
     "output_type": "stream",
     "text": [
      "Choice 1: Show content\n",
      "Choice 2: Quit\n",
      "I am not understand\n",
      "Choice 1: Show content\n",
      "Choice 2: Quit\n",
      "Choice 1: Show content\n",
      "Choice 2: Quit\n",
      "Choice 1: Show content\n",
      "Choice 2: Quit\n"
     ]
    }
   ],
   "source": [
    "# pass\n",
    "\n",
    "while True:\n",
    "\n",
    "    print('Choice 1: Show content')\n",
    "    print('Choice 2: Quit')\n",
    "\n",
    "    choice = input('Pls choose your choice')\n",
    "\n",
    "    if choice == '1': \n",
    "        pass\n",
    "    elif choice == '2':\n",
    "        break\n",
    "    else:\n",
    "        print('I am not understand')\n",
    "\n",
    "\n",
    "    "
   ]
  },
  {
   "cell_type": "code",
   "execution_count": null,
   "metadata": {},
   "outputs": [],
   "source": []
  }
 ],
 "metadata": {
  "kernelspec": {
   "display_name": "Python 3",
   "language": "python",
   "name": "python3"
  },
  "language_info": {
   "codemirror_mode": {
    "name": "ipython",
    "version": 3
   },
   "file_extension": ".py",
   "mimetype": "text/x-python",
   "name": "python",
   "nbconvert_exporter": "python",
   "pygments_lexer": "ipython3",
   "version": "3.11.1"
  },
  "orig_nbformat": 4,
  "vscode": {
   "interpreter": {
    "hash": "87a1d552f91eeb558c0ccd448f410e247f4277ae8c89a1716b4b50ef0e37ae74"
   }
  }
 },
 "nbformat": 4,
 "nbformat_minor": 2
}
