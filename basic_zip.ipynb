{
 "cells": [
  {
   "cell_type": "code",
   "execution_count": 2,
   "metadata": {},
   "outputs": [
    {
     "data": {
      "text/plain": [
       "'I am in the process becoming a better me'"
      ]
     },
     "execution_count": 2,
     "metadata": {},
     "output_type": "execute_result"
    }
   ],
   "source": [
    "text1 = \"I am in the process becoming a better me\"\n",
    "text1"
   ]
  },
  {
   "cell_type": "code",
   "execution_count": 3,
   "metadata": {},
   "outputs": [
    {
     "name": "stdout",
     "output_type": "stream",
     "text": [
      "0 I\n",
      "1  \n",
      "2 a\n",
      "3 m\n",
      "4  \n",
      "5 i\n",
      "6 n\n",
      "7  \n",
      "8 t\n",
      "9 h\n",
      "10 e\n",
      "11  \n",
      "12 p\n",
      "13 r\n",
      "14 o\n",
      "15 c\n",
      "16 e\n",
      "17 s\n",
      "18 s\n",
      "19  \n",
      "20 b\n",
      "21 e\n",
      "22 c\n",
      "23 o\n",
      "24 m\n",
      "25 i\n",
      "26 n\n",
      "27 g\n",
      "28  \n",
      "29 a\n",
      "30  \n",
      "31 b\n",
      "32 e\n",
      "33 t\n",
      "34 t\n",
      "35 e\n",
      "36 r\n",
      "37  \n",
      "38 m\n",
      "39 e\n"
     ]
    }
   ],
   "source": [
    "for idx, txt in enumerate(text1):\n",
    "    print(idx, txt)"
   ]
  },
  {
   "cell_type": "code",
   "execution_count": 4,
   "metadata": {},
   "outputs": [
    {
     "data": {
      "text/plain": [
       "'Hello World!'"
      ]
     },
     "execution_count": 4,
     "metadata": {},
     "output_type": "execute_result"
    }
   ],
   "source": [
    "text2 = 'Hello World!'\n",
    "text2"
   ]
  },
  {
   "cell_type": "code",
   "execution_count": 5,
   "metadata": {},
   "outputs": [
    {
     "data": {
      "text/plain": [
       "12"
      ]
     },
     "execution_count": 5,
     "metadata": {},
     "output_type": "execute_result"
    }
   ],
   "source": [
    "len(text2)"
   ]
  },
  {
   "cell_type": "code",
   "execution_count": 6,
   "metadata": {},
   "outputs": [
    {
     "name": "stdout",
     "output_type": "stream",
     "text": [
      "Text 1: I, Text 2: H\n",
      "Text 1:  , Text 2: e\n",
      "Text 1: a, Text 2: l\n",
      "Text 1: m, Text 2: l\n",
      "Text 1:  , Text 2: o\n",
      "Text 1: i, Text 2:  \n",
      "Text 1: n, Text 2: W\n",
      "Text 1:  , Text 2: o\n",
      "Text 1: t, Text 2: r\n",
      "Text 1: h, Text 2: l\n",
      "Text 1: e, Text 2: d\n",
      "Text 1:  , Text 2: !\n"
     ]
    }
   ],
   "source": [
    "for txt1, txt2 in zip(text1, text2):\n",
    "    print(f\"Text 1: {txt1}, Text 2: {txt2}\")"
   ]
  },
  {
   "cell_type": "code",
   "execution_count": 7,
   "metadata": {},
   "outputs": [
    {
     "name": "stdout",
     "output_type": "stream",
     "text": [
      "Text 2: H, Text 1: I\n",
      "Text 2: e, Text 1:  \n",
      "Text 2: l, Text 1: a\n",
      "Text 2: l, Text 1: m\n",
      "Text 2: o, Text 1:  \n",
      "Text 2:  , Text 1: i\n",
      "Text 2: W, Text 1: n\n",
      "Text 2: o, Text 1:  \n",
      "Text 2: r, Text 1: t\n",
      "Text 2: l, Text 1: h\n",
      "Text 2: d, Text 1: e\n",
      "Text 2: !, Text 1:  \n"
     ]
    }
   ],
   "source": [
    "for txt2, txt1 in zip(text2, text1): # referring to the length of the shortest length\n",
    "    print(f\"Text 2: {txt2}, Text 1: {txt1}\")"
   ]
  },
  {
   "cell_type": "code",
   "execution_count": null,
   "metadata": {},
   "outputs": [],
   "source": []
  }
 ],
 "metadata": {
  "kernelspec": {
   "display_name": "Python 3",
   "language": "python",
   "name": "python3"
  },
  "language_info": {
   "codemirror_mode": {
    "name": "ipython",
    "version": 3
   },
   "file_extension": ".py",
   "mimetype": "text/x-python",
   "name": "python",
   "nbconvert_exporter": "python",
   "pygments_lexer": "ipython3",
   "version": "3.11.1"
  }
 },
 "nbformat": 4,
 "nbformat_minor": 2
}
