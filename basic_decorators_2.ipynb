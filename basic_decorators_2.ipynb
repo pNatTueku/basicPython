{
 "cells": [
  {
   "cell_type": "markdown",
   "metadata": {},
   "source": [
    "### Decorators\n",
    "\n",
    "- They are one of the most powerful feature of Python.\n",
    "- We can use them to modify the behavior of functions or classes.\n",
    "- We can wrap a fuction, adding extra functionality without changing its code by using the \"@decorator_name\" syntax.\n",
    "- They help to make our code more modular and reusable.\n",
    "- The can be use to:\n",
    "    - log function calls\n",
    "    - check function arguments\n",
    "    - run code before and after functions\n",
    "    - and much more"
   ]
  },
  {
   "cell_type": "code",
   "execution_count": 3,
   "metadata": {},
   "outputs": [],
   "source": [
    "# Let's start by understanding \"first-class\" objects which functions in Python. First-Class objects can be passed around as an argument, used in expressions, returned as values of other functions - just like integers or strings!\n",
    "\n",
    "def greet(name):\n",
    "    return f\"Hello {name}!\"\n",
    "\n",
    "def cheer(fun, name):\n",
    "    return fun(name) + \"You are great!\""
   ]
  },
  {
   "cell_type": "code",
   "execution_count": 4,
   "metadata": {},
   "outputs": [
    {
     "name": "stdout",
     "output_type": "stream",
     "text": [
      "Hello Natty!You are great!\n"
     ]
    }
   ],
   "source": [
    "print(cheer(greet, \"Natty\"))"
   ]
  },
  {
   "cell_type": "code",
   "execution_count": 5,
   "metadata": {},
   "outputs": [],
   "source": [
    "# Let's learn about decorators like wrapping papers\n",
    "\n",
    "def decorate(fun):\n",
    "\n",
    "    def wrapper():\n",
    "\n",
    "        print(\"Before function call\") # Decoration 1\n",
    "        fun()\n",
    "        print(\"After function call\") # Decoration 2\n",
    "\n",
    "    return wrapper\n",
    "\n",
    "def greet():\n",
    "    print(\"Hello, Python Decorator!\")"
   ]
  },
  {
   "cell_type": "code",
   "execution_count": 6,
   "metadata": {},
   "outputs": [],
   "source": [
    "greet = decorate(greet) # The greet function is being decorated"
   ]
  },
  {
   "cell_type": "code",
   "execution_count": 7,
   "metadata": {},
   "outputs": [
    {
     "name": "stdout",
     "output_type": "stream",
     "text": [
      "Before function call\n",
      "Hello, Python Decorator!\n",
      "After function call\n"
     ]
    }
   ],
   "source": [
    "greet()"
   ]
  },
  {
   "cell_type": "code",
   "execution_count": 8,
   "metadata": {},
   "outputs": [],
   "source": [
    "# Let's use \"@\" symbol along with the decorator name right before the function definitin - looks cleaner!\n",
    "\n",
    "def decorate(fun):\n",
    "\n",
    "    def wrapper():\n",
    "\n",
    "        print(\"Before function call\") # Decoration 1\n",
    "        fun()\n",
    "        print(\"After function call\") # Decoration 2\n",
    "\n",
    "    return wrapper\n",
    "\n",
    "@decorate # That's all we need\n",
    "def greet():\n",
    "    print(\"Hello, Natty!\")"
   ]
  },
  {
   "cell_type": "code",
   "execution_count": 9,
   "metadata": {},
   "outputs": [
    {
     "name": "stdout",
     "output_type": "stream",
     "text": [
      "Before function call\n",
      "Hello, Natty!\n",
      "After function call\n"
     ]
    }
   ],
   "source": [
    "greet()"
   ]
  },
  {
   "cell_type": "code",
   "execution_count": 12,
   "metadata": {},
   "outputs": [],
   "source": [
    "# Let's see how decoration works when the function being greeted takes an argument\n",
    "\n",
    "def decorate(fun):\n",
    "\n",
    "    def wrapper(arg): \n",
    "\n",
    "        print(\"Before function call\") # Decoration 1\n",
    "        fun(arg)\n",
    "        print(\"After function call\") # Decoration 2\n",
    "\n",
    "    return wrapper\n",
    "\n",
    "@decorate # That's all we need\n",
    "def greet(arg): # The argument we pass to the function is received by wrapper&then passed onto the function again\n",
    "    print(f\"Hello, {arg}!\") # Don't forget the f-string"
   ]
  },
  {
   "cell_type": "code",
   "execution_count": 13,
   "metadata": {},
   "outputs": [
    {
     "name": "stdout",
     "output_type": "stream",
     "text": [
      "Before function call\n",
      "Hello, Mark!\n",
      "After function call\n"
     ]
    }
   ],
   "source": [
    "# call function\n",
    "\n",
    "greet(\"Mark\")"
   ]
  },
  {
   "cell_type": "code",
   "execution_count": 14,
   "metadata": {},
   "outputs": [],
   "source": [
    "# Consistent way to allow us to add functionality\n",
    "# A decorator that can log execution time of any function\n",
    "\n",
    "import time\n",
    "import logging\n",
    "\n",
    "logging.basicConfig(level=logging.INFO)\n",
    "\n",
    "def time_decorator(func):\n",
    "\n",
    "    def wrapper(*args, **kwargs): # Here we can see that 'wrapper' support variable number of arguments. This is because it has to be genetic enough to support any function.\n",
    "        start_time = time.time()\n",
    "        result = func(*args, **kwargs)\n",
    "        end_time = time.time()\n",
    "\n",
    "        execution_time = end_time - start_time\n",
    "        logging.info(f\"Executued {func.__name__} in {execution_time} seconds\")\n",
    "\n",
    "        return result\n",
    "    \n",
    "    return wrapper\n",
    "\n",
    "@time_decorator\n",
    "def fibonacci(n):\n",
    "\n",
    "    if n <= 1:\n",
    "        return n\n",
    "    else:\n",
    "        return (fibonacci(n - 1) + fibonacci(n - 2))"
   ]
  },
  {
   "cell_type": "code",
   "execution_count": 15,
   "metadata": {},
   "outputs": [
    {
     "name": "stderr",
     "output_type": "stream",
     "text": [
      "INFO:root:Executued fibonacci in 0.0 seconds\n",
      "INFO:root:Executued fibonacci in 0.0 seconds\n",
      "INFO:root:Executued fibonacci in 0.0010859966278076172 seconds\n"
     ]
    },
    {
     "name": "stdout",
     "output_type": "stream",
     "text": [
      "1\n"
     ]
    }
   ],
   "source": [
    "print(fibonacci(2))"
   ]
  },
  {
   "cell_type": "code",
   "execution_count": null,
   "metadata": {},
   "outputs": [],
   "source": []
  }
 ],
 "metadata": {
  "kernelspec": {
   "display_name": "conda_env",
   "language": "python",
   "name": "python3"
  },
  "language_info": {
   "codemirror_mode": {
    "name": "ipython",
    "version": 3
   },
   "file_extension": ".py",
   "mimetype": "text/x-python",
   "name": "python",
   "nbconvert_exporter": "python",
   "pygments_lexer": "ipython3",
   "version": "3.9.15"
  }
 },
 "nbformat": 4,
 "nbformat_minor": 2
}
