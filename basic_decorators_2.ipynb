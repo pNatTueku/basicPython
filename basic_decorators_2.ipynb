{
 "cells": [
  {
   "cell_type": "markdown",
   "metadata": {},
   "source": [
    "### Decorators\n",
    "\n",
    "- They are one of the most powerful feature of Python.\n",
    "- We can use them to modify the behavior of functions or classes.\n",
    "- We can wrap a fuction, adding extra functionality without changing its code by using the \"@decorator_name\" syntax.\n",
    "- They help to make our code more modular and reusable."
   ]
  },
  {
   "cell_type": "code",
   "execution_count": 3,
   "metadata": {},
   "outputs": [],
   "source": [
    "# Let's start by understanding \"first-class\" objects which functions in Python. First-Class objects can be passed around as an argument, used in expressions, returned as values of other functions - just like integers or strings!\n",
    "\n",
    "def greet(name):\n",
    "    return f\"Hello {name}!\"\n",
    "\n",
    "def cheer(fun, name):\n",
    "    return fun(name) + \"You are great!\""
   ]
  },
  {
   "cell_type": "code",
   "execution_count": 4,
   "metadata": {},
   "outputs": [
    {
     "name": "stdout",
     "output_type": "stream",
     "text": [
      "Hello Natty!You are great!\n"
     ]
    }
   ],
   "source": [
    "print(cheer(greet, \"Natty\"))"
   ]
  },
  {
   "cell_type": "code",
   "execution_count": 5,
   "metadata": {},
   "outputs": [],
   "source": [
    "# Let's learn about decorators like wrapping papers\n",
    "\n",
    "def decorate(fun):\n",
    "\n",
    "    def wrapper():\n",
    "\n",
    "        print(\"Before function call\") # Decoration 1\n",
    "        fun()\n",
    "        print(\"After function call\") # Decoration 2\n",
    "\n",
    "    return wrapper\n",
    "\n",
    "def greet():\n",
    "    print(\"Hello, Python Decorator!\")"
   ]
  },
  {
   "cell_type": "code",
   "execution_count": 6,
   "metadata": {},
   "outputs": [],
   "source": [
    "greet = decorate(greet) # The greet function is being decorated"
   ]
  },
  {
   "cell_type": "code",
   "execution_count": 7,
   "metadata": {},
   "outputs": [
    {
     "name": "stdout",
     "output_type": "stream",
     "text": [
      "Before function call\n",
      "Hello, Python Decorator!\n",
      "After function call\n"
     ]
    }
   ],
   "source": [
    "greet()"
   ]
  },
  {
   "cell_type": "code",
   "execution_count": 8,
   "metadata": {},
   "outputs": [],
   "source": [
    "# Let's use \"@\" symbol along with the decorator name right before the function definitin - looks cleaner!\n",
    "\n",
    "def decorate(fun):\n",
    "\n",
    "    def wrapper():\n",
    "\n",
    "        print(\"Before function call\") # Decoration 1\n",
    "        fun()\n",
    "        print(\"After function call\") # Decoration 2\n",
    "\n",
    "    return wrapper\n",
    "\n",
    "@decorate # That's all we need\n",
    "def greet():\n",
    "    print(\"Hello, Natty!\")"
   ]
  },
  {
   "cell_type": "code",
   "execution_count": 9,
   "metadata": {},
   "outputs": [
    {
     "name": "stdout",
     "output_type": "stream",
     "text": [
      "Before function call\n",
      "Hello, Natty!\n",
      "After function call\n"
     ]
    }
   ],
   "source": [
    "greet()"
   ]
  },
  {
   "cell_type": "code",
   "execution_count": 12,
   "metadata": {},
   "outputs": [],
   "source": [
    "# Let's see how decoration works when the function being greeted takes an argument\n",
    "\n",
    "def decorate(fun):\n",
    "\n",
    "    def wrapper(arg): \n",
    "\n",
    "        print(\"Before function call\") # Decoration 1\n",
    "        fun(arg)\n",
    "        print(\"After function call\") # Decoration 2\n",
    "\n",
    "    return wrapper\n",
    "\n",
    "@decorate # That's all we need\n",
    "def greet(arg): # The argument we pass to the function is received by wrapper&then passed onto the function again\n",
    "    print(f\"Hello, {arg}!\") # Don't forget the f-string"
   ]
  },
  {
   "cell_type": "code",
   "execution_count": 13,
   "metadata": {},
   "outputs": [
    {
     "name": "stdout",
     "output_type": "stream",
     "text": [
      "Before function call\n",
      "Hello, Mark!\n",
      "After function call\n"
     ]
    }
   ],
   "source": [
    "# call function\n",
    "\n",
    "greet(\"Mark\")"
   ]
  },
  {
   "cell_type": "code",
   "execution_count": null,
   "metadata": {},
   "outputs": [],
   "source": []
  }
 ],
 "metadata": {
  "kernelspec": {
   "display_name": "conda_env",
   "language": "python",
   "name": "python3"
  },
  "language_info": {
   "codemirror_mode": {
    "name": "ipython",
    "version": 3
   },
   "file_extension": ".py",
   "mimetype": "text/x-python",
   "name": "python",
   "nbconvert_exporter": "python",
   "pygments_lexer": "ipython3",
   "version": "3.9.15"
  }
 },
 "nbformat": 4,
 "nbformat_minor": 2
}
