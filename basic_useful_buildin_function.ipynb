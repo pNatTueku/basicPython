{
 "cells": [
  {
   "cell_type": "markdown",
   "metadata": {},
   "source": [
    "### Useful build-in function in Python\n",
    "\n",
    "- enumerate():\n",
    "    - add a counter to an iterable and return it inform of an enumerating object\n",
    "    - returned object is an iterator\n",
    "- any(): \n",
    "    - return True if at least one element of the iterable is \n",
    "    - return False if all elements are False\n",
    "- all():\n",
    "    - return False if at least one element of the iterable is \n",
    "    - return True if all elements are False\n",
    "- zip():\n",
    "    - combine multiple iterables (lists or tuples) element-wise\n",
    "    - return tuples of the combined elements\n",
    "- filter():\n",
    "    - constructs an iterator from elements of an iterable for which a function return True\n",
    "    - efficient for filtering lists based on a condition\n",
    "- reverse()\n",
    "    - return reverse iterator for the given sequence (list, tuple, string, etc)\n",
    "- eval():\n",
    "    - parses and evaluats a Python expression passed to it as a string\n",
    "    - allows dynamic exucution of Python expression"
   ]
  },
  {
   "cell_type": "code",
   "execution_count": 34,
   "metadata": {},
   "outputs": [
    {
     "data": {
      "text/plain": [
       "['Jackson', 'JB', 'Jinyoung', 'Youngjae', 'Mark', 'BamBam', 'Yugyeom']"
      ]
     },
     "execution_count": 34,
     "metadata": {},
     "output_type": "execute_result"
    }
   ],
   "source": [
    "# enumerate()\n",
    "\n",
    "got7 = ['Jackson', 'JB', 'Jinyoung', 'Youngjae', 'Mark', 'BamBam', 'Yugyeom']\n",
    "got7"
   ]
  },
  {
   "cell_type": "code",
   "execution_count": 35,
   "metadata": {},
   "outputs": [
    {
     "data": {
      "text/plain": [
       "list"
      ]
     },
     "execution_count": 35,
     "metadata": {},
     "output_type": "execute_result"
    }
   ],
   "source": [
    "type(got7)"
   ]
  },
  {
   "cell_type": "code",
   "execution_count": 36,
   "metadata": {},
   "outputs": [
    {
     "data": {
      "text/plain": [
       "7"
      ]
     },
     "execution_count": 36,
     "metadata": {},
     "output_type": "execute_result"
    }
   ],
   "source": [
    "len(got7)"
   ]
  },
  {
   "cell_type": "code",
   "execution_count": 37,
   "metadata": {},
   "outputs": [
    {
     "name": "stdout",
     "output_type": "stream",
     "text": [
      "0 Jackson\n",
      "1 JB\n",
      "2 Jinyoung\n",
      "3 Youngjae\n",
      "4 Mark\n",
      "5 BamBam\n",
      "6 Yugyeom\n"
     ]
    }
   ],
   "source": [
    "for index, item in enumerate(got7):\n",
    "    print(index, item)"
   ]
  },
  {
   "cell_type": "code",
   "execution_count": 38,
   "metadata": {},
   "outputs": [
    {
     "name": "stdout",
     "output_type": "stream",
     "text": [
      "True\n"
     ]
    }
   ],
   "source": [
    "# any()\n",
    "\n",
    "print(any(member == 'Mark' for member in got7))"
   ]
  },
  {
   "cell_type": "code",
   "execution_count": 39,
   "metadata": {},
   "outputs": [
    {
     "name": "stdout",
     "output_type": "stream",
     "text": [
      "False\n"
     ]
    }
   ],
   "source": [
    "# all()\n",
    "\n",
    "print(all(member == 'Mark' for member in got7))"
   ]
  },
  {
   "cell_type": "code",
   "execution_count": 40,
   "metadata": {},
   "outputs": [
    {
     "data": {
      "text/plain": [
       "<zip at 0x10d0ca980>"
      ]
     },
     "execution_count": 40,
     "metadata": {},
     "output_type": "execute_result"
    }
   ],
   "source": [
    "# zip()\n",
    "\n",
    "got7 = ['Jackson', 'JB', 'Jinyoung', 'Youngjae', 'Mark', 'BamBam', 'Yugyeom']\n",
    "age7 = [32, 32, 32, 30, 33, 29, 29]\n",
    "\n",
    "got7_info = zip(got7, age7)\n",
    "got7_info"
   ]
  },
  {
   "cell_type": "code",
   "execution_count": 41,
   "metadata": {},
   "outputs": [
    {
     "data": {
      "text/plain": [
       "[('Jackson', 32),\n",
       " ('JB', 32),\n",
       " ('Jinyoung', 32),\n",
       " ('Youngjae', 30),\n",
       " ('Mark', 33),\n",
       " ('BamBam', 29),\n",
       " ('Yugyeom', 29)]"
      ]
     },
     "execution_count": 41,
     "metadata": {},
     "output_type": "execute_result"
    }
   ],
   "source": [
    "list(got7_info)"
   ]
  },
  {
   "cell_type": "code",
   "execution_count": 42,
   "metadata": {},
   "outputs": [
    {
     "data": {
      "text/plain": [
       "<filter at 0x10d0c35e0>"
      ]
     },
     "execution_count": 42,
     "metadata": {},
     "output_type": "execute_result"
    }
   ],
   "source": [
    "# filter()\n",
    "\n",
    "age7_even_nums = filter(lambda age: age % 2 == 0, age7)\n",
    "age7_even_nums"
   ]
  },
  {
   "cell_type": "code",
   "execution_count": 43,
   "metadata": {},
   "outputs": [
    {
     "data": {
      "text/plain": [
       "[32, 32, 32, 30]"
      ]
     },
     "execution_count": 43,
     "metadata": {},
     "output_type": "execute_result"
    }
   ],
   "source": [
    "list(age7_even_nums)"
   ]
  },
  {
   "cell_type": "code",
   "execution_count": 44,
   "metadata": {},
   "outputs": [
    {
     "data": {
      "text/plain": [
       "[33, 29, 29]"
      ]
     },
     "execution_count": 44,
     "metadata": {},
     "output_type": "execute_result"
    }
   ],
   "source": [
    "age7_odd_nums = filter(lambda age: age % 2 != 0, age7)\n",
    "list(age7_odd_nums)"
   ]
  },
  {
   "cell_type": "code",
   "execution_count": 45,
   "metadata": {},
   "outputs": [
    {
     "data": {
      "text/plain": [
       "<map at 0x10d0c3970>"
      ]
     },
     "execution_count": 45,
     "metadata": {},
     "output_type": "execute_result"
    }
   ],
   "source": [
    "# map()\n",
    "\n",
    "age7_next2yrs = map(lambda age: age + 2, age7)\n",
    "age7_next2yrs"
   ]
  },
  {
   "cell_type": "code",
   "execution_count": 46,
   "metadata": {},
   "outputs": [
    {
     "data": {
      "text/plain": [
       "[34, 34, 34, 32, 35, 31, 31]"
      ]
     },
     "execution_count": 46,
     "metadata": {},
     "output_type": "execute_result"
    }
   ],
   "source": [
    "list(age7_next2yrs)"
   ]
  },
  {
   "cell_type": "code",
   "execution_count": 47,
   "metadata": {},
   "outputs": [
    {
     "name": "stdout",
     "output_type": "stream",
     "text": [
      "['Jackson', 'JB', 'Jinyoung', 'Youngjae', 'Mark', 'BamBam', 'Yugyeom']\n",
      "['Yugyeom', 'BamBam', 'Mark', 'Youngjae', 'Jinyoung', 'JB', 'Jackson']\n"
     ]
    }
   ],
   "source": [
    "# reverse()\n",
    "\n",
    "print(got7)\n",
    "print(list(reversed(got7)))"
   ]
  },
  {
   "cell_type": "code",
   "execution_count": 48,
   "metadata": {},
   "outputs": [
    {
     "data": {
      "text/plain": [
       "'9/3 + 2**3'"
      ]
     },
     "execution_count": 48,
     "metadata": {},
     "output_type": "execute_result"
    }
   ],
   "source": [
    "# eval()\n",
    "\n",
    "expression = '9/3 + 2**3'\n",
    "expression"
   ]
  },
  {
   "cell_type": "code",
   "execution_count": 49,
   "metadata": {},
   "outputs": [
    {
     "data": {
      "text/plain": [
       "str"
      ]
     },
     "execution_count": 49,
     "metadata": {},
     "output_type": "execute_result"
    }
   ],
   "source": [
    "type(expression)"
   ]
  },
  {
   "cell_type": "code",
   "execution_count": 50,
   "metadata": {},
   "outputs": [
    {
     "data": {
      "text/plain": [
       "11.0"
      ]
     },
     "execution_count": 50,
     "metadata": {},
     "output_type": "execute_result"
    }
   ],
   "source": [
    "eval(expression)"
   ]
  },
  {
   "cell_type": "code",
   "execution_count": 51,
   "metadata": {},
   "outputs": [
    {
     "data": {
      "text/plain": [
       "'np.sqrt(16) + 2**3'"
      ]
     },
     "execution_count": 51,
     "metadata": {},
     "output_type": "execute_result"
    }
   ],
   "source": [
    "expression2 = 'np.sqrt(16) + 2**3'\n",
    "expression2"
   ]
  },
  {
   "cell_type": "code",
   "execution_count": 52,
   "metadata": {},
   "outputs": [
    {
     "data": {
      "text/plain": [
       "12.0"
      ]
     },
     "execution_count": 52,
     "metadata": {},
     "output_type": "execute_result"
    }
   ],
   "source": [
    "eval(expression2)"
   ]
  },
  {
   "cell_type": "code",
   "execution_count": null,
   "metadata": {},
   "outputs": [],
   "source": []
  }
 ],
 "metadata": {
  "kernelspec": {
   "display_name": "conda_env",
   "language": "python",
   "name": "python3"
  },
  "language_info": {
   "codemirror_mode": {
    "name": "ipython",
    "version": 3
   },
   "file_extension": ".py",
   "mimetype": "text/x-python",
   "name": "python",
   "nbconvert_exporter": "python",
   "pygments_lexer": "ipython3",
   "version": "3.9.15"
  }
 },
 "nbformat": 4,
 "nbformat_minor": 2
}
