{
 "cells": [
  {
   "cell_type": "code",
   "execution_count": 2,
   "metadata": {},
   "outputs": [],
   "source": [
    "import pandas as pd"
   ]
  },
  {
   "cell_type": "code",
   "execution_count": 3,
   "metadata": {},
   "outputs": [
    {
     "data": {
      "text/plain": [
       "(398, 9)"
      ]
     },
     "execution_count": 3,
     "metadata": {},
     "output_type": "execute_result"
    }
   ],
   "source": [
    "data = pd.read_csv('mpg.csv')\n",
    "data.shape"
   ]
  },
  {
   "cell_type": "code",
   "execution_count": 4,
   "metadata": {},
   "outputs": [
    {
     "data": {
      "text/html": [
       "<div>\n",
       "<style scoped>\n",
       "    .dataframe tbody tr th:only-of-type {\n",
       "        vertical-align: middle;\n",
       "    }\n",
       "\n",
       "    .dataframe tbody tr th {\n",
       "        vertical-align: top;\n",
       "    }\n",
       "\n",
       "    .dataframe thead th {\n",
       "        text-align: right;\n",
       "    }\n",
       "</style>\n",
       "<table border=\"1\" class=\"dataframe\">\n",
       "  <thead>\n",
       "    <tr style=\"text-align: right;\">\n",
       "      <th></th>\n",
       "      <th>mpg</th>\n",
       "      <th>cylinders</th>\n",
       "      <th>displacement</th>\n",
       "      <th>horsepower</th>\n",
       "      <th>weight</th>\n",
       "      <th>acceleration</th>\n",
       "      <th>model_year</th>\n",
       "      <th>origin</th>\n",
       "      <th>name</th>\n",
       "    </tr>\n",
       "  </thead>\n",
       "  <tbody>\n",
       "    <tr>\n",
       "      <th>0</th>\n",
       "      <td>18.0</td>\n",
       "      <td>8</td>\n",
       "      <td>307.0</td>\n",
       "      <td>130</td>\n",
       "      <td>3504</td>\n",
       "      <td>12.0</td>\n",
       "      <td>70</td>\n",
       "      <td>1</td>\n",
       "      <td>chevrolet chevelle malibu</td>\n",
       "    </tr>\n",
       "    <tr>\n",
       "      <th>1</th>\n",
       "      <td>15.0</td>\n",
       "      <td>8</td>\n",
       "      <td>350.0</td>\n",
       "      <td>165</td>\n",
       "      <td>3693</td>\n",
       "      <td>11.5</td>\n",
       "      <td>70</td>\n",
       "      <td>1</td>\n",
       "      <td>buick skylark 320</td>\n",
       "    </tr>\n",
       "    <tr>\n",
       "      <th>2</th>\n",
       "      <td>18.0</td>\n",
       "      <td>8</td>\n",
       "      <td>318.0</td>\n",
       "      <td>150</td>\n",
       "      <td>3436</td>\n",
       "      <td>11.0</td>\n",
       "      <td>70</td>\n",
       "      <td>1</td>\n",
       "      <td>plymouth satellite</td>\n",
       "    </tr>\n",
       "    <tr>\n",
       "      <th>3</th>\n",
       "      <td>16.0</td>\n",
       "      <td>8</td>\n",
       "      <td>304.0</td>\n",
       "      <td>150</td>\n",
       "      <td>3433</td>\n",
       "      <td>12.0</td>\n",
       "      <td>70</td>\n",
       "      <td>1</td>\n",
       "      <td>amc rebel sst</td>\n",
       "    </tr>\n",
       "    <tr>\n",
       "      <th>4</th>\n",
       "      <td>17.0</td>\n",
       "      <td>8</td>\n",
       "      <td>302.0</td>\n",
       "      <td>140</td>\n",
       "      <td>3449</td>\n",
       "      <td>10.5</td>\n",
       "      <td>70</td>\n",
       "      <td>1</td>\n",
       "      <td>ford torino</td>\n",
       "    </tr>\n",
       "  </tbody>\n",
       "</table>\n",
       "</div>"
      ],
      "text/plain": [
       "    mpg  cylinders  displacement horsepower  weight  acceleration  model_year  \\\n",
       "0  18.0          8         307.0        130    3504          12.0          70   \n",
       "1  15.0          8         350.0        165    3693          11.5          70   \n",
       "2  18.0          8         318.0        150    3436          11.0          70   \n",
       "3  16.0          8         304.0        150    3433          12.0          70   \n",
       "4  17.0          8         302.0        140    3449          10.5          70   \n",
       "\n",
       "   origin                       name  \n",
       "0       1  chevrolet chevelle malibu  \n",
       "1       1          buick skylark 320  \n",
       "2       1         plymouth satellite  \n",
       "3       1              amc rebel sst  \n",
       "4       1                ford torino  "
      ]
     },
     "execution_count": 4,
     "metadata": {},
     "output_type": "execute_result"
    }
   ],
   "source": [
    "data.head()"
   ]
  },
  {
   "cell_type": "code",
   "execution_count": 5,
   "metadata": {},
   "outputs": [
    {
     "data": {
      "text/plain": [
       "mpg             float64\n",
       "cylinders         int64\n",
       "displacement    float64\n",
       "horsepower       object\n",
       "weight            int64\n",
       "acceleration    float64\n",
       "model_year        int64\n",
       "origin            int64\n",
       "name             object\n",
       "dtype: object"
      ]
     },
     "execution_count": 5,
     "metadata": {},
     "output_type": "execute_result"
    }
   ],
   "source": [
    "data.dtypes"
   ]
  },
  {
   "cell_type": "code",
   "execution_count": 6,
   "metadata": {},
   "outputs": [
    {
     "data": {
      "text/plain": [
       "array(['chevrolet chevelle malibu', 'buick skylark 320',\n",
       "       'plymouth satellite', 'amc rebel sst', 'ford torino',\n",
       "       'ford galaxie 500', 'chevrolet impala', 'plymouth fury iii',\n",
       "       'pontiac catalina', 'amc ambassador dpl', 'dodge challenger se',\n",
       "       \"plymouth 'cuda 340\", 'chevrolet monte carlo',\n",
       "       'buick estate wagon (sw)', 'toyota corona mark ii',\n",
       "       'plymouth duster', 'amc hornet', 'ford maverick', 'datsun pl510',\n",
       "       'volkswagen 1131 deluxe sedan', 'peugeot 504', 'audi 100 ls',\n",
       "       'saab 99e', 'bmw 2002', 'amc gremlin', 'ford f250', 'chevy c20',\n",
       "       'dodge d200', 'hi 1200d', 'chevrolet vega 2300', 'toyota corona',\n",
       "       'ford pinto', 'plymouth satellite custom', 'ford torino 500',\n",
       "       'amc matador', 'pontiac catalina brougham', 'dodge monaco (sw)',\n",
       "       'ford country squire (sw)', 'pontiac safari (sw)',\n",
       "       'amc hornet sportabout (sw)', 'chevrolet vega (sw)',\n",
       "       'pontiac firebird', 'ford mustang', 'mercury capri 2000',\n",
       "       'opel 1900', 'peugeot 304', 'fiat 124b', 'toyota corolla 1200',\n",
       "       'datsun 1200', 'volkswagen model 111', 'plymouth cricket',\n",
       "       'toyota corona hardtop', 'dodge colt hardtop', 'volkswagen type 3',\n",
       "       'chevrolet vega', 'ford pinto runabout', 'amc ambassador sst',\n",
       "       'mercury marquis', 'buick lesabre custom',\n",
       "       'oldsmobile delta 88 royale', 'chrysler newport royal',\n",
       "       'mazda rx2 coupe', 'amc matador (sw)',\n",
       "       'chevrolet chevelle concours (sw)', 'ford gran torino (sw)',\n",
       "       'plymouth satellite custom (sw)', 'volvo 145e (sw)',\n",
       "       'volkswagen 411 (sw)', 'peugeot 504 (sw)', 'renault 12 (sw)',\n",
       "       'ford pinto (sw)', 'datsun 510 (sw)',\n",
       "       'toyouta corona mark ii (sw)', 'dodge colt (sw)',\n",
       "       'toyota corolla 1600 (sw)', 'buick century 350',\n",
       "       'chevrolet malibu', 'ford gran torino', 'dodge coronet custom',\n",
       "       'mercury marquis brougham', 'chevrolet caprice classic',\n",
       "       'ford ltd', 'plymouth fury gran sedan',\n",
       "       'chrysler new yorker brougham', 'buick electra 225 custom',\n",
       "       'amc ambassador brougham', 'plymouth valiant',\n",
       "       'chevrolet nova custom', 'volkswagen super beetle', 'ford country',\n",
       "       'plymouth custom suburb', 'oldsmobile vista cruiser',\n",
       "       'toyota carina', 'datsun 610', 'maxda rx3', 'mercury capri v6',\n",
       "       'fiat 124 sport coupe', 'chevrolet monte carlo s',\n",
       "       'pontiac grand prix', 'fiat 128', 'opel manta', 'audi 100ls',\n",
       "       'volvo 144ea', 'dodge dart custom', 'saab 99le', 'toyota mark ii',\n",
       "       'oldsmobile omega', 'chevrolet nova', 'datsun b210',\n",
       "       'chevrolet chevelle malibu classic', 'plymouth satellite sebring',\n",
       "       'buick century luxus (sw)', 'dodge coronet custom (sw)',\n",
       "       'audi fox', 'volkswagen dasher', 'datsun 710', 'dodge colt',\n",
       "       'fiat 124 tc', 'honda civic', 'subaru', 'fiat x1.9',\n",
       "       'plymouth valiant custom', 'mercury monarch', 'chevrolet bel air',\n",
       "       'plymouth grand fury', 'buick century',\n",
       "       'chevroelt chevelle malibu', 'plymouth fury', 'buick skyhawk',\n",
       "       'chevrolet monza 2+2', 'ford mustang ii', 'toyota corolla',\n",
       "       'pontiac astro', 'volkswagen rabbit', 'amc pacer', 'volvo 244dl',\n",
       "       'honda civic cvcc', 'fiat 131', 'capri ii', 'renault 12tl',\n",
       "       'dodge coronet brougham', 'chevrolet chevette', 'chevrolet woody',\n",
       "       'vw rabbit', 'dodge aspen se', 'ford granada ghia',\n",
       "       'pontiac ventura sj', 'amc pacer d/l', 'datsun b-210', 'volvo 245',\n",
       "       'plymouth volare premier v8', 'mercedes-benz 280s',\n",
       "       'cadillac seville', 'chevy c10', 'ford f108', 'dodge d100',\n",
       "       'honda accord cvcc', 'buick opel isuzu deluxe', 'renault 5 gtl',\n",
       "       'plymouth arrow gs', 'datsun f-10 hatchback',\n",
       "       'oldsmobile cutlass supreme', 'dodge monaco brougham',\n",
       "       'mercury cougar brougham', 'chevrolet concours', 'buick skylark',\n",
       "       'plymouth volare custom', 'ford granada', 'pontiac grand prix lj',\n",
       "       'chevrolet monte carlo landau', 'chrysler cordoba',\n",
       "       'ford thunderbird', 'volkswagen rabbit custom',\n",
       "       'pontiac sunbird coupe', 'toyota corolla liftback',\n",
       "       'ford mustang ii 2+2', 'dodge colt m/m', 'subaru dl', 'datsun 810',\n",
       "       'bmw 320i', 'mazda rx-4', 'volkswagen rabbit custom diesel',\n",
       "       'ford fiesta', 'mazda glc deluxe', 'datsun b210 gx',\n",
       "       'oldsmobile cutlass salon brougham', 'dodge diplomat',\n",
       "       'mercury monarch ghia', 'pontiac phoenix lj',\n",
       "       'ford fairmont (auto)', 'ford fairmont (man)', 'plymouth volare',\n",
       "       'amc concord', 'buick century special', 'mercury zephyr',\n",
       "       'dodge aspen', 'amc concord d/l',\n",
       "       'buick regal sport coupe (turbo)', 'ford futura',\n",
       "       'dodge magnum xe', 'datsun 510', 'dodge omni',\n",
       "       'toyota celica gt liftback', 'plymouth sapporo',\n",
       "       'oldsmobile starfire sx', 'datsun 200-sx', 'audi 5000',\n",
       "       'volvo 264gl', 'saab 99gle', 'peugeot 604sl',\n",
       "       'volkswagen scirocco', 'honda accord lx', 'pontiac lemans v6',\n",
       "       'mercury zephyr 6', 'ford fairmont 4', 'amc concord dl 6',\n",
       "       'dodge aspen 6', 'ford ltd landau', 'mercury grand marquis',\n",
       "       'dodge st. regis', 'chevrolet malibu classic (sw)',\n",
       "       'chrysler lebaron town @ country (sw)', 'vw rabbit custom',\n",
       "       'maxda glc deluxe', 'dodge colt hatchback custom', 'amc spirit dl',\n",
       "       'mercedes benz 300d', 'cadillac eldorado', 'plymouth horizon',\n",
       "       'plymouth horizon tc3', 'datsun 210', 'fiat strada custom',\n",
       "       'buick skylark limited', 'chevrolet citation',\n",
       "       'oldsmobile omega brougham', 'pontiac phoenix',\n",
       "       'toyota corolla tercel', 'datsun 310', 'ford fairmont',\n",
       "       'audi 4000', 'toyota corona liftback', 'mazda 626',\n",
       "       'datsun 510 hatchback', 'mazda glc', 'vw rabbit c (diesel)',\n",
       "       'vw dasher (diesel)', 'audi 5000s (diesel)', 'mercedes-benz 240d',\n",
       "       'honda civic 1500 gl', 'renault lecar deluxe', 'vokswagen rabbit',\n",
       "       'datsun 280-zx', 'mazda rx-7 gs', 'triumph tr7 coupe',\n",
       "       'ford mustang cobra', 'honda accord', 'plymouth reliant',\n",
       "       'dodge aries wagon (sw)', 'toyota starlet', 'plymouth champ',\n",
       "       'honda civic 1300', 'datsun 210 mpg', 'toyota tercel',\n",
       "       'mazda glc 4', 'plymouth horizon 4', 'ford escort 4w',\n",
       "       'ford escort 2h', 'volkswagen jetta', 'renault 18i',\n",
       "       'honda prelude', 'datsun 200sx', 'peugeot 505s turbo diesel',\n",
       "       'volvo diesel', 'toyota cressida', 'datsun 810 maxima',\n",
       "       'oldsmobile cutlass ls', 'ford granada gl',\n",
       "       'chrysler lebaron salon', 'chevrolet cavalier',\n",
       "       'chevrolet cavalier wagon', 'chevrolet cavalier 2-door',\n",
       "       'pontiac j2000 se hatchback', 'dodge aries se',\n",
       "       'ford fairmont futura', 'amc concord dl', 'volkswagen rabbit l',\n",
       "       'mazda glc custom l', 'mazda glc custom', 'plymouth horizon miser',\n",
       "       'mercury lynx l', 'nissan stanza xe', 'honda civic (auto)',\n",
       "       'datsun 310 gx', 'buick century limited',\n",
       "       'oldsmobile cutlass ciera (diesel)', 'chrysler lebaron medallion',\n",
       "       'ford granada l', 'toyota celica gt', 'dodge charger 2.2',\n",
       "       'chevrolet camaro', 'ford mustang gl', 'vw pickup',\n",
       "       'dodge rampage', 'ford ranger', 'chevy s-10'], dtype=object)"
      ]
     },
     "execution_count": 6,
     "metadata": {},
     "output_type": "execute_result"
    }
   ],
   "source": [
    "data.name.unique()"
   ]
  },
  {
   "cell_type": "code",
   "execution_count": 7,
   "metadata": {},
   "outputs": [
    {
     "data": {
      "text/plain": [
       "0      False\n",
       "1      False\n",
       "2      False\n",
       "3      False\n",
       "4      False\n",
       "       ...  \n",
       "393    False\n",
       "394    False\n",
       "395    False\n",
       "396    False\n",
       "397    False\n",
       "Name: name, Length: 398, dtype: bool"
      ]
     },
     "execution_count": 7,
     "metadata": {},
     "output_type": "execute_result"
    }
   ],
   "source": [
    "data.name == 'datsun 1200'"
   ]
  },
  {
   "cell_type": "code",
   "execution_count": 8,
   "metadata": {},
   "outputs": [
    {
     "data": {
      "text/html": [
       "<div>\n",
       "<style scoped>\n",
       "    .dataframe tbody tr th:only-of-type {\n",
       "        vertical-align: middle;\n",
       "    }\n",
       "\n",
       "    .dataframe tbody tr th {\n",
       "        vertical-align: top;\n",
       "    }\n",
       "\n",
       "    .dataframe thead th {\n",
       "        text-align: right;\n",
       "    }\n",
       "</style>\n",
       "<table border=\"1\" class=\"dataframe\">\n",
       "  <thead>\n",
       "    <tr style=\"text-align: right;\">\n",
       "      <th></th>\n",
       "      <th>mpg</th>\n",
       "      <th>cylinders</th>\n",
       "      <th>displacement</th>\n",
       "      <th>horsepower</th>\n",
       "      <th>weight</th>\n",
       "      <th>acceleration</th>\n",
       "      <th>model_year</th>\n",
       "      <th>origin</th>\n",
       "      <th>name</th>\n",
       "    </tr>\n",
       "  </thead>\n",
       "  <tbody>\n",
       "    <tr>\n",
       "      <th>54</th>\n",
       "      <td>35.0</td>\n",
       "      <td>4</td>\n",
       "      <td>72.0</td>\n",
       "      <td>69</td>\n",
       "      <td>1613</td>\n",
       "      <td>18.0</td>\n",
       "      <td>71</td>\n",
       "      <td>3</td>\n",
       "      <td>datsun 1200</td>\n",
       "    </tr>\n",
       "  </tbody>\n",
       "</table>\n",
       "</div>"
      ],
      "text/plain": [
       "     mpg  cylinders  displacement horsepower  weight  acceleration  \\\n",
       "54  35.0          4          72.0         69    1613          18.0   \n",
       "\n",
       "    model_year  origin         name  \n",
       "54          71       3  datsun 1200  "
      ]
     },
     "execution_count": 8,
     "metadata": {},
     "output_type": "execute_result"
    }
   ],
   "source": [
    "data.loc[data['name'] == 'datsun 1200']"
   ]
  },
  {
   "cell_type": "code",
   "execution_count": 9,
   "metadata": {},
   "outputs": [
    {
     "data": {
      "text/html": [
       "<div>\n",
       "<style scoped>\n",
       "    .dataframe tbody tr th:only-of-type {\n",
       "        vertical-align: middle;\n",
       "    }\n",
       "\n",
       "    .dataframe tbody tr th {\n",
       "        vertical-align: top;\n",
       "    }\n",
       "\n",
       "    .dataframe thead th {\n",
       "        text-align: right;\n",
       "    }\n",
       "</style>\n",
       "<table border=\"1\" class=\"dataframe\">\n",
       "  <thead>\n",
       "    <tr style=\"text-align: right;\">\n",
       "      <th></th>\n",
       "      <th>mpg</th>\n",
       "      <th>cylinders</th>\n",
       "      <th>displacement</th>\n",
       "      <th>horsepower</th>\n",
       "      <th>weight</th>\n",
       "      <th>acceleration</th>\n",
       "      <th>model_year</th>\n",
       "      <th>origin</th>\n",
       "      <th>name</th>\n",
       "    </tr>\n",
       "  </thead>\n",
       "  <tbody>\n",
       "  </tbody>\n",
       "</table>\n",
       "</div>"
      ],
      "text/plain": [
       "Empty DataFrame\n",
       "Columns: [mpg, cylinders, displacement, horsepower, weight, acceleration, model_year, origin, name]\n",
       "Index: []"
      ]
     },
     "execution_count": 9,
     "metadata": {},
     "output_type": "execute_result"
    }
   ],
   "source": [
    "data.loc[data['horsepower'] == 69]"
   ]
  },
  {
   "cell_type": "code",
   "execution_count": 17,
   "metadata": {},
   "outputs": [
    {
     "data": {
      "text/plain": [
       "mpg             0\n",
       "cylinders       0\n",
       "displacement    0\n",
       "horsepower      0\n",
       "weight          0\n",
       "acceleration    0\n",
       "model_year      0\n",
       "origin          0\n",
       "name            0\n",
       "dtype: int64"
      ]
     },
     "execution_count": 17,
     "metadata": {},
     "output_type": "execute_result"
    }
   ],
   "source": [
    "data.isna().sum()"
   ]
  },
  {
   "cell_type": "code",
   "execution_count": 10,
   "metadata": {},
   "outputs": [
    {
     "data": {
      "text/plain": [
       "mpg             float64\n",
       "cylinders         int64\n",
       "displacement    float64\n",
       "horsepower       object\n",
       "weight            int64\n",
       "acceleration    float64\n",
       "model_year        int64\n",
       "origin            int64\n",
       "name             object\n",
       "dtype: object"
      ]
     },
     "execution_count": 10,
     "metadata": {},
     "output_type": "execute_result"
    }
   ],
   "source": [
    "data.dtypes"
   ]
  },
  {
   "cell_type": "code",
   "execution_count": 20,
   "metadata": {},
   "outputs": [
    {
     "name": "stdout",
     "output_type": "stream",
     "text": [
      "<class 'pandas.core.frame.DataFrame'>\n",
      "RangeIndex: 398 entries, 0 to 397\n",
      "Data columns (total 9 columns):\n",
      " #   Column        Non-Null Count  Dtype  \n",
      "---  ------        --------------  -----  \n",
      " 0   mpg           398 non-null    float64\n",
      " 1   cylinders     398 non-null    int64  \n",
      " 2   displacement  398 non-null    float64\n",
      " 3   horsepower    398 non-null    object \n",
      " 4   weight        398 non-null    int64  \n",
      " 5   acceleration  398 non-null    float64\n",
      " 6   model_year    398 non-null    int64  \n",
      " 7   origin        398 non-null    int64  \n",
      " 8   name          398 non-null    object \n",
      "dtypes: float64(3), int64(4), object(2)\n",
      "memory usage: 28.1+ KB\n"
     ]
    }
   ],
   "source": [
    "data.info()"
   ]
  },
  {
   "cell_type": "code",
   "execution_count": 21,
   "metadata": {},
   "outputs": [],
   "source": [
    "condtion1 = data['name'] == 'dodge rampage'\n",
    "condtion2 = data['name'] == 'ford ranger'\n",
    "condtion3 = data['name'] == 'peugeot 304'\n",
    "condtion4 = data['name'] == 'volkswagen 411 (sw)'"
   ]
  },
  {
   "cell_type": "code",
   "execution_count": 22,
   "metadata": {},
   "outputs": [
    {
     "data": {
      "text/html": [
       "<div>\n",
       "<style scoped>\n",
       "    .dataframe tbody tr th:only-of-type {\n",
       "        vertical-align: middle;\n",
       "    }\n",
       "\n",
       "    .dataframe tbody tr th {\n",
       "        vertical-align: top;\n",
       "    }\n",
       "\n",
       "    .dataframe thead th {\n",
       "        text-align: right;\n",
       "    }\n",
       "</style>\n",
       "<table border=\"1\" class=\"dataframe\">\n",
       "  <thead>\n",
       "    <tr style=\"text-align: right;\">\n",
       "      <th></th>\n",
       "      <th>mpg</th>\n",
       "      <th>cylinders</th>\n",
       "      <th>displacement</th>\n",
       "      <th>horsepower</th>\n",
       "      <th>weight</th>\n",
       "      <th>acceleration</th>\n",
       "      <th>model_year</th>\n",
       "      <th>origin</th>\n",
       "      <th>name</th>\n",
       "    </tr>\n",
       "  </thead>\n",
       "  <tbody>\n",
       "    <tr>\n",
       "      <th>51</th>\n",
       "      <td>30.0</td>\n",
       "      <td>4</td>\n",
       "      <td>79.0</td>\n",
       "      <td>70</td>\n",
       "      <td>2074</td>\n",
       "      <td>19.5</td>\n",
       "      <td>71</td>\n",
       "      <td>2</td>\n",
       "      <td>peugeot 304</td>\n",
       "    </tr>\n",
       "    <tr>\n",
       "      <th>77</th>\n",
       "      <td>22.0</td>\n",
       "      <td>4</td>\n",
       "      <td>121.0</td>\n",
       "      <td>76</td>\n",
       "      <td>2511</td>\n",
       "      <td>18.0</td>\n",
       "      <td>72</td>\n",
       "      <td>2</td>\n",
       "      <td>volkswagen 411 (sw)</td>\n",
       "    </tr>\n",
       "    <tr>\n",
       "      <th>395</th>\n",
       "      <td>32.0</td>\n",
       "      <td>4</td>\n",
       "      <td>135.0</td>\n",
       "      <td>84</td>\n",
       "      <td>2295</td>\n",
       "      <td>11.6</td>\n",
       "      <td>82</td>\n",
       "      <td>1</td>\n",
       "      <td>dodge rampage</td>\n",
       "    </tr>\n",
       "  </tbody>\n",
       "</table>\n",
       "</div>"
      ],
      "text/plain": [
       "      mpg  cylinders  displacement horsepower  weight  acceleration  \\\n",
       "51   30.0          4          79.0         70    2074          19.5   \n",
       "77   22.0          4         121.0         76    2511          18.0   \n",
       "395  32.0          4         135.0         84    2295          11.6   \n",
       "\n",
       "     model_year  origin                 name  \n",
       "51           71       2          peugeot 304  \n",
       "77           72       2  volkswagen 411 (sw)  \n",
       "395          82       1        dodge rampage  "
      ]
     },
     "execution_count": 22,
     "metadata": {},
     "output_type": "execute_result"
    }
   ],
   "source": [
    "data.loc[condtion1|condtion3|condtion4]"
   ]
  },
  {
   "cell_type": "code",
   "execution_count": 23,
   "metadata": {},
   "outputs": [
    {
     "data": {
      "text/plain": [
       "array([1, 3, 2])"
      ]
     },
     "execution_count": 23,
     "metadata": {},
     "output_type": "execute_result"
    }
   ],
   "source": [
    "data.origin.unique()"
   ]
  },
  {
   "cell_type": "code",
   "execution_count": 24,
   "metadata": {},
   "outputs": [
    {
     "data": {
      "text/html": [
       "<div>\n",
       "<style scoped>\n",
       "    .dataframe tbody tr th:only-of-type {\n",
       "        vertical-align: middle;\n",
       "    }\n",
       "\n",
       "    .dataframe tbody tr th {\n",
       "        vertical-align: top;\n",
       "    }\n",
       "\n",
       "    .dataframe thead th {\n",
       "        text-align: right;\n",
       "    }\n",
       "</style>\n",
       "<table border=\"1\" class=\"dataframe\">\n",
       "  <thead>\n",
       "    <tr style=\"text-align: right;\">\n",
       "      <th></th>\n",
       "      <th>mpg</th>\n",
       "      <th>cylinders</th>\n",
       "      <th>displacement</th>\n",
       "      <th>horsepower</th>\n",
       "      <th>weight</th>\n",
       "      <th>acceleration</th>\n",
       "      <th>model_year</th>\n",
       "      <th>origin</th>\n",
       "      <th>name</th>\n",
       "    </tr>\n",
       "  </thead>\n",
       "  <tbody>\n",
       "    <tr>\n",
       "      <th>0</th>\n",
       "      <td>18.0</td>\n",
       "      <td>8</td>\n",
       "      <td>307.0</td>\n",
       "      <td>130</td>\n",
       "      <td>3504</td>\n",
       "      <td>12.0</td>\n",
       "      <td>70</td>\n",
       "      <td>1</td>\n",
       "      <td>chevrolet chevelle malibu</td>\n",
       "    </tr>\n",
       "    <tr>\n",
       "      <th>1</th>\n",
       "      <td>15.0</td>\n",
       "      <td>8</td>\n",
       "      <td>350.0</td>\n",
       "      <td>165</td>\n",
       "      <td>3693</td>\n",
       "      <td>11.5</td>\n",
       "      <td>70</td>\n",
       "      <td>1</td>\n",
       "      <td>buick skylark 320</td>\n",
       "    </tr>\n",
       "    <tr>\n",
       "      <th>2</th>\n",
       "      <td>18.0</td>\n",
       "      <td>8</td>\n",
       "      <td>318.0</td>\n",
       "      <td>150</td>\n",
       "      <td>3436</td>\n",
       "      <td>11.0</td>\n",
       "      <td>70</td>\n",
       "      <td>1</td>\n",
       "      <td>plymouth satellite</td>\n",
       "    </tr>\n",
       "    <tr>\n",
       "      <th>3</th>\n",
       "      <td>16.0</td>\n",
       "      <td>8</td>\n",
       "      <td>304.0</td>\n",
       "      <td>150</td>\n",
       "      <td>3433</td>\n",
       "      <td>12.0</td>\n",
       "      <td>70</td>\n",
       "      <td>1</td>\n",
       "      <td>amc rebel sst</td>\n",
       "    </tr>\n",
       "    <tr>\n",
       "      <th>4</th>\n",
       "      <td>17.0</td>\n",
       "      <td>8</td>\n",
       "      <td>302.0</td>\n",
       "      <td>140</td>\n",
       "      <td>3449</td>\n",
       "      <td>10.5</td>\n",
       "      <td>70</td>\n",
       "      <td>1</td>\n",
       "      <td>ford torino</td>\n",
       "    </tr>\n",
       "    <tr>\n",
       "      <th>...</th>\n",
       "      <td>...</td>\n",
       "      <td>...</td>\n",
       "      <td>...</td>\n",
       "      <td>...</td>\n",
       "      <td>...</td>\n",
       "      <td>...</td>\n",
       "      <td>...</td>\n",
       "      <td>...</td>\n",
       "      <td>...</td>\n",
       "    </tr>\n",
       "    <tr>\n",
       "      <th>392</th>\n",
       "      <td>27.0</td>\n",
       "      <td>4</td>\n",
       "      <td>151.0</td>\n",
       "      <td>90</td>\n",
       "      <td>2950</td>\n",
       "      <td>17.3</td>\n",
       "      <td>82</td>\n",
       "      <td>1</td>\n",
       "      <td>chevrolet camaro</td>\n",
       "    </tr>\n",
       "    <tr>\n",
       "      <th>393</th>\n",
       "      <td>27.0</td>\n",
       "      <td>4</td>\n",
       "      <td>140.0</td>\n",
       "      <td>86</td>\n",
       "      <td>2790</td>\n",
       "      <td>15.6</td>\n",
       "      <td>82</td>\n",
       "      <td>1</td>\n",
       "      <td>ford mustang gl</td>\n",
       "    </tr>\n",
       "    <tr>\n",
       "      <th>395</th>\n",
       "      <td>32.0</td>\n",
       "      <td>4</td>\n",
       "      <td>135.0</td>\n",
       "      <td>84</td>\n",
       "      <td>2295</td>\n",
       "      <td>11.6</td>\n",
       "      <td>82</td>\n",
       "      <td>1</td>\n",
       "      <td>dodge rampage</td>\n",
       "    </tr>\n",
       "    <tr>\n",
       "      <th>396</th>\n",
       "      <td>28.0</td>\n",
       "      <td>4</td>\n",
       "      <td>120.0</td>\n",
       "      <td>79</td>\n",
       "      <td>2625</td>\n",
       "      <td>18.6</td>\n",
       "      <td>82</td>\n",
       "      <td>1</td>\n",
       "      <td>ford ranger</td>\n",
       "    </tr>\n",
       "    <tr>\n",
       "      <th>397</th>\n",
       "      <td>31.0</td>\n",
       "      <td>4</td>\n",
       "      <td>119.0</td>\n",
       "      <td>82</td>\n",
       "      <td>2720</td>\n",
       "      <td>19.4</td>\n",
       "      <td>82</td>\n",
       "      <td>1</td>\n",
       "      <td>chevy s-10</td>\n",
       "    </tr>\n",
       "  </tbody>\n",
       "</table>\n",
       "<p>328 rows × 9 columns</p>\n",
       "</div>"
      ],
      "text/plain": [
       "      mpg  cylinders  displacement horsepower  weight  acceleration  \\\n",
       "0    18.0          8         307.0        130    3504          12.0   \n",
       "1    15.0          8         350.0        165    3693          11.5   \n",
       "2    18.0          8         318.0        150    3436          11.0   \n",
       "3    16.0          8         304.0        150    3433          12.0   \n",
       "4    17.0          8         302.0        140    3449          10.5   \n",
       "..    ...        ...           ...        ...     ...           ...   \n",
       "392  27.0          4         151.0         90    2950          17.3   \n",
       "393  27.0          4         140.0         86    2790          15.6   \n",
       "395  32.0          4         135.0         84    2295          11.6   \n",
       "396  28.0          4         120.0         79    2625          18.6   \n",
       "397  31.0          4         119.0         82    2720          19.4   \n",
       "\n",
       "     model_year  origin                       name  \n",
       "0            70       1  chevrolet chevelle malibu  \n",
       "1            70       1          buick skylark 320  \n",
       "2            70       1         plymouth satellite  \n",
       "3            70       1              amc rebel sst  \n",
       "4            70       1                ford torino  \n",
       "..          ...     ...                        ...  \n",
       "392          82       1           chevrolet camaro  \n",
       "393          82       1            ford mustang gl  \n",
       "395          82       1              dodge rampage  \n",
       "396          82       1                ford ranger  \n",
       "397          82       1                 chevy s-10  \n",
       "\n",
       "[328 rows x 9 columns]"
      ]
     },
     "execution_count": 24,
     "metadata": {},
     "output_type": "execute_result"
    }
   ],
   "source": [
    "cond = data['origin'].isin([1, 3])\n",
    "data.loc[cond]"
   ]
  },
  {
   "cell_type": "code",
   "execution_count": 25,
   "metadata": {},
   "outputs": [
    {
     "data": {
      "text/plain": [
       "44     5140\n",
       "103    4997\n",
       "42     4955\n",
       "90     4952\n",
       "95     4951\n",
       "104    4906\n",
       "43     4746\n",
       "94     4735\n",
       "28     4732\n",
       "137    4699\n",
       "Name: weight, dtype: int64"
      ]
     },
     "execution_count": 25,
     "metadata": {},
     "output_type": "execute_result"
    }
   ],
   "source": [
    "data['weight'].nlargest(10)"
   ]
  },
  {
   "cell_type": "code",
   "execution_count": 26,
   "metadata": {},
   "outputs": [
    {
     "data": {
      "text/plain": [
       "54     1613\n",
       "144    1649\n",
       "343    1755\n",
       "345    1760\n",
       "53     1773\n",
       "181    1795\n",
       "198    1795\n",
       "245    1800\n",
       "248    1800\n",
       "203    1825\n",
       "Name: weight, dtype: int64"
      ]
     },
     "execution_count": 26,
     "metadata": {},
     "output_type": "execute_result"
    }
   ],
   "source": [
    "data['weight'].nsmallest(10)"
   ]
  },
  {
   "cell_type": "code",
   "execution_count": 28,
   "metadata": {},
   "outputs": [
    {
     "data": {
      "text/plain": [
       "305"
      ]
     },
     "execution_count": 28,
     "metadata": {},
     "output_type": "execute_result"
    }
   ],
   "source": [
    "data.name.nunique()"
   ]
  },
  {
   "cell_type": "code",
   "execution_count": 34,
   "metadata": {},
   "outputs": [
    {
     "data": {
      "text/plain": [
       "44     5140\n",
       "103    4997\n",
       "42     4955\n",
       "90     4952\n",
       "95     4951\n",
       "104    4906\n",
       "43     4746\n",
       "94     4735\n",
       "28     4732\n",
       "137    4699\n",
       "Name: weight, dtype: int64"
      ]
     },
     "execution_count": 34,
     "metadata": {},
     "output_type": "execute_result"
    }
   ],
   "source": [
    "data['weight'].nlargest(10, 'first')"
   ]
  },
  {
   "cell_type": "code",
   "execution_count": 35,
   "metadata": {},
   "outputs": [
    {
     "data": {
      "text/plain": [
       "Index(['mpg', 'cylinders', 'displacement', 'horsepower', 'weight',\n",
       "       'acceleration', 'model_year', 'origin', 'name'],\n",
       "      dtype='object')"
      ]
     },
     "execution_count": 35,
     "metadata": {},
     "output_type": "execute_result"
    }
   ],
   "source": [
    "data.columns"
   ]
  },
  {
   "cell_type": "code",
   "execution_count": 37,
   "metadata": {},
   "outputs": [
    {
     "data": {
      "text/html": [
       "<div>\n",
       "<style scoped>\n",
       "    .dataframe tbody tr th:only-of-type {\n",
       "        vertical-align: middle;\n",
       "    }\n",
       "\n",
       "    .dataframe tbody tr th {\n",
       "        vertical-align: top;\n",
       "    }\n",
       "\n",
       "    .dataframe thead th {\n",
       "        text-align: right;\n",
       "    }\n",
       "</style>\n",
       "<table border=\"1\" class=\"dataframe\">\n",
       "  <thead>\n",
       "    <tr style=\"text-align: right;\">\n",
       "      <th></th>\n",
       "      <th>mpg</th>\n",
       "      <th>cylinders</th>\n",
       "      <th>name</th>\n",
       "      <th>weight</th>\n",
       "    </tr>\n",
       "  </thead>\n",
       "  <tbody>\n",
       "    <tr>\n",
       "      <th>44</th>\n",
       "      <td>13.0</td>\n",
       "      <td>8</td>\n",
       "      <td>pontiac safari (sw)</td>\n",
       "      <td>5140</td>\n",
       "    </tr>\n",
       "    <tr>\n",
       "      <th>103</th>\n",
       "      <td>11.0</td>\n",
       "      <td>8</td>\n",
       "      <td>chevrolet impala</td>\n",
       "      <td>4997</td>\n",
       "    </tr>\n",
       "    <tr>\n",
       "      <th>42</th>\n",
       "      <td>12.0</td>\n",
       "      <td>8</td>\n",
       "      <td>dodge monaco (sw)</td>\n",
       "      <td>4955</td>\n",
       "    </tr>\n",
       "    <tr>\n",
       "      <th>90</th>\n",
       "      <td>12.0</td>\n",
       "      <td>8</td>\n",
       "      <td>mercury marquis brougham</td>\n",
       "      <td>4952</td>\n",
       "    </tr>\n",
       "    <tr>\n",
       "      <th>95</th>\n",
       "      <td>12.0</td>\n",
       "      <td>8</td>\n",
       "      <td>buick electra 225 custom</td>\n",
       "      <td>4951</td>\n",
       "    </tr>\n",
       "  </tbody>\n",
       "</table>\n",
       "</div>"
      ],
      "text/plain": [
       "      mpg  cylinders                      name  weight\n",
       "44   13.0          8       pontiac safari (sw)    5140\n",
       "103  11.0          8          chevrolet impala    4997\n",
       "42   12.0          8         dodge monaco (sw)    4955\n",
       "90   12.0          8  mercury marquis brougham    4952\n",
       "95   12.0          8  buick electra 225 custom    4951"
      ]
     },
     "execution_count": 37,
     "metadata": {},
     "output_type": "execute_result"
    }
   ],
   "source": [
    "data[['mpg', 'cylinders', 'name', 'weight']].nlargest(5, 'weight')"
   ]
  },
  {
   "cell_type": "code",
   "execution_count": null,
   "metadata": {},
   "outputs": [],
   "source": []
  }
 ],
 "metadata": {
  "kernelspec": {
   "display_name": "Python 3",
   "language": "python",
   "name": "python3"
  },
  "language_info": {
   "codemirror_mode": {
    "name": "ipython",
    "version": 3
   },
   "file_extension": ".py",
   "mimetype": "text/x-python",
   "name": "python",
   "nbconvert_exporter": "python",
   "pygments_lexer": "ipython3",
   "version": "3.11.1"
  },
  "orig_nbformat": 4,
  "vscode": {
   "interpreter": {
    "hash": "87a1d552f91eeb558c0ccd448f410e247f4277ae8c89a1716b4b50ef0e37ae74"
   }
  }
 },
 "nbformat": 4,
 "nbformat_minor": 2
}
