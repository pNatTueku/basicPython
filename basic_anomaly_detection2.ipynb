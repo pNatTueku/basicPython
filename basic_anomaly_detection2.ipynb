{
 "cells": [
  {
   "cell_type": "markdown",
   "metadata": {},
   "source": [
    "### Anomaly Detection\n",
    "- To indentify the data points that are different of the other data point\n",
    "- There are 3 categories\n",
    "    - Supervised Anomaly Dection: labels for both nomal and anomalous data\n",
    "    - Semi-Supervised Anomaly Dectection: only label of nomal data \n",
    "    - Unsupervise Anomaly Dectection: no label is available\n",
    "- Algorithms\n",
    "    - Mahalanobis Distance: \n",
    "        - For one single dimension data, z-score can be used for outlier/anomaly detection. A data point is labeled as an anomaly if |z| > T (Threshold)\n",
    "        - For multidimensional data, the z-score is not applicable. The Mahalanobis distance defined as https://en.wikipedia.org/wiki/Mahalanobis_distance\n",
    "        \n",
    "    - Density-based spatial clustering of application with noise (DBSCAN)\n",
    "    - Local Outlier Factor (LOF)\n",
    "    - Isolation Forest\n",
    "    - One-Class Support Vector Machine"
   ]
  },
  {
   "cell_type": "code",
   "execution_count": 1,
   "metadata": {},
   "outputs": [],
   "source": [
    "# import libraries\n",
    "import pandas as pd\n",
    "import numpy as np\n",
    "import matplotlib.pyplot as plt\n",
    "\n",
    "# make dataset\n",
    "from sklearn.datasets import make_blobs\n",
    "\n",
    "# statistical modules for data generation and critical values\n",
    "from scipy.stats import multivariate_normal, beta, uniform, t\n",
    "\n",
    "from functools import partial\n",
    "\n",
    "from sklearn import svm\n",
    "from sklearn.neighbors import NearestNeighbors\n",
    "from sklearn.metrics import pairwise_distances\n",
    "from sklearn.covariance import EllipticEnvelope # use for Mohalanobis distance\n",
    "from sklearn.cluster import DBSCAN\n",
    "from sklearn.ensemble import IsolationForest\n",
    "from sklearn.neighbors import LocalOutlierFactor\n",
    "from sklearn.linear_model import SGDOneClassSVM\n",
    "\n",
    "from sklearn.inspection import DecisionBoundaryDisplay\n",
    "from sklearn.metrics import classification_report\n",
    "from sklearn.metrics import roc_curve, auc\n",
    "\n",
    "from typing import Any\n"
   ]
  },
  {
   "cell_type": "code",
   "execution_count": null,
   "metadata": {},
   "outputs": [],
   "source": [
    "from typing import Callable, Literal\n",
    "\n",
    "\n",
    "class DBSCAND_outliner(DBSCAN):\n",
    "\n",
    "    def __init__(self, eps = 0.5, *, min_samples = 5, metric = \"euclinden\", metric_params = None, algorithm = \"auto\", leaf_size = 30, p =None, n_job = None) -> None:"
   ]
  }
 ],
 "metadata": {
  "kernelspec": {
   "display_name": "conda_env",
   "language": "python",
   "name": "python3"
  },
  "language_info": {
   "codemirror_mode": {
    "name": "ipython",
    "version": 3
   },
   "file_extension": ".py",
   "mimetype": "text/x-python",
   "name": "python",
   "nbconvert_exporter": "python",
   "pygments_lexer": "ipython3",
   "version": "3.9.15"
  }
 },
 "nbformat": 4,
 "nbformat_minor": 2
}
