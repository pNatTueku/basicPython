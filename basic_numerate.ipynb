{
 "cells": [
  {
   "cell_type": "code",
   "execution_count": 1,
   "metadata": {},
   "outputs": [
    {
     "data": {
      "text/plain": [
       "['Gray', 'Black', 'Blue', 'Brown', 'Green']"
      ]
     },
     "execution_count": 1,
     "metadata": {},
     "output_type": "execute_result"
    }
   ],
   "source": [
    "# create a list of colors\n",
    "\n",
    "colors = ['Gray', 'Black', 'Blue', 'Brown', 'Green']\n",
    "colors"
   ]
  },
  {
   "cell_type": "code",
   "execution_count": 2,
   "metadata": {},
   "outputs": [
    {
     "name": "stdout",
     "output_type": "stream",
     "text": [
      "Gray\n",
      "Black\n",
      "Blue\n",
      "Brown\n",
      "Green\n"
     ]
    }
   ],
   "source": [
    "# create a for loop to print all colors\n",
    "for color in colors:\n",
    "    print(color)"
   ]
  },
  {
   "cell_type": "code",
   "execution_count": 3,
   "metadata": {},
   "outputs": [
    {
     "name": "stdout",
     "output_type": "stream",
     "text": [
      "1 Gray\n",
      "1 Black\n",
      "1 Blue\n",
      "1 Brown\n",
      "1 Green\n"
     ]
    }
   ],
   "source": [
    "colors = ['Gray', 'Black', 'Blue', 'Brown', 'Green']\n",
    "count = 1\n",
    "\n",
    "for color in colors:\n",
    "    print(count, color)"
   ]
  },
  {
   "cell_type": "code",
   "execution_count": 4,
   "metadata": {},
   "outputs": [
    {
     "name": "stdout",
     "output_type": "stream",
     "text": [
      "1 Gray\n",
      "2 Black\n",
      "3 Blue\n",
      "4 Brown\n",
      "5 Green\n"
     ]
    }
   ],
   "source": [
    "colors = ['Gray', 'Black', 'Blue', 'Brown', 'Green']\n",
    "count = 1\n",
    "\n",
    "for color in colors:\n",
    "    print(count, color)\n",
    "    count += 1"
   ]
  },
  {
   "cell_type": "code",
   "execution_count": 5,
   "metadata": {},
   "outputs": [
    {
     "name": "stdout",
     "output_type": "stream",
     "text": [
      "0\n",
      "1\n",
      "2\n",
      "3\n",
      "4\n"
     ]
    }
   ],
   "source": [
    "# use range length\n",
    "\n",
    "colors = ['Gray', 'Black', 'Blue', 'Brown', 'Green']\n",
    "\n",
    "for count in range(len(colors)):\n",
    "    print(count)"
   ]
  },
  {
   "cell_type": "code",
   "execution_count": 6,
   "metadata": {},
   "outputs": [
    {
     "name": "stdout",
     "output_type": "stream",
     "text": [
      "0 Gray\n",
      "1 Black\n",
      "2 Blue\n",
      "3 Brown\n",
      "4 Green\n"
     ]
    }
   ],
   "source": [
    "colors = ['Gray', 'Black', 'Blue', 'Brown', 'Green']\n",
    "\n",
    "for count in range(len(colors)):\n",
    "    print(count, colors[count]) # colors[] to access the index"
   ]
  },
  {
   "cell_type": "code",
   "execution_count": 7,
   "metadata": {},
   "outputs": [
    {
     "name": "stdout",
     "output_type": "stream",
     "text": [
      "1 Gray\n",
      "2 Black\n",
      "3 Blue\n",
      "4 Brown\n",
      "5 Green\n"
     ]
    }
   ],
   "source": [
    "# use range length and get same result of the first work\n",
    "\n",
    "colors = ['Gray', 'Black', 'Blue', 'Brown', 'Green']\n",
    "\n",
    "for count in range(len(colors)):\n",
    "    print(count + 1, colors[count]) # colors[] to access value from the index"
   ]
  },
  {
   "cell_type": "markdown",
   "metadata": {},
   "source": [
    "### Let's work on Enumerate"
   ]
  },
  {
   "cell_type": "code",
   "execution_count": 10,
   "metadata": {},
   "outputs": [
    {
     "name": "stdout",
     "output_type": "stream",
     "text": [
      "0 Gray\n",
      "1 Black\n",
      "2 Blue\n",
      "3 Brown\n",
      "4 Green\n"
     ]
    }
   ],
   "source": [
    "# use enumerate \n",
    "\n",
    "colors = ['Gray', 'Black', 'Blue', 'Brown', 'Green']\n",
    "\n",
    "for count, color in enumerate(colors): # we can work on both count and color here\n",
    "    print(count, color)"
   ]
  },
  {
   "cell_type": "code",
   "execution_count": 11,
   "metadata": {},
   "outputs": [
    {
     "name": "stdout",
     "output_type": "stream",
     "text": [
      "1 Gray\n",
      "2 Black\n",
      "3 Blue\n",
      "4 Brown\n",
      "5 Green\n"
     ]
    }
   ],
   "source": [
    "# use enumerate and get same result as the 1st and 2nd works\n",
    "\n",
    "colors = ['Gray', 'Black', 'Blue', 'Brown', 'Green']\n",
    "\n",
    "for count, color in enumerate(colors): # we can work on both count and color here\n",
    "    print(count + 1, color)"
   ]
  },
  {
   "cell_type": "code",
   "execution_count": null,
   "metadata": {},
   "outputs": [],
   "source": []
  }
 ],
 "metadata": {
  "kernelspec": {
   "display_name": "conda_env",
   "language": "python",
   "name": "python3"
  },
  "language_info": {
   "codemirror_mode": {
    "name": "ipython",
    "version": 3
   },
   "file_extension": ".py",
   "mimetype": "text/x-python",
   "name": "python",
   "nbconvert_exporter": "python",
   "pygments_lexer": "ipython3",
   "version": "3.9.15"
  }
 },
 "nbformat": 4,
 "nbformat_minor": 2
}
