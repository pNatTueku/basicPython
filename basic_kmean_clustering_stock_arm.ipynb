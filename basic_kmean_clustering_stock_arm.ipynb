{
 "cells": [
  {
   "cell_type": "code",
   "execution_count": 1,
   "metadata": {},
   "outputs": [],
   "source": [
    "# !pip install --upgrade pip"
   ]
  },
  {
   "cell_type": "code",
   "execution_count": 2,
   "metadata": {},
   "outputs": [],
   "source": [
    "# !pip install yfinance"
   ]
  },
  {
   "cell_type": "code",
   "execution_count": 3,
   "metadata": {},
   "outputs": [],
   "source": [
    "# import libraries\n",
    "\n",
    "import numpy as np \n",
    "import pandas as pd\n",
    "import yfinance as yf\n",
    "\n",
    "from sklearn.preprocessing import StandardScaler # use it because kmean is sentsitive for the wide range of features, then we apply it for normalization\n",
    "\n",
    "import matplotlib.pyplot as plt \n",
    "%matplotlib inline"
   ]
  },
  {
   "cell_type": "code",
   "execution_count": 4,
   "metadata": {},
   "outputs": [],
   "source": [
    "start = \"2010-01-01\"\n",
    "end = \"2023-12-31\""
   ]
  },
  {
   "cell_type": "code",
   "execution_count": 5,
   "metadata": {},
   "outputs": [
    {
     "data": {
      "text/html": [
       "<div>\n",
       "<style scoped>\n",
       "    .dataframe tbody tr th:only-of-type {\n",
       "        vertical-align: middle;\n",
       "    }\n",
       "\n",
       "    .dataframe tbody tr th {\n",
       "        vertical-align: top;\n",
       "    }\n",
       "\n",
       "    .dataframe thead th {\n",
       "        text-align: right;\n",
       "    }\n",
       "</style>\n",
       "<table border=\"1\" class=\"dataframe\">\n",
       "  <thead>\n",
       "    <tr style=\"text-align: right;\">\n",
       "      <th></th>\n",
       "      <th>Open</th>\n",
       "      <th>High</th>\n",
       "      <th>Low</th>\n",
       "      <th>Close</th>\n",
       "      <th>Adj Close</th>\n",
       "      <th>Volume</th>\n",
       "    </tr>\n",
       "    <tr>\n",
       "      <th>Date</th>\n",
       "      <th></th>\n",
       "      <th></th>\n",
       "      <th></th>\n",
       "      <th></th>\n",
       "      <th></th>\n",
       "      <th></th>\n",
       "    </tr>\n",
       "  </thead>\n",
       "  <tbody>\n",
       "    <tr>\n",
       "      <th>2023-09-14</th>\n",
       "      <td>56.099998</td>\n",
       "      <td>66.279999</td>\n",
       "      <td>55.540001</td>\n",
       "      <td>63.590000</td>\n",
       "      <td>63.590000</td>\n",
       "      <td>130534500</td>\n",
       "    </tr>\n",
       "    <tr>\n",
       "      <th>2023-09-15</th>\n",
       "      <td>68.629997</td>\n",
       "      <td>69.000000</td>\n",
       "      <td>60.750000</td>\n",
       "      <td>60.750000</td>\n",
       "      <td>60.750000</td>\n",
       "      <td>74568900</td>\n",
       "    </tr>\n",
       "    <tr>\n",
       "      <th>2023-09-18</th>\n",
       "      <td>57.950001</td>\n",
       "      <td>58.741001</td>\n",
       "      <td>55.020000</td>\n",
       "      <td>58.000000</td>\n",
       "      <td>58.000000</td>\n",
       "      <td>34571900</td>\n",
       "    </tr>\n",
       "    <tr>\n",
       "      <th>2023-09-19</th>\n",
       "      <td>56.250000</td>\n",
       "      <td>56.779999</td>\n",
       "      <td>53.880001</td>\n",
       "      <td>55.169998</td>\n",
       "      <td>55.169998</td>\n",
       "      <td>18308600</td>\n",
       "    </tr>\n",
       "    <tr>\n",
       "      <th>2023-09-20</th>\n",
       "      <td>55.169998</td>\n",
       "      <td>55.400002</td>\n",
       "      <td>51.520000</td>\n",
       "      <td>52.910000</td>\n",
       "      <td>52.910000</td>\n",
       "      <td>16369500</td>\n",
       "    </tr>\n",
       "  </tbody>\n",
       "</table>\n",
       "</div>"
      ],
      "text/plain": [
       "                 Open       High        Low      Close  Adj Close     Volume\n",
       "Date                                                                        \n",
       "2023-09-14  56.099998  66.279999  55.540001  63.590000  63.590000  130534500\n",
       "2023-09-15  68.629997  69.000000  60.750000  60.750000  60.750000   74568900\n",
       "2023-09-18  57.950001  58.741001  55.020000  58.000000  58.000000   34571900\n",
       "2023-09-19  56.250000  56.779999  53.880001  55.169998  55.169998   18308600\n",
       "2023-09-20  55.169998  55.400002  51.520000  52.910000  52.910000   16369500"
      ]
     },
     "execution_count": 5,
     "metadata": {},
     "output_type": "execute_result"
    }
   ],
   "source": [
    "arm_df = yf.download(\"ARM\", start = start, end = end, progress = False) # raw data\n",
    "arm_df.head()"
   ]
  },
  {
   "cell_type": "code",
   "execution_count": 6,
   "metadata": {},
   "outputs": [
    {
     "data": {
      "text/plain": [
       "(75, 6)"
      ]
     },
     "execution_count": 6,
     "metadata": {},
     "output_type": "execute_result"
    }
   ],
   "source": [
    "arm_df.shape"
   ]
  },
  {
   "cell_type": "code",
   "execution_count": 7,
   "metadata": {},
   "outputs": [
    {
     "data": {
      "text/plain": [
       "DatetimeIndex(['2023-09-14', '2023-09-15', '2023-09-18', '2023-09-19',\n",
       "               '2023-09-20', '2023-09-21', '2023-09-22', '2023-09-25',\n",
       "               '2023-09-26', '2023-09-27', '2023-09-28', '2023-09-29',\n",
       "               '2023-10-02', '2023-10-03', '2023-10-04', '2023-10-05',\n",
       "               '2023-10-06', '2023-10-09', '2023-10-10', '2023-10-11',\n",
       "               '2023-10-12', '2023-10-13', '2023-10-16', '2023-10-17',\n",
       "               '2023-10-18', '2023-10-19', '2023-10-20', '2023-10-23',\n",
       "               '2023-10-24', '2023-10-25', '2023-10-26', '2023-10-27',\n",
       "               '2023-10-30', '2023-10-31', '2023-11-01', '2023-11-02',\n",
       "               '2023-11-03', '2023-11-06', '2023-11-07', '2023-11-08',\n",
       "               '2023-11-09', '2023-11-10', '2023-11-13', '2023-11-14',\n",
       "               '2023-11-15', '2023-11-16', '2023-11-17', '2023-11-20',\n",
       "               '2023-11-21', '2023-11-22', '2023-11-24', '2023-11-27',\n",
       "               '2023-11-28', '2023-11-29', '2023-11-30', '2023-12-01',\n",
       "               '2023-12-04', '2023-12-05', '2023-12-06', '2023-12-07',\n",
       "               '2023-12-08', '2023-12-11', '2023-12-12', '2023-12-13',\n",
       "               '2023-12-14', '2023-12-15', '2023-12-18', '2023-12-19',\n",
       "               '2023-12-20', '2023-12-21', '2023-12-22', '2023-12-26',\n",
       "               '2023-12-27', '2023-12-28', '2023-12-29'],\n",
       "              dtype='datetime64[ns]', name='Date', freq=None)"
      ]
     },
     "execution_count": 7,
     "metadata": {},
     "output_type": "execute_result"
    }
   ],
   "source": [
    "arm_df.index"
   ]
  },
  {
   "cell_type": "code",
   "execution_count": 8,
   "metadata": {},
   "outputs": [
    {
     "data": {
      "text/plain": [
       "pandas.core.frame.DataFrame"
      ]
     },
     "execution_count": 8,
     "metadata": {},
     "output_type": "execute_result"
    }
   ],
   "source": [
    "type(arm_df)"
   ]
  },
  {
   "cell_type": "code",
   "execution_count": 9,
   "metadata": {},
   "outputs": [
    {
     "data": {
      "text/html": [
       "<div>\n",
       "<style scoped>\n",
       "    .dataframe tbody tr th:only-of-type {\n",
       "        vertical-align: middle;\n",
       "    }\n",
       "\n",
       "    .dataframe tbody tr th {\n",
       "        vertical-align: top;\n",
       "    }\n",
       "\n",
       "    .dataframe thead th {\n",
       "        text-align: right;\n",
       "    }\n",
       "</style>\n",
       "<table border=\"1\" class=\"dataframe\">\n",
       "  <thead>\n",
       "    <tr style=\"text-align: right;\">\n",
       "      <th></th>\n",
       "      <th>Open</th>\n",
       "      <th>High</th>\n",
       "      <th>Low</th>\n",
       "      <th>Close</th>\n",
       "      <th>Adj Close</th>\n",
       "      <th>Volume</th>\n",
       "    </tr>\n",
       "    <tr>\n",
       "      <th>Date</th>\n",
       "      <th></th>\n",
       "      <th></th>\n",
       "      <th></th>\n",
       "      <th></th>\n",
       "      <th></th>\n",
       "      <th></th>\n",
       "    </tr>\n",
       "  </thead>\n",
       "  <tbody>\n",
       "    <tr>\n",
       "      <th>2023-09-14</th>\n",
       "      <td>56.099998</td>\n",
       "      <td>66.279999</td>\n",
       "      <td>55.540001</td>\n",
       "      <td>63.590000</td>\n",
       "      <td>63.590000</td>\n",
       "      <td>130534500</td>\n",
       "    </tr>\n",
       "    <tr>\n",
       "      <th>2023-09-15</th>\n",
       "      <td>68.629997</td>\n",
       "      <td>69.000000</td>\n",
       "      <td>60.750000</td>\n",
       "      <td>60.750000</td>\n",
       "      <td>60.750000</td>\n",
       "      <td>74568900</td>\n",
       "    </tr>\n",
       "    <tr>\n",
       "      <th>2023-09-18</th>\n",
       "      <td>57.950001</td>\n",
       "      <td>58.741001</td>\n",
       "      <td>55.020000</td>\n",
       "      <td>58.000000</td>\n",
       "      <td>58.000000</td>\n",
       "      <td>34571900</td>\n",
       "    </tr>\n",
       "    <tr>\n",
       "      <th>2023-09-19</th>\n",
       "      <td>56.250000</td>\n",
       "      <td>56.779999</td>\n",
       "      <td>53.880001</td>\n",
       "      <td>55.169998</td>\n",
       "      <td>55.169998</td>\n",
       "      <td>18308600</td>\n",
       "    </tr>\n",
       "    <tr>\n",
       "      <th>2023-09-20</th>\n",
       "      <td>55.169998</td>\n",
       "      <td>55.400002</td>\n",
       "      <td>51.520000</td>\n",
       "      <td>52.910000</td>\n",
       "      <td>52.910000</td>\n",
       "      <td>16369500</td>\n",
       "    </tr>\n",
       "  </tbody>\n",
       "</table>\n",
       "</div>"
      ],
      "text/plain": [
       "                 Open       High        Low      Close  Adj Close     Volume\n",
       "Date                                                                        \n",
       "2023-09-14  56.099998  66.279999  55.540001  63.590000  63.590000  130534500\n",
       "2023-09-15  68.629997  69.000000  60.750000  60.750000  60.750000   74568900\n",
       "2023-09-18  57.950001  58.741001  55.020000  58.000000  58.000000   34571900\n",
       "2023-09-19  56.250000  56.779999  53.880001  55.169998  55.169998   18308600\n",
       "2023-09-20  55.169998  55.400002  51.520000  52.910000  52.910000   16369500"
      ]
     },
     "execution_count": 9,
     "metadata": {},
     "output_type": "execute_result"
    }
   ],
   "source": [
    "stock = arm_df.copy()\n",
    "stock.head()"
   ]
  },
  {
   "cell_type": "code",
   "execution_count": 10,
   "metadata": {},
   "outputs": [
    {
     "data": {
      "text/plain": [
       "(75, 6)"
      ]
     },
     "execution_count": 10,
     "metadata": {},
     "output_type": "execute_result"
    }
   ],
   "source": [
    "stock.shape"
   ]
  },
  {
   "cell_type": "code",
   "execution_count": 11,
   "metadata": {},
   "outputs": [
    {
     "data": {
      "text/plain": [
       "[<matplotlib.lines.Line2D at 0x160586eb0>]"
      ]
     },
     "execution_count": 11,
     "metadata": {},
     "output_type": "execute_result"
    },
    {
     "data": {
      "image/png": "[encoded data removed]",
      "text/plain": [
       "<Figure size 640x480 with 1 Axes>"
      ]
     },
     "metadata": {},
     "output_type": "display_data"
    }
   ],
   "source": [
    "# plot \n",
    "\n",
    "plt.plot(stock['Adj Close'])"
   ]
  },
  {
   "cell_type": "code",
   "execution_count": 12,
   "metadata": {},
   "outputs": [
    {
     "data": {
      "text/html": [
       "<div>\n",
       "<style scoped>\n",
       "    .dataframe tbody tr th:only-of-type {\n",
       "        vertical-align: middle;\n",
       "    }\n",
       "\n",
       "    .dataframe tbody tr th {\n",
       "        vertical-align: top;\n",
       "    }\n",
       "\n",
       "    .dataframe thead th {\n",
       "        text-align: right;\n",
       "    }\n",
       "</style>\n",
       "<table border=\"1\" class=\"dataframe\">\n",
       "  <thead>\n",
       "    <tr style=\"text-align: right;\">\n",
       "      <th></th>\n",
       "      <th>Open</th>\n",
       "      <th>High</th>\n",
       "      <th>Low</th>\n",
       "      <th>Close</th>\n",
       "      <th>Adj Close</th>\n",
       "      <th>Volume</th>\n",
       "      <th>Log Rets</th>\n",
       "    </tr>\n",
       "    <tr>\n",
       "      <th>Date</th>\n",
       "      <th></th>\n",
       "      <th></th>\n",
       "      <th></th>\n",
       "      <th></th>\n",
       "      <th></th>\n",
       "      <th></th>\n",
       "      <th></th>\n",
       "    </tr>\n",
       "  </thead>\n",
       "  <tbody>\n",
       "    <tr>\n",
       "      <th>2023-09-14</th>\n",
       "      <td>56.099998</td>\n",
       "      <td>66.279999</td>\n",
       "      <td>55.540001</td>\n",
       "      <td>63.590000</td>\n",
       "      <td>63.590000</td>\n",
       "      <td>130534500</td>\n",
       "      <td>NaN</td>\n",
       "    </tr>\n",
       "    <tr>\n",
       "      <th>2023-09-15</th>\n",
       "      <td>68.629997</td>\n",
       "      <td>69.000000</td>\n",
       "      <td>60.750000</td>\n",
       "      <td>60.750000</td>\n",
       "      <td>60.750000</td>\n",
       "      <td>74568900</td>\n",
       "      <td>-0.045689</td>\n",
       "    </tr>\n",
       "    <tr>\n",
       "      <th>2023-09-18</th>\n",
       "      <td>57.950001</td>\n",
       "      <td>58.741001</td>\n",
       "      <td>55.020000</td>\n",
       "      <td>58.000000</td>\n",
       "      <td>58.000000</td>\n",
       "      <td>34571900</td>\n",
       "      <td>-0.046324</td>\n",
       "    </tr>\n",
       "    <tr>\n",
       "      <th>2023-09-19</th>\n",
       "      <td>56.250000</td>\n",
       "      <td>56.779999</td>\n",
       "      <td>53.880001</td>\n",
       "      <td>55.169998</td>\n",
       "      <td>55.169998</td>\n",
       "      <td>18308600</td>\n",
       "      <td>-0.050024</td>\n",
       "    </tr>\n",
       "    <tr>\n",
       "      <th>2023-09-20</th>\n",
       "      <td>55.169998</td>\n",
       "      <td>55.400002</td>\n",
       "      <td>51.520000</td>\n",
       "      <td>52.910000</td>\n",
       "      <td>52.910000</td>\n",
       "      <td>16369500</td>\n",
       "      <td>-0.041827</td>\n",
       "    </tr>\n",
       "  </tbody>\n",
       "</table>\n",
       "</div>"
      ],
      "text/plain": [
       "                 Open       High        Low      Close  Adj Close     Volume  \\\n",
       "Date                                                                           \n",
       "2023-09-14  56.099998  66.279999  55.540001  63.590000  63.590000  130534500   \n",
       "2023-09-15  68.629997  69.000000  60.750000  60.750000  60.750000   74568900   \n",
       "2023-09-18  57.950001  58.741001  55.020000  58.000000  58.000000   34571900   \n",
       "2023-09-19  56.250000  56.779999  53.880001  55.169998  55.169998   18308600   \n",
       "2023-09-20  55.169998  55.400002  51.520000  52.910000  52.910000   16369500   \n",
       "\n",
       "            Log Rets  \n",
       "Date                  \n",
       "2023-09-14       NaN  \n",
       "2023-09-15 -0.045689  \n",
       "2023-09-18 -0.046324  \n",
       "2023-09-19 -0.050024  \n",
       "2023-09-20 -0.041827  "
      ]
     },
     "execution_count": 12,
     "metadata": {},
     "output_type": "execute_result"
    }
   ],
   "source": [
    "# get feature for clustering\n",
    "\n",
    "# calculate log return\n",
    "stock['Log Rets'] = np.log(stock['Adj Close'] / stock['Adj Close'].shift(1))\n",
    "stock.head()"
   ]
  },
  {
   "cell_type": "code",
   "execution_count": 13,
   "metadata": {},
   "outputs": [
    {
     "data": {
      "text/plain": [
       "(75, 7)"
      ]
     },
     "execution_count": 13,
     "metadata": {},
     "output_type": "execute_result"
    }
   ],
   "source": [
    "stock.shape"
   ]
  },
  {
   "cell_type": "code",
   "execution_count": 14,
   "metadata": {},
   "outputs": [],
   "source": [
    "stock.dropna(inplace = True)"
   ]
  },
  {
   "cell_type": "code",
   "execution_count": 15,
   "metadata": {},
   "outputs": [
    {
     "data": {
      "text/html": [
       "<div>\n",
       "<style scoped>\n",
       "    .dataframe tbody tr th:only-of-type {\n",
       "        vertical-align: middle;\n",
       "    }\n",
       "\n",
       "    .dataframe tbody tr th {\n",
       "        vertical-align: top;\n",
       "    }\n",
       "\n",
       "    .dataframe thead th {\n",
       "        text-align: right;\n",
       "    }\n",
       "</style>\n",
       "<table border=\"1\" class=\"dataframe\">\n",
       "  <thead>\n",
       "    <tr style=\"text-align: right;\">\n",
       "      <th></th>\n",
       "      <th>Open</th>\n",
       "      <th>High</th>\n",
       "      <th>Low</th>\n",
       "      <th>Close</th>\n",
       "      <th>Adj Close</th>\n",
       "      <th>Volume</th>\n",
       "      <th>Log Rets</th>\n",
       "    </tr>\n",
       "    <tr>\n",
       "      <th>Date</th>\n",
       "      <th></th>\n",
       "      <th></th>\n",
       "      <th></th>\n",
       "      <th></th>\n",
       "      <th></th>\n",
       "      <th></th>\n",
       "      <th></th>\n",
       "    </tr>\n",
       "  </thead>\n",
       "  <tbody>\n",
       "    <tr>\n",
       "      <th>2023-09-15</th>\n",
       "      <td>68.629997</td>\n",
       "      <td>69.000000</td>\n",
       "      <td>60.750000</td>\n",
       "      <td>60.750000</td>\n",
       "      <td>60.750000</td>\n",
       "      <td>74568900</td>\n",
       "      <td>-0.045689</td>\n",
       "    </tr>\n",
       "    <tr>\n",
       "      <th>2023-09-18</th>\n",
       "      <td>57.950001</td>\n",
       "      <td>58.741001</td>\n",
       "      <td>55.020000</td>\n",
       "      <td>58.000000</td>\n",
       "      <td>58.000000</td>\n",
       "      <td>34571900</td>\n",
       "      <td>-0.046324</td>\n",
       "    </tr>\n",
       "    <tr>\n",
       "      <th>2023-09-19</th>\n",
       "      <td>56.250000</td>\n",
       "      <td>56.779999</td>\n",
       "      <td>53.880001</td>\n",
       "      <td>55.169998</td>\n",
       "      <td>55.169998</td>\n",
       "      <td>18308600</td>\n",
       "      <td>-0.050024</td>\n",
       "    </tr>\n",
       "    <tr>\n",
       "      <th>2023-09-20</th>\n",
       "      <td>55.169998</td>\n",
       "      <td>55.400002</td>\n",
       "      <td>51.520000</td>\n",
       "      <td>52.910000</td>\n",
       "      <td>52.910000</td>\n",
       "      <td>16369500</td>\n",
       "      <td>-0.041827</td>\n",
       "    </tr>\n",
       "    <tr>\n",
       "      <th>2023-09-21</th>\n",
       "      <td>51.779999</td>\n",
       "      <td>52.799999</td>\n",
       "      <td>49.849998</td>\n",
       "      <td>52.160000</td>\n",
       "      <td>52.160000</td>\n",
       "      <td>14980700</td>\n",
       "      <td>-0.014276</td>\n",
       "    </tr>\n",
       "  </tbody>\n",
       "</table>\n",
       "</div>"
      ],
      "text/plain": [
       "                 Open       High        Low      Close  Adj Close    Volume  \\\n",
       "Date                                                                          \n",
       "2023-09-15  68.629997  69.000000  60.750000  60.750000  60.750000  74568900   \n",
       "2023-09-18  57.950001  58.741001  55.020000  58.000000  58.000000  34571900   \n",
       "2023-09-19  56.250000  56.779999  53.880001  55.169998  55.169998  18308600   \n",
       "2023-09-20  55.169998  55.400002  51.520000  52.910000  52.910000  16369500   \n",
       "2023-09-21  51.779999  52.799999  49.849998  52.160000  52.160000  14980700   \n",
       "\n",
       "            Log Rets  \n",
       "Date                  \n",
       "2023-09-15 -0.045689  \n",
       "2023-09-18 -0.046324  \n",
       "2023-09-19 -0.050024  \n",
       "2023-09-20 -0.041827  \n",
       "2023-09-21 -0.014276  "
      ]
     },
     "execution_count": 15,
     "metadata": {},
     "output_type": "execute_result"
    }
   ],
   "source": [
    "stock.head()"
   ]
  },
  {
   "cell_type": "code",
   "execution_count": 16,
   "metadata": {},
   "outputs": [
    {
     "data": {
      "text/plain": [
       "(74, 7)"
      ]
     },
     "execution_count": 16,
     "metadata": {},
     "output_type": "execute_result"
    }
   ],
   "source": [
    "stock.shape"
   ]
  },
  {
   "cell_type": "code",
   "execution_count": 17,
   "metadata": {},
   "outputs": [
    {
     "data": {
      "text/html": [
       "<div>\n",
       "<style scoped>\n",
       "    .dataframe tbody tr th:only-of-type {\n",
       "        vertical-align: middle;\n",
       "    }\n",
       "\n",
       "    .dataframe tbody tr th {\n",
       "        vertical-align: top;\n",
       "    }\n",
       "\n",
       "    .dataframe thead th {\n",
       "        text-align: right;\n",
       "    }\n",
       "</style>\n",
       "<table border=\"1\" class=\"dataframe\">\n",
       "  <thead>\n",
       "    <tr style=\"text-align: right;\">\n",
       "      <th></th>\n",
       "      <th>Open</th>\n",
       "      <th>High</th>\n",
       "      <th>Low</th>\n",
       "      <th>Close</th>\n",
       "      <th>Adj Close</th>\n",
       "      <th>Volume</th>\n",
       "      <th>Log Rets</th>\n",
       "      <th>Rets Mean</th>\n",
       "    </tr>\n",
       "    <tr>\n",
       "      <th>Date</th>\n",
       "      <th></th>\n",
       "      <th></th>\n",
       "      <th></th>\n",
       "      <th></th>\n",
       "      <th></th>\n",
       "      <th></th>\n",
       "      <th></th>\n",
       "      <th></th>\n",
       "    </tr>\n",
       "  </thead>\n",
       "  <tbody>\n",
       "    <tr>\n",
       "      <th>2023-09-15</th>\n",
       "      <td>68.629997</td>\n",
       "      <td>69.000000</td>\n",
       "      <td>60.750000</td>\n",
       "      <td>60.750000</td>\n",
       "      <td>60.750000</td>\n",
       "      <td>74568900</td>\n",
       "      <td>-0.045689</td>\n",
       "      <td>NaN</td>\n",
       "    </tr>\n",
       "    <tr>\n",
       "      <th>2023-09-18</th>\n",
       "      <td>57.950001</td>\n",
       "      <td>58.741001</td>\n",
       "      <td>55.020000</td>\n",
       "      <td>58.000000</td>\n",
       "      <td>58.000000</td>\n",
       "      <td>34571900</td>\n",
       "      <td>-0.046324</td>\n",
       "      <td>NaN</td>\n",
       "    </tr>\n",
       "    <tr>\n",
       "      <th>2023-09-19</th>\n",
       "      <td>56.250000</td>\n",
       "      <td>56.779999</td>\n",
       "      <td>53.880001</td>\n",
       "      <td>55.169998</td>\n",
       "      <td>55.169998</td>\n",
       "      <td>18308600</td>\n",
       "      <td>-0.050024</td>\n",
       "      <td>NaN</td>\n",
       "    </tr>\n",
       "    <tr>\n",
       "      <th>2023-09-20</th>\n",
       "      <td>55.169998</td>\n",
       "      <td>55.400002</td>\n",
       "      <td>51.520000</td>\n",
       "      <td>52.910000</td>\n",
       "      <td>52.910000</td>\n",
       "      <td>16369500</td>\n",
       "      <td>-0.041827</td>\n",
       "      <td>NaN</td>\n",
       "    </tr>\n",
       "    <tr>\n",
       "      <th>2023-09-21</th>\n",
       "      <td>51.779999</td>\n",
       "      <td>52.799999</td>\n",
       "      <td>49.849998</td>\n",
       "      <td>52.160000</td>\n",
       "      <td>52.160000</td>\n",
       "      <td>14980700</td>\n",
       "      <td>-0.014276</td>\n",
       "      <td>-0.039628</td>\n",
       "    </tr>\n",
       "  </tbody>\n",
       "</table>\n",
       "</div>"
      ],
      "text/plain": [
       "                 Open       High        Low      Close  Adj Close    Volume  \\\n",
       "Date                                                                          \n",
       "2023-09-15  68.629997  69.000000  60.750000  60.750000  60.750000  74568900   \n",
       "2023-09-18  57.950001  58.741001  55.020000  58.000000  58.000000  34571900   \n",
       "2023-09-19  56.250000  56.779999  53.880001  55.169998  55.169998  18308600   \n",
       "2023-09-20  55.169998  55.400002  51.520000  52.910000  52.910000  16369500   \n",
       "2023-09-21  51.779999  52.799999  49.849998  52.160000  52.160000  14980700   \n",
       "\n",
       "            Log Rets  Rets Mean  \n",
       "Date                             \n",
       "2023-09-15 -0.045689        NaN  \n",
       "2023-09-18 -0.046324        NaN  \n",
       "2023-09-19 -0.050024        NaN  \n",
       "2023-09-20 -0.041827        NaN  \n",
       "2023-09-21 -0.014276  -0.039628  "
      ]
     },
     "execution_count": 17,
     "metadata": {},
     "output_type": "execute_result"
    }
   ],
   "source": [
    "# prepare features to be used for clustering\n",
    "\n",
    "stock['Rets Mean'] = stock['Log Rets'].rolling(5).mean() # calculate mean eavery 5 days\n",
    "stock.head()"
   ]
  },
  {
   "cell_type": "code",
   "execution_count": 18,
   "metadata": {},
   "outputs": [
    {
     "data": {
      "text/html": [
       "<div>\n",
       "<style scoped>\n",
       "    .dataframe tbody tr th:only-of-type {\n",
       "        vertical-align: middle;\n",
       "    }\n",
       "\n",
       "    .dataframe tbody tr th {\n",
       "        vertical-align: top;\n",
       "    }\n",
       "\n",
       "    .dataframe thead th {\n",
       "        text-align: right;\n",
       "    }\n",
       "</style>\n",
       "<table border=\"1\" class=\"dataframe\">\n",
       "  <thead>\n",
       "    <tr style=\"text-align: right;\">\n",
       "      <th></th>\n",
       "      <th>Open</th>\n",
       "      <th>High</th>\n",
       "      <th>Low</th>\n",
       "      <th>Close</th>\n",
       "      <th>Adj Close</th>\n",
       "      <th>Volume</th>\n",
       "      <th>Log Rets</th>\n",
       "      <th>Rets Mean</th>\n",
       "      <th>Rets STD</th>\n",
       "    </tr>\n",
       "    <tr>\n",
       "      <th>Date</th>\n",
       "      <th></th>\n",
       "      <th></th>\n",
       "      <th></th>\n",
       "      <th></th>\n",
       "      <th></th>\n",
       "      <th></th>\n",
       "      <th></th>\n",
       "      <th></th>\n",
       "      <th></th>\n",
       "    </tr>\n",
       "  </thead>\n",
       "  <tbody>\n",
       "    <tr>\n",
       "      <th>2023-09-15</th>\n",
       "      <td>68.629997</td>\n",
       "      <td>69.000000</td>\n",
       "      <td>60.750000</td>\n",
       "      <td>60.750000</td>\n",
       "      <td>60.750000</td>\n",
       "      <td>74568900</td>\n",
       "      <td>-0.045689</td>\n",
       "      <td>NaN</td>\n",
       "      <td>NaN</td>\n",
       "    </tr>\n",
       "    <tr>\n",
       "      <th>2023-09-18</th>\n",
       "      <td>57.950001</td>\n",
       "      <td>58.741001</td>\n",
       "      <td>55.020000</td>\n",
       "      <td>58.000000</td>\n",
       "      <td>58.000000</td>\n",
       "      <td>34571900</td>\n",
       "      <td>-0.046324</td>\n",
       "      <td>NaN</td>\n",
       "      <td>NaN</td>\n",
       "    </tr>\n",
       "    <tr>\n",
       "      <th>2023-09-19</th>\n",
       "      <td>56.250000</td>\n",
       "      <td>56.779999</td>\n",
       "      <td>53.880001</td>\n",
       "      <td>55.169998</td>\n",
       "      <td>55.169998</td>\n",
       "      <td>18308600</td>\n",
       "      <td>-0.050024</td>\n",
       "      <td>NaN</td>\n",
       "      <td>NaN</td>\n",
       "    </tr>\n",
       "    <tr>\n",
       "      <th>2023-09-20</th>\n",
       "      <td>55.169998</td>\n",
       "      <td>55.400002</td>\n",
       "      <td>51.520000</td>\n",
       "      <td>52.910000</td>\n",
       "      <td>52.910000</td>\n",
       "      <td>16369500</td>\n",
       "      <td>-0.041827</td>\n",
       "      <td>NaN</td>\n",
       "      <td>NaN</td>\n",
       "    </tr>\n",
       "    <tr>\n",
       "      <th>2023-09-21</th>\n",
       "      <td>51.779999</td>\n",
       "      <td>52.799999</td>\n",
       "      <td>49.849998</td>\n",
       "      <td>52.160000</td>\n",
       "      <td>52.160000</td>\n",
       "      <td>14980700</td>\n",
       "      <td>-0.014276</td>\n",
       "      <td>-0.039628</td>\n",
       "      <td>0.014467</td>\n",
       "    </tr>\n",
       "  </tbody>\n",
       "</table>\n",
       "</div>"
      ],
      "text/plain": [
       "                 Open       High        Low      Close  Adj Close    Volume  \\\n",
       "Date                                                                          \n",
       "2023-09-15  68.629997  69.000000  60.750000  60.750000  60.750000  74568900   \n",
       "2023-09-18  57.950001  58.741001  55.020000  58.000000  58.000000  34571900   \n",
       "2023-09-19  56.250000  56.779999  53.880001  55.169998  55.169998  18308600   \n",
       "2023-09-20  55.169998  55.400002  51.520000  52.910000  52.910000  16369500   \n",
       "2023-09-21  51.779999  52.799999  49.849998  52.160000  52.160000  14980700   \n",
       "\n",
       "            Log Rets  Rets Mean  Rets STD  \n",
       "Date                                       \n",
       "2023-09-15 -0.045689        NaN       NaN  \n",
       "2023-09-18 -0.046324        NaN       NaN  \n",
       "2023-09-19 -0.050024        NaN       NaN  \n",
       "2023-09-20 -0.041827        NaN       NaN  \n",
       "2023-09-21 -0.014276  -0.039628  0.014467  "
      ]
     },
     "execution_count": 18,
     "metadata": {},
     "output_type": "execute_result"
    }
   ],
   "source": [
    "stock['Rets STD'] = stock['Log Rets'].rolling(5).std() # calculate mean eavery 5 days\n",
    "stock.head()"
   ]
  },
  {
   "cell_type": "code",
   "execution_count": 19,
   "metadata": {},
   "outputs": [
    {
     "data": {
      "text/html": [
       "<div>\n",
       "<style scoped>\n",
       "    .dataframe tbody tr th:only-of-type {\n",
       "        vertical-align: middle;\n",
       "    }\n",
       "\n",
       "    .dataframe tbody tr th {\n",
       "        vertical-align: top;\n",
       "    }\n",
       "\n",
       "    .dataframe thead th {\n",
       "        text-align: right;\n",
       "    }\n",
       "</style>\n",
       "<table border=\"1\" class=\"dataframe\">\n",
       "  <thead>\n",
       "    <tr style=\"text-align: right;\">\n",
       "      <th></th>\n",
       "      <th>Open</th>\n",
       "      <th>High</th>\n",
       "      <th>Low</th>\n",
       "      <th>Close</th>\n",
       "      <th>Adj Close</th>\n",
       "      <th>Volume</th>\n",
       "      <th>Log Rets</th>\n",
       "      <th>Rets Mean</th>\n",
       "      <th>Rets STD</th>\n",
       "    </tr>\n",
       "    <tr>\n",
       "      <th>Date</th>\n",
       "      <th></th>\n",
       "      <th></th>\n",
       "      <th></th>\n",
       "      <th></th>\n",
       "      <th></th>\n",
       "      <th></th>\n",
       "      <th></th>\n",
       "      <th></th>\n",
       "      <th></th>\n",
       "    </tr>\n",
       "  </thead>\n",
       "  <tbody>\n",
       "    <tr>\n",
       "      <th>2023-09-21</th>\n",
       "      <td>51.779999</td>\n",
       "      <td>52.799999</td>\n",
       "      <td>49.849998</td>\n",
       "      <td>52.160000</td>\n",
       "      <td>52.160000</td>\n",
       "      <td>14980700</td>\n",
       "      <td>-0.014276</td>\n",
       "      <td>-0.039628</td>\n",
       "      <td>0.014467</td>\n",
       "    </tr>\n",
       "    <tr>\n",
       "      <th>2023-09-22</th>\n",
       "      <td>52.900002</td>\n",
       "      <td>52.900002</td>\n",
       "      <td>50.355000</td>\n",
       "      <td>51.320000</td>\n",
       "      <td>51.320000</td>\n",
       "      <td>8430200</td>\n",
       "      <td>-0.016235</td>\n",
       "      <td>-0.033737</td>\n",
       "      <td>0.017133</td>\n",
       "    </tr>\n",
       "    <tr>\n",
       "      <th>2023-09-25</th>\n",
       "      <td>51.119999</td>\n",
       "      <td>54.500000</td>\n",
       "      <td>50.020000</td>\n",
       "      <td>54.439999</td>\n",
       "      <td>54.439999</td>\n",
       "      <td>12896500</td>\n",
       "      <td>0.059019</td>\n",
       "      <td>-0.012669</td>\n",
       "      <td>0.043012</td>\n",
       "    </tr>\n",
       "    <tr>\n",
       "      <th>2023-09-26</th>\n",
       "      <td>53.930000</td>\n",
       "      <td>54.529999</td>\n",
       "      <td>52.700001</td>\n",
       "      <td>53.520000</td>\n",
       "      <td>53.520000</td>\n",
       "      <td>6283500</td>\n",
       "      <td>-0.017044</td>\n",
       "      <td>-0.006073</td>\n",
       "      <td>0.038099</td>\n",
       "    </tr>\n",
       "    <tr>\n",
       "      <th>2023-09-27</th>\n",
       "      <td>54.400002</td>\n",
       "      <td>54.410000</td>\n",
       "      <td>51.789001</td>\n",
       "      <td>52.990002</td>\n",
       "      <td>52.990002</td>\n",
       "      <td>6866700</td>\n",
       "      <td>-0.009952</td>\n",
       "      <td>0.000302</td>\n",
       "      <td>0.032938</td>\n",
       "    </tr>\n",
       "  </tbody>\n",
       "</table>\n",
       "</div>"
      ],
      "text/plain": [
       "                 Open       High        Low      Close  Adj Close    Volume  \\\n",
       "Date                                                                          \n",
       "2023-09-21  51.779999  52.799999  49.849998  52.160000  52.160000  14980700   \n",
       "2023-09-22  52.900002  52.900002  50.355000  51.320000  51.320000   8430200   \n",
       "2023-09-25  51.119999  54.500000  50.020000  54.439999  54.439999  12896500   \n",
       "2023-09-26  53.930000  54.529999  52.700001  53.520000  53.520000   6283500   \n",
       "2023-09-27  54.400002  54.410000  51.789001  52.990002  52.990002   6866700   \n",
       "\n",
       "            Log Rets  Rets Mean  Rets STD  \n",
       "Date                                       \n",
       "2023-09-21 -0.014276  -0.039628  0.014467  \n",
       "2023-09-22 -0.016235  -0.033737  0.017133  \n",
       "2023-09-25  0.059019  -0.012669  0.043012  \n",
       "2023-09-26 -0.017044  -0.006073  0.038099  \n",
       "2023-09-27 -0.009952   0.000302  0.032938  "
      ]
     },
     "execution_count": 19,
     "metadata": {},
     "output_type": "execute_result"
    }
   ],
   "source": [
    "stock.dropna(inplace = True)\n",
    "stock.head()\n",
    "\n",
    "# or we can use\n",
    "# stock = stock.dropna()"
   ]
  },
  {
   "cell_type": "code",
   "execution_count": 20,
   "metadata": {},
   "outputs": [
    {
     "data": {
      "text/plain": [
       "(70, 9)"
      ]
     },
     "execution_count": 20,
     "metadata": {},
     "output_type": "execute_result"
    }
   ],
   "source": [
    "stock.shape"
   ]
  },
  {
   "cell_type": "code",
   "execution_count": 21,
   "metadata": {},
   "outputs": [
    {
     "data": {
      "image/png": "[encoded data removed]",
      "text/plain": [
       "<Figure size 640x480 with 1 Axes>"
      ]
     },
     "metadata": {},
     "output_type": "display_data"
    }
   ],
   "source": [
    "# plot\n",
    "\n",
    "plt.scatter(stock['Rets Mean'], stock['Rets STD']); # plot X and y"
   ]
  },
  {
   "cell_type": "code",
   "execution_count": 22,
   "metadata": {},
   "outputs": [
    {
     "data": {
      "text/plain": [
       "Date\n",
       "2023-09-21   -0.039628\n",
       "2023-09-22   -0.033737\n",
       "2023-09-25   -0.012669\n",
       "2023-09-26   -0.006073\n",
       "2023-09-27    0.000302\n",
       "                ...   \n",
       "2023-12-22    0.003517\n",
       "2023-12-26    0.012768\n",
       "2023-12-27    0.013424\n",
       "2023-12-28    0.024904\n",
       "2023-12-29    0.010785\n",
       "Name: Rets Mean, Length: 70, dtype: float64"
      ]
     },
     "execution_count": 22,
     "metadata": {},
     "output_type": "execute_result"
    }
   ],
   "source": [
    "# get array X in order to perform clustering\n",
    "\n",
    "X1 = stock['Rets Mean']\n",
    "X1"
   ]
  },
  {
   "cell_type": "code",
   "execution_count": 23,
   "metadata": {},
   "outputs": [
    {
     "data": {
      "text/plain": [
       "pandas.core.series.Series"
      ]
     },
     "execution_count": 23,
     "metadata": {},
     "output_type": "execute_result"
    }
   ],
   "source": [
    "type(X1)"
   ]
  },
  {
   "cell_type": "code",
   "execution_count": 24,
   "metadata": {},
   "outputs": [
    {
     "data": {
      "text/plain": [
       "Date\n",
       "2023-09-21    0.014467\n",
       "2023-09-22    0.017133\n",
       "2023-09-25    0.043012\n",
       "2023-09-26    0.038099\n",
       "2023-09-27    0.032938\n",
       "                ...   \n",
       "2023-12-22    0.027483\n",
       "2023-12-26    0.019689\n",
       "2023-12-27    0.019549\n",
       "2023-12-28    0.015063\n",
       "2023-12-29    0.026200\n",
       "Name: Rets STD, Length: 70, dtype: float64"
      ]
     },
     "execution_count": 24,
     "metadata": {},
     "output_type": "execute_result"
    }
   ],
   "source": [
    "X2 = stock['Rets STD']\n",
    "X2"
   ]
  },
  {
   "cell_type": "code",
   "execution_count": 25,
   "metadata": {},
   "outputs": [
    {
     "data": {
      "text/plain": [
       "pandas.core.series.Series"
      ]
     },
     "execution_count": 25,
     "metadata": {},
     "output_type": "execute_result"
    }
   ],
   "source": [
    "type(X2)"
   ]
  },
  {
   "cell_type": "code",
   "execution_count": 26,
   "metadata": {},
   "outputs": [
    {
     "data": {
      "text/plain": [
       "array([-3.96280626e-02, -3.37373097e-02, -1.26687716e-02, -6.07277394e-03,\n",
       "        3.02178830e-04,  1.23773880e-02,  8.39497811e-03, -8.17358492e-03,\n",
       "       -7.42306445e-03,  1.76608908e-03, -1.10398518e-02,  2.08180824e-03,\n",
       "        7.47435289e-03,  1.54439091e-02,  4.51286477e-03, -2.52973809e-03,\n",
       "       -1.25923827e-02, -8.12599955e-03, -1.26708964e-02, -1.04358396e-02,\n",
       "       -8.30908663e-03, -1.18027142e-02, -7.35176057e-03,  3.05744437e-04,\n",
       "       -9.71180684e-03,  1.72154598e-03,  5.03327402e-03, -9.41973111e-03,\n",
       "       -1.21225297e-02,  4.32190423e-03,  1.02945398e-02,  1.71678801e-02,\n",
       "        2.06122726e-02,  2.29018070e-02,  1.47989751e-02, -4.75117303e-03,\n",
       "       -4.61443009e-03, -5.38251737e-03, -6.77157649e-03,  3.75135741e-03,\n",
       "        1.00200433e-02,  1.01457559e-02,  2.53669292e-02,  1.86771339e-02,\n",
       "        2.16269819e-02,  3.27544175e-02,  2.07444966e-02,  1.07488482e-02,\n",
       "        1.17515366e-02, -8.43740745e-04,  6.26090390e-05,  3.02617114e-03,\n",
       "        5.32260559e-03, -3.73174680e-03,  3.03377977e-03,  1.01600482e-02,\n",
       "        9.33775987e-03,  3.49190145e-03,  1.43742246e-02,  2.49468870e-02,\n",
       "        1.09965359e-02,  1.19054380e-02,  1.40806640e-02,  8.32894286e-03,\n",
       "        1.31045340e-03,  3.51670277e-03,  1.27679013e-02,  1.34237445e-02,\n",
       "        2.49035867e-02,  1.07853520e-02])"
      ]
     },
     "execution_count": 26,
     "metadata": {},
     "output_type": "execute_result"
    }
   ],
   "source": [
    "X1 = stock['Rets Mean'].values\n",
    "X1"
   ]
  },
  {
   "cell_type": "code",
   "execution_count": 27,
   "metadata": {},
   "outputs": [
    {
     "data": {
      "text/plain": [
       "array([0.01446706, 0.017133  , 0.04301156, 0.03809918, 0.03293812,\n",
       "       0.0370658 , 0.04168982, 0.03183905, 0.03162117, 0.03693237,\n",
       "       0.02765194, 0.0283176 , 0.02445478, 0.02240259, 0.02318924,\n",
       "       0.03436385, 0.02970494, 0.03402612, 0.0294446 , 0.02929996,\n",
       "       0.02557408, 0.0287161 , 0.03658445, 0.04296175, 0.05042433,\n",
       "       0.04752637, 0.04452047, 0.0385221 , 0.03423779, 0.02560781,\n",
       "       0.03143958, 0.02595814, 0.01933909, 0.02111784, 0.02718214,\n",
       "       0.03460137, 0.03468835, 0.0348055 , 0.03260808, 0.03711732,\n",
       "       0.02609942, 0.0261206 , 0.032094  , 0.03353096, 0.03607081,\n",
       "       0.02664043, 0.04468209, 0.03730225, 0.03699576, 0.03017205,\n",
       "       0.03150946, 0.02635346, 0.02809696, 0.03484337, 0.03622008,\n",
       "       0.04683788, 0.04777477, 0.04693812, 0.03994718, 0.04863611,\n",
       "       0.04038289, 0.03910785, 0.03838273, 0.0405278 , 0.0267441 ,\n",
       "       0.02748293, 0.01968937, 0.01954906, 0.01506297, 0.02620012])"
      ]
     },
     "execution_count": 27,
     "metadata": {},
     "output_type": "execute_result"
    }
   ],
   "source": [
    "X2 = stock['Rets STD'].values\n",
    "X2"
   ]
  },
  {
   "cell_type": "code",
   "execution_count": 28,
   "metadata": {},
   "outputs": [
    {
     "data": {
      "text/plain": [
       "(numpy.ndarray, numpy.ndarray)"
      ]
     },
     "execution_count": 28,
     "metadata": {},
     "output_type": "execute_result"
    }
   ],
   "source": [
    "type(X1), type(X2)"
   ]
  },
  {
   "cell_type": "code",
   "execution_count": 29,
   "metadata": {},
   "outputs": [
    {
     "data": {
      "text/plain": [
       "array([[-3.96280626e-02,  1.44670552e-02],\n",
       "       [-3.37373097e-02,  1.71329998e-02],\n",
       "       [-1.26687716e-02,  4.30115622e-02],\n",
       "       [-6.07277394e-03,  3.80991809e-02],\n",
       "       [ 3.02178830e-04,  3.29381223e-02],\n",
       "       [ 1.23773880e-02,  3.70658012e-02],\n",
       "       [ 8.39497811e-03,  4.16898188e-02],\n",
       "       [-8.17358492e-03,  3.18390475e-02],\n",
       "       [-7.42306445e-03,  3.16211684e-02],\n",
       "       [ 1.76608908e-03,  3.69323708e-02],\n",
       "       [-1.10398518e-02,  2.76519370e-02],\n",
       "       [ 2.08180824e-03,  2.83176033e-02],\n",
       "       [ 7.47435289e-03,  2.44547772e-02],\n",
       "       [ 1.54439091e-02,  2.24025921e-02],\n",
       "       [ 4.51286477e-03,  2.31892445e-02],\n",
       "       [-2.52973809e-03,  3.43638548e-02],\n",
       "       [-1.25923827e-02,  2.97049374e-02],\n",
       "       [-8.12599955e-03,  3.40261204e-02],\n",
       "       [-1.26708964e-02,  2.94446020e-02],\n",
       "       [-1.04358396e-02,  2.92999642e-02],\n",
       "       [-8.30908663e-03,  2.55740835e-02],\n",
       "       [-1.18027142e-02,  2.87161048e-02],\n",
       "       [-7.35176057e-03,  3.65844550e-02],\n",
       "       [ 3.05744437e-04,  4.29617480e-02],\n",
       "       [-9.71180684e-03,  5.04243258e-02],\n",
       "       [ 1.72154598e-03,  4.75263693e-02],\n",
       "       [ 5.03327402e-03,  4.45204745e-02],\n",
       "       [-9.41973111e-03,  3.85221038e-02],\n",
       "       [-1.21225297e-02,  3.42377913e-02],\n",
       "       [ 4.32190423e-03,  2.56078099e-02],\n",
       "       [ 1.02945398e-02,  3.14395838e-02],\n",
       "       [ 1.71678801e-02,  2.59581444e-02],\n",
       "       [ 2.06122726e-02,  1.93390868e-02],\n",
       "       [ 2.29018070e-02,  2.11178408e-02],\n",
       "       [ 1.47989751e-02,  2.71821355e-02],\n",
       "       [-4.75117303e-03,  3.46013697e-02],\n",
       "       [-4.61443009e-03,  3.46883491e-02],\n",
       "       [-5.38251737e-03,  3.48054955e-02],\n",
       "       [-6.77157649e-03,  3.26080832e-02],\n",
       "       [ 3.75135741e-03,  3.71173182e-02],\n",
       "       [ 1.00200433e-02,  2.60994168e-02],\n",
       "       [ 1.01457559e-02,  2.61206013e-02],\n",
       "       [ 2.53669292e-02,  3.20940025e-02],\n",
       "       [ 1.86771339e-02,  3.35309564e-02],\n",
       "       [ 2.16269819e-02,  3.60708065e-02],\n",
       "       [ 3.27544175e-02,  2.66404299e-02],\n",
       "       [ 2.07444966e-02,  4.46820924e-02],\n",
       "       [ 1.07488482e-02,  3.73022544e-02],\n",
       "       [ 1.17515366e-02,  3.69957593e-02],\n",
       "       [-8.43740745e-04,  3.01720513e-02],\n",
       "       [ 6.26090390e-05,  3.15094612e-02],\n",
       "       [ 3.02617114e-03,  2.63534560e-02],\n",
       "       [ 5.32260559e-03,  2.80969648e-02],\n",
       "       [-3.73174680e-03,  3.48433729e-02],\n",
       "       [ 3.03377977e-03,  3.62200781e-02],\n",
       "       [ 1.01600482e-02,  4.68378801e-02],\n",
       "       [ 9.33775987e-03,  4.77747657e-02],\n",
       "       [ 3.49190145e-03,  4.69381207e-02],\n",
       "       [ 1.43742246e-02,  3.99471831e-02],\n",
       "       [ 2.49468870e-02,  4.86361142e-02],\n",
       "       [ 1.09965359e-02,  4.03828878e-02],\n",
       "       [ 1.19054380e-02,  3.91078514e-02],\n",
       "       [ 1.40806640e-02,  3.83827275e-02],\n",
       "       [ 8.32894286e-03,  4.05278020e-02],\n",
       "       [ 1.31045340e-03,  2.67441027e-02],\n",
       "       [ 3.51670277e-03,  2.74829338e-02],\n",
       "       [ 1.27679013e-02,  1.96893699e-02],\n",
       "       [ 1.34237445e-02,  1.95490587e-02],\n",
       "       [ 2.49035867e-02,  1.50629722e-02],\n",
       "       [ 1.07853520e-02,  2.62001177e-02]])"
      ]
     },
     "execution_count": 29,
     "metadata": {},
     "output_type": "execute_result"
    }
   ],
   "source": [
    "X = np.array(list(zip(X1, X2)))\n",
    "X"
   ]
  },
  {
   "cell_type": "code",
   "execution_count": 30,
   "metadata": {},
   "outputs": [
    {
     "data": {
      "text/plain": [
       "numpy.ndarray"
      ]
     },
     "execution_count": 30,
     "metadata": {},
     "output_type": "execute_result"
    }
   ],
   "source": [
    "type(X)"
   ]
  },
  {
   "cell_type": "code",
   "execution_count": 31,
   "metadata": {},
   "outputs": [
    {
     "data": {
      "image/png": "[encoded data removed]",
      "text/plain": [
       "<Figure size 640x480 with 1 Axes>"
      ]
     },
     "metadata": {},
     "output_type": "display_data"
    }
   ],
   "source": [
    "# plot \n",
    "\n",
    "plt.scatter(X[:, 0], X[:, 1]); # not need to use stock dataframe"
   ]
  },
  {
   "cell_type": "code",
   "execution_count": 32,
   "metadata": {},
   "outputs": [],
   "source": [
    "# feature X are not bad but require normalization for kmean - better\n",
    "\n",
    "def normalizedFeature(x):\n",
    "    sc = StandardScaler()\n",
    "    x = sc.fit_transform(x)\n",
    "\n",
    "    return x\n"
   ]
  },
  {
   "cell_type": "code",
   "execution_count": 33,
   "metadata": {},
   "outputs": [
    {
     "data": {
      "text/plain": [
       "array([[-3.33185458, -2.19705706],\n",
       "       [-2.87766214, -1.87636063],\n",
       "       [-1.25322282,  1.23666827],\n",
       "       [-0.74465417,  0.64573958],\n",
       "       [-0.25312866,  0.02489657],\n",
       "       [ 0.6779015 ,  0.52143048],\n",
       "       [ 0.3708473 ,  1.07767083],\n",
       "       [-0.90663219, -0.10731524],\n",
       "       [-0.8487651 , -0.13352473],\n",
       "       [-0.14025736,  0.50537964],\n",
       "       [-1.12762885, -0.6109984 ],\n",
       "       [-0.11591459, -0.53092292],\n",
       "       [ 0.29986469, -0.99559669],\n",
       "       [ 0.91433829, -1.2424617 ],\n",
       "       [ 0.07152622, -1.14783234],\n",
       "       [-0.47147685,  0.19640326],\n",
       "       [-1.24733304, -0.36403532],\n",
       "       [-0.90296323,  0.15577592],\n",
       "       [-1.25338665, -0.39535204],\n",
       "       [-1.08105793, -0.41275105],\n",
       "       [-0.91707972, -0.86095115],\n",
       "       [-1.18644754, -0.48298569],\n",
       "       [-0.84326738,  0.46352754],\n",
       "       [-0.25285374,  1.23067594],\n",
       "       [-1.02523311,  2.12837728],\n",
       "       [-0.14369175,  1.77977127],\n",
       "       [ 0.11165113,  1.41818096],\n",
       "       [-1.00271331,  0.69661456],\n",
       "       [-1.21110615,  0.18123861],\n",
       "       [ 0.05680267, -0.85689408],\n",
       "       [ 0.51730847, -0.15536822],\n",
       "       [ 1.04726096, -0.81475104],\n",
       "       [ 1.31283262, -1.61098219],\n",
       "       [ 1.4893617 , -1.39700924],\n",
       "       [ 0.8646122 , -0.66751258],\n",
       "       [-0.64275529,  0.22497481],\n",
       "       [-0.63221205,  0.23543789],\n",
       "       [-0.69143359,  0.24952986],\n",
       "       [-0.79853367, -0.01480507],\n",
       "       [ 0.01281202,  0.52762765],\n",
       "       [ 0.49614407, -0.79775685],\n",
       "       [ 0.50583684, -0.79520849],\n",
       "       [ 1.67942906, -0.07664575],\n",
       "       [ 1.16362837,  0.09621079],\n",
       "       [ 1.39106936,  0.40173885],\n",
       "       [ 2.24902371, -0.73267636],\n",
       "       [ 1.32302744,  1.43762259],\n",
       "       [ 0.55233684,  0.54987431],\n",
       "       [ 0.62964673,  0.51300487],\n",
       "       [-0.34148205, -0.30784444],\n",
       "       [-0.27160012, -0.1469624 ],\n",
       "       [-0.04310174, -0.76719753],\n",
       "       [ 0.13395936, -0.55746434],\n",
       "       [-0.56415487,  0.25408628],\n",
       "       [-0.04251509,  0.41969528],\n",
       "       [ 0.50693882,  1.69695034],\n",
       "       [ 0.44353824,  1.80965181],\n",
       "       [-0.00719272,  1.70900866],\n",
       "       [ 0.83186282,  0.86804267],\n",
       "       [ 1.64704271,  1.91326663],\n",
       "       [ 0.5714342 ,  0.92045522],\n",
       "       [ 0.64151293,  0.76707633],\n",
       "       [ 0.80922854,  0.67984846],\n",
       "       [ 0.36575581,  0.93788748],\n",
       "       [-0.17538806, -0.72020517],\n",
       "       [-0.00528047, -0.63132842],\n",
       "       [ 0.7080111 , -1.56884533],\n",
       "       [ 0.75857833, -1.58572388],\n",
       "       [ 1.64370415, -2.12537199],\n",
       "       [ 0.55515137, -0.78564317]])"
      ]
     },
     "execution_count": 33,
     "metadata": {},
     "output_type": "execute_result"
    }
   ],
   "source": [
    "# call a function and keep data in X_norm\n",
    "X_norm = normalizedFeature(X)\n",
    "X_norm"
   ]
  },
  {
   "cell_type": "code",
   "execution_count": 34,
   "metadata": {},
   "outputs": [
    {
     "data": {
      "image/png": "[encoded data removed]",
      "text/plain": [
       "<Figure size 640x480 with 1 Axes>"
      ]
     },
     "metadata": {},
     "output_type": "display_data"
    }
   ],
   "source": [
    "# plot \n",
    "\n",
    "plt.scatter(X_norm[:, 0], X_norm[:, 1]);"
   ]
  },
  {
   "cell_type": "code",
   "execution_count": 35,
   "metadata": {},
   "outputs": [],
   "source": [
    "# start KMean Clustering\n",
    "\n",
    "# prepare a function for distance between 2 points\n",
    "\n",
    "def distance_fn(a, b, ax = 1):\n",
    "    return np.linalg.norm(a-b, axis = ax) # Euclidean distance"
   ]
  },
  {
   "cell_type": "code",
   "execution_count": 36,
   "metadata": {},
   "outputs": [],
   "source": [
    "def plotCluster(data, C, K, cluster_label):\n",
    "\n",
    "    colors = ['green', 'blue', 'orange', 'red', 'yellow', 'pink', 'purple', 'salmon']\n",
    "\n",
    "    plt.figure(figsize = (8, 6))\n",
    "\n",
    "    for i in range(K):\n",
    "        points = [] # empty list\n",
    "        points = np.array([data[j] for j in range(len(data)) if cluster_label[j] == i]) # find data for each cluster\n",
    "        plt.scatter(points[:, 0], points[:, 1], s = 7, c = colors[i]) # plot\n",
    "        plt.annotate(i, (C[i, 0], C[i, 1]), size = 20)\n",
    "        \n",
    "    plt.scatter(C[:, 0], C[:, 1], marker = '*', color = 'black', s = 200)\n",
    "\n",
    "    plt.xlabel('Variable #1')\n",
    "    plt.ylabel('Variable #2')\n",
    "    plt.title('Cluster')"
   ]
  },
  {
   "cell_type": "code",
   "execution_count": 37,
   "metadata": {},
   "outputs": [],
   "source": [
    "def kmeanClustering(data, K):\n",
    "\n",
    "    # step 1. random centroids\n",
    "    C_x = np.random.randint(np.min(data[:, 0]), np.max(data[:, 0]), size = K)\n",
    "    C_y = np.random.randint(np.min(data[:, 1]), np.max(data[:, 1]), size = K)\n",
    "\n",
    "    # set Centroid to variable C\n",
    "    C = np.zeros((K, 2))\n",
    "    C_old = np.zeros(C.shape)\n",
    "\n",
    "    C[:, 0] = C_x \n",
    "    C[:, 1] = C_y \n",
    "\n",
    "    # Step 2. label data\n",
    "    cluster_label = np.zeros((len(data), 1))\n",
    "\n",
    "    for i in range(len(data)): # run 150 rounds - depands on length of data\n",
    "        distance = distance_fn(data[i, :], C)\n",
    "        cluster = np.argmin(distance) # for the shortest distance\n",
    "        cluster_label[i] = cluster\n",
    "\n",
    "    # Step 3. calculate new centroids\n",
    "    C_old = C.copy()\n",
    "\n",
    "    for i in range(K):\n",
    "        points = [] # empty list\n",
    "        points = np.array([data[j] for j in range(len(data)) if cluster_label[j] == i])\n",
    "        C[i] = np.mean(points, axis = 0) # calculate mean and keep in C for each group (i)\n",
    "\n",
    "    # Calculate error\n",
    "    error = distance_fn(C, C_old, None)\n",
    "    \n",
    "    # Plot\n",
    "    plotCluster(data, C, K, cluster_label)\n",
    "\n",
    "    # Check if error is ok to stop\n",
    "    while error != 0: # will stop when error = 0\n",
    "    \n",
    "        cluster_label = np.zeros((len(data), 1))\n",
    "    \n",
    "        for i in range(len(data)):\n",
    "            distance = distance_fn(data[i, :], C)\n",
    "            cluster = np.argmin(distance)\n",
    "            cluster_label[i] = cluster\n",
    "    \n",
    "        C_old = C.copy()\n",
    "    \n",
    "        for i in range(K):\n",
    "            points = []\n",
    "            points = np.array([data[j] for j in range(len(data)) if cluster_label[j] == i])\n",
    "            C[i] = np.mean(points, axis=0)\n",
    "        \n",
    "        plotCluster(data, C, K, cluster_label.copy())\n",
    "    \n",
    "        error = distance_fn(C, C_old, None)\n",
    "        print(error)\n",
    "\n",
    "    return cluster_label"
   ]
  },
  {
   "cell_type": "code",
   "execution_count": 38,
   "metadata": {},
   "outputs": [
    {
     "name": "stdout",
     "output_type": "stream",
     "text": [
      "1.0916936782236448\n",
      "0.23145237675987998\n",
      "0.10937622936116391\n",
      "0.1785213822614901\n",
      "0.13947252618594647\n",
      "0.21098698887975065\n",
      "0.13978920009931256\n",
      "0.0\n"
     ]
    },
    {
     "data": {
      "image/png": "[encoded data removed]",
      "text/plain": [
       "<Figure size 800x600 with 1 Axes>"
      ]
     },
     "metadata": {},
     "output_type": "display_data"
    },
    {
     "data": {
      "image/png": "[encoded data removed]",
      "text/plain": [
       "<Figure size 800x600 with 1 Axes>"
      ]
     },
     "metadata": {},
     "output_type": "display_data"
    },
    {
     "data": {
      "image/png": "[encoded data removed]",
      "text/plain": [
       "<Figure size 800x600 with 1 Axes>"
      ]
     },
     "metadata": {},
     "output_type": "display_data"
    },
    {
     "data": {
      "image/png": "[encoded data removed]",
      "text/plain": [
       "<Figure size 800x600 with 1 Axes>"
      ]
     },
     "metadata": {},
     "output_type": "display_data"
    },
    {
     "data": {
      "image/png": "[encoded data removed]",
      "text/plain": [
       "<Figure size 800x600 with 1 Axes>"
      ]
     },
     "metadata": {},
     "output_type": "display_data"
    },
    {
     "data": {
      "image/png": "[encoded data removed]",
      "text/plain": [
       "<Figure size 800x600 with 1 Axes>"
      ]
     },
     "metadata": {},
     "output_type": "display_data"
    },
    {
     "data": {
      "image/png": "[encoded data removed]",
      "text/plain": [
       "<Figure size 800x600 with 1 Axes>"
      ]
     },
     "metadata": {},
     "output_type": "display_data"
    },
    {
     "data": {
      "image/png": "[encoded data removed]",
      "text/plain": [
       "<Figure size 800x600 with 1 Axes>"
      ]
     },
     "metadata": {},
     "output_type": "display_data"
    },
    {
     "data": {
      "image/png": "[encoded data removed]",
      "text/plain": [
       "<Figure size 800x600 with 1 Axes>"
      ]
     },
     "metadata": {},
     "output_type": "display_data"
    }
   ],
   "source": [
    "# call a function\n",
    "K = 3\n",
    "label_kmean = kmeanClustering(X_norm, K)"
   ]
  },
  {
   "cell_type": "code",
   "execution_count": 39,
   "metadata": {},
   "outputs": [
    {
     "data": {
      "text/plain": [
       "array([[0.],\n",
       "       [0.],\n",
       "       [2.],\n",
       "       [2.],\n",
       "       [2.],\n",
       "       [1.],\n",
       "       [2.],\n",
       "       [2.],\n",
       "       [2.],\n",
       "       [2.],\n",
       "       [2.],\n",
       "       [1.],\n",
       "       [1.],\n",
       "       [1.],\n",
       "       [1.],\n",
       "       [2.],\n",
       "       [2.],\n",
       "       [2.],\n",
       "       [2.],\n",
       "       [2.],\n",
       "       [2.],\n",
       "       [2.],\n",
       "       [2.],\n",
       "       [2.],\n",
       "       [2.],\n",
       "       [2.],\n",
       "       [2.],\n",
       "       [2.],\n",
       "       [2.],\n",
       "       [1.],\n",
       "       [1.],\n",
       "       [1.],\n",
       "       [1.],\n",
       "       [1.],\n",
       "       [1.],\n",
       "       [2.],\n",
       "       [2.],\n",
       "       [2.],\n",
       "       [2.],\n",
       "       [2.],\n",
       "       [1.],\n",
       "       [1.],\n",
       "       [1.],\n",
       "       [1.],\n",
       "       [1.],\n",
       "       [1.],\n",
       "       [1.],\n",
       "       [1.],\n",
       "       [1.],\n",
       "       [2.],\n",
       "       [2.],\n",
       "       [1.],\n",
       "       [1.],\n",
       "       [2.],\n",
       "       [2.],\n",
       "       [2.],\n",
       "       [2.],\n",
       "       [2.],\n",
       "       [1.],\n",
       "       [1.],\n",
       "       [2.],\n",
       "       [1.],\n",
       "       [1.],\n",
       "       [2.],\n",
       "       [1.],\n",
       "       [1.],\n",
       "       [1.],\n",
       "       [1.],\n",
       "       [1.],\n",
       "       [1.]])"
      ]
     },
     "execution_count": 39,
     "metadata": {},
     "output_type": "execute_result"
    }
   ],
   "source": [
    "label_kmean"
   ]
  },
  {
   "cell_type": "markdown",
   "metadata": {},
   "source": [
    "### Use label from KMean"
   ]
  },
  {
   "cell_type": "code",
   "execution_count": 40,
   "metadata": {},
   "outputs": [
    {
     "data": {
      "text/html": [
       "<div>\n",
       "<style scoped>\n",
       "    .dataframe tbody tr th:only-of-type {\n",
       "        vertical-align: middle;\n",
       "    }\n",
       "\n",
       "    .dataframe tbody tr th {\n",
       "        vertical-align: top;\n",
       "    }\n",
       "\n",
       "    .dataframe thead th {\n",
       "        text-align: right;\n",
       "    }\n",
       "</style>\n",
       "<table border=\"1\" class=\"dataframe\">\n",
       "  <thead>\n",
       "    <tr style=\"text-align: right;\">\n",
       "      <th></th>\n",
       "      <th>Open</th>\n",
       "      <th>High</th>\n",
       "      <th>Low</th>\n",
       "      <th>Close</th>\n",
       "      <th>Adj Close</th>\n",
       "      <th>Volume</th>\n",
       "      <th>Log Rets</th>\n",
       "      <th>Rets Mean</th>\n",
       "      <th>Rets STD</th>\n",
       "      <th>Class</th>\n",
       "    </tr>\n",
       "    <tr>\n",
       "      <th>Date</th>\n",
       "      <th></th>\n",
       "      <th></th>\n",
       "      <th></th>\n",
       "      <th></th>\n",
       "      <th></th>\n",
       "      <th></th>\n",
       "      <th></th>\n",
       "      <th></th>\n",
       "      <th></th>\n",
       "      <th></th>\n",
       "    </tr>\n",
       "  </thead>\n",
       "  <tbody>\n",
       "    <tr>\n",
       "      <th>2023-09-21</th>\n",
       "      <td>51.779999</td>\n",
       "      <td>52.799999</td>\n",
       "      <td>49.849998</td>\n",
       "      <td>52.160000</td>\n",
       "      <td>52.160000</td>\n",
       "      <td>14980700</td>\n",
       "      <td>-0.014276</td>\n",
       "      <td>-0.039628</td>\n",
       "      <td>0.014467</td>\n",
       "      <td>0.0</td>\n",
       "    </tr>\n",
       "    <tr>\n",
       "      <th>2023-09-22</th>\n",
       "      <td>52.900002</td>\n",
       "      <td>52.900002</td>\n",
       "      <td>50.355000</td>\n",
       "      <td>51.320000</td>\n",
       "      <td>51.320000</td>\n",
       "      <td>8430200</td>\n",
       "      <td>-0.016235</td>\n",
       "      <td>-0.033737</td>\n",
       "      <td>0.017133</td>\n",
       "      <td>0.0</td>\n",
       "    </tr>\n",
       "    <tr>\n",
       "      <th>2023-09-25</th>\n",
       "      <td>51.119999</td>\n",
       "      <td>54.500000</td>\n",
       "      <td>50.020000</td>\n",
       "      <td>54.439999</td>\n",
       "      <td>54.439999</td>\n",
       "      <td>12896500</td>\n",
       "      <td>0.059019</td>\n",
       "      <td>-0.012669</td>\n",
       "      <td>0.043012</td>\n",
       "      <td>2.0</td>\n",
       "    </tr>\n",
       "    <tr>\n",
       "      <th>2023-09-26</th>\n",
       "      <td>53.930000</td>\n",
       "      <td>54.529999</td>\n",
       "      <td>52.700001</td>\n",
       "      <td>53.520000</td>\n",
       "      <td>53.520000</td>\n",
       "      <td>6283500</td>\n",
       "      <td>-0.017044</td>\n",
       "      <td>-0.006073</td>\n",
       "      <td>0.038099</td>\n",
       "      <td>2.0</td>\n",
       "    </tr>\n",
       "    <tr>\n",
       "      <th>2023-09-27</th>\n",
       "      <td>54.400002</td>\n",
       "      <td>54.410000</td>\n",
       "      <td>51.789001</td>\n",
       "      <td>52.990002</td>\n",
       "      <td>52.990002</td>\n",
       "      <td>6866700</td>\n",
       "      <td>-0.009952</td>\n",
       "      <td>0.000302</td>\n",
       "      <td>0.032938</td>\n",
       "      <td>2.0</td>\n",
       "    </tr>\n",
       "    <tr>\n",
       "      <th>2023-09-28</th>\n",
       "      <td>53.500000</td>\n",
       "      <td>56.500000</td>\n",
       "      <td>52.860001</td>\n",
       "      <td>55.490002</td>\n",
       "      <td>55.490002</td>\n",
       "      <td>8765800</td>\n",
       "      <td>0.046100</td>\n",
       "      <td>0.012377</td>\n",
       "      <td>0.037066</td>\n",
       "      <td>1.0</td>\n",
       "    </tr>\n",
       "    <tr>\n",
       "      <th>2023-09-29</th>\n",
       "      <td>56.209999</td>\n",
       "      <td>56.790001</td>\n",
       "      <td>53.080002</td>\n",
       "      <td>53.520000</td>\n",
       "      <td>53.520000</td>\n",
       "      <td>7797500</td>\n",
       "      <td>-0.036147</td>\n",
       "      <td>0.008395</td>\n",
       "      <td>0.041690</td>\n",
       "      <td>2.0</td>\n",
       "    </tr>\n",
       "    <tr>\n",
       "      <th>2023-10-02</th>\n",
       "      <td>53.474998</td>\n",
       "      <td>54.189999</td>\n",
       "      <td>51.910000</td>\n",
       "      <td>52.259998</td>\n",
       "      <td>52.259998</td>\n",
       "      <td>8857100</td>\n",
       "      <td>-0.023824</td>\n",
       "      <td>-0.008174</td>\n",
       "      <td>0.031839</td>\n",
       "      <td>2.0</td>\n",
       "    </tr>\n",
       "    <tr>\n",
       "      <th>2023-10-03</th>\n",
       "      <td>51.959999</td>\n",
       "      <td>52.235001</td>\n",
       "      <td>50.799999</td>\n",
       "      <td>51.570000</td>\n",
       "      <td>51.570000</td>\n",
       "      <td>4687700</td>\n",
       "      <td>-0.013291</td>\n",
       "      <td>-0.007423</td>\n",
       "      <td>0.031621</td>\n",
       "      <td>2.0</td>\n",
       "    </tr>\n",
       "    <tr>\n",
       "      <th>2023-10-04</th>\n",
       "      <td>51.970001</td>\n",
       "      <td>53.810001</td>\n",
       "      <td>51.310001</td>\n",
       "      <td>53.459999</td>\n",
       "      <td>53.459999</td>\n",
       "      <td>6206500</td>\n",
       "      <td>0.035994</td>\n",
       "      <td>0.001766</td>\n",
       "      <td>0.036932</td>\n",
       "      <td>2.0</td>\n",
       "    </tr>\n",
       "  </tbody>\n",
       "</table>\n",
       "</div>"
      ],
      "text/plain": [
       "                 Open       High        Low      Close  Adj Close    Volume  \\\n",
       "Date                                                                          \n",
       "2023-09-21  51.779999  52.799999  49.849998  52.160000  52.160000  14980700   \n",
       "2023-09-22  52.900002  52.900002  50.355000  51.320000  51.320000   8430200   \n",
       "2023-09-25  51.119999  54.500000  50.020000  54.439999  54.439999  12896500   \n",
       "2023-09-26  53.930000  54.529999  52.700001  53.520000  53.520000   6283500   \n",
       "2023-09-27  54.400002  54.410000  51.789001  52.990002  52.990002   6866700   \n",
       "2023-09-28  53.500000  56.500000  52.860001  55.490002  55.490002   8765800   \n",
       "2023-09-29  56.209999  56.790001  53.080002  53.520000  53.520000   7797500   \n",
       "2023-10-02  53.474998  54.189999  51.910000  52.259998  52.259998   8857100   \n",
       "2023-10-03  51.959999  52.235001  50.799999  51.570000  51.570000   4687700   \n",
       "2023-10-04  51.970001  53.810001  51.310001  53.459999  53.459999   6206500   \n",
       "\n",
       "            Log Rets  Rets Mean  Rets STD  Class  \n",
       "Date                                              \n",
       "2023-09-21 -0.014276  -0.039628  0.014467    0.0  \n",
       "2023-09-22 -0.016235  -0.033737  0.017133    0.0  \n",
       "2023-09-25  0.059019  -0.012669  0.043012    2.0  \n",
       "2023-09-26 -0.017044  -0.006073  0.038099    2.0  \n",
       "2023-09-27 -0.009952   0.000302  0.032938    2.0  \n",
       "2023-09-28  0.046100   0.012377  0.037066    1.0  \n",
       "2023-09-29 -0.036147   0.008395  0.041690    2.0  \n",
       "2023-10-02 -0.023824  -0.008174  0.031839    2.0  \n",
       "2023-10-03 -0.013291  -0.007423  0.031621    2.0  \n",
       "2023-10-04  0.035994   0.001766  0.036932    2.0  "
      ]
     },
     "execution_count": 40,
     "metadata": {},
     "output_type": "execute_result"
    }
   ],
   "source": [
    "stock['Class'] = label_kmean \n",
    "stock.head(10)"
   ]
  },
  {
   "cell_type": "code",
   "execution_count": 41,
   "metadata": {},
   "outputs": [
    {
     "data": {
      "text/plain": [
       "(array([0, 1]),)"
      ]
     },
     "execution_count": 41,
     "metadata": {},
     "output_type": "execute_result"
    }
   ],
   "source": [
    "# idea to trade\n",
    "\n",
    "idx_c0 = np.where(stock['Class'] == 0) # find index in class 0\n",
    "idx_c0"
   ]
  },
  {
   "cell_type": "code",
   "execution_count": 42,
   "metadata": {},
   "outputs": [
    {
     "data": {
      "text/plain": [
       "1"
      ]
     },
     "execution_count": 42,
     "metadata": {},
     "output_type": "execute_result"
    }
   ],
   "source": [
    "len(idx_c0)"
   ]
  },
  {
   "cell_type": "code",
   "execution_count": 43,
   "metadata": {},
   "outputs": [
    {
     "data": {
      "text/plain": [
       "2"
      ]
     },
     "execution_count": 43,
     "metadata": {},
     "output_type": "execute_result"
    }
   ],
   "source": [
    "len(idx_c0[0])"
   ]
  },
  {
   "cell_type": "code",
   "execution_count": 44,
   "metadata": {},
   "outputs": [
    {
     "data": {
      "text/plain": [
       "(array([ 5, 11, 12, 13, 14, 29, 30, 31, 32, 33, 34, 40, 41, 42, 43, 44, 45,\n",
       "        46, 47, 48, 51, 52, 58, 59, 61, 62, 64, 65, 66, 67, 68, 69]),)"
      ]
     },
     "execution_count": 44,
     "metadata": {},
     "output_type": "execute_result"
    }
   ],
   "source": [
    "idx_c1 = np.where(stock['Class'] == 1)\n",
    "idx_c1"
   ]
  },
  {
   "cell_type": "code",
   "execution_count": 45,
   "metadata": {},
   "outputs": [
    {
     "data": {
      "text/plain": [
       "32"
      ]
     },
     "execution_count": 45,
     "metadata": {},
     "output_type": "execute_result"
    }
   ],
   "source": [
    "len(idx_c1[0])"
   ]
  },
  {
   "cell_type": "code",
   "execution_count": 46,
   "metadata": {},
   "outputs": [
    {
     "data": {
      "text/plain": [
       "(array([ 2,  3,  4,  6,  7,  8,  9, 10, 15, 16, 17, 18, 19, 20, 21, 22, 23,\n",
       "        24, 25, 26, 27, 28, 35, 36, 37, 38, 39, 49, 50, 53, 54, 55, 56, 57,\n",
       "        60, 63]),)"
      ]
     },
     "execution_count": 46,
     "metadata": {},
     "output_type": "execute_result"
    }
   ],
   "source": [
    "idx_c2 = np.where(stock['Class'] == 2)\n",
    "idx_c2"
   ]
  },
  {
   "cell_type": "code",
   "execution_count": 47,
   "metadata": {},
   "outputs": [
    {
     "data": {
      "text/plain": [
       "36"
      ]
     },
     "execution_count": 47,
     "metadata": {},
     "output_type": "execute_result"
    }
   ],
   "source": [
    "len(idx_c2[0])"
   ]
  },
  {
   "cell_type": "code",
   "execution_count": 48,
   "metadata": {},
   "outputs": [
    {
     "data": {
      "text/plain": [
       "(70, 70)"
      ]
     },
     "execution_count": 48,
     "metadata": {},
     "output_type": "execute_result"
    }
   ],
   "source": [
    "len(stock), len(idx_c0[0]) + len(idx_c1[0]) + len(idx_c2[0])"
   ]
  },
  {
   "cell_type": "code",
   "execution_count": 49,
   "metadata": {},
   "outputs": [
    {
     "data": {
      "text/plain": [
       "Date\n",
       "2023-09-21   -0.014276\n",
       "2023-09-22   -0.016235\n",
       "2023-09-25    0.059019\n",
       "2023-09-26   -0.017044\n",
       "2023-09-27   -0.009952\n",
       "                ...   \n",
       "2023-12-22    0.015193\n",
       "2023-12-26    0.015374\n",
       "2023-12-27    0.011378\n",
       "2023-12-28    0.042453\n",
       "2023-12-29   -0.030471\n",
       "Name: Log Rets, Length: 70, dtype: float64"
      ]
     },
     "execution_count": 49,
     "metadata": {},
     "output_type": "execute_result"
    }
   ],
   "source": [
    "# if we would like to trade only some class\n",
    "\n",
    "profit_c0 = stock['Log Rets']\n",
    "profit_c0"
   ]
  },
  {
   "cell_type": "code",
   "execution_count": 50,
   "metadata": {},
   "outputs": [
    {
     "data": {
      "text/plain": [
       "pandas.core.series.Series"
      ]
     },
     "execution_count": 50,
     "metadata": {},
     "output_type": "execute_result"
    }
   ],
   "source": [
    "type(profit_c0)"
   ]
  },
  {
   "cell_type": "code",
   "execution_count": 51,
   "metadata": {},
   "outputs": [
    {
     "data": {
      "text/plain": [
       "array([[-0.01427644],\n",
       "       [-0.01623538],\n",
       "       [ 0.05901862],\n",
       "       [-0.01704373],\n",
       "       [-0.00995218],\n",
       "       [ 0.04609961],\n",
       "       [-0.03614743],\n",
       "       [-0.0238242 ],\n",
       "       [-0.01329113],\n",
       "       [ 0.03599359],\n",
       "       [-0.0179301 ],\n",
       "       [ 0.02946087],\n",
       "       [ 0.00313853],\n",
       "       [ 0.02655666],\n",
       "       [-0.01866163],\n",
       "       [-0.05314311],\n",
       "       [-0.02085235],\n",
       "       [ 0.02547044],\n",
       "       [ 0.00383217],\n",
       "       [-0.00748635],\n",
       "       [-0.04250935],\n",
       "       [-0.03832049],\n",
       "       [ 0.04772521],\n",
       "       [ 0.0421197 ],\n",
       "       [-0.0575741 ],\n",
       "       [ 0.01465742],\n",
       "       [-0.02176185],\n",
       "       [-0.02453981],\n",
       "       [ 0.0286057 ],\n",
       "       [ 0.02464807],\n",
       "       [ 0.04452059],\n",
       "       [ 0.01260485],\n",
       "       [-0.00731785],\n",
       "       [ 0.04005337],\n",
       "       [-0.01586609],\n",
       "       [-0.05323015],\n",
       "       [ 0.01328857],\n",
       "       [-0.01115829],\n",
       "       [ 0.03310808],\n",
       "       [ 0.03674858],\n",
       "       [-0.02188672],\n",
       "       [ 0.01391713],\n",
       "       [ 0.06494758],\n",
       "       [-0.0003409 ],\n",
       "       [ 0.05149782],\n",
       "       [ 0.03375046],\n",
       "       [-0.04613248],\n",
       "       [ 0.01496934],\n",
       "       [ 0.00467254],\n",
       "       [-0.01147857],\n",
       "       [ 0.03828221],\n",
       "       [-0.03131467],\n",
       "       [ 0.02645151],\n",
       "       [-0.04059922],\n",
       "       [ 0.02234906],\n",
       "       [ 0.07391355],\n",
       "       [-0.03542611],\n",
       "       [-0.00277778],\n",
       "       [ 0.0138124 ],\n",
       "       [ 0.07521238],\n",
       "       [ 0.0041618 ],\n",
       "       [-0.0308816 ],\n",
       "       [ 0.00809835],\n",
       "       [-0.01494621],\n",
       "       [ 0.04011993],\n",
       "       [ 0.01519304],\n",
       "       [ 0.0153744 ],\n",
       "       [ 0.01137756],\n",
       "       [ 0.042453  ],\n",
       "       [-0.03047124]])"
      ]
     },
     "execution_count": 51,
     "metadata": {},
     "output_type": "execute_result"
    }
   ],
   "source": [
    "profit_c0 = np.array(profit_c0).reshape(-1, 1)\n",
    "profit_c0"
   ]
  },
  {
   "cell_type": "code",
   "execution_count": 52,
   "metadata": {},
   "outputs": [
    {
     "data": {
      "text/plain": [
       "array([[-0.01427644],\n",
       "       [-0.01623538],\n",
       "       [ 0.        ],\n",
       "       [ 0.        ],\n",
       "       [ 0.        ],\n",
       "       [ 0.        ],\n",
       "       [ 0.        ],\n",
       "       [ 0.        ],\n",
       "       [ 0.        ],\n",
       "       [ 0.        ],\n",
       "       [ 0.        ],\n",
       "       [ 0.        ],\n",
       "       [ 0.        ],\n",
       "       [ 0.        ],\n",
       "       [ 0.        ],\n",
       "       [ 0.        ],\n",
       "       [ 0.        ],\n",
       "       [ 0.        ],\n",
       "       [ 0.        ],\n",
       "       [ 0.        ],\n",
       "       [ 0.        ],\n",
       "       [ 0.        ],\n",
       "       [ 0.        ],\n",
       "       [ 0.        ],\n",
       "       [ 0.        ],\n",
       "       [ 0.        ],\n",
       "       [ 0.        ],\n",
       "       [ 0.        ],\n",
       "       [ 0.        ],\n",
       "       [ 0.        ],\n",
       "       [ 0.        ],\n",
       "       [ 0.        ],\n",
       "       [ 0.        ],\n",
       "       [ 0.        ],\n",
       "       [ 0.        ],\n",
       "       [ 0.        ],\n",
       "       [ 0.        ],\n",
       "       [ 0.        ],\n",
       "       [ 0.        ],\n",
       "       [ 0.        ],\n",
       "       [ 0.        ],\n",
       "       [ 0.        ],\n",
       "       [ 0.        ],\n",
       "       [ 0.        ],\n",
       "       [ 0.        ],\n",
       "       [ 0.        ],\n",
       "       [ 0.        ],\n",
       "       [ 0.        ],\n",
       "       [ 0.        ],\n",
       "       [ 0.        ],\n",
       "       [ 0.        ],\n",
       "       [ 0.        ],\n",
       "       [ 0.        ],\n",
       "       [ 0.        ],\n",
       "       [ 0.        ],\n",
       "       [ 0.        ],\n",
       "       [ 0.        ],\n",
       "       [ 0.        ],\n",
       "       [ 0.        ],\n",
       "       [ 0.        ],\n",
       "       [ 0.        ],\n",
       "       [ 0.        ],\n",
       "       [ 0.        ],\n",
       "       [ 0.        ],\n",
       "       [ 0.        ],\n",
       "       [ 0.        ],\n",
       "       [ 0.        ],\n",
       "       [ 0.        ],\n",
       "       [ 0.        ],\n",
       "       [ 0.        ]])"
      ]
     },
     "execution_count": 52,
     "metadata": {},
     "output_type": "execute_result"
    }
   ],
   "source": [
    "profit_c0[idx_c1, 0] = 0\n",
    "profit_c0[idx_c2, 0] = 0\n",
    "profit_c0"
   ]
  },
  {
   "cell_type": "code",
   "execution_count": 53,
   "metadata": {},
   "outputs": [
    {
     "data": {
      "text/plain": [
       "[<matplotlib.lines.Line2D at 0x160b6aa00>]"
      ]
     },
     "execution_count": 53,
     "metadata": {},
     "output_type": "execute_result"
    },
    {
     "data": {
      "image/png": "[encoded data removed]",
      "text/plain": [
       "<Figure size 640x480 with 1 Axes>"
      ]
     },
     "metadata": {},
     "output_type": "display_data"
    }
   ],
   "source": [
    "plt.plot(profit_c0.cumsum())"
   ]
  },
  {
   "cell_type": "code",
   "execution_count": 54,
   "metadata": {},
   "outputs": [
    {
     "data": {
      "text/plain": [
       "array([[-0.01427644],\n",
       "       [-0.01623538],\n",
       "       [ 0.05901862],\n",
       "       [-0.01704373],\n",
       "       [-0.00995218],\n",
       "       [ 0.04609961],\n",
       "       [-0.03614743],\n",
       "       [-0.0238242 ],\n",
       "       [-0.01329113],\n",
       "       [ 0.03599359],\n",
       "       [-0.0179301 ],\n",
       "       [ 0.02946087],\n",
       "       [ 0.00313853],\n",
       "       [ 0.02655666],\n",
       "       [-0.01866163],\n",
       "       [-0.05314311],\n",
       "       [-0.02085235],\n",
       "       [ 0.02547044],\n",
       "       [ 0.00383217],\n",
       "       [-0.00748635],\n",
       "       [-0.04250935],\n",
       "       [-0.03832049],\n",
       "       [ 0.04772521],\n",
       "       [ 0.0421197 ],\n",
       "       [-0.0575741 ],\n",
       "       [ 0.01465742],\n",
       "       [-0.02176185],\n",
       "       [-0.02453981],\n",
       "       [ 0.0286057 ],\n",
       "       [ 0.02464807],\n",
       "       [ 0.04452059],\n",
       "       [ 0.01260485],\n",
       "       [-0.00731785],\n",
       "       [ 0.04005337],\n",
       "       [-0.01586609],\n",
       "       [-0.05323015],\n",
       "       [ 0.01328857],\n",
       "       [-0.01115829],\n",
       "       [ 0.03310808],\n",
       "       [ 0.03674858],\n",
       "       [-0.02188672],\n",
       "       [ 0.01391713],\n",
       "       [ 0.06494758],\n",
       "       [-0.0003409 ],\n",
       "       [ 0.05149782],\n",
       "       [ 0.03375046],\n",
       "       [-0.04613248],\n",
       "       [ 0.01496934],\n",
       "       [ 0.00467254],\n",
       "       [-0.01147857],\n",
       "       [ 0.03828221],\n",
       "       [-0.03131467],\n",
       "       [ 0.02645151],\n",
       "       [-0.04059922],\n",
       "       [ 0.02234906],\n",
       "       [ 0.07391355],\n",
       "       [-0.03542611],\n",
       "       [-0.00277778],\n",
       "       [ 0.0138124 ],\n",
       "       [ 0.07521238],\n",
       "       [ 0.0041618 ],\n",
       "       [-0.0308816 ],\n",
       "       [ 0.00809835],\n",
       "       [-0.01494621],\n",
       "       [ 0.04011993],\n",
       "       [ 0.01519304],\n",
       "       [ 0.0153744 ],\n",
       "       [ 0.01137756],\n",
       "       [ 0.042453  ],\n",
       "       [-0.03047124]])"
      ]
     },
     "execution_count": 54,
     "metadata": {},
     "output_type": "execute_result"
    }
   ],
   "source": [
    "profit_c1 = np.array(stock['Log Rets']).reshape(-1, 1)\n",
    "profit_c1"
   ]
  },
  {
   "cell_type": "code",
   "execution_count": 55,
   "metadata": {},
   "outputs": [
    {
     "data": {
      "text/plain": [
       "array([[ 0.        ],\n",
       "       [ 0.        ],\n",
       "       [ 0.        ],\n",
       "       [ 0.        ],\n",
       "       [ 0.        ],\n",
       "       [ 0.04609961],\n",
       "       [ 0.        ],\n",
       "       [ 0.        ],\n",
       "       [ 0.        ],\n",
       "       [ 0.        ],\n",
       "       [ 0.        ],\n",
       "       [ 0.02946087],\n",
       "       [ 0.00313853],\n",
       "       [ 0.02655666],\n",
       "       [-0.01866163],\n",
       "       [ 0.        ],\n",
       "       [ 0.        ],\n",
       "       [ 0.        ],\n",
       "       [ 0.        ],\n",
       "       [ 0.        ],\n",
       "       [ 0.        ],\n",
       "       [ 0.        ],\n",
       "       [ 0.        ],\n",
       "       [ 0.        ],\n",
       "       [ 0.        ],\n",
       "       [ 0.        ],\n",
       "       [ 0.        ],\n",
       "       [ 0.        ],\n",
       "       [ 0.        ],\n",
       "       [ 0.02464807],\n",
       "       [ 0.04452059],\n",
       "       [ 0.01260485],\n",
       "       [-0.00731785],\n",
       "       [ 0.04005337],\n",
       "       [-0.01586609],\n",
       "       [ 0.        ],\n",
       "       [ 0.        ],\n",
       "       [ 0.        ],\n",
       "       [ 0.        ],\n",
       "       [ 0.        ],\n",
       "       [-0.02188672],\n",
       "       [ 0.01391713],\n",
       "       [ 0.06494758],\n",
       "       [-0.0003409 ],\n",
       "       [ 0.05149782],\n",
       "       [ 0.03375046],\n",
       "       [-0.04613248],\n",
       "       [ 0.01496934],\n",
       "       [ 0.00467254],\n",
       "       [ 0.        ],\n",
       "       [ 0.        ],\n",
       "       [-0.03131467],\n",
       "       [ 0.02645151],\n",
       "       [ 0.        ],\n",
       "       [ 0.        ],\n",
       "       [ 0.        ],\n",
       "       [ 0.        ],\n",
       "       [ 0.        ],\n",
       "       [ 0.0138124 ],\n",
       "       [ 0.07521238],\n",
       "       [ 0.        ],\n",
       "       [-0.0308816 ],\n",
       "       [ 0.00809835],\n",
       "       [ 0.        ],\n",
       "       [ 0.04011993],\n",
       "       [ 0.01519304],\n",
       "       [ 0.0153744 ],\n",
       "       [ 0.01137756],\n",
       "       [ 0.042453  ],\n",
       "       [-0.03047124]])"
      ]
     },
     "execution_count": 55,
     "metadata": {},
     "output_type": "execute_result"
    }
   ],
   "source": [
    "profit_c1[idx_c0, 0] = 0\n",
    "profit_c1[idx_c2, 0] = 0\n",
    "profit_c1"
   ]
  },
  {
   "cell_type": "code",
   "execution_count": 56,
   "metadata": {},
   "outputs": [
    {
     "data": {
      "text/plain": [
       "[<matplotlib.lines.Line2D at 0x1609681f0>]"
      ]
     },
     "execution_count": 56,
     "metadata": {},
     "output_type": "execute_result"
    },
    {
     "data": {
      "image/png": "[encoded data removed]",
      "text/plain": [
       "<Figure size 640x480 with 1 Axes>"
      ]
     },
     "metadata": {},
     "output_type": "display_data"
    }
   ],
   "source": [
    "plt.plot(profit_c1.cumsum())"
   ]
  },
  {
   "cell_type": "code",
   "execution_count": 57,
   "metadata": {},
   "outputs": [
    {
     "data": {
      "text/plain": [
       "array([[-0.01427644],\n",
       "       [-0.01623538],\n",
       "       [ 0.05901862],\n",
       "       [-0.01704373],\n",
       "       [-0.00995218],\n",
       "       [ 0.04609961],\n",
       "       [-0.03614743],\n",
       "       [-0.0238242 ],\n",
       "       [-0.01329113],\n",
       "       [ 0.03599359],\n",
       "       [-0.0179301 ],\n",
       "       [ 0.02946087],\n",
       "       [ 0.00313853],\n",
       "       [ 0.02655666],\n",
       "       [-0.01866163],\n",
       "       [-0.05314311],\n",
       "       [-0.02085235],\n",
       "       [ 0.02547044],\n",
       "       [ 0.00383217],\n",
       "       [-0.00748635],\n",
       "       [-0.04250935],\n",
       "       [-0.03832049],\n",
       "       [ 0.04772521],\n",
       "       [ 0.0421197 ],\n",
       "       [-0.0575741 ],\n",
       "       [ 0.01465742],\n",
       "       [-0.02176185],\n",
       "       [-0.02453981],\n",
       "       [ 0.0286057 ],\n",
       "       [ 0.02464807],\n",
       "       [ 0.04452059],\n",
       "       [ 0.01260485],\n",
       "       [-0.00731785],\n",
       "       [ 0.04005337],\n",
       "       [-0.01586609],\n",
       "       [-0.05323015],\n",
       "       [ 0.01328857],\n",
       "       [-0.01115829],\n",
       "       [ 0.03310808],\n",
       "       [ 0.03674858],\n",
       "       [-0.02188672],\n",
       "       [ 0.01391713],\n",
       "       [ 0.06494758],\n",
       "       [-0.0003409 ],\n",
       "       [ 0.05149782],\n",
       "       [ 0.03375046],\n",
       "       [-0.04613248],\n",
       "       [ 0.01496934],\n",
       "       [ 0.00467254],\n",
       "       [-0.01147857],\n",
       "       [ 0.03828221],\n",
       "       [-0.03131467],\n",
       "       [ 0.02645151],\n",
       "       [-0.04059922],\n",
       "       [ 0.02234906],\n",
       "       [ 0.07391355],\n",
       "       [-0.03542611],\n",
       "       [-0.00277778],\n",
       "       [ 0.0138124 ],\n",
       "       [ 0.07521238],\n",
       "       [ 0.0041618 ],\n",
       "       [-0.0308816 ],\n",
       "       [ 0.00809835],\n",
       "       [-0.01494621],\n",
       "       [ 0.04011993],\n",
       "       [ 0.01519304],\n",
       "       [ 0.0153744 ],\n",
       "       [ 0.01137756],\n",
       "       [ 0.042453  ],\n",
       "       [-0.03047124]])"
      ]
     },
     "execution_count": 57,
     "metadata": {},
     "output_type": "execute_result"
    }
   ],
   "source": [
    "profit_c2 = np.array(stock['Log Rets']).reshape(-1, 1)\n",
    "profit_c2"
   ]
  },
  {
   "cell_type": "code",
   "execution_count": 58,
   "metadata": {},
   "outputs": [
    {
     "data": {
      "text/plain": [
       "array([[ 0.        ],\n",
       "       [ 0.        ],\n",
       "       [ 0.05901862],\n",
       "       [-0.01704373],\n",
       "       [-0.00995218],\n",
       "       [ 0.        ],\n",
       "       [-0.03614743],\n",
       "       [-0.0238242 ],\n",
       "       [-0.01329113],\n",
       "       [ 0.03599359],\n",
       "       [-0.0179301 ],\n",
       "       [ 0.        ],\n",
       "       [ 0.        ],\n",
       "       [ 0.        ],\n",
       "       [ 0.        ],\n",
       "       [-0.05314311],\n",
       "       [-0.02085235],\n",
       "       [ 0.02547044],\n",
       "       [ 0.00383217],\n",
       "       [-0.00748635],\n",
       "       [-0.04250935],\n",
       "       [-0.03832049],\n",
       "       [ 0.04772521],\n",
       "       [ 0.0421197 ],\n",
       "       [-0.0575741 ],\n",
       "       [ 0.01465742],\n",
       "       [-0.02176185],\n",
       "       [-0.02453981],\n",
       "       [ 0.0286057 ],\n",
       "       [ 0.        ],\n",
       "       [ 0.        ],\n",
       "       [ 0.        ],\n",
       "       [ 0.        ],\n",
       "       [ 0.        ],\n",
       "       [ 0.        ],\n",
       "       [-0.05323015],\n",
       "       [ 0.01328857],\n",
       "       [-0.01115829],\n",
       "       [ 0.03310808],\n",
       "       [ 0.03674858],\n",
       "       [ 0.        ],\n",
       "       [ 0.        ],\n",
       "       [ 0.        ],\n",
       "       [ 0.        ],\n",
       "       [ 0.        ],\n",
       "       [ 0.        ],\n",
       "       [ 0.        ],\n",
       "       [ 0.        ],\n",
       "       [ 0.        ],\n",
       "       [-0.01147857],\n",
       "       [ 0.03828221],\n",
       "       [ 0.        ],\n",
       "       [ 0.        ],\n",
       "       [-0.04059922],\n",
       "       [ 0.02234906],\n",
       "       [ 0.07391355],\n",
       "       [-0.03542611],\n",
       "       [-0.00277778],\n",
       "       [ 0.        ],\n",
       "       [ 0.        ],\n",
       "       [ 0.0041618 ],\n",
       "       [ 0.        ],\n",
       "       [ 0.        ],\n",
       "       [-0.01494621],\n",
       "       [ 0.        ],\n",
       "       [ 0.        ],\n",
       "       [ 0.        ],\n",
       "       [ 0.        ],\n",
       "       [ 0.        ],\n",
       "       [ 0.        ]])"
      ]
     },
     "execution_count": 58,
     "metadata": {},
     "output_type": "execute_result"
    }
   ],
   "source": [
    "profit_c2[idx_c0, 0] = 0\n",
    "profit_c2[idx_c1, 0] = 0\n",
    "profit_c2"
   ]
  },
  {
   "cell_type": "code",
   "execution_count": 59,
   "metadata": {},
   "outputs": [
    {
     "data": {
      "text/plain": [
       "[<matplotlib.lines.Line2D at 0x160c78460>]"
      ]
     },
     "execution_count": 59,
     "metadata": {},
     "output_type": "execute_result"
    },
    {
     "data": {
      "image/png": "[encoded data removed]",
      "text/plain": [
       "<Figure size 640x480 with 1 Axes>"
      ]
     },
     "metadata": {},
     "output_type": "display_data"
    }
   ],
   "source": [
    "plt.plot(profit_c2.cumsum())"
   ]
  },
  {
   "cell_type": "markdown",
   "metadata": {},
   "source": [
    "*** Require to select the correct class and time before trade\n",
    "- What we require to do more\n",
    "    - Lock ahead bias\n",
    "    - In sample & Out sample"
   ]
  },
  {
   "cell_type": "code",
   "execution_count": 60,
   "metadata": {},
   "outputs": [
    {
     "data": {
      "text/html": [
       "<div>\n",
       "<style scoped>\n",
       "    .dataframe tbody tr th:only-of-type {\n",
       "        vertical-align: middle;\n",
       "    }\n",
       "\n",
       "    .dataframe tbody tr th {\n",
       "        vertical-align: top;\n",
       "    }\n",
       "\n",
       "    .dataframe thead th {\n",
       "        text-align: right;\n",
       "    }\n",
       "</style>\n",
       "<table border=\"1\" class=\"dataframe\">\n",
       "  <thead>\n",
       "    <tr style=\"text-align: right;\">\n",
       "      <th></th>\n",
       "      <th>Open</th>\n",
       "      <th>High</th>\n",
       "      <th>Low</th>\n",
       "      <th>Close</th>\n",
       "      <th>Adj Close</th>\n",
       "      <th>Volume</th>\n",
       "      <th>Log Rets</th>\n",
       "      <th>Rets Mean</th>\n",
       "      <th>Rets STD</th>\n",
       "      <th>Class</th>\n",
       "    </tr>\n",
       "    <tr>\n",
       "      <th>Date</th>\n",
       "      <th></th>\n",
       "      <th></th>\n",
       "      <th></th>\n",
       "      <th></th>\n",
       "      <th></th>\n",
       "      <th></th>\n",
       "      <th></th>\n",
       "      <th></th>\n",
       "      <th></th>\n",
       "      <th></th>\n",
       "    </tr>\n",
       "  </thead>\n",
       "  <tbody>\n",
       "    <tr>\n",
       "      <th>2023-09-21</th>\n",
       "      <td>51.779999</td>\n",
       "      <td>52.799999</td>\n",
       "      <td>49.849998</td>\n",
       "      <td>52.160000</td>\n",
       "      <td>52.160000</td>\n",
       "      <td>14980700</td>\n",
       "      <td>-0.014276</td>\n",
       "      <td>-0.039628</td>\n",
       "      <td>0.014467</td>\n",
       "      <td>0.0</td>\n",
       "    </tr>\n",
       "    <tr>\n",
       "      <th>2023-09-22</th>\n",
       "      <td>52.900002</td>\n",
       "      <td>52.900002</td>\n",
       "      <td>50.355000</td>\n",
       "      <td>51.320000</td>\n",
       "      <td>51.320000</td>\n",
       "      <td>8430200</td>\n",
       "      <td>-0.016235</td>\n",
       "      <td>-0.033737</td>\n",
       "      <td>0.017133</td>\n",
       "      <td>0.0</td>\n",
       "    </tr>\n",
       "    <tr>\n",
       "      <th>2023-09-25</th>\n",
       "      <td>51.119999</td>\n",
       "      <td>54.500000</td>\n",
       "      <td>50.020000</td>\n",
       "      <td>54.439999</td>\n",
       "      <td>54.439999</td>\n",
       "      <td>12896500</td>\n",
       "      <td>0.059019</td>\n",
       "      <td>-0.012669</td>\n",
       "      <td>0.043012</td>\n",
       "      <td>2.0</td>\n",
       "    </tr>\n",
       "    <tr>\n",
       "      <th>2023-09-26</th>\n",
       "      <td>53.930000</td>\n",
       "      <td>54.529999</td>\n",
       "      <td>52.700001</td>\n",
       "      <td>53.520000</td>\n",
       "      <td>53.520000</td>\n",
       "      <td>6283500</td>\n",
       "      <td>-0.017044</td>\n",
       "      <td>-0.006073</td>\n",
       "      <td>0.038099</td>\n",
       "      <td>2.0</td>\n",
       "    </tr>\n",
       "    <tr>\n",
       "      <th>2023-09-27</th>\n",
       "      <td>54.400002</td>\n",
       "      <td>54.410000</td>\n",
       "      <td>51.789001</td>\n",
       "      <td>52.990002</td>\n",
       "      <td>52.990002</td>\n",
       "      <td>6866700</td>\n",
       "      <td>-0.009952</td>\n",
       "      <td>0.000302</td>\n",
       "      <td>0.032938</td>\n",
       "      <td>2.0</td>\n",
       "    </tr>\n",
       "  </tbody>\n",
       "</table>\n",
       "</div>"
      ],
      "text/plain": [
       "                 Open       High        Low      Close  Adj Close    Volume  \\\n",
       "Date                                                                          \n",
       "2023-09-21  51.779999  52.799999  49.849998  52.160000  52.160000  14980700   \n",
       "2023-09-22  52.900002  52.900002  50.355000  51.320000  51.320000   8430200   \n",
       "2023-09-25  51.119999  54.500000  50.020000  54.439999  54.439999  12896500   \n",
       "2023-09-26  53.930000  54.529999  52.700001  53.520000  53.520000   6283500   \n",
       "2023-09-27  54.400002  54.410000  51.789001  52.990002  52.990002   6866700   \n",
       "\n",
       "            Log Rets  Rets Mean  Rets STD  Class  \n",
       "Date                                              \n",
       "2023-09-21 -0.014276  -0.039628  0.014467    0.0  \n",
       "2023-09-22 -0.016235  -0.033737  0.017133    0.0  \n",
       "2023-09-25  0.059019  -0.012669  0.043012    2.0  \n",
       "2023-09-26 -0.017044  -0.006073  0.038099    2.0  \n",
       "2023-09-27 -0.009952   0.000302  0.032938    2.0  "
      ]
     },
     "execution_count": 60,
     "metadata": {},
     "output_type": "execute_result"
    }
   ],
   "source": [
    "stock.head()"
   ]
  },
  {
   "cell_type": "code",
   "execution_count": null,
   "metadata": {},
   "outputs": [],
   "source": []
  }
 ],
 "metadata": {
  "kernelspec": {
   "display_name": "conda_env",
   "language": "python",
   "name": "python3"
  },
  "language_info": {
   "codemirror_mode": {
    "name": "ipython",
    "version": 3
   },
   "file_extension": ".py",
   "mimetype": "text/x-python",
   "name": "python",
   "nbconvert_exporter": "python",
   "pygments_lexer": "ipython3",
   "version": "3.9.15"
  }
 },
 "nbformat": 4,
 "nbformat_minor": 2
}
