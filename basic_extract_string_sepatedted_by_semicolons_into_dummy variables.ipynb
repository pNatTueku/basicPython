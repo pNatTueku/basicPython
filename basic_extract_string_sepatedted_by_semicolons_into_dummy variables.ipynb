{
 "cells": [
  {
   "cell_type": "markdown",
   "metadata": {},
   "source": [
    "### How to extract string separated by semicolons into dummy variables\n",
    "- We will get columns for each unique value with binary values (0 or 1) indicating  presence or absence of that value in the original string"
   ]
  },
  {
   "cell_type": "code",
   "execution_count": 1,
   "metadata": {},
   "outputs": [],
   "source": [
    "# import a library\n",
    "\n",
    "import pandas as pd"
   ]
  },
  {
   "cell_type": "code",
   "execution_count": 2,
   "metadata": {},
   "outputs": [],
   "source": [
    "# create sample data\n",
    "\n",
    "data = {\n",
    "    'location': ['T1C1R1-AAA1', 'T1C2R2-AAA2', 'T2C1R7-AAA3', 'T2C1R9-AAA4'],\n",
    "    'status': ['Fail', 'NTF', 'Fail', 'Fail'],\n",
    "    'repair_action': [\n",
    "        'Repalce Fan;Replace Flex;Replace Seal;Replace Pin',\n",
    "        'Repalce Fan;Replace Seal;Replace Pin;Replace Control Card',\n",
    "        'Repalce Fan;Replace Flex;Replace Seal',\n",
    "        'Replace Flex;Replace Seal;Replace Pin',\n",
    "    ]\n",
    "}"
   ]
  },
  {
   "cell_type": "code",
   "execution_count": 3,
   "metadata": {},
   "outputs": [
    {
     "data": {
      "text/html": [
       "<div>\n",
       "<style scoped>\n",
       "    .dataframe tbody tr th:only-of-type {\n",
       "        vertical-align: middle;\n",
       "    }\n",
       "\n",
       "    .dataframe tbody tr th {\n",
       "        vertical-align: top;\n",
       "    }\n",
       "\n",
       "    .dataframe thead th {\n",
       "        text-align: right;\n",
       "    }\n",
       "</style>\n",
       "<table border=\"1\" class=\"dataframe\">\n",
       "  <thead>\n",
       "    <tr style=\"text-align: right;\">\n",
       "      <th></th>\n",
       "      <th>location</th>\n",
       "      <th>status</th>\n",
       "      <th>repair_action</th>\n",
       "    </tr>\n",
       "  </thead>\n",
       "  <tbody>\n",
       "    <tr>\n",
       "      <th>0</th>\n",
       "      <td>T1C1R1-AAA1</td>\n",
       "      <td>Fail</td>\n",
       "      <td>Repalce Fan;Replace Flex;Replace Seal;Replace Pin</td>\n",
       "    </tr>\n",
       "    <tr>\n",
       "      <th>1</th>\n",
       "      <td>T1C2R2-AAA2</td>\n",
       "      <td>NTF</td>\n",
       "      <td>Repalce Fan;Replace Seal;Replace Pin;Replace C...</td>\n",
       "    </tr>\n",
       "    <tr>\n",
       "      <th>2</th>\n",
       "      <td>T2C1R7-AAA3</td>\n",
       "      <td>Fail</td>\n",
       "      <td>Repalce Fan;Replace Flex;Replace Seal</td>\n",
       "    </tr>\n",
       "    <tr>\n",
       "      <th>3</th>\n",
       "      <td>T2C1R9-AAA4</td>\n",
       "      <td>Fail</td>\n",
       "      <td>Replace Flex;Replace Seal;Replace Pin</td>\n",
       "    </tr>\n",
       "  </tbody>\n",
       "</table>\n",
       "</div>"
      ],
      "text/plain": [
       "      location status                                      repair_action\n",
       "0  T1C1R1-AAA1   Fail  Repalce Fan;Replace Flex;Replace Seal;Replace Pin\n",
       "1  T1C2R2-AAA2    NTF  Repalce Fan;Replace Seal;Replace Pin;Replace C...\n",
       "2  T2C1R7-AAA3   Fail              Repalce Fan;Replace Flex;Replace Seal\n",
       "3  T2C1R9-AAA4   Fail              Replace Flex;Replace Seal;Replace Pin"
      ]
     },
     "execution_count": 3,
     "metadata": {},
     "output_type": "execute_result"
    }
   ],
   "source": [
    "# create a dataframe using dictionary data\n",
    "\n",
    "df = pd.DataFrame(data)\n",
    "df"
   ]
  },
  {
   "cell_type": "code",
   "execution_count": 4,
   "metadata": {},
   "outputs": [
    {
     "data": {
      "text/html": [
       "<div>\n",
       "<style scoped>\n",
       "    .dataframe tbody tr th:only-of-type {\n",
       "        vertical-align: middle;\n",
       "    }\n",
       "\n",
       "    .dataframe tbody tr th {\n",
       "        vertical-align: top;\n",
       "    }\n",
       "\n",
       "    .dataframe thead th {\n",
       "        text-align: right;\n",
       "    }\n",
       "</style>\n",
       "<table border=\"1\" class=\"dataframe\">\n",
       "  <thead>\n",
       "    <tr style=\"text-align: right;\">\n",
       "      <th></th>\n",
       "      <th>Repalce Fan</th>\n",
       "      <th>Replace Control Card</th>\n",
       "      <th>Replace Flex</th>\n",
       "      <th>Replace Pin</th>\n",
       "      <th>Replace Seal</th>\n",
       "    </tr>\n",
       "  </thead>\n",
       "  <tbody>\n",
       "    <tr>\n",
       "      <th>0</th>\n",
       "      <td>1</td>\n",
       "      <td>0</td>\n",
       "      <td>1</td>\n",
       "      <td>1</td>\n",
       "      <td>1</td>\n",
       "    </tr>\n",
       "    <tr>\n",
       "      <th>1</th>\n",
       "      <td>1</td>\n",
       "      <td>1</td>\n",
       "      <td>0</td>\n",
       "      <td>1</td>\n",
       "      <td>1</td>\n",
       "    </tr>\n",
       "    <tr>\n",
       "      <th>2</th>\n",
       "      <td>1</td>\n",
       "      <td>0</td>\n",
       "      <td>1</td>\n",
       "      <td>0</td>\n",
       "      <td>1</td>\n",
       "    </tr>\n",
       "    <tr>\n",
       "      <th>3</th>\n",
       "      <td>0</td>\n",
       "      <td>0</td>\n",
       "      <td>1</td>\n",
       "      <td>1</td>\n",
       "      <td>1</td>\n",
       "    </tr>\n",
       "  </tbody>\n",
       "</table>\n",
       "</div>"
      ],
      "text/plain": [
       "   Repalce Fan  Replace Control Card  Replace Flex  Replace Pin  Replace Seal\n",
       "0            1                     0             1            1             1\n",
       "1            1                     1             0            1             1\n",
       "2            1                     0             1            0             1\n",
       "3            0                     0             1            1             1"
      ]
     },
     "execution_count": 4,
     "metadata": {},
     "output_type": "execute_result"
    }
   ],
   "source": [
    "# split string and create dummy variables and store in a new dataframe\n",
    "\n",
    "df['repair_action'].str.get_dummies(sep = ';')"
   ]
  },
  {
   "cell_type": "code",
   "execution_count": 5,
   "metadata": {},
   "outputs": [
    {
     "data": {
      "text/html": [
       "<div>\n",
       "<style scoped>\n",
       "    .dataframe tbody tr th:only-of-type {\n",
       "        vertical-align: middle;\n",
       "    }\n",
       "\n",
       "    .dataframe tbody tr th {\n",
       "        vertical-align: top;\n",
       "    }\n",
       "\n",
       "    .dataframe thead th {\n",
       "        text-align: right;\n",
       "    }\n",
       "</style>\n",
       "<table border=\"1\" class=\"dataframe\">\n",
       "  <thead>\n",
       "    <tr style=\"text-align: right;\">\n",
       "      <th></th>\n",
       "      <th>Repalce Fan</th>\n",
       "      <th>Replace Control Card</th>\n",
       "      <th>Replace Flex</th>\n",
       "      <th>Replace Pin</th>\n",
       "      <th>Replace Seal</th>\n",
       "    </tr>\n",
       "  </thead>\n",
       "  <tbody>\n",
       "    <tr>\n",
       "      <th>0</th>\n",
       "      <td>1</td>\n",
       "      <td>0</td>\n",
       "      <td>1</td>\n",
       "      <td>1</td>\n",
       "      <td>1</td>\n",
       "    </tr>\n",
       "    <tr>\n",
       "      <th>1</th>\n",
       "      <td>1</td>\n",
       "      <td>1</td>\n",
       "      <td>0</td>\n",
       "      <td>1</td>\n",
       "      <td>1</td>\n",
       "    </tr>\n",
       "    <tr>\n",
       "      <th>2</th>\n",
       "      <td>1</td>\n",
       "      <td>0</td>\n",
       "      <td>1</td>\n",
       "      <td>0</td>\n",
       "      <td>1</td>\n",
       "    </tr>\n",
       "    <tr>\n",
       "      <th>3</th>\n",
       "      <td>0</td>\n",
       "      <td>0</td>\n",
       "      <td>1</td>\n",
       "      <td>1</td>\n",
       "      <td>1</td>\n",
       "    </tr>\n",
       "  </tbody>\n",
       "</table>\n",
       "</div>"
      ],
      "text/plain": [
       "   Repalce Fan  Replace Control Card  Replace Flex  Replace Pin  Replace Seal\n",
       "0            1                     0             1            1             1\n",
       "1            1                     1             0            1             1\n",
       "2            1                     0             1            0             1\n",
       "3            0                     0             1            1             1"
      ]
     },
     "execution_count": 5,
     "metadata": {},
     "output_type": "execute_result"
    }
   ],
   "source": [
    "dummy_df = df['repair_action'].str.get_dummies(sep = ';')\n",
    "dummy_df"
   ]
  },
  {
   "cell_type": "code",
   "execution_count": 6,
   "metadata": {},
   "outputs": [
    {
     "data": {
      "text/html": [
       "<div>\n",
       "<style scoped>\n",
       "    .dataframe tbody tr th:only-of-type {\n",
       "        vertical-align: middle;\n",
       "    }\n",
       "\n",
       "    .dataframe tbody tr th {\n",
       "        vertical-align: top;\n",
       "    }\n",
       "\n",
       "    .dataframe thead th {\n",
       "        text-align: right;\n",
       "    }\n",
       "</style>\n",
       "<table border=\"1\" class=\"dataframe\">\n",
       "  <thead>\n",
       "    <tr style=\"text-align: right;\">\n",
       "      <th></th>\n",
       "      <th>location</th>\n",
       "      <th>status</th>\n",
       "      <th>repair_action</th>\n",
       "      <th>Repalce Fan</th>\n",
       "      <th>Replace Control Card</th>\n",
       "      <th>Replace Flex</th>\n",
       "      <th>Replace Pin</th>\n",
       "      <th>Replace Seal</th>\n",
       "    </tr>\n",
       "  </thead>\n",
       "  <tbody>\n",
       "    <tr>\n",
       "      <th>0</th>\n",
       "      <td>T1C1R1-AAA1</td>\n",
       "      <td>Fail</td>\n",
       "      <td>Repalce Fan;Replace Flex;Replace Seal;Replace Pin</td>\n",
       "      <td>1</td>\n",
       "      <td>0</td>\n",
       "      <td>1</td>\n",
       "      <td>1</td>\n",
       "      <td>1</td>\n",
       "    </tr>\n",
       "    <tr>\n",
       "      <th>1</th>\n",
       "      <td>T1C2R2-AAA2</td>\n",
       "      <td>NTF</td>\n",
       "      <td>Repalce Fan;Replace Seal;Replace Pin;Replace C...</td>\n",
       "      <td>1</td>\n",
       "      <td>1</td>\n",
       "      <td>0</td>\n",
       "      <td>1</td>\n",
       "      <td>1</td>\n",
       "    </tr>\n",
       "    <tr>\n",
       "      <th>2</th>\n",
       "      <td>T2C1R7-AAA3</td>\n",
       "      <td>Fail</td>\n",
       "      <td>Repalce Fan;Replace Flex;Replace Seal</td>\n",
       "      <td>1</td>\n",
       "      <td>0</td>\n",
       "      <td>1</td>\n",
       "      <td>0</td>\n",
       "      <td>1</td>\n",
       "    </tr>\n",
       "    <tr>\n",
       "      <th>3</th>\n",
       "      <td>T2C1R9-AAA4</td>\n",
       "      <td>Fail</td>\n",
       "      <td>Replace Flex;Replace Seal;Replace Pin</td>\n",
       "      <td>0</td>\n",
       "      <td>0</td>\n",
       "      <td>1</td>\n",
       "      <td>1</td>\n",
       "      <td>1</td>\n",
       "    </tr>\n",
       "  </tbody>\n",
       "</table>\n",
       "</div>"
      ],
      "text/plain": [
       "      location status                                      repair_action  \\\n",
       "0  T1C1R1-AAA1   Fail  Repalce Fan;Replace Flex;Replace Seal;Replace Pin   \n",
       "1  T1C2R2-AAA2    NTF  Repalce Fan;Replace Seal;Replace Pin;Replace C...   \n",
       "2  T2C1R7-AAA3   Fail              Repalce Fan;Replace Flex;Replace Seal   \n",
       "3  T2C1R9-AAA4   Fail              Replace Flex;Replace Seal;Replace Pin   \n",
       "\n",
       "   Repalce Fan  Replace Control Card  Replace Flex  Replace Pin  Replace Seal  \n",
       "0            1                     0             1            1             1  \n",
       "1            1                     1             0            1             1  \n",
       "2            1                     0             1            0             1  \n",
       "3            0                     0             1            1             1  "
      ]
     },
     "execution_count": 6,
     "metadata": {},
     "output_type": "execute_result"
    }
   ],
   "source": [
    "# concate dataframes - df and dummy_df into a new dataframe\n",
    "\n",
    "result_df = pd.concat([df, dummy_df], axis = 1) # axis 1 is columns wise\n",
    "result_df"
   ]
  },
  {
   "cell_type": "code",
   "execution_count": 8,
   "metadata": {},
   "outputs": [
    {
     "data": {
      "text/plain": [
       "(4, 3)"
      ]
     },
     "execution_count": 8,
     "metadata": {},
     "output_type": "execute_result"
    }
   ],
   "source": [
    "df.shape"
   ]
  },
  {
   "cell_type": "code",
   "execution_count": 9,
   "metadata": {},
   "outputs": [
    {
     "data": {
      "text/plain": [
       "(4, 5)"
      ]
     },
     "execution_count": 9,
     "metadata": {},
     "output_type": "execute_result"
    }
   ],
   "source": [
    "dummy_df.shape"
   ]
  },
  {
   "cell_type": "code",
   "execution_count": 11,
   "metadata": {},
   "outputs": [
    {
     "data": {
      "text/plain": [
       "(4, 8)"
      ]
     },
     "execution_count": 11,
     "metadata": {},
     "output_type": "execute_result"
    }
   ],
   "source": [
    "result_df.shape"
   ]
  },
  {
   "cell_type": "code",
   "execution_count": null,
   "metadata": {},
   "outputs": [],
   "source": []
  }
 ],
 "metadata": {
  "kernelspec": {
   "display_name": "conda_env",
   "language": "python",
   "name": "python3"
  },
  "language_info": {
   "codemirror_mode": {
    "name": "ipython",
    "version": 3
   },
   "file_extension": ".py",
   "mimetype": "text/x-python",
   "name": "python",
   "nbconvert_exporter": "python",
   "pygments_lexer": "ipython3",
   "version": "3.9.15"
  }
 },
 "nbformat": 4,
 "nbformat_minor": 2
}
