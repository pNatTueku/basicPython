{
 "cells": [
  {
   "cell_type": "code",
   "execution_count": 1,
   "metadata": {},
   "outputs": [],
   "source": [
    "import numpy as np\n",
    "import matplotlib.pyplot as plt"
   ]
  },
  {
   "cell_type": "code",
   "execution_count": 3,
   "metadata": {},
   "outputs": [
    {
     "data": {
      "text/plain": [
       "array([  0.,   2.,   4.,   6.,   8.,  10.,  12.,  14.,  16.,  18.,  20.,\n",
       "        22.,  24.,  26.,  28.,  30.,  32.,  34.,  36.,  38.,  40.,  42.,\n",
       "        44.,  46.,  48.,  50.,  52.,  54.,  56.,  58.,  60.,  62.,  64.,\n",
       "        66.,  68.,  70.,  72.,  74.,  76.,  78.,  80.,  82.,  84.,  86.,\n",
       "        88.,  90.,  92.,  94.,  96.,  98., 100., 102., 104., 106., 108.,\n",
       "       110., 112., 114., 116., 118., 120., 122., 124., 126., 128., 130.,\n",
       "       132., 134., 136., 138., 140., 142., 144., 146., 148., 150., 152.,\n",
       "       154., 156., 158., 160., 162., 164., 166., 168., 170., 172., 174.,\n",
       "       176., 178., 180., 182., 184., 186., 188., 190., 192., 194., 196.,\n",
       "       198., 200., 202., 204., 206., 208., 210., 212., 214., 216., 218.,\n",
       "       220., 222., 224., 226., 228., 230., 232., 234., 236., 238., 240.,\n",
       "       242., 244., 246., 248., 250., 252., 254., 256., 258., 260., 262.,\n",
       "       264., 266., 268., 270., 272., 274., 276., 278., 280., 282., 284.,\n",
       "       286., 288., 290., 292., 294., 296., 298., 300., 302., 304., 306.,\n",
       "       308., 310., 312., 314., 316., 318., 320., 322., 324., 326., 328.,\n",
       "       330., 332., 334., 336., 338., 340., 342., 344., 346., 348., 350.,\n",
       "       352., 354., 356., 358., 360., 362., 364., 366., 368., 370., 372.,\n",
       "       374., 376., 378., 380., 382., 384., 386., 388., 390., 392., 394.,\n",
       "       396., 398., 400., 402., 404., 406., 408., 410., 412., 414., 416.,\n",
       "       418., 420., 422., 424., 426., 428., 430., 432., 434., 436., 438.,\n",
       "       440., 442., 444., 446., 448., 450., 452., 454., 456., 458., 460.,\n",
       "       462., 464., 466., 468., 470., 472., 474., 476., 478., 480., 482.,\n",
       "       484., 486., 488., 490., 492., 494., 496., 498., 500., 502., 504.,\n",
       "       506., 508., 510., 512., 514., 516., 518., 520., 522., 524., 526.,\n",
       "       528., 530., 532., 534., 536., 538., 540., 542., 544., 546., 548.,\n",
       "       550., 552., 554., 556., 558., 560., 562., 564., 566., 568., 570.,\n",
       "       572., 574., 576., 578., 580., 582., 584., 586., 588., 590., 592.,\n",
       "       594., 596., 598., 600., 602., 604., 606., 608., 610., 612., 614.,\n",
       "       616., 618., 620., 622., 624., 626., 628., 630., 632., 634., 636.,\n",
       "       638., 640., 642., 644., 646., 648., 650., 652., 654., 656., 658.,\n",
       "       660., 662., 664., 666., 668., 670., 672., 674., 676., 678., 680.,\n",
       "       682., 684., 686., 688., 690., 692., 694., 696., 698., 700., 702.,\n",
       "       704., 706., 708., 710., 712., 714., 716., 718., 720., 722., 724.,\n",
       "       726., 728., 730., 732., 734., 736., 738., 740., 742., 744., 746.,\n",
       "       748., 750., 752., 754., 756., 758., 760., 762., 764., 766., 768.,\n",
       "       770., 772., 774., 776., 778., 780., 782., 784., 786., 788., 790.,\n",
       "       792., 794., 796., 798., 800., 802., 804., 806., 808., 810., 812.,\n",
       "       814., 816., 818., 820., 822., 824., 826., 828., 830., 832., 834.,\n",
       "       836., 838., 840., 842., 844., 846., 848., 850., 852., 854., 856.,\n",
       "       858., 860., 862., 864., 866., 868., 870., 872., 874., 876., 878.,\n",
       "       880., 882., 884., 886., 888., 890., 892., 894., 896., 898., 900.,\n",
       "       902., 904., 906., 908., 910., 912., 914., 916., 918., 920., 922.,\n",
       "       924., 926., 928., 930., 932., 934., 936., 938., 940., 942., 944.,\n",
       "       946., 948., 950., 952., 954., 956., 958., 960., 962., 964., 966.,\n",
       "       968., 970., 972., 974., 976., 978., 980., 982., 984., 986., 988.,\n",
       "       990., 992., 994., 996., 998.])"
      ]
     },
     "execution_count": 3,
     "metadata": {},
     "output_type": "execute_result"
    }
   ],
   "source": [
    "# create data\n",
    "\n",
    "time = np.arange(0., 1000., 2) # start, stop, step\n",
    "time"
   ]
  },
  {
   "cell_type": "code",
   "execution_count": 4,
   "metadata": {},
   "outputs": [
    {
     "data": {
      "text/plain": [
       "(500,)"
      ]
     },
     "execution_count": 4,
     "metadata": {},
     "output_type": "execute_result"
    }
   ],
   "source": [
    "time.shape"
   ]
  },
  {
   "cell_type": "code",
   "execution_count": 5,
   "metadata": {},
   "outputs": [
    {
     "data": {
      "text/plain": [
       "500"
      ]
     },
     "execution_count": 5,
     "metadata": {},
     "output_type": "execute_result"
    }
   ],
   "source": [
    "len(time)"
   ]
  },
  {
   "cell_type": "code",
   "execution_count": 7,
   "metadata": {},
   "outputs": [],
   "source": [
    "# setting\n",
    "\n",
    "g = 9.8 # m/s^2"
   ]
  },
  {
   "cell_type": "code",
   "execution_count": 8,
   "metadata": {},
   "outputs": [],
   "source": [
    "velocity = g * time\n",
    "distance = 0.5 * g * np.power(time, 2)"
   ]
  },
  {
   "cell_type": "code",
   "execution_count": 9,
   "metadata": {},
   "outputs": [
    {
     "data": {
      "text/plain": [
       "<Figure size 1000x800 with 0 Axes>"
      ]
     },
     "execution_count": 9,
     "metadata": {},
     "output_type": "execute_result"
    },
    {
     "data": {
      "text/plain": [
       "<Figure size 1000x800 with 0 Axes>"
      ]
     },
     "metadata": {},
     "output_type": "display_data"
    }
   ],
   "source": [
    "plt.figure(figsize = (10, 8), dpi = 100)"
   ]
  },
  {
   "cell_type": "code",
   "execution_count": 12,
   "metadata": {},
   "outputs": [
    {
     "data": {
      "image/png": "[encoded data removed]",
      "text/plain": [
       "<Figure size 500x400 with 1 Axes>"
      ]
     },
     "metadata": {},
     "output_type": "display_data"
    }
   ],
   "source": [
    "plt.figure(figsize = (5, 4), dpi = 100)\n",
    "plt.plot(time, distance, 'b')\n",
    "plt.plot(time, velocity, 'g')\n",
    "\n",
    "plt.xlabel('Time (s)')\n",
    "plt.ylabel('Distance (m) and Velocity $m/s$')\n",
    "plt.legend(['Distance', 'Velocity'])\n",
    "plt.grid(True)\n",
    "plt.show()"
   ]
  },
  {
   "cell_type": "code",
   "execution_count": null,
   "metadata": {},
   "outputs": [],
   "source": []
  }
 ],
 "metadata": {
  "kernelspec": {
   "display_name": "conda_env",
   "language": "python",
   "name": "python3"
  },
  "language_info": {
   "codemirror_mode": {
    "name": "ipython",
    "version": 3
   },
   "file_extension": ".py",
   "mimetype": "text/x-python",
   "name": "python",
   "nbconvert_exporter": "python",
   "pygments_lexer": "ipython3",
   "version": "3.9.15"
  }
 },
 "nbformat": 4,
 "nbformat_minor": 2
}
