{
 "cells": [
  {
   "attachments": {},
   "cell_type": "markdown",
   "metadata": {},
   "source": [
    "### Four main types of numbers:\n",
    "\n",
    "1. Integer numbers (Z)  - Python Type: int\n",
    "2. Rational numbers (Q) - Python Type: fractions.Fraction\n",
    "3. Real numbers (R)     - Python Type: float, decimal.Decimal\n",
    "4. Complex numbers (C)  - Python Type: complex\n",
    "\n",
    "Remember: Z is subset of Q is subset of R is subset of C --> C is the biggest subset"
   ]
  },
  {
   "attachments": {},
   "cell_type": "markdown",
   "metadata": {},
   "source": [
    "### In Python, there are Five main types of numbers:\n",
    "\n",
    "1. Boolean truth values - Python Type: bool\n",
    "2. Integer numbers (Z)  - Python Type: int\n",
    "3. Rational numbers (Q) - Python Type: fractions.Fraction\n",
    "4. Real numbers (R)     - Python Type: float, decimal.Decimal\n",
    "5. Complex numbers (C)  - Python Type: complex"
   ]
  },
  {
   "cell_type": "code",
   "execution_count": 1,
   "metadata": {},
   "outputs": [
    {
     "name": "stdout",
     "output_type": "stream",
     "text": [
      "19 19\n"
     ]
    }
   ],
   "source": [
    "# what the large magitude\n",
    "a = int('10011', 2) # base 2\n",
    "b = int('19', 10) # base 10\n",
    "\n",
    "print(a, b)"
   ]
  },
  {
   "attachments": {},
   "cell_type": "markdown",
   "metadata": {},
   "source": [
    "### a and b are presented above \n",
    "how large can a Python int become (posivive or negative)?\n",
    "\n",
    "decimal number 19 required 5 bits (10011) in order to store or represent it"
   ]
  },
  {
   "cell_type": "code",
   "execution_count": 2,
   "metadata": {},
   "outputs": [
    {
     "data": {
      "text/plain": [
       "255"
      ]
     },
     "execution_count": 2,
     "metadata": {},
     "output_type": "execute_result"
    }
   ],
   "source": [
    "# what is the largeest integer number can be presented using 8 bits?\n",
    "\n",
    "c = int('11111111', 2) # base 2\n",
    "c\n"
   ]
  },
  {
   "attachments": {},
   "cell_type": "markdown",
   "metadata": {},
   "source": [
    "### the largest number that we can use is 255\n",
    "255 = 2**8 - 1"
   ]
  },
  {
   "cell_type": "code",
   "execution_count": 4,
   "metadata": {},
   "outputs": [
    {
     "data": {
      "text/plain": [
       "255"
      ]
     },
     "execution_count": 4,
     "metadata": {},
     "output_type": "execute_result"
    }
   ],
   "source": [
    "2**8 - 1"
   ]
  },
  {
   "cell_type": "code",
   "execution_count": 8,
   "metadata": {},
   "outputs": [
    {
     "data": {
      "text/plain": [
       "-127"
      ]
     },
     "execution_count": 8,
     "metadata": {},
     "output_type": "execute_result"
    }
   ],
   "source": [
    "# now let check for the negative number\n",
    "\n",
    "d = int('-1111111', 2) # base 2 ( 1 bit is reserved to represent the sign of number)\n",
    "d\n"
   ]
  },
  {
   "attachments": {},
   "cell_type": "markdown",
   "metadata": {},
   "source": [
    "### The largest number that we can represent using 7 bits is 127\n",
    "2**7 - 1 = 127"
   ]
  },
  {
   "cell_type": "code",
   "execution_count": 9,
   "metadata": {},
   "outputs": [
    {
     "data": {
      "text/plain": [
       "127"
      ]
     },
     "execution_count": 9,
     "metadata": {},
     "output_type": "execute_result"
    }
   ],
   "source": [
    "2**7 - 1"
   ]
  },
  {
   "attachments": {},
   "cell_type": "markdown",
   "metadata": {},
   "source": [
    "## So, using 8 bits we can represent all the integers in the range of [-127, 127]\n",
    "\n",
    "and 0 dese not require a sign then we can end up with the range of [-128, 127]\n",
    "\n",
    "### [-2^7, 2^7 - 1]\n",
    "\n",
    "### using 16 bits to store (signed) integers\n",
    "2^(16-1) = 2^15 Range is [-32768 ... 32767]\n",
    "\n",
    "### using 32 bits to store (signed) integers\n",
    "2^(32-1) = 2^31 Range is [-2^31 ... 2^31 -1 ]\n"
   ]
  },
  {
   "cell_type": "code",
   "execution_count": 10,
   "metadata": {},
   "outputs": [
    {
     "data": {
      "text/plain": [
       "-2147483648"
      ]
     },
     "execution_count": 10,
     "metadata": {},
     "output_type": "execute_result"
    }
   ],
   "source": [
    "-2**31"
   ]
  },
  {
   "cell_type": "code",
   "execution_count": 14,
   "metadata": {},
   "outputs": [
    {
     "data": {
      "text/plain": [
       "2147483647"
      ]
     },
     "execution_count": 14,
     "metadata": {},
     "output_type": "execute_result"
    }
   ],
   "source": [
    "2**31 - 1"
   ]
  },
  {
   "cell_type": "code",
   "execution_count": null,
   "metadata": {},
   "outputs": [],
   "source": []
  }
 ],
 "metadata": {
  "kernelspec": {
   "display_name": "Python 3",
   "language": "python",
   "name": "python3"
  },
  "language_info": {
   "codemirror_mode": {
    "name": "ipython",
    "version": 3
   },
   "file_extension": ".py",
   "mimetype": "text/x-python",
   "name": "python",
   "nbconvert_exporter": "python",
   "pygments_lexer": "ipython3",
   "version": "3.11.1"
  },
  "orig_nbformat": 4,
  "vscode": {
   "interpreter": {
    "hash": "87a1d552f91eeb558c0ccd448f410e247f4277ae8c89a1716b4b50ef0e37ae74"
   }
  }
 },
 "nbformat": 4,
 "nbformat_minor": 2
}
