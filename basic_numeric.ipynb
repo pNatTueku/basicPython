{
 "cells": [
  {
   "attachments": {},
   "cell_type": "markdown",
   "metadata": {},
   "source": [
    "### Four main types of numbers:\n",
    "\n",
    "1. Integer numbers (Z)  - Python Type: int\n",
    "2. Rational numbers (Q) - Python Type: fractions.Fraction\n",
    "3. Real numbers (R)     - Python Type: float, decimal.Decimal\n",
    "4. Complex numbers (C)  - Python Type: complex\n",
    "\n",
    "Remember: Z is subset of Q is subset of R is subset of C --> C is the biggest subset"
   ]
  },
  {
   "attachments": {},
   "cell_type": "markdown",
   "metadata": {},
   "source": [
    "### In Python, there are Five main types of numbers:\n",
    "\n",
    "1. Boolean truth values - Python Type: bool\n",
    "2. Integer numbers (Z)  - Python Type: int\n",
    "3. Rational numbers (Q) - Python Type: fractions.Fraction\n",
    "4. Real numbers (R)     - Python Type: float, decimal.Decimal\n",
    "5. Complex numbers (C)  - Python Type: complex"
   ]
  },
  {
   "cell_type": "markdown",
   "metadata": {},
   "source": []
  }
 ],
 "metadata": {
  "kernelspec": {
   "display_name": "Python 3",
   "language": "python",
   "name": "python3"
  },
  "language_info": {
   "codemirror_mode": {
    "name": "ipython",
    "version": 3
   },
   "file_extension": ".py",
   "mimetype": "text/x-python",
   "name": "python",
   "nbconvert_exporter": "python",
   "pygments_lexer": "ipython3",
   "version": "3.11.1"
  },
  "orig_nbformat": 4,
  "vscode": {
   "interpreter": {
    "hash": "87a1d552f91eeb558c0ccd448f410e247f4277ae8c89a1716b4b50ef0e37ae74"
   }
  }
 },
 "nbformat": 4,
 "nbformat_minor": 2
}
