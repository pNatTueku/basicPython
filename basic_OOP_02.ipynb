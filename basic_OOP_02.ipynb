{
 "cells": [
  {
   "cell_type": "code",
   "execution_count": 3,
   "metadata": {},
   "outputs": [],
   "source": [
    "# creat a class\n",
    "\n",
    "class Phone:\n",
    "    def __init__(self):\n",
    "        print('Phone')"
   ]
  },
  {
   "cell_type": "code",
   "execution_count": 6,
   "metadata": {},
   "outputs": [],
   "source": [
    "class OSDevice(Phone):\n",
    "    def __init__(self):\n",
    "        print('iPhone')"
   ]
  },
  {
   "cell_type": "code",
   "execution_count": 7,
   "metadata": {},
   "outputs": [],
   "source": [
    "class Endroi(OSDevice):\n",
    "    def __init__(self):\n",
    "        print(\"Samsung S24\")"
   ]
  },
  {
   "cell_type": "code",
   "execution_count": 8,
   "metadata": {},
   "outputs": [
    {
     "name": "stdout",
     "output_type": "stream",
     "text": [
      "Samsung S24\n"
     ]
    }
   ],
   "source": [
    "phone = Endroi()"
   ]
  },
  {
   "cell_type": "code",
   "execution_count": 9,
   "metadata": {},
   "outputs": [],
   "source": [
    "class Endroi(OSDevice):\n",
    "    def __init__(self):\n",
    "        super().__init__()\n",
    "        print(\"Samsung S24\")"
   ]
  },
  {
   "cell_type": "code",
   "execution_count": 10,
   "metadata": {},
   "outputs": [
    {
     "name": "stdout",
     "output_type": "stream",
     "text": [
      "iPhone\n",
      "Samsung S24\n"
     ]
    }
   ],
   "source": [
    "phone2 = Endroi()"
   ]
  },
  {
   "cell_type": "markdown",
   "metadata": {},
   "source": [
    "### Let's check smart watch"
   ]
  },
  {
   "cell_type": "code",
   "execution_count": 3,
   "metadata": {},
   "outputs": [],
   "source": [
    "class SmartWatch:\n",
    "    \n",
    "    def __init__(self) -> None:\n",
    "        print('Smart watch')\n",
    "\n",
    "class Mi(SmartWatch):\n",
    "\n",
    "    def __init__(self) -> None:\n",
    "        print('Mi Band 9')\n"
   ]
  },
  {
   "cell_type": "code",
   "execution_count": 4,
   "metadata": {},
   "outputs": [
    {
     "name": "stdout",
     "output_type": "stream",
     "text": [
      "Mi Band 9\n"
     ]
    }
   ],
   "source": [
    "# call the class\n",
    "\n",
    "sw = Mi()"
   ]
  },
  {
   "cell_type": "code",
   "execution_count": 5,
   "metadata": {},
   "outputs": [],
   "source": [
    "class SmartWatch:\n",
    "    \n",
    "    def __init__(self) -> None:\n",
    "        print('Smart watch')\n",
    "\n",
    "class Mi(SmartWatch):\n",
    "\n",
    "    def __init__(self) -> None:\n",
    "        super().__init__()\n",
    "        print('Mi Band 9')"
   ]
  },
  {
   "cell_type": "code",
   "execution_count": 6,
   "metadata": {},
   "outputs": [
    {
     "name": "stdout",
     "output_type": "stream",
     "text": [
      "Smart watch\n",
      "Mi Band 9\n"
     ]
    }
   ],
   "source": [
    "# cal the class again\n",
    "\n",
    "sw2 = Mi()"
   ]
  },
  {
   "cell_type": "code",
   "execution_count": null,
   "metadata": {},
   "outputs": [],
   "source": []
  }
 ],
 "metadata": {
  "kernelspec": {
   "display_name": "conda_env",
   "language": "python",
   "name": "python3"
  },
  "language_info": {
   "codemirror_mode": {
    "name": "ipython",
    "version": 3
   },
   "file_extension": ".py",
   "mimetype": "text/x-python",
   "name": "python",
   "nbconvert_exporter": "python",
   "pygments_lexer": "ipython3",
   "version": "3.9.15"
  }
 },
 "nbformat": 4,
 "nbformat_minor": 2
}
