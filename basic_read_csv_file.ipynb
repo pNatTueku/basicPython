{
 "cells": [
  {
   "cell_type": "code",
   "execution_count": null,
   "metadata": {},
   "outputs": [],
   "source": [
    "import pandas as pd"
   ]
  },
  {
   "cell_type": "code",
   "execution_count": null,
   "metadata": {},
   "outputs": [],
   "source": [
    "iris = pd.read_csv('iris.csv')"
   ]
  },
  {
   "cell_type": "code",
   "execution_count": null,
   "metadata": {},
   "outputs": [],
   "source": [
    "iris.head()"
   ]
  },
  {
   "cell_type": "code",
   "execution_count": null,
   "metadata": {},
   "outputs": [],
   "source": [
    "iris.tail()"
   ]
  },
  {
   "cell_type": "code",
   "execution_count": null,
   "metadata": {},
   "outputs": [],
   "source": [
    "iris.info()"
   ]
  },
  {
   "cell_type": "code",
   "execution_count": null,
   "metadata": {},
   "outputs": [],
   "source": [
    "iris.describe()"
   ]
  },
  {
   "cell_type": "code",
   "execution_count": null,
   "metadata": {},
   "outputs": [],
   "source": [
    "iris = pd.read_csv('Iris.csv', index_col = 'Id')\n",
    "iris.head()"
   ]
  },
  {
   "cell_type": "code",
   "execution_count": null,
   "metadata": {},
   "outputs": [],
   "source": [
    "iris.tail()"
   ]
  },
  {
   "cell_type": "code",
   "execution_count": null,
   "metadata": {},
   "outputs": [],
   "source": [
    "iris.shape"
   ]
  },
  {
   "cell_type": "code",
   "execution_count": null,
   "metadata": {},
   "outputs": [],
   "source": [
    "iris.info()"
   ]
  },
  {
   "cell_type": "code",
   "execution_count": null,
   "metadata": {},
   "outputs": [],
   "source": [
    "iris.describe()"
   ]
  },
  {
   "cell_type": "code",
   "execution_count": null,
   "metadata": {},
   "outputs": [],
   "source": [
    "import csv"
   ]
  },
  {
   "cell_type": "code",
   "execution_count": null,
   "metadata": {},
   "outputs": [],
   "source": [
    "with open('Iris.csv') as f:\n",
    "    csv_reader = csv.DictReader(f)\n",
    "    records = list(csv_reader) # transform to list"
   ]
  },
  {
   "cell_type": "code",
   "execution_count": null,
   "metadata": {},
   "outputs": [],
   "source": [
    "records # now we get a list of dictionaries which have same key and value paired for each row"
   ]
  },
  {
   "cell_type": "code",
   "execution_count": null,
   "metadata": {},
   "outputs": [],
   "source": [
    "for record in records:\n",
    "    print(record['Id'], record['PetalWidthCm'], record['Species'])"
   ]
  },
  {
   "attachments": {},
   "cell_type": "markdown",
   "metadata": {},
   "source": [
    "### Work with different Delimiter\n",
    "- standard format delimiter: ,\n",
    "- someone's delimiter: \\t\n",
    "- someone's use: |"
   ]
  },
  {
   "cell_type": "code",
   "execution_count": null,
   "metadata": {},
   "outputs": [],
   "source": [
    "with open('files/example_csv_1.csv') as f:\n",
    "    csv_reader = csv.DictReader(f, delimiter = '|')\n",
    "    records = list(csv_reader) # transform data to a list of dicts"
   ]
  },
  {
   "cell_type": "code",
   "execution_count": null,
   "metadata": {},
   "outputs": [],
   "source": [
    "records"
   ]
  },
  {
   "cell_type": "code",
   "execution_count": null,
   "metadata": {},
   "outputs": [],
   "source": [
    "for record in records:\n",
    "    print(record['Name'], record['Height'])"
   ]
  },
  {
   "cell_type": "code",
   "execution_count": null,
   "metadata": {},
   "outputs": [],
   "source": [
    "import pathlib\n",
    "\n",
    "file_path = pathlib.Path('files') / 'example_csv_2.csv'\n",
    "file_path"
   ]
  },
  {
   "cell_type": "code",
   "execution_count": null,
   "metadata": {},
   "outputs": [],
   "source": [
    "with open(file_path) as f:\n",
    "    csv_reader = csv.DictReader(f)\n",
    "    records = list(csv_reader)\n",
    "\n",
    "records"
   ]
  },
  {
   "cell_type": "code",
   "execution_count": null,
   "metadata": {},
   "outputs": [],
   "source": [
    "# new we require to deal with the no header line\n",
    "\n",
    "with open(file_path) as f:\n",
    "    csv_reader = csv.DictReader(f, fieldnames = ['Name', 'Age', 'Height'], delimiter = '|') # add list of header columns\n",
    "    records = list(csv_reader)\n",
    "\n",
    "records"
   ]
  },
  {
   "cell_type": "code",
   "execution_count": null,
   "metadata": {},
   "outputs": [],
   "source": [
    "for record in records:\n",
    "    print(record['Name'])"
   ]
  },
  {
   "cell_type": "code",
   "execution_count": null,
   "metadata": {},
   "outputs": [],
   "source": [
    "# write csv file \n",
    "\n",
    "records_3 = [{'Name': 'Natty', 'Age': 15, 'Height': 157},\n",
    " {'Name': 'Nueng', 'Age': 20, 'Height': 176},\n",
    " {'Name': 'Chew', 'Age': 13, 'Height': 165},\n",
    " {'Name': 'Terng', 'Age': 13, 'Height': 178}]\n",
    "\n",
    "file_path = pathlib.Path('files') / 'example_csv_3.csv'\n",
    "with open(file_path, 'w') as f:\n",
    "    csv_writer = csv.DictWriter(f, fieldnames = ['Name', 'Age', 'Height'])\n",
    "    csv_writer.writeheader()\n",
    "    csv_writer.writerows(records_3)"
   ]
  },
  {
   "cell_type": "code",
   "execution_count": null,
   "metadata": {},
   "outputs": [],
   "source": [
    "with open(file_path) as f:\n",
    "    csv_reader = csv.DictReader(f)\n",
    "    csv_list = list(csv_reader)\n",
    "\n",
    "csv_list"
   ]
  },
  {
   "cell_type": "code",
   "execution_count": null,
   "metadata": {},
   "outputs": [],
   "source": [
    "for record in csv_list:\n",
    "    print(record['Age'])"
   ]
  },
  {
   "cell_type": "code",
   "execution_count": null,
   "metadata": {},
   "outputs": [],
   "source": [
    "# append a row data to the file\n",
    "\n",
    "with open(file_path, 'a') as f:\n",
    "    csv_writer = csv.DictWriter(f, fieldnames = ['Name', 'Age', 'Height'])\n",
    "    csv_writer.writerow({'Name': 'Mark', 'Age': 10, 'Height': 176})"
   ]
  },
  {
   "cell_type": "code",
   "execution_count": null,
   "metadata": {},
   "outputs": [],
   "source": [
    "# append multiple rows data to the file\n",
    "\n",
    "with open(file_path, 'a') as f:\n",
    "    csv_writer = csv.DictWriter(f, fieldnames = ['Name', 'Age', 'Height'])\n",
    "    csv_writer.writerows({'Name': 'Ningnong', 'Age': 15, 'Height': 170},\n",
    "    {'Name': 'Pop', 'Age': 9, 'Height': 135})"
   ]
  }
 ],
 "metadata": {
  "kernelspec": {
   "display_name": "Python 3",
   "language": "python",
   "name": "python3"
  },
  "language_info": {
   "codemirror_mode": {
    "name": "ipython",
    "version": 3
   },
   "file_extension": ".py",
   "mimetype": "text/x-python",
   "name": "python",
   "nbconvert_exporter": "python",
   "pygments_lexer": "ipython3",
   "version": "3.11.1"
  },
  "orig_nbformat": 4,
  "vscode": {
   "interpreter": {
    "hash": "87a1d552f91eeb558c0ccd448f410e247f4277ae8c89a1716b4b50ef0e37ae74"
   }
  }
 },
 "nbformat": 4,
 "nbformat_minor": 2
}
