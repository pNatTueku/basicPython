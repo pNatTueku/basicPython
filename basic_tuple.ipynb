{
 "cells": [
  {
   "cell_type": "code",
   "execution_count": 1,
   "metadata": {},
   "outputs": [],
   "source": [
    "# create tuples\n",
    "\n",
    "tuple_1 = (1, 3, 5)\n",
    "tuple_2 = (\"x\", \"y\", \"z\")\n",
    "tuple_12 = (1,\"x\", 3, \"y\", 5.0, \"z\") "
   ]
  },
  {
   "cell_type": "code",
   "execution_count": 3,
   "metadata": {},
   "outputs": [
    {
     "name": "stdout",
     "output_type": "stream",
     "text": [
      "1\n",
      "z\n",
      "y\n"
     ]
    }
   ],
   "source": [
    "# access elements in tuples\n",
    "\n",
    "print(tuple_1[0])\n",
    "print(tuple_2[-1])\n",
    "print(tuple_12[3])"
   ]
  },
  {
   "cell_type": "code",
   "execution_count": 4,
   "metadata": {},
   "outputs": [
    {
     "name": "stdout",
     "output_type": "stream",
     "text": [
      "1\n",
      "4\n"
     ]
    }
   ],
   "source": [
    "# use build-in method\n",
    "\n",
    "print(tuple_12.count(5.0))\n",
    "print(tuple_12.index(5.0))"
   ]
  },
  {
   "cell_type": "code",
   "execution_count": 5,
   "metadata": {},
   "outputs": [
    {
     "name": "stdout",
     "output_type": "stream",
     "text": [
      "1\n",
      "x\n",
      "3\n",
      "y\n",
      "5.0\n",
      "z\n"
     ]
    }
   ],
   "source": [
    "# apply for loop to show data\n",
    "\n",
    "for item in tuple_12:\n",
    "    print(item)"
   ]
  },
  {
   "cell_type": "code",
   "execution_count": null,
   "metadata": {},
   "outputs": [],
   "source": [
    "# unpack a tupke into individual variables\n",
    "\n",
    "x, y, z = tuple_2"
   ]
  },
  {
   "cell_type": "code",
   "execution_count": 8,
   "metadata": {},
   "outputs": [
    {
     "name": "stdout",
     "output_type": "stream",
     "text": [
      "z\n",
      "y\n",
      "x\n"
     ]
    }
   ],
   "source": [
    "print(z)\n",
    "print(y)\n",
    "print(x)"
   ]
  },
  {
   "cell_type": "code",
   "execution_count": 9,
   "metadata": {},
   "outputs": [
    {
     "name": "stdout",
     "output_type": "stream",
     "text": [
      "1\n",
      "3\n",
      "5\n"
     ]
    }
   ],
   "source": [
    "i, j, k = tuple_1\n",
    "\n",
    "print(i)\n",
    "print(j)\n",
    "print(k)"
   ]
  },
  {
   "cell_type": "code",
   "execution_count": 10,
   "metadata": {},
   "outputs": [],
   "source": [
    "# use function to get and return data\n",
    "\n",
    "def get_data():\n",
    "    i = 19.1\n",
    "    j = 21.3\n",
    "\n",
    "    return i, j"
   ]
  },
  {
   "cell_type": "code",
   "execution_count": 11,
   "metadata": {},
   "outputs": [
    {
     "name": "stdout",
     "output_type": "stream",
     "text": [
      "Data #1:  19.1\n",
      "Data #2:  21.3\n"
     ]
    }
   ],
   "source": [
    "# call a function\n",
    "\n",
    "data_1, data_2 = get_data()\n",
    "\n",
    "print(\"Data #1: \", data_1)\n",
    "print(\"Data #2: \", data_2)"
   ]
  },
  {
   "cell_type": "code",
   "execution_count": null,
   "metadata": {},
   "outputs": [],
   "source": []
  }
 ],
 "metadata": {
  "kernelspec": {
   "display_name": "Python 3",
   "language": "python",
   "name": "python3"
  },
  "language_info": {
   "codemirror_mode": {
    "name": "ipython",
    "version": 3
   },
   "file_extension": ".py",
   "mimetype": "text/x-python",
   "name": "python",
   "nbconvert_exporter": "python",
   "pygments_lexer": "ipython3",
   "version": "3.11.1"
  }
 },
 "nbformat": 4,
 "nbformat_minor": 2
}
