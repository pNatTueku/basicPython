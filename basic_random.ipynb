{
 "cells": [
  {
   "cell_type": "code",
   "execution_count": 1,
   "metadata": {},
   "outputs": [],
   "source": [
    "# import library\n",
    "\n",
    "from random import randrange"
   ]
  },
  {
   "cell_type": "code",
   "execution_count": 2,
   "metadata": {},
   "outputs": [
    {
     "name": "stdout",
     "output_type": "stream",
     "text": [
      "0\n",
      "9\n",
      "2\n",
      "6\n",
      "9\n",
      "4\n",
      "7\n",
      "1\n",
      "1\n",
      "2\n"
     ]
    }
   ],
   "source": [
    "for i in range(10):\n",
    "    print(randrange(10))"
   ]
  },
  {
   "cell_type": "code",
   "execution_count": 3,
   "metadata": {},
   "outputs": [
    {
     "name": "stdout",
     "output_type": "stream",
     "text": [
      "0 9\n",
      "1 6\n",
      "2 9\n",
      "3 9\n",
      "4 2\n"
     ]
    }
   ],
   "source": [
    "for i in range(5):\n",
    "    print(i, randrange(10))"
   ]
  },
  {
   "cell_type": "code",
   "execution_count": 1,
   "metadata": {},
   "outputs": [],
   "source": [
    "# Generate 16 random character from the whole set of characters\n",
    "\n",
    "char1 = \"ACBDEFGHIJKLMNOPQRSTUVWXYZ\"\n",
    "char2 = \"abcdefghijklmnopqrstuvwxyz\"\n",
    "special_char = \"!@#$%^&*()\"\n",
    "decimal = \"0123456789\"\n"
   ]
  },
  {
   "cell_type": "code",
   "execution_count": 2,
   "metadata": {},
   "outputs": [],
   "source": [
    "from random import choice"
   ]
  },
  {
   "cell_type": "code",
   "execution_count": 7,
   "metadata": {},
   "outputs": [],
   "source": [
    "def gen_16_random_chars():\n",
    "    chars = \"ACBDEFGHIJKLMNOPQRSTUVWXYZ\"\n",
    "    chars += \"abcdefghijklmnopqrstuvwxyz\"\n",
    "    chars += \"!@#$%^&*()\"\n",
    "    chars += \"0123456789\"\n",
    "\n",
    "    password = \"\"\n",
    "    for _ in range(16):\n",
    "        password += choice(chars)\n",
    "\n",
    "    return password\n",
    "\n",
    "# debug\n",
    "assert len(gen_16_random_chars()) == 16"
   ]
  },
  {
   "cell_type": "code",
   "execution_count": 5,
   "metadata": {},
   "outputs": [
    {
     "data": {
      "text/plain": [
       "'n0$h%x!ifYNm(PfA'"
      ]
     },
     "execution_count": 5,
     "metadata": {},
     "output_type": "execute_result"
    }
   ],
   "source": [
    "gen_16_random_chars()"
   ]
  },
  {
   "cell_type": "code",
   "execution_count": 6,
   "metadata": {},
   "outputs": [
    {
     "data": {
      "text/plain": [
       "16"
      ]
     },
     "execution_count": 6,
     "metadata": {},
     "output_type": "execute_result"
    }
   ],
   "source": [
    "len(gen_16_random_chars())"
   ]
  },
  {
   "cell_type": "code",
   "execution_count": 9,
   "metadata": {},
   "outputs": [],
   "source": [
    "# validate\n",
    "\n",
    "def contains(chars, password):\n",
    "\n",
    "    # check and return True if character from chars is in password\n",
    "    for char in chars:\n",
    "        if char in password:\n",
    "            return True\n",
    "        \n",
    "    return False\n",
    "\n",
    "assert contains(\"ACBDEFGHIJKLMNOPQRSTUVWXYZ\", \"n0$h%x!ifYNm(PfA\")\n",
    "assert contains(\"ACBDEFGHIJKLMNOPQRSTUVWXYZ\", \"n0$h\") == False\n",
    "\n",
    "def strong_password(password):\n",
    "\n",
    "    if not contains(\"ACBDEFGHIJKLMNOPQRSTUVWXYZ\", password):\n",
    "        return False\n",
    "    \n",
    "    if not contains(\"abcdefghijklmnopqrstuvwxyz\", password):\n",
    "        return False\n",
    "    \n",
    "    if not contains(\"!@#$%^&*()\", password):\n",
    "        return False\n",
    "\n",
    "    if not contains(\"0123456789\", password):\n",
    "        return False\n",
    "    \n",
    "    return True\n",
    "    \n",
    "assert strong_password(\"aA1!\")\n",
    "assert strong_password(\"ASDF123@\") == False # No lower case character\n",
    "assert strong_password(\"asdf#$12\") == False # No upper case character\n",
    "assert strong_password(\"asdfQWE%\") == False # No decimal\n",
    "assert strong_password(\"AswDG12S\") == False # Np special character\n"
   ]
  },
  {
   "cell_type": "code",
   "execution_count": 10,
   "metadata": {},
   "outputs": [],
   "source": [
    "# format password\n",
    "\n",
    "def gen_password():\n",
    "\n",
    "    # return a strong password\n",
    "    while True:\n",
    "        password = gen_16_random_chars()\n",
    "\n",
    "        if strong_password(password):\n",
    "            break\n",
    "\n",
    "    f_password = password[:4] + \"-\" + password[4:8] + \"-\" + password[8:12] + \"-\" + password[12:]\n",
    "\n",
    "    return f_password"
   ]
  },
  {
   "cell_type": "code",
   "execution_count": 11,
   "metadata": {},
   "outputs": [
    {
     "data": {
      "text/plain": [
       "'D8%2-Mw0f-p)ib-#!Ne'"
      ]
     },
     "execution_count": 11,
     "metadata": {},
     "output_type": "execute_result"
    }
   ],
   "source": [
    "gen_password()"
   ]
  },
  {
   "cell_type": "code",
   "execution_count": null,
   "metadata": {},
   "outputs": [],
   "source": []
  }
 ],
 "metadata": {
  "kernelspec": {
   "display_name": "Python 3",
   "language": "python",
   "name": "python3"
  },
  "language_info": {
   "codemirror_mode": {
    "name": "ipython",
    "version": 3
   },
   "file_extension": ".py",
   "mimetype": "text/x-python",
   "name": "python",
   "nbconvert_exporter": "python",
   "pygments_lexer": "ipython3",
   "version": "3.11.1"
  },
  "orig_nbformat": 4,
  "vscode": {
   "interpreter": {
    "hash": "87a1d552f91eeb558c0ccd448f410e247f4277ae8c89a1716b4b50ef0e37ae74"
   }
  }
 },
 "nbformat": 4,
 "nbformat_minor": 2
}
