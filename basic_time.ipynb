{
 "cells": [
  {
   "cell_type": "code",
   "execution_count": 2,
   "metadata": {},
   "outputs": [],
   "source": [
    "# import function and libraries\n",
    "import time\n",
    "import numpy as np\n",
    "\n",
    "from math import factorial"
   ]
  },
  {
   "cell_type": "code",
   "execution_count": 9,
   "metadata": {},
   "outputs": [],
   "source": [
    "# set time\n",
    "\n",
    "def main():\n",
    "\n",
    "    x = np.random.randint(1, 10) # random number when it run\n",
    "    print(\"A nmber is \" + str(x)) # show number\n",
    "    print(\"Factorial of \" + str(x) + \" is \" + str(factorial(x))) # use that n7mber to find a factorial\n"
   ]
  },
  {
   "cell_type": "code",
   "execution_count": 10,
   "metadata": {},
   "outputs": [
    {
     "name": "stdout",
     "output_type": "stream",
     "text": [
      "A nmber is 4\n",
      "Factorial of 4 is 24\n"
     ]
    }
   ],
   "source": [
    "# call main function\n",
    "\n",
    "main()"
   ]
  },
  {
   "cell_type": "code",
   "execution_count": 11,
   "metadata": {},
   "outputs": [
    {
     "data": {
      "text/plain": [
       "1691368212.102816"
      ]
     },
     "execution_count": 11,
     "metadata": {},
     "output_type": "execute_result"
    }
   ],
   "source": [
    "# use time function\n",
    "\n",
    "time_begin = time.time() # system time now\n",
    "time_begin"
   ]
  },
  {
   "cell_type": "code",
   "execution_count": 12,
   "metadata": {},
   "outputs": [
    {
     "data": {
      "text/plain": [
       "'Mon Aug  7 07:31:40 2023'"
      ]
     },
     "execution_count": 12,
     "metadata": {},
     "output_type": "execute_result"
    }
   ],
   "source": [
    "# use time function and change it datetime format\n",
    "\n",
    "time_begin = time.ctime(int(time.time())) # system time now\n",
    "time_begin"
   ]
  },
  {
   "cell_type": "code",
   "execution_count": null,
   "metadata": {},
   "outputs": [],
   "source": [
    "# use time function to continute working 1 minute\n",
    "\n",
    "time_begin = time.time() # system time now\n",
    "time_end = time.time() + 60 * 1 # 1 minute * 60 seconds = 1 minute\n",
    "\n",
    "while time.time() <= time_end:\n",
    "    main() # call main function "
   ]
  }
 ],
 "metadata": {
  "kernelspec": {
   "display_name": "conda_env",
   "language": "python",
   "name": "python3"
  },
  "language_info": {
   "codemirror_mode": {
    "name": "ipython",
    "version": 3
   },
   "file_extension": ".py",
   "mimetype": "text/x-python",
   "name": "python",
   "nbconvert_exporter": "python",
   "pygments_lexer": "ipython3",
   "version": "3.9.15"
  },
  "orig_nbformat": 4
 },
 "nbformat": 4,
 "nbformat_minor": 2
}
