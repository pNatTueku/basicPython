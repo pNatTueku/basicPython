{
 "cells": [
  {
   "cell_type": "markdown",
   "metadata": {},
   "source": [
    "### Pickle\n",
    "#### Learning from a facebook page named \"Python Coding\" on October 21, 2024\n",
    "\n",
    "- save a list to a file, and then load it back before print\n",
    "- save a dictionary and load it \n",
    "- save a tuple and load it back\n",
    "\n",
    "- save a Custom object and load it back\n",
    "- save multiple object and load them back"
   ]
  },
  {
   "cell_type": "code",
   "execution_count": 1,
   "metadata": {},
   "outputs": [],
   "source": [
    "# import a library\n",
    "\n",
    "import pickle"
   ]
  },
  {
   "cell_type": "markdown",
   "metadata": {},
   "source": [
    "#### Learn to save a list to a file, and then load it back before print"
   ]
  },
  {
   "cell_type": "code",
   "execution_count": 2,
   "metadata": {},
   "outputs": [
    {
     "data": {
      "text/plain": [
       "['Jackson', 'JB', 'Jinyoung', 'Youngjae', 'Mark', 'BamBam', 'Yugyeom']"
      ]
     },
     "execution_count": 2,
     "metadata": {},
     "output_type": "execute_result"
    }
   ],
   "source": [
    "# create a list\n",
    "\n",
    "got7_list = ['Jackson', 'JB', 'Jinyoung', 'Youngjae', 'Mark', 'BamBam', 'Yugyeom']\n",
    "got7_list"
   ]
  },
  {
   "cell_type": "code",
   "execution_count": 4,
   "metadata": {},
   "outputs": [
    {
     "data": {
      "text/plain": [
       "list"
      ]
     },
     "execution_count": 4,
     "metadata": {},
     "output_type": "execute_result"
    }
   ],
   "source": [
    "type(got7_list)"
   ]
  },
  {
   "cell_type": "code",
   "execution_count": 5,
   "metadata": {},
   "outputs": [
    {
     "data": {
      "text/plain": [
       "7"
      ]
     },
     "execution_count": 5,
     "metadata": {},
     "output_type": "execute_result"
    }
   ],
   "source": [
    "len(got7_list)"
   ]
  },
  {
   "cell_type": "code",
   "execution_count": 7,
   "metadata": {},
   "outputs": [],
   "source": [
    "# write list to a file\n",
    "\n",
    "with open('list.pkl', 'wb') as file:\n",
    "    pickle.dump(got7_list, file)"
   ]
  },
  {
   "cell_type": "code",
   "execution_count": 8,
   "metadata": {},
   "outputs": [],
   "source": [
    "# read/load file\n",
    "\n",
    "with open('list.pkl', 'rb') as file:\n",
    "    load_list = pickle.load(file)"
   ]
  },
  {
   "cell_type": "code",
   "execution_count": 9,
   "metadata": {},
   "outputs": [
    {
     "name": "stdout",
     "output_type": "stream",
     "text": [
      "Load GOT7 list:  ['Jackson', 'JB', 'Jinyoung', 'Youngjae', 'Mark', 'BamBam', 'Yugyeom']\n"
     ]
    }
   ],
   "source": [
    "print(\"Load GOT7 list: \", load_list)"
   ]
  },
  {
   "cell_type": "code",
   "execution_count": 10,
   "metadata": {},
   "outputs": [
    {
     "data": {
      "text/plain": [
       "['Jackson', 'JB', 'Jinyoung', 'Youngjae', 'Mark', 'BamBam', 'Yugyeom']"
      ]
     },
     "execution_count": 10,
     "metadata": {},
     "output_type": "execute_result"
    }
   ],
   "source": [
    "load_list"
   ]
  },
  {
   "cell_type": "code",
   "execution_count": 11,
   "metadata": {},
   "outputs": [
    {
     "data": {
      "text/plain": [
       "list"
      ]
     },
     "execution_count": 11,
     "metadata": {},
     "output_type": "execute_result"
    }
   ],
   "source": [
    "type(load_list)"
   ]
  },
  {
   "cell_type": "markdown",
   "metadata": {},
   "source": [
    "#### Learn to save a tuple and load it back"
   ]
  },
  {
   "cell_type": "code",
   "execution_count": 13,
   "metadata": {},
   "outputs": [
    {
     "data": {
      "text/plain": [
       "{'name': 'Wang Yibo', 'age': 27, 'city': 'Luoyang', 'country': 'China'}"
      ]
     },
     "execution_count": 13,
     "metadata": {},
     "output_type": "execute_result"
    }
   ],
   "source": [
    "# creat a dictionary\n",
    "\n",
    "fav_dict = {\"name\": \"Wang Yibo\", \"age\": 27, \"city\": \"Luoyang\", 'country': 'China'}\n",
    "fav_dict"
   ]
  },
  {
   "cell_type": "code",
   "execution_count": 15,
   "metadata": {},
   "outputs": [
    {
     "data": {
      "text/plain": [
       "dict"
      ]
     },
     "execution_count": 15,
     "metadata": {},
     "output_type": "execute_result"
    }
   ],
   "source": [
    "type(fav_dict)"
   ]
  },
  {
   "cell_type": "code",
   "execution_count": 17,
   "metadata": {},
   "outputs": [],
   "source": [
    "# write dictionary data to a file\n",
    "\n",
    "with open('dict.pkl', 'wb') as file:\n",
    "    pickle.dump(fav_dict, file)"
   ]
  },
  {
   "cell_type": "code",
   "execution_count": 18,
   "metadata": {},
   "outputs": [],
   "source": [
    "# read/load file\n",
    "\n",
    "with open('dict.pkl', 'rb') as file:\n",
    "    load_dict = pickle.load(file)"
   ]
  },
  {
   "cell_type": "code",
   "execution_count": 20,
   "metadata": {},
   "outputs": [
    {
     "name": "stdout",
     "output_type": "stream",
     "text": [
      "Load a dictionary data:  {'name': 'Wang Yibo', 'age': 27, 'city': 'Luoyang', 'country': 'China'}\n"
     ]
    }
   ],
   "source": [
    "# print\n",
    "\n",
    "print(\"Load a dictionary data: \", load_dict)"
   ]
  },
  {
   "cell_type": "code",
   "execution_count": 21,
   "metadata": {},
   "outputs": [
    {
     "data": {
      "text/plain": [
       "{'name': 'Wang Yibo', 'age': 27, 'city': 'Luoyang', 'country': 'China'}"
      ]
     },
     "execution_count": 21,
     "metadata": {},
     "output_type": "execute_result"
    }
   ],
   "source": [
    "load_dict"
   ]
  },
  {
   "cell_type": "code",
   "execution_count": 24,
   "metadata": {},
   "outputs": [
    {
     "data": {
      "text/plain": [
       "dict"
      ]
     },
     "execution_count": 24,
     "metadata": {},
     "output_type": "execute_result"
    }
   ],
   "source": [
    "type(load_dict)"
   ]
  },
  {
   "cell_type": "markdown",
   "metadata": {},
   "source": [
    "### Tuple"
   ]
  },
  {
   "cell_type": "code",
   "execution_count": 25,
   "metadata": {},
   "outputs": [
    {
     "data": {
      "text/plain": [
       "('Jackson',\n",
       " 'JB',\n",
       " 'Jinyoung',\n",
       " 'Youngjae',\n",
       " 'Mark',\n",
       " 'BamBam',\n",
       " 'Yugyeom',\n",
       " 32,\n",
       " 32,\n",
       " 33,\n",
       " 33,\n",
       " 29,\n",
       " 26,\n",
       " 26)"
      ]
     },
     "execution_count": 25,
     "metadata": {},
     "output_type": "execute_result"
    }
   ],
   "source": [
    "# create a tuple\n",
    "\n",
    "got7_tuple = ('Jackson', 'JB', 'Jinyoung', 'Youngjae', 'Mark', 'BamBam', 'Yugyeom', 32, 32, 33, 33, 29, 26, 26)\n",
    "got7_tuple"
   ]
  },
  {
   "cell_type": "code",
   "execution_count": 26,
   "metadata": {},
   "outputs": [
    {
     "data": {
      "text/plain": [
       "tuple"
      ]
     },
     "execution_count": 26,
     "metadata": {},
     "output_type": "execute_result"
    }
   ],
   "source": [
    "type(got7_tuple)"
   ]
  },
  {
   "cell_type": "code",
   "execution_count": 27,
   "metadata": {},
   "outputs": [],
   "source": [
    "# write tuple data to a file\n",
    "\n",
    "with open('tuple.pkl', 'wb') as file:\n",
    "    pickle.dump(got7_tuple, file)"
   ]
  },
  {
   "cell_type": "code",
   "execution_count": 28,
   "metadata": {},
   "outputs": [],
   "source": [
    "# read/load file\n",
    "\n",
    "with open('tuple.pkl', 'rb') as file:\n",
    "    load_tuple = pickle.load(file)"
   ]
  },
  {
   "cell_type": "code",
   "execution_count": 29,
   "metadata": {},
   "outputs": [
    {
     "name": "stdout",
     "output_type": "stream",
     "text": [
      "Load a tuple data:  ('Jackson', 'JB', 'Jinyoung', 'Youngjae', 'Mark', 'BamBam', 'Yugyeom', 32, 32, 33, 33, 29, 26, 26)\n"
     ]
    }
   ],
   "source": [
    "# print\n",
    "\n",
    "print(\"Load a tuple data: \", load_tuple)"
   ]
  },
  {
   "cell_type": "markdown",
   "metadata": {},
   "source": [
    "### Save and load file using a Custom Object"
   ]
  },
  {
   "cell_type": "code",
   "execution_count": 30,
   "metadata": {},
   "outputs": [],
   "source": [
    "# create a class\n",
    "\n",
    "class Got7:\n",
    "    \n",
    "    def __init__(self, name, age) -> None:\n",
    "        self.name = name\n",
    "        self.age = age\n",
    "\n",
    "    def __repr__(self) -> str:\n",
    "        return f\"Got7 (name = {self.name}, age = {self.age})\""
   ]
  },
  {
   "cell_type": "code",
   "execution_count": 31,
   "metadata": {},
   "outputs": [
    {
     "data": {
      "text/plain": [
       "Got7 (name = Mark, age = 33)"
      ]
     },
     "execution_count": 31,
     "metadata": {},
     "output_type": "execute_result"
    }
   ],
   "source": [
    "# call a class to input data\n",
    "\n",
    "member = Got7(\"Mark\", 33)\n",
    "member"
   ]
  },
  {
   "cell_type": "code",
   "execution_count": 32,
   "metadata": {},
   "outputs": [],
   "source": [
    "# write data to a file\n",
    "\n",
    "with open('member.pkl', 'wb') as file:\n",
    "    pickle.dump(member, file)"
   ]
  },
  {
   "cell_type": "code",
   "execution_count": 33,
   "metadata": {},
   "outputs": [],
   "source": [
    "# read/load file\n",
    "\n",
    "with open('member.pkl', 'rb') as file:\n",
    "    load_member = pickle.load(file)"
   ]
  },
  {
   "cell_type": "code",
   "execution_count": 34,
   "metadata": {},
   "outputs": [
    {
     "name": "stdout",
     "output_type": "stream",
     "text": [
      "Member:  Got7 (name = Mark, age = 33)\n"
     ]
    }
   ],
   "source": [
    "# print\n",
    "\n",
    "print(\"Member: \", load_member)"
   ]
  },
  {
   "cell_type": "markdown",
   "metadata": {},
   "source": [
    "### Save and load multiple objects"
   ]
  },
  {
   "cell_type": "code",
   "execution_count": 35,
   "metadata": {},
   "outputs": [],
   "source": [
    "list_data = [1, 2, 3, 4, 5, 6, 7]\n",
    "dict_data = {\"name\": \"Wang Yibo\", \"age\": 27, \"city\": \"Luoyang\", 'country': 'China'}\n",
    "string_data = \"Hello Natty!\""
   ]
  },
  {
   "cell_type": "code",
   "execution_count": 36,
   "metadata": {},
   "outputs": [],
   "source": [
    "# write data to a file\n",
    "\n",
    "with open('multiple.pkl', 'wb') as file:\n",
    "    pickle.dump(list_data, file)\n",
    "    pickle.dump(dict_data, file)\n",
    "    pickle.dump(string_data, file)"
   ]
  },
  {
   "cell_type": "code",
   "execution_count": 37,
   "metadata": {},
   "outputs": [],
   "source": [
    "# read/load file\n",
    "\n",
    "with open('multiple.pkl', 'rb') as file:\n",
    "    load_list = pickle.load(file)\n",
    "    load_dict = pickle.load(file)\n",
    "    load_string = pickle.load(file)"
   ]
  },
  {
   "cell_type": "code",
   "execution_count": 38,
   "metadata": {},
   "outputs": [
    {
     "name": "stdout",
     "output_type": "stream",
     "text": [
      "List:  [1, 2, 3, 4, 5, 6, 7]\n",
      "Dictionary:  {'name': 'Wang Yibo', 'age': 27, 'city': 'Luoyang', 'country': 'China'}\n",
      "String:  Hello Natty!\n"
     ]
    }
   ],
   "source": [
    "# print\n",
    "\n",
    "print(\"List: \", load_list)\n",
    "print(\"Dictionary: \", load_dict)\n",
    "print(\"String: \", load_string)"
   ]
  },
  {
   "cell_type": "code",
   "execution_count": null,
   "metadata": {},
   "outputs": [],
   "source": []
  }
 ],
 "metadata": {
  "kernelspec": {
   "display_name": "conda_env",
   "language": "python",
   "name": "python3"
  },
  "language_info": {
   "codemirror_mode": {
    "name": "ipython",
    "version": 3
   },
   "file_extension": ".py",
   "mimetype": "text/x-python",
   "name": "python",
   "nbconvert_exporter": "python",
   "pygments_lexer": "ipython3",
   "version": "3.9.15"
  }
 },
 "nbformat": 4,
 "nbformat_minor": 2
}
