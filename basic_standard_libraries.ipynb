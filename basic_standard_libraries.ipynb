{
 "cells": [
  {
   "cell_type": "code",
   "execution_count": 1,
   "metadata": {},
   "outputs": [],
   "source": [
    "# Here are some of standard libraries in Python"
   ]
  },
  {
   "cell_type": "code",
   "execution_count": 2,
   "metadata": {},
   "outputs": [],
   "source": [
    "import os"
   ]
  },
  {
   "cell_type": "code",
   "execution_count": 3,
   "metadata": {},
   "outputs": [
    {
     "name": "stdout",
     "output_type": "stream",
     "text": [
      "mpg.csv\n",
      "basic_for_loop.ipynb\n",
      "customer_churn.ipynb\n",
      "basic_list_comprehension.ipynb\n",
      "basic_create_dataframe.ipynb\n",
      "basic_extact_string.ipynb\n",
      "tested.csv\n",
      "salaries.csv\n",
      "basicPlot_barChart.ipynb\n",
      "function.ipynb\n",
      "basic_condition.ipynb\n",
      "basicPlotly.ipynb\n",
      "cleaningData_outlierData.ipynb\n",
      ".DS_Store\n",
      "basic_gabage_collection.ipynb\n",
      "basic_if_statement.ipynb\n",
      "basic_string.ipynb\n",
      "scatterPlot.html\n",
      "basicPlot_boxPlot.ipynb\n",
      "bubblePlot.html\n",
      "while_loop.ipynb\n",
      "try_exception_finally.ipynb\n",
      "basic_standard_libraries.ipynb\n",
      "basicPlot_scatterPlot.ipynb\n",
      "class.ipynb\n",
      "cleaning_duplicateData.ipynb\n",
      "Titanic-Dataset.csv\n",
      "data_preparation_titanic_data.ipynb\n",
      "basic_userInput.ipynb\n",
      "README.md\n",
      "classification_iris_data.ipynb\n",
      "basic_random.ipynb\n",
      "Iris.csv\n",
      "basic_variable.ipynb\n",
      "classification_irisDataset.ipynb\n",
      "for_loop.ipynb\n",
      "basicPandas02.ipynb\n",
      "boxPlot.html\n",
      "basic_webScraping.ipynb\n",
      "basicNumpy.ipynb\n",
      "basic_datetime.ipynb\n",
      "basicPandas.ipynb\n",
      "basic_dictionary.ipynb\n",
      "basicPlot_bubbleChart.ipynb\n",
      ".ipynb_checkpoints\n",
      "basicPlot_distPlot.ipynb\n",
      "basicPandas03.ipynb\n",
      "telecom_churn_kaggle.csv\n",
      ".git\n",
      "temp-plot.html\n",
      "distPlot.html\n",
      "basic_while_loop.ipynb\n",
      "data_manipulation_titanic_data.ipynb\n",
      "data_oneHot_encoding.csv\n",
      "conditionals.ipynb\n",
      "basic_funtionswithDictionary.ipynb\n",
      "cleaningData_missingData.ipynb\n"
     ]
    }
   ],
   "source": [
    "for files in os.listdir():\n",
    "    print(files) # print all files in the directory"
   ]
  },
  {
   "cell_type": "code",
   "execution_count": 4,
   "metadata": {},
   "outputs": [],
   "source": [
    "from os import listdir"
   ]
  },
  {
   "cell_type": "code",
   "execution_count": 5,
   "metadata": {},
   "outputs": [
    {
     "data": {
      "text/plain": [
       "['mpg.csv',\n",
       " 'basic_for_loop.ipynb',\n",
       " 'customer_churn.ipynb',\n",
       " 'basic_list_comprehension.ipynb',\n",
       " 'basic_create_dataframe.ipynb',\n",
       " 'basic_extact_string.ipynb',\n",
       " 'tested.csv',\n",
       " 'salaries.csv',\n",
       " 'basicPlot_barChart.ipynb',\n",
       " 'function.ipynb',\n",
       " 'basic_condition.ipynb',\n",
       " 'basicPlotly.ipynb',\n",
       " 'cleaningData_outlierData.ipynb',\n",
       " '.DS_Store',\n",
       " 'basic_gabage_collection.ipynb',\n",
       " 'basic_if_statement.ipynb',\n",
       " 'basic_string.ipynb',\n",
       " 'scatterPlot.html',\n",
       " 'basicPlot_boxPlot.ipynb',\n",
       " 'bubblePlot.html',\n",
       " 'while_loop.ipynb',\n",
       " 'try_exception_finally.ipynb',\n",
       " 'basic_standard_libraries.ipynb',\n",
       " 'basicPlot_scatterPlot.ipynb',\n",
       " 'class.ipynb',\n",
       " 'cleaning_duplicateData.ipynb',\n",
       " 'Titanic-Dataset.csv',\n",
       " 'data_preparation_titanic_data.ipynb',\n",
       " 'basic_userInput.ipynb',\n",
       " 'README.md',\n",
       " 'classification_iris_data.ipynb',\n",
       " 'basic_random.ipynb',\n",
       " 'Iris.csv',\n",
       " 'basic_variable.ipynb',\n",
       " 'classification_irisDataset.ipynb',\n",
       " 'for_loop.ipynb',\n",
       " 'basicPandas02.ipynb',\n",
       " 'boxPlot.html',\n",
       " 'basic_webScraping.ipynb',\n",
       " 'basicNumpy.ipynb',\n",
       " 'basic_datetime.ipynb',\n",
       " 'basicPandas.ipynb',\n",
       " 'basic_dictionary.ipynb',\n",
       " 'basicPlot_bubbleChart.ipynb',\n",
       " '.ipynb_checkpoints',\n",
       " 'basicPlot_distPlot.ipynb',\n",
       " 'basicPandas03.ipynb',\n",
       " 'telecom_churn_kaggle.csv',\n",
       " '.git',\n",
       " 'temp-plot.html',\n",
       " 'distPlot.html',\n",
       " 'basic_while_loop.ipynb',\n",
       " 'data_manipulation_titanic_data.ipynb',\n",
       " 'data_oneHot_encoding.csv',\n",
       " 'conditionals.ipynb',\n",
       " 'basic_funtionswithDictionary.ipynb',\n",
       " 'cleaningData_missingData.ipynb']"
      ]
     },
     "execution_count": 5,
     "metadata": {},
     "output_type": "execute_result"
    }
   ],
   "source": [
    "listdir() # list all files in the directory"
   ]
  },
  {
   "cell_type": "code",
   "execution_count": 6,
   "metadata": {},
   "outputs": [],
   "source": [
    "import os as my_os"
   ]
  },
  {
   "cell_type": "code",
   "execution_count": 7,
   "metadata": {},
   "outputs": [
    {
     "data": {
      "text/plain": [
       "['mpg.csv',\n",
       " 'basic_for_loop.ipynb',\n",
       " 'customer_churn.ipynb',\n",
       " 'basic_list_comprehension.ipynb',\n",
       " 'basic_create_dataframe.ipynb',\n",
       " 'basic_extact_string.ipynb',\n",
       " 'tested.csv',\n",
       " 'salaries.csv',\n",
       " 'basicPlot_barChart.ipynb',\n",
       " 'function.ipynb',\n",
       " 'basic_condition.ipynb',\n",
       " 'basicPlotly.ipynb',\n",
       " 'cleaningData_outlierData.ipynb',\n",
       " '.DS_Store',\n",
       " 'basic_gabage_collection.ipynb',\n",
       " 'basic_if_statement.ipynb',\n",
       " 'basic_string.ipynb',\n",
       " 'scatterPlot.html',\n",
       " 'basicPlot_boxPlot.ipynb',\n",
       " 'bubblePlot.html',\n",
       " 'while_loop.ipynb',\n",
       " 'try_exception_finally.ipynb',\n",
       " 'basic_standard_libraries.ipynb',\n",
       " 'basicPlot_scatterPlot.ipynb',\n",
       " 'class.ipynb',\n",
       " 'cleaning_duplicateData.ipynb',\n",
       " 'Titanic-Dataset.csv',\n",
       " 'data_preparation_titanic_data.ipynb',\n",
       " 'basic_userInput.ipynb',\n",
       " 'README.md',\n",
       " 'classification_iris_data.ipynb',\n",
       " 'basic_random.ipynb',\n",
       " 'Iris.csv',\n",
       " 'basic_variable.ipynb',\n",
       " 'classification_irisDataset.ipynb',\n",
       " 'for_loop.ipynb',\n",
       " 'basicPandas02.ipynb',\n",
       " 'boxPlot.html',\n",
       " 'basic_webScraping.ipynb',\n",
       " 'basicNumpy.ipynb',\n",
       " 'basic_datetime.ipynb',\n",
       " 'basicPandas.ipynb',\n",
       " 'basic_dictionary.ipynb',\n",
       " 'basicPlot_bubbleChart.ipynb',\n",
       " '.ipynb_checkpoints',\n",
       " 'basicPlot_distPlot.ipynb',\n",
       " 'basicPandas03.ipynb',\n",
       " 'telecom_churn_kaggle.csv',\n",
       " '.git',\n",
       " 'temp-plot.html',\n",
       " 'distPlot.html',\n",
       " 'basic_while_loop.ipynb',\n",
       " 'data_manipulation_titanic_data.ipynb',\n",
       " 'data_oneHot_encoding.csv',\n",
       " 'conditionals.ipynb',\n",
       " 'basic_funtionswithDictionary.ipynb',\n",
       " 'cleaningData_missingData.ipynb']"
      ]
     },
     "execution_count": 7,
     "metadata": {},
     "output_type": "execute_result"
    }
   ],
   "source": [
    "my_os.listdir() "
   ]
  },
  {
   "cell_type": "code",
   "execution_count": 8,
   "metadata": {},
   "outputs": [],
   "source": [
    "from random import randrange"
   ]
  },
  {
   "cell_type": "code",
   "execution_count": 9,
   "metadata": {},
   "outputs": [
    {
     "name": "stdout",
     "output_type": "stream",
     "text": [
      "9\n",
      "0\n",
      "4\n",
      "8\n",
      "4\n",
      "1\n",
      "3\n",
      "5\n",
      "1\n",
      "5\n"
     ]
    }
   ],
   "source": [
    "for i in range(10):\n",
    "    print(randrange(10))"
   ]
  },
  {
   "cell_type": "code",
   "execution_count": 10,
   "metadata": {},
   "outputs": [
    {
     "name": "stdout",
     "output_type": "stream",
     "text": [
      "7\n",
      "15\n",
      "12\n",
      "3\n",
      "3\n",
      "17\n",
      "8\n",
      "8\n",
      "8\n",
      "12\n",
      "16\n",
      "11\n",
      "10\n",
      "8\n",
      "18\n",
      "12\n",
      "10\n",
      "15\n",
      "10\n",
      "16\n"
     ]
    }
   ],
   "source": [
    "for i in range(20):\n",
    "    print(randrange(20))"
   ]
  },
  {
   "cell_type": "code",
   "execution_count": 13,
   "metadata": {},
   "outputs": [
    {
     "data": {
      "text/plain": [
       "1"
      ]
     },
     "execution_count": 13,
     "metadata": {},
     "output_type": "execute_result"
    }
   ],
   "source": [
    "coin = randrange(2) # get 0 and 1\n",
    "coin"
   ]
  },
  {
   "cell_type": "code",
   "execution_count": 22,
   "metadata": {},
   "outputs": [
    {
     "name": "stdout",
     "output_type": "stream",
     "text": [
      "Head\n"
     ]
    }
   ],
   "source": [
    "coin = randrange(2)\n",
    "\n",
    "if coin == 0:\n",
    "    print(\"Head\")\n",
    "else:\n",
    "    print(\"Tail\")"
   ]
  },
  {
   "cell_type": "code",
   "execution_count": null,
   "metadata": {},
   "outputs": [],
   "source": []
  },
  {
   "cell_type": "code",
   "execution_count": null,
   "metadata": {},
   "outputs": [],
   "source": []
  }
 ],
 "metadata": {
  "kernelspec": {
   "display_name": "Python 3",
   "language": "python",
   "name": "python3"
  },
  "language_info": {
   "codemirror_mode": {
    "name": "ipython",
    "version": 3
   },
   "file_extension": ".py",
   "mimetype": "text/x-python",
   "name": "python",
   "nbconvert_exporter": "python",
   "pygments_lexer": "ipython3",
   "version": "3.11.1"
  },
  "orig_nbformat": 4,
  "vscode": {
   "interpreter": {
    "hash": "87a1d552f91eeb558c0ccd448f410e247f4277ae8c89a1716b4b50ef0e37ae74"
   }
  }
 },
 "nbformat": 4,
 "nbformat_minor": 2
}
