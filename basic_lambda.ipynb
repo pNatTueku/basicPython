{
 "cells": [
  {
   "cell_type": "code",
   "execution_count": 12,
   "metadata": {},
   "outputs": [
    {
     "name": "stdout",
     "output_type": "stream",
     "text": [
      "[{'name': 'Mark', 'company': 'GOT7'}, {'name': 'Mike', 'company': 'Linkinpark'}, {'name': 'JJ', 'company': 'We Double You'}]\n"
     ]
    }
   ],
   "source": [
    "name_lists = [\n",
    "    {\"name\": \"Mike\", \"company\": \"Linkinpark\"},\n",
    "    {\"name\": \"JJ\", \"company\": \"We Double You\"},\n",
    "    {\"name\": \"Mark\", \"company\": \"GOT7\"}\n",
    "]\n",
    "\n",
    "def n(person):\n",
    "    return person['company'] # tell to sort by Mark\n",
    "\n",
    "name_lists.sort(key = n)\n",
    "print(name_lists)"
   ]
  },
  {
   "cell_type": "code",
   "execution_count": 13,
   "metadata": {},
   "outputs": [
    {
     "name": "stdout",
     "output_type": "stream",
     "text": [
      "[{'name': 'JJ', 'company': 'We Double You'}, {'name': 'Mark', 'company': 'GOT7'}, {'name': 'Mike', 'company': 'Linkinpark'}]\n"
     ]
    }
   ],
   "source": [
    "# we can use one-ine function called a lambda expression instead to use drfine function as above example\n",
    "\n",
    "name_lists = [\n",
    "    {\"name\": \"Mike\", \"company\": \"Linkinpark\"},\n",
    "    {\"name\": \"JJ\", \"company\": \"We Double You\"},\n",
    "    {\"name\": \"Mark\", \"company\": \"GOT7\"}\n",
    "]\n",
    "\n",
    "name_lists.sort(key = lambda person: person[\"name\"]) # takes the person as the input then return name\n",
    "print(name_lists)"
   ]
  },
  {
   "cell_type": "code",
   "execution_count": 14,
   "metadata": {},
   "outputs": [
    {
     "name": "stdout",
     "output_type": "stream",
     "text": [
      "[{'name': 'Mark', 'company': 'GOT7'}, {'name': 'Mike', 'company': 'Linkinpark'}, {'name': 'JJ', 'company': 'We Double You'}]\n"
     ]
    }
   ],
   "source": [
    "name_lists = [\n",
    "    {\"name\": \"Mike\", \"company\": \"Linkinpark\"},\n",
    "    {\"name\": \"JJ\", \"company\": \"We Double You\"},\n",
    "    {\"name\": \"Mark\", \"company\": \"GOT7\"}\n",
    "]\n",
    "\n",
    "name_lists.sort(key = lambda person: person[\"company\"]) # takes the person as the input then return company\n",
    "print(name_lists)"
   ]
  },
  {
   "cell_type": "code",
   "execution_count": null,
   "metadata": {},
   "outputs": [],
   "source": []
  }
 ],
 "metadata": {
  "kernelspec": {
   "display_name": "Python 3",
   "language": "python",
   "name": "python3"
  },
  "language_info": {
   "codemirror_mode": {
    "name": "ipython",
    "version": 3
   },
   "file_extension": ".py",
   "mimetype": "text/x-python",
   "name": "python",
   "nbconvert_exporter": "python",
   "pygments_lexer": "ipython3",
   "version": "3.11.1"
  },
  "orig_nbformat": 4,
  "vscode": {
   "interpreter": {
    "hash": "87a1d552f91eeb558c0ccd448f410e247f4277ae8c89a1716b4b50ef0e37ae74"
   }
  }
 },
 "nbformat": 4,
 "nbformat_minor": 2
}
