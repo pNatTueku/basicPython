{
 "cells": [
  {
   "cell_type": "code",
   "execution_count": 1,
   "metadata": {},
   "outputs": [
    {
     "name": "stdout",
     "output_type": "stream",
     "text": [
      "0\n",
      "1\n",
      "2\n",
      "3\n",
      "4\n"
     ]
    }
   ],
   "source": [
    "# in others languages like Java, JavaScript, C, C# and so on, we have initial value, then we have the condition for continue executing,\n",
    "# and finally, a piece of code the get runs at the end of every iteration\n",
    "# for (int i = 0; i < 5; i++) { ... }\n",
    "\n",
    "i = 0\n",
    "\n",
    "while i < 5:\n",
    "    print(i)\n",
    "\n",
    "    i = i + 1\n",
    "\n",
    "i = None"
   ]
  },
  {
   "cell_type": "code",
   "execution_count": 2,
   "metadata": {},
   "outputs": [
    {
     "name": "stdout",
     "output_type": "stream",
     "text": [
      "0\n",
      "1\n",
      "2\n",
      "3\n",
      "4\n"
     ]
    }
   ],
   "source": [
    "# in Python, an iterable is an object capable of returning values on at a time\n",
    "\n",
    "for i in range(5):\n",
    "    print(i)"
   ]
  },
  {
   "cell_type": "code",
   "execution_count": 3,
   "metadata": {},
   "outputs": [
    {
     "name": "stdout",
     "output_type": "stream",
     "text": [
      "H\n",
      "e\n",
      "l\n",
      "l\n",
      "o\n",
      " \n",
      "N\n",
      "a\n",
      "t\n",
      "t\n",
      "y\n",
      "!\n"
     ]
    }
   ],
   "source": [
    "for i in 'Hello Natty!':\n",
    "    print(i)"
   ]
  },
  {
   "cell_type": "code",
   "execution_count": 4,
   "metadata": {},
   "outputs": [
    {
     "name": "stdout",
     "output_type": "stream",
     "text": [
      "1\n",
      "3\n",
      "5\n",
      "7\n",
      "9\n"
     ]
    }
   ],
   "source": [
    "for i in [1, 3, 5, 7, 9]:\n",
    "    print(i)"
   ]
  },
  {
   "cell_type": "code",
   "execution_count": 5,
   "metadata": {},
   "outputs": [
    {
     "name": "stdout",
     "output_type": "stream",
     "text": [
      "1\n",
      "3\n",
      "3.5\n",
      "GOT7\n",
      "0.5\n"
     ]
    }
   ],
   "source": [
    "for i in [1, 3, 3.5, 'GOT7', 1/2]:\n",
    "    print(i)"
   ]
  },
  {
   "cell_type": "code",
   "execution_count": 6,
   "metadata": {},
   "outputs": [
    {
     "name": "stdout",
     "output_type": "stream",
     "text": [
      "(1, 3)\n",
      "(1, 5)\n",
      "(1, 7)\n",
      "(1, 9)\n"
     ]
    }
   ],
   "source": [
    "# list of tuples\n",
    "\n",
    "t = [(1, 3), (1, 5), (1, 7), (1, 9)]\n",
    "\n",
    "for i in t:\n",
    "    print(i)"
   ]
  },
  {
   "cell_type": "code",
   "execution_count": 7,
   "metadata": {},
   "outputs": [
    {
     "name": "stdout",
     "output_type": "stream",
     "text": [
      "1 3\n",
      "1 5\n",
      "1 7\n",
      "1 9\n"
     ]
    }
   ],
   "source": [
    "# unpack the tuples\n",
    "\n",
    "for i, j in t:\n",
    "    print(i, j)"
   ]
  },
  {
   "cell_type": "code",
   "execution_count": 8,
   "metadata": {},
   "outputs": [
    {
     "name": "stdout",
     "output_type": "stream",
     "text": [
      "0\n",
      "1\n",
      "2\n"
     ]
    }
   ],
   "source": [
    "# use break in for loop\n",
    "\n",
    "for i in range(5):\n",
    "\n",
    "    if i == 3:\n",
    "        break\n",
    "\n",
    "    print(i)"
   ]
  },
  {
   "cell_type": "code",
   "execution_count": 9,
   "metadata": {},
   "outputs": [
    {
     "name": "stdout",
     "output_type": "stream",
     "text": [
      "1\n",
      "2\n",
      "3\n",
      "4\n",
      "no multiple of 7 found\n"
     ]
    }
   ],
   "source": [
    "for i in range(1, 5):\n",
    "    print(i)\n",
    "\n",
    "    if i % 7 == 0:\n",
    "        print('multiple of 7 found')\n",
    "        break\n",
    "\n",
    "else:\n",
    "    print('no multiple of 7 found')"
   ]
  },
  {
   "cell_type": "code",
   "execution_count": 10,
   "metadata": {},
   "outputs": [
    {
     "name": "stdout",
     "output_type": "stream",
     "text": [
      "1\n",
      "2\n",
      "3\n",
      "4\n",
      "5\n",
      "6\n",
      "7\n",
      "multiple of 7 found\n"
     ]
    }
   ],
   "source": [
    "for i in range(1, 21):\n",
    "    print(i)\n",
    "\n",
    "    if i % 7 == 0:\n",
    "        print('multiple of 7 found')\n",
    "        break\n",
    "\n",
    "else:\n",
    "    print('no multiple of 7 found')"
   ]
  },
  {
   "cell_type": "code",
   "execution_count": 14,
   "metadata": {},
   "outputs": [
    {
     "name": "stdout",
     "output_type": "stream",
     "text": [
      "***************\n",
      "always executes\n",
      "0\n",
      "***************\n",
      "always executes\n",
      "1\n",
      "***************\n",
      "always executes\n",
      "2\n",
      "***************\n",
      "division by zero\n",
      "always executes\n",
      "***************\n",
      "always executes\n",
      "4\n"
     ]
    }
   ],
   "source": [
    "for i in range(5):\n",
    "    print(15*'*')\n",
    "\n",
    "    try:\n",
    "        10 / (i - 3)\n",
    "    \n",
    "    except ZeroDivisionError:\n",
    "        print('division by zero')\n",
    "        continue\n",
    "\n",
    "    finally:\n",
    "        print('always executes')\n",
    "\n",
    "    print(i) # main loop"
   ]
  },
  {
   "cell_type": "code",
   "execution_count": 15,
   "metadata": {},
   "outputs": [
    {
     "name": "stdout",
     "output_type": "stream",
     "text": [
      "0 I\n",
      "1  \n",
      "2 a\n",
      "3 m\n",
      "4  \n",
      "5 a\n",
      "6  \n",
      "7 h\n",
      "8 u\n",
      "9 g\n",
      "10 e\n",
      "11  \n",
      "12 f\n",
      "13 a\n",
      "14 n\n",
      "15  \n",
      "16 o\n",
      "17 f\n",
      "18  \n",
      "19 G\n",
      "20 O\n",
      "21 T\n",
      "22 7\n"
     ]
    }
   ],
   "source": [
    "# set/dictionary --> key: value\n",
    "# print index and value\n",
    "\n",
    "set_a = 'I am a huge fan of GOT7'\n",
    "i = 0\n",
    "\n",
    "for j in set_a:\n",
    "\n",
    "    print(i, j)\n",
    "    i = i + 1"
   ]
  },
  {
   "cell_type": "code",
   "execution_count": 16,
   "metadata": {},
   "outputs": [
    {
     "name": "stdout",
     "output_type": "stream",
     "text": [
      "0 I\n",
      "1  \n",
      "2 a\n",
      "3 m\n",
      "4  \n",
      "5 a\n",
      "6  \n",
      "7 h\n",
      "8 u\n",
      "9 g\n",
      "10 e\n",
      "11  \n",
      "12 f\n",
      "13 a\n",
      "14 n\n",
      "15  \n",
      "16 o\n",
      "17 f\n",
      "18  \n",
      "19 G\n",
      "20 O\n",
      "21 T\n",
      "22 7\n"
     ]
    }
   ],
   "source": [
    "# another way that we can get the same thing with above code\n",
    "set_a = 'I am a huge fan of GOT7'\n",
    "\n",
    "for i in range(len(set_a)):\n",
    "    print(i, set_a[i])"
   ]
  },
  {
   "cell_type": "code",
   "execution_count": 17,
   "metadata": {},
   "outputs": [
    {
     "name": "stdout",
     "output_type": "stream",
     "text": [
      "0 I\n",
      "1  \n",
      "2 a\n",
      "3 m\n",
      "4  \n",
      "5 a\n",
      "6  \n",
      "7 h\n",
      "8 u\n",
      "9 g\n",
      "10 e\n",
      "11  \n",
      "12 f\n",
      "13 a\n",
      "14 n\n",
      "15  \n",
      "16 o\n",
      "17 f\n",
      "18  \n",
      "19 G\n",
      "20 O\n",
      "21 T\n",
      "22 7\n"
     ]
    }
   ],
   "source": [
    "# or use enumerate the a special funtion to return the index and its element\n",
    "# we are going to get more clean code\n",
    "\n",
    "set_a = 'I am a huge fan of GOT7'\n",
    "\n",
    "for i, j in enumerate(set_a):\n",
    "    print(i, j)"
   ]
  },
  {
   "cell_type": "code",
   "execution_count": 4,
   "metadata": {},
   "outputs": [
    {
     "name": "stdout",
     "output_type": "stream",
     "text": [
      "maximum value is: 50 and minimum value is: 2\n"
     ]
    }
   ],
   "source": [
    "# find max and min\n",
    "\n",
    "nums = [10, 9, 19, 4, 5, 20, 50, 2, 4, 8]\n",
    "max_num = nums[0]\n",
    "\n",
    "for n in nums:\n",
    "\n",
    "    if n > max_num:\n",
    "        max_num = n\n",
    "\n",
    "min_num = nums[0]\n",
    "\n",
    "for i in nums:\n",
    "\n",
    "    if i < min_num:\n",
    "        min_num = i\n",
    "\n",
    "print(f'maximum value is: {max_num} and minimum value is: {min_num}')"
   ]
  },
  {
   "cell_type": "code",
   "execution_count": null,
   "metadata": {},
   "outputs": [],
   "source": []
  }
 ],
 "metadata": {
  "kernelspec": {
   "display_name": "Python 3",
   "language": "python",
   "name": "python3"
  },
  "language_info": {
   "codemirror_mode": {
    "name": "ipython",
    "version": 3
   },
   "file_extension": ".py",
   "mimetype": "text/x-python",
   "name": "python",
   "nbconvert_exporter": "python",
   "pygments_lexer": "ipython3",
   "version": "3.11.1"
  },
  "orig_nbformat": 4,
  "vscode": {
   "interpreter": {
    "hash": "87a1d552f91eeb558c0ccd448f410e247f4277ae8c89a1716b4b50ef0e37ae74"
   }
  }
 },
 "nbformat": 4,
 "nbformat_minor": 2
}
