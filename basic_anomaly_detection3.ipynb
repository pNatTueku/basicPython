{
 "cells": [
  {
   "cell_type": "markdown",
   "metadata": {},
   "source": [
    "### Anomaly Detection\n",
    "- To indentify the data points that are different of the other data point\n",
    "- There are 3 categories\n",
    "    - Supervised Anomaly Dection: labels for both nomal and anomalous data\n",
    "    - Semi-Supervised Anomaly Dectection: only label of nomal data \n",
    "    - Unsupervise Anomaly Dectection: no label is available\n",
    "- Algorithms\n",
    "    - Mahalanobis Distance: \n",
    "        - For one single dimension data, z-score can be used for outlier/anomaly detection. A data point is labeled as an anomaly if |z| > T (Threshold)\n",
    "        - For multidimensional data, the z-score is not applicable. The Mahalanobis distance defined as https://en.wikipedia.org/wiki/Mahalanobis_distance\n",
    "        \n",
    "    - Density-based spatial clustering of application with noise (DBSCAN)\n",
    "        - Find neighbors of all points of redius - Redius of defining neighborhood\n",
    "        - Indentify a core point minimum number of datapoints required for formimng a local cluster\n",
    "        - Find  the connected components of core point on the neighbors graph\n",
    "        - Assign each non-core point to a nearby cluster if the cluster is an Redius of defining neighborhood, otherwise assign it to noise\n",
    "    - Local Outlier Factor (LOF): Density-based anomaly detection algorithm\n",
    "        - n_neighbors: the factor dictating the neighborhood size\n",
    "        - contamination: the point of training data that may be outlier or anomalies\n",
    "        - norlety: True for contrincing decision functin\n",
    "    - Isolation Forest\n",
    "    - One-Class Support Vector Machine"
   ]
  },
  {
   "cell_type": "code",
   "execution_count": 2,
   "metadata": {},
   "outputs": [],
   "source": [
    "# import libraries\n",
    "import pandas as pd\n",
    "import numpy as np\n",
    "import matplotlib.pyplot as plt\n",
    "\n",
    "# make dataset\n",
    "from sklearn.datasets import make_blobs\n",
    "\n",
    "# statistical modules for data generation and critical values\n",
    "from scipy.stats import multivariate_normal, beta, uniform, t\n",
    "\n",
    "from functools import partial\n",
    "\n",
    "from sklearn import svm\n",
    "from sklearn.neighbors import NearestNeighbors\n",
    "from sklearn.metrics import pairwise_distances\n",
    "from sklearn.covariance import EllipticEnvelope # use for Mohalanobis distance\n",
    "from sklearn.cluster import DBSCAN\n",
    "from sklearn.ensemble import IsolationForest\n",
    "from sklearn.neighbors import LocalOutlierFactor\n",
    "from sklearn.linear_model import SGDOneClassSVM\n",
    "\n",
    "from sklearn.inspection import DecisionBoundaryDisplay\n",
    "from sklearn.metrics import classification_report\n",
    "from sklearn.metrics import roc_curve, auc\n",
    "\n",
    "from typing import Any\n"
   ]
  },
  {
   "cell_type": "code",
   "execution_count": 3,
   "metadata": {},
   "outputs": [],
   "source": [
    "n_neightbors = 10 # number of neighbor for comparision\n",
    "contamination = 0.01\n",
    "novelty = True # need True to contruct decision boundary"
   ]
  },
  {
   "cell_type": "code",
   "execution_count": null,
   "metadata": {},
   "outputs": [],
   "source": [
    "clf_lof = LocalOutlierFactor(n_neighbors = n_neightbors, contamination = contamination, novelty = novelty)\n",
    "clf_lof"
   ]
  },
  {
   "cell_type": "code",
   "execution_count": null,
   "metadata": {},
   "outputs": [],
   "source": [
    "# create a dataset that have points from a single multivariate Gaussion population, then manuallu add a outlier into a dataset\n",
    "\n",
    "np.random.seed(0) # random seed = 0\n",
    "n = 1000 # 1000 samples\n",
    "mu = np.array([0, 0]) # zero means\n",
    "sigma = np.array([\n",
    "    [2, 1],\n",
    "    [1, 2]\n",
    "])\n",
    "normal = multivariate_normal.rvs(mean = mu, cov = sigma, size = n) # rvs: random variates of size (size, N), where N is the dimension of the random variable\n",
    "normal"
   ]
  },
  {
   "cell_type": "code",
   "execution_count": null,
   "metadata": {},
   "outputs": [],
   "source": [
    "len(normal)"
   ]
  },
  {
   "cell_type": "code",
   "execution_count": null,
   "metadata": {},
   "outputs": [],
   "source": [
    "# create anomaly\n",
    "\n",
    "anomaly = np.array([3, 3])\n",
    "anomaly = np.array([3, 3]).reshape(-1, 2) # anomaly data popint\n",
    "anomaly"
   ]
  },
  {
   "cell_type": "code",
   "execution_count": null,
   "metadata": {},
   "outputs": [],
   "source": [
    "fig, ax = plt.subplots(1, 1, figsize = (10, 5))\n",
    "ax.scatter(normal[:, 0], normal[:, 1], s = 10, label = 'Normal Data')\n",
    "ax.plot([0], [0], marker = '+', color = 'green', markersize = 10) # mark the center\n",
    "ax.scatter(anomaly[:, 0], anomaly[:, 1], s = 20, color = 'red', label = 'Anormal Data') # add anomaly data point\n",
    "\n",
    "ax.legend()\n",
    "ax.set_title('Unimodal Data with Single Anomaly');"
   ]
  },
  {
   "cell_type": "code",
   "execution_count": null,
   "metadata": {},
   "outputs": [],
   "source": [
    "# concate normal and anomaly together\n",
    "\n",
    "dataset1 = np.concatenate((normal, anomaly)) # last item is the anomaly\n",
    "dataset1"
   ]
  },
  {
   "cell_type": "code",
   "execution_count": null,
   "metadata": {},
   "outputs": [],
   "source": [
    "len(dataset1)"
   ]
  },
  {
   "cell_type": "code",
   "execution_count": null,
   "metadata": {},
   "outputs": [],
   "source": [
    "# create labels: 0 for nomal, 1 for anomaly\n",
    "\n",
    "label = np.concatenate([(np.zeros(n, )), np.ones(1, )])  # last item is the anomaly\n",
    "label"
   ]
  },
  {
   "cell_type": "code",
   "execution_count": null,
   "metadata": {},
   "outputs": [],
   "source": [
    "len(label)"
   ]
  },
  {
   "cell_type": "code",
   "execution_count": null,
   "metadata": {},
   "outputs": [],
   "source": [
    "n_neightbors = 20 # number of neighbor for comparision\n",
    "contamination = 0.01\n",
    "novelty = True # need True to contruct decision boundary\n",
    "\n",
    "clf_lof = LocalOutlierFactor(n_neighbors = n_neightbors, contamination = contamination, novelty = novelty)\n",
    "clf_lof"
   ]
  },
  {
   "cell_type": "code",
   "execution_count": null,
   "metadata": {},
   "outputs": [],
   "source": [
    "# train/fit a model\n",
    "\n",
    "clf_lof.fit(dataset1)"
   ]
  },
  {
   "cell_type": "code",
   "execution_count": null,
   "metadata": {},
   "outputs": [],
   "source": [
    "# Decision boundary and anomaly output\n",
    "\n",
    "dataset = dataset1\n",
    "normal_data = normal\n",
    "anomaly_data = anomaly\n",
    "\n",
    "# plot\n",
    "\n",
    "fig, ax = plt.subplots(1, 1, figsize = (10, 7)) # make subplot of size 10x5\n",
    "\n",
    "disp = DecisionBoundaryDisplay.from_estimator(clf_lof, # anomaly detector\n",
    "                                              dataset, # dataset for drawing decision boundary\n",
    "                                              response_method = \"decision_function\", # plot decision function\n",
    "                                              alpha = 0.7, # transparent level\n",
    "                                              ax = ax)\n",
    "\n",
    "pred = clf_lof.predict(normal_data) # predict \n",
    "disp.ax_.scatter(normal_data[pred == 1, 0], normal_data[pred == 1, 1], s = 10, color = 'black', label = \"True Normal\")\n",
    "disp.ax_.scatter(normal_data[pred == -1, 0], normal_data[pred == -1, 1], s = 10, color = 'salmon', label = \"False Anomaly\")\n",
    "\n",
    "preda = clf_lof.predict(anomaly_data) # predict \n",
    "disp.ax_.scatter(anomaly_data[preda == -1, 0], anomaly_data[preda == -1, 1], s = 10, color = 'red', label = \"True Anomaly\")\n",
    "disp.ax_.scatter(anomaly_data[preda == 1, 0], anomaly_data[preda == 1, 1], s = 10, color = 'blue', label = \"False Normal\")\n",
    "\n",
    "disp.ax_.set_title(r\"Decision Boundary of Local Outlier Factor (n_neighbors = {}, contamination = {})\".format(n_neightbors, contamination))\n",
    "plt.axis(\"Square\")\n",
    "plt.colorbar(disp.ax_.collections[1])\n",
    "plt.legend();"
   ]
  },
  {
   "cell_type": "code",
   "execution_count": null,
   "metadata": {},
   "outputs": [],
   "source": [
    "# Performance evaluation\n",
    "\n",
    "pred = clf_lof.predict(dataset1)\n",
    "pred = 1 - ((pred + 1)/2).astype('int') # convert 1 -> 0, -1 -> 1\n",
    "target_names = ['Nomal', 'Anomaly']\n",
    "\n",
    "print(\"Classification Report of Decision Boundary of Local Outlier Factor\")\n",
    "print(classification_report(label, pred, target_names = target_names))"
   ]
  },
  {
   "cell_type": "code",
   "execution_count": null,
   "metadata": {},
   "outputs": [],
   "source": [
    "# Unimodal data surrounded by Anomalies\n",
    "# create a dataset which the data points are derived from a single multivariate Gaussian population. Oulier are added as the extreme outlier.\n",
    "\n",
    "np.random.seed(0) # set for consistance run\n",
    "n = 10_000\n",
    "n"
   ]
  },
  {
   "cell_type": "code",
   "execution_count": null,
   "metadata": {},
   "outputs": [],
   "source": [
    "n_normal = int(n * 0.98)\n",
    "n_normal"
   ]
  },
  {
   "cell_type": "code",
   "execution_count": null,
   "metadata": {},
   "outputs": [],
   "source": [
    "n_anomaly = n - n_normal\n",
    "n_anomaly"
   ]
  },
  {
   "cell_type": "code",
   "execution_count": null,
   "metadata": {},
   "outputs": [],
   "source": [
    "normal2, _ = make_blobs(n_samples = n_normal, n_features = 2, centers = [[0, 0]], cluster_std = [1.0])\n",
    "normal2"
   ]
  },
  {
   "cell_type": "code",
   "execution_count": null,
   "metadata": {},
   "outputs": [],
   "source": [
    "len(normal2)"
   ]
  },
  {
   "cell_type": "code",
   "execution_count": null,
   "metadata": {},
   "outputs": [],
   "source": [
    "# anomalies are located on the circle of radius r = 4 centered at the origin\n",
    " \n",
    "r = 4\n",
    "theta = np.arange(n_anomaly) * (2 * np.pi * n_anomaly) # 2% anomaly rate\n",
    "theta"
   ]
  },
  {
   "cell_type": "code",
   "execution_count": null,
   "metadata": {},
   "outputs": [],
   "source": [
    "len(theta), type(theta)"
   ]
  },
  {
   "cell_type": "code",
   "execution_count": null,
   "metadata": {},
   "outputs": [],
   "source": [
    "x = np.cos(theta) * r + np.random.randn(n_anomaly) * r * 0.1\n",
    "x"
   ]
  },
  {
   "cell_type": "code",
   "execution_count": null,
   "metadata": {},
   "outputs": [],
   "source": [
    "len(x)"
   ]
  },
  {
   "cell_type": "code",
   "execution_count": null,
   "metadata": {},
   "outputs": [],
   "source": [
    "y = np.sin(theta) * r + np.random.randn(n_anomaly) * r * 0.1\n",
    "y"
   ]
  },
  {
   "cell_type": "code",
   "execution_count": null,
   "metadata": {},
   "outputs": [],
   "source": [
    "len(y)"
   ]
  },
  {
   "cell_type": "code",
   "execution_count": null,
   "metadata": {},
   "outputs": [],
   "source": [
    "anomaly2 = np.stack((x, y), axis = 0)\n",
    "anomaly2"
   ]
  },
  {
   "cell_type": "code",
   "execution_count": null,
   "metadata": {},
   "outputs": [],
   "source": [
    "len(anomaly2)"
   ]
  },
  {
   "cell_type": "code",
   "execution_count": null,
   "metadata": {},
   "outputs": [],
   "source": [
    "anomaly2.shape"
   ]
  },
  {
   "cell_type": "code",
   "execution_count": null,
   "metadata": {},
   "outputs": [],
   "source": [
    "anomaly2 = np.stack((x, y), axis = 0).T\n",
    "anomaly2"
   ]
  },
  {
   "cell_type": "code",
   "execution_count": null,
   "metadata": {},
   "outputs": [],
   "source": [
    "len(anomaly2)"
   ]
  },
  {
   "cell_type": "code",
   "execution_count": null,
   "metadata": {},
   "outputs": [],
   "source": [
    "anomaly2.shape"
   ]
  },
  {
   "cell_type": "code",
   "execution_count": null,
   "metadata": {},
   "outputs": [],
   "source": [
    "# plot\n",
    "\n",
    "plt.figure(figsize = (10, 5))\n",
    "plt.scatter(normal2[:, 0], normal2[:, 1], s = 20, color = 'green', label = 'Normal Data')\n",
    "plt.scatter(anomaly2[:, 0], anomaly2[:, 1], s = 20, color = 'red', label = 'Anomalies Data')\n",
    "plt.legend();"
   ]
  },
  {
   "cell_type": "code",
   "execution_count": null,
   "metadata": {},
   "outputs": [],
   "source": [
    "# concate nomal and anomalies data\n",
    "\n",
    "dataset2 = np.concatenate((normal2, anomaly2))\n",
    "dataset2"
   ]
  },
  {
   "cell_type": "code",
   "execution_count": null,
   "metadata": {},
   "outputs": [],
   "source": [
    "len(dataset2)"
   ]
  },
  {
   "cell_type": "code",
   "execution_count": null,
   "metadata": {},
   "outputs": [],
   "source": [
    "label2 = np.concatenate([(np.zeros(n_normal, )), np.ones(n_anomaly, )]) # labeled data by setting 0 for normal and 1 for anomaly\n",
    "label2"
   ]
  },
  {
   "cell_type": "code",
   "execution_count": null,
   "metadata": {},
   "outputs": [],
   "source": [
    "len(label2)"
   ]
  },
  {
   "cell_type": "code",
   "execution_count": null,
   "metadata": {},
   "outputs": [],
   "source": [
    "n_neightbors = 20 # number of neighbor for comparision\n",
    "contamination = 0.01\n",
    "novelty = True # need True to contruct decision boundary\n",
    "\n",
    "clf_lof = LocalOutlierFactor(n_neighbors = n_neightbors, contamination = contamination, novelty = novelty)\n",
    "clf_lof"
   ]
  },
  {
   "cell_type": "code",
   "execution_count": null,
   "metadata": {},
   "outputs": [],
   "source": [
    "# train/fit a model\n",
    "\n",
    "clf_lof.fit(dataset2)"
   ]
  },
  {
   "cell_type": "code",
   "execution_count": null,
   "metadata": {},
   "outputs": [],
   "source": [
    "# Decision boundary and anomaly output\n",
    "\n",
    "dataset = dataset2\n",
    "normal_data = normal2\n",
    "anomaly_data = anomaly2\n",
    "\n",
    "# plot\n",
    "\n",
    "fig, ax = plt.subplots(1, 1, figsize = (10, 7)) # make subplot of size 10x5\n",
    "\n",
    "disp = DecisionBoundaryDisplay.from_estimator(clf_lof, # anomaly detector\n",
    "                                              dataset, # dataset for drawing decision boundary\n",
    "                                              response_method = \"decision_function\", # plot decision function\n",
    "                                              alpha = 0.7, # transparent level\n",
    "                                              ax = ax)\n",
    "\n",
    "pred = clf_lof.predict(normal_data) # predict \n",
    "disp.ax_.scatter(normal_data[pred == 1, 0], normal_data[pred == 1, 1], s = 10, color = 'black', label = \"True Normal\")\n",
    "disp.ax_.scatter(normal_data[pred == -1, 0], normal_data[pred == -1, 1], s = 10, color = 'salmon', label = \"False Anomaly\")\n",
    "\n",
    "preda = clf_lof.predict(anomaly_data) # predict \n",
    "disp.ax_.scatter(anomaly_data[preda == -1, 0], anomaly_data[preda == -1, 1], s = 10, color = 'red', label = \"True Anomaly\")\n",
    "disp.ax_.scatter(anomaly_data[preda == 1, 0], anomaly_data[preda == 1, 1], s = 10, color = 'blue', label = \"False Normal\")\n",
    "\n",
    "disp.ax_.set_title(r\"Decision Boundary of Local Outlier Factor (n_neighbors = {}, contamination = {})\".format(n_neightbors, contamination))\n",
    "plt.axis(\"Square\")\n",
    "plt.colorbar(disp.ax_.collections[1])\n",
    "plt.legend();"
   ]
  },
  {
   "cell_type": "code",
   "execution_count": null,
   "metadata": {},
   "outputs": [],
   "source": [
    "# Performance evaluation\n",
    "\n",
    "pred = clf_lof.predict(dataset2)\n",
    "pred = 1 - ((pred + 1)/2).astype('int') # convert 1 -> 0, -1 -> 1\n",
    "target_names = ['Nomal', 'Anomaly']\n",
    "\n",
    "print(\"Classification Report of Local Outlier Factor\")\n",
    "print(classification_report(label2, pred, target_names = target_names))"
   ]
  },
  {
   "cell_type": "code",
   "execution_count": null,
   "metadata": {},
   "outputs": [],
   "source": [
    "# ROC\n",
    "\n",
    "scores = -clf_lof.decision_function(dataset2)\n",
    "scores"
   ]
  },
  {
   "cell_type": "code",
   "execution_count": null,
   "metadata": {},
   "outputs": [],
   "source": [
    "len(scores)"
   ]
  },
  {
   "cell_type": "code",
   "execution_count": null,
   "metadata": {},
   "outputs": [],
   "source": [
    "fpr, tpr, _ = roc_curve(y_true = label2, y_score = scores, pos_label = 1)\n",
    "fpr"
   ]
  },
  {
   "cell_type": "code",
   "execution_count": null,
   "metadata": {},
   "outputs": [],
   "source": [
    "tpr"
   ]
  },
  {
   "cell_type": "code",
   "execution_count": null,
   "metadata": {},
   "outputs": [],
   "source": [
    "_"
   ]
  },
  {
   "cell_type": "code",
   "execution_count": null,
   "metadata": {},
   "outputs": [],
   "source": [
    "auc_score = auc(fpr, tpr)\n",
    "auc_score"
   ]
  },
  {
   "cell_type": "code",
   "execution_count": null,
   "metadata": {},
   "outputs": [],
   "source": [
    "plt.plot(fpr, tpr)\n",
    "plt.title(f\"ROC Curve of Local Outlier Factor \\nAUC = {auc_score:0.3f}\")\n",
    "plt.grid()\n",
    "plt.xlabel(\"False Alarm Rate\")\n",
    "plt.ylabel(\"Detection Rate\")\n",
    "plt.plot()"
   ]
  }
 ],
 "metadata": {
  "kernelspec": {
   "display_name": "conda_env",
   "language": "python",
   "name": "python3"
  },
  "language_info": {
   "codemirror_mode": {
    "name": "ipython",
    "version": 3
   },
   "file_extension": ".py",
   "mimetype": "text/x-python",
   "name": "python",
   "nbconvert_exporter": "python",
   "pygments_lexer": "ipython3",
   "version": "3.9.15"
  }
 },
 "nbformat": 4,
 "nbformat_minor": 2
}
