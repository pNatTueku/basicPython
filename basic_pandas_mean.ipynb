{
 "cells": [
  {
   "cell_type": "code",
   "execution_count": 31,
   "metadata": {},
   "outputs": [],
   "source": [
    "# import libraries\n",
    "\n",
    "import pandas as pd \n",
    "import numpy as np "
   ]
  },
  {
   "cell_type": "code",
   "execution_count": 32,
   "metadata": {},
   "outputs": [
    {
     "data": {
      "text/plain": [
       "array([11.18761405,  8.38878192, 11.45814019,  7.85840864,  8.42312693,\n",
       "        6.52225856, 12.51556209, 10.74957459,  7.59015146,  6.83749608,\n",
       "        8.35689603, 11.31843143,  8.46468561, 11.1890402 , 13.46308777,\n",
       "       11.8307366 , 12.57288193,  8.63114703,  9.09762289, 11.44224318,\n",
       "       10.16015695,  8.17781178, 12.39975178, 10.40202342,  7.80212597,\n",
       "        5.09772772, 12.3206614 ,  9.79081811, 12.9484605 , 11.7122355 ,\n",
       "       10.76621963,  9.46282812,  9.0873385 , 12.45133383, 10.18742401,\n",
       "        9.8672896 , 11.70087169,  8.62117309,  9.15960747, 10.40733458,\n",
       "       12.20821395, 10.26466916, 11.72331983, 11.11089143,  8.40965395,\n",
       "       13.3644181 ,  8.00701051, 12.15693488, 13.50578122,  6.50576036,\n",
       "        9.59539282,  9.48793712,  9.63326607,  7.03719492, 12.05497116,\n",
       "       11.94257832,  9.05514415,  9.7729288 ,  8.48743845,  7.93011157,\n",
       "       11.32872138,  8.60753993, 11.78060006,  6.7267345 , 14.63526399,\n",
       "       11.23880857,  9.59868499, 11.1595943 ,  7.07598136,  8.92182937,\n",
       "        9.28367943,  9.56364823, 11.8044516 , 10.78222098,  9.06309128,\n",
       "       12.09608607, 13.72152154,  8.36180739, 12.1639952 , 11.30685291,\n",
       "        8.72528091, 11.63498787, 12.96555033, 12.49986593,  6.52479492,\n",
       "       11.37051496,  5.98733596, 12.54775556,  8.28841283,  9.59517238,\n",
       "       11.54364338, 13.68206477, 10.82499358,  8.3868812 ,  7.35851304,\n",
       "       10.47778727, 13.0547483 ,  9.90164745,  8.46881442,  8.11522492])"
      ]
     },
     "execution_count": 32,
     "metadata": {},
     "output_type": "execute_result"
    }
   ],
   "source": [
    "x = np.random.normal(10, 2, size = 100) # mean = 10, SD = 2\n",
    "x"
   ]
  },
  {
   "cell_type": "code",
   "execution_count": 33,
   "metadata": {},
   "outputs": [
    {
     "data": {
      "text/plain": [
       "numpy.ndarray"
      ]
     },
     "execution_count": 33,
     "metadata": {},
     "output_type": "execute_result"
    }
   ],
   "source": [
    "type(x)"
   ]
  },
  {
   "cell_type": "code",
   "execution_count": 34,
   "metadata": {},
   "outputs": [
    {
     "data": {
      "text/html": [
       "<div>\n",
       "<style scoped>\n",
       "    .dataframe tbody tr th:only-of-type {\n",
       "        vertical-align: middle;\n",
       "    }\n",
       "\n",
       "    .dataframe tbody tr th {\n",
       "        vertical-align: top;\n",
       "    }\n",
       "\n",
       "    .dataframe thead th {\n",
       "        text-align: right;\n",
       "    }\n",
       "</style>\n",
       "<table border=\"1\" class=\"dataframe\">\n",
       "  <thead>\n",
       "    <tr style=\"text-align: right;\">\n",
       "      <th></th>\n",
       "      <th>x</th>\n",
       "    </tr>\n",
       "  </thead>\n",
       "  <tbody>\n",
       "    <tr>\n",
       "      <th>0</th>\n",
       "      <td>11.187614</td>\n",
       "    </tr>\n",
       "    <tr>\n",
       "      <th>1</th>\n",
       "      <td>8.388782</td>\n",
       "    </tr>\n",
       "    <tr>\n",
       "      <th>2</th>\n",
       "      <td>11.458140</td>\n",
       "    </tr>\n",
       "    <tr>\n",
       "      <th>3</th>\n",
       "      <td>7.858408</td>\n",
       "    </tr>\n",
       "  </tbody>\n",
       "</table>\n",
       "</div>"
      ],
      "text/plain": [
       "           x\n",
       "0  11.187614\n",
       "1   8.388782\n",
       "2  11.458140\n",
       "3   7.858408"
      ]
     },
     "execution_count": 34,
     "metadata": {},
     "output_type": "execute_result"
    }
   ],
   "source": [
    "df = pd.DataFrame(x, dtype = 'float32', columns = ['x'])\n",
    "df.head(4)"
   ]
  },
  {
   "cell_type": "code",
   "execution_count": 35,
   "metadata": {},
   "outputs": [
    {
     "data": {
      "text/plain": [
       "(100, 1)"
      ]
     },
     "execution_count": 35,
     "metadata": {},
     "output_type": "execute_result"
    }
   ],
   "source": [
    "df.shape"
   ]
  },
  {
   "cell_type": "code",
   "execution_count": 36,
   "metadata": {},
   "outputs": [
    {
     "data": {
      "text/html": [
       "<div>\n",
       "<style scoped>\n",
       "    .dataframe tbody tr th:only-of-type {\n",
       "        vertical-align: middle;\n",
       "    }\n",
       "\n",
       "    .dataframe tbody tr th {\n",
       "        vertical-align: top;\n",
       "    }\n",
       "\n",
       "    .dataframe thead th {\n",
       "        text-align: right;\n",
       "    }\n",
       "</style>\n",
       "<table border=\"1\" class=\"dataframe\">\n",
       "  <thead>\n",
       "    <tr style=\"text-align: right;\">\n",
       "      <th></th>\n",
       "      <th>x</th>\n",
       "    </tr>\n",
       "  </thead>\n",
       "  <tbody>\n",
       "    <tr>\n",
       "      <th>96</th>\n",
       "      <td>13.054749</td>\n",
       "    </tr>\n",
       "    <tr>\n",
       "      <th>97</th>\n",
       "      <td>9.901648</td>\n",
       "    </tr>\n",
       "    <tr>\n",
       "      <th>98</th>\n",
       "      <td>8.468815</td>\n",
       "    </tr>\n",
       "    <tr>\n",
       "      <th>99</th>\n",
       "      <td>8.115225</td>\n",
       "    </tr>\n",
       "  </tbody>\n",
       "</table>\n",
       "</div>"
      ],
      "text/plain": [
       "            x\n",
       "96  13.054749\n",
       "97   9.901648\n",
       "98   8.468815\n",
       "99   8.115225"
      ]
     },
     "execution_count": 36,
     "metadata": {},
     "output_type": "execute_result"
    }
   ],
   "source": [
    "df.tail(4)"
   ]
  },
  {
   "cell_type": "code",
   "execution_count": 37,
   "metadata": {},
   "outputs": [
    {
     "data": {
      "text/plain": [
       "10.138498"
      ]
     },
     "execution_count": 37,
     "metadata": {},
     "output_type": "execute_result"
    }
   ],
   "source": [
    "df.x.mean()"
   ]
  },
  {
   "cell_type": "code",
   "execution_count": 38,
   "metadata": {},
   "outputs": [
    {
     "data": {
      "text/plain": [
       "10.13849800643565"
      ]
     },
     "execution_count": 38,
     "metadata": {},
     "output_type": "execute_result"
    }
   ],
   "source": [
    "x.mean()"
   ]
  },
  {
   "cell_type": "code",
   "execution_count": 39,
   "metadata": {},
   "outputs": [],
   "source": [
    "x2 = x"
   ]
  },
  {
   "cell_type": "code",
   "execution_count": 40,
   "metadata": {},
   "outputs": [
    {
     "data": {
      "text/plain": [
       "array([11.18761405,  8.38878192, 11.45814019,  7.85840864,  8.42312693,\n",
       "        6.52225856, 12.51556209, 10.74957459,  7.59015146,  6.83749608,\n",
       "        8.35689603, 11.31843143,  8.46468561, 11.1890402 , 13.46308777,\n",
       "       11.8307366 , 12.57288193,  8.63114703,  9.09762289, 11.44224318,\n",
       "       10.16015695,  8.17781178, 12.39975178, 10.40202342,  7.80212597,\n",
       "        5.09772772, 12.3206614 ,  9.79081811, 12.9484605 , 11.7122355 ,\n",
       "       10.76621963,  9.46282812,  9.0873385 , 12.45133383, 10.18742401,\n",
       "        9.8672896 , 11.70087169,  8.62117309,  9.15960747, 10.40733458,\n",
       "       12.20821395, 10.26466916, 11.72331983, 11.11089143,  8.40965395,\n",
       "       13.3644181 ,  8.00701051, 12.15693488, 13.50578122,  6.50576036,\n",
       "        9.59539282,  9.48793712,  9.63326607,  7.03719492, 12.05497116,\n",
       "       11.94257832,  9.05514415,  9.7729288 ,  8.48743845,  7.93011157,\n",
       "       11.32872138,  8.60753993, 11.78060006,  6.7267345 , 14.63526399,\n",
       "       11.23880857,  9.59868499, 11.1595943 ,  7.07598136,  8.92182937,\n",
       "        9.28367943,  9.56364823, 11.8044516 , 10.78222098,  9.06309128,\n",
       "       12.09608607, 13.72152154,  8.36180739, 12.1639952 , 11.30685291,\n",
       "        8.72528091, 11.63498787, 12.96555033, 12.49986593,  6.52479492,\n",
       "       11.37051496,  5.98733596, 12.54775556,  8.28841283,  9.59517238,\n",
       "       11.54364338, 13.68206477, 10.82499358,  8.3868812 ,  7.35851304,\n",
       "       10.47778727, 13.0547483 ,  9.90164745,  8.46881442,  8.11522492])"
      ]
     },
     "execution_count": 40,
     "metadata": {},
     "output_type": "execute_result"
    }
   ],
   "source": [
    "x2"
   ]
  },
  {
   "cell_type": "code",
   "execution_count": 41,
   "metadata": {},
   "outputs": [
    {
     "data": {
      "text/html": [
       "<div>\n",
       "<style scoped>\n",
       "    .dataframe tbody tr th:only-of-type {\n",
       "        vertical-align: middle;\n",
       "    }\n",
       "\n",
       "    .dataframe tbody tr th {\n",
       "        vertical-align: top;\n",
       "    }\n",
       "\n",
       "    .dataframe thead th {\n",
       "        text-align: right;\n",
       "    }\n",
       "</style>\n",
       "<table border=\"1\" class=\"dataframe\">\n",
       "  <thead>\n",
       "    <tr style=\"text-align: right;\">\n",
       "      <th></th>\n",
       "      <th>x2</th>\n",
       "    </tr>\n",
       "  </thead>\n",
       "  <tbody>\n",
       "    <tr>\n",
       "      <th>0</th>\n",
       "      <td>11.187614</td>\n",
       "    </tr>\n",
       "    <tr>\n",
       "      <th>1</th>\n",
       "      <td>8.388782</td>\n",
       "    </tr>\n",
       "    <tr>\n",
       "      <th>2</th>\n",
       "      <td>11.458140</td>\n",
       "    </tr>\n",
       "    <tr>\n",
       "      <th>3</th>\n",
       "      <td>7.858409</td>\n",
       "    </tr>\n",
       "  </tbody>\n",
       "</table>\n",
       "</div>"
      ],
      "text/plain": [
       "          x2\n",
       "0  11.187614\n",
       "1   8.388782\n",
       "2  11.458140\n",
       "3   7.858409"
      ]
     },
     "execution_count": 41,
     "metadata": {},
     "output_type": "execute_result"
    }
   ],
   "source": [
    "df = pd.DataFrame(x, dtype = 'float64', columns = ['x2'])\n",
    "df.head(4)"
   ]
  },
  {
   "cell_type": "code",
   "execution_count": 42,
   "metadata": {},
   "outputs": [
    {
     "data": {
      "text/plain": [
       "(100, 1)"
      ]
     },
     "execution_count": 42,
     "metadata": {},
     "output_type": "execute_result"
    }
   ],
   "source": [
    "df.shape"
   ]
  },
  {
   "cell_type": "code",
   "execution_count": 43,
   "metadata": {},
   "outputs": [
    {
     "data": {
      "text/plain": [
       "10.13849800643565"
      ]
     },
     "execution_count": 43,
     "metadata": {},
     "output_type": "execute_result"
    }
   ],
   "source": [
    "df['x2'].mean()"
   ]
  },
  {
   "cell_type": "code",
   "execution_count": 44,
   "metadata": {},
   "outputs": [
    {
     "data": {
      "text/plain": [
       "10.13849800643565"
      ]
     },
     "execution_count": 44,
     "metadata": {},
     "output_type": "execute_result"
    }
   ],
   "source": [
    "x2.mean()"
   ]
  },
  {
   "cell_type": "code",
   "execution_count": null,
   "metadata": {},
   "outputs": [],
   "source": [
    "# There is difference of 32 bit floats's mean. It's at the limit of the precision of 32 bit floats. We could accept!"
   ]
  }
 ],
 "metadata": {
  "kernelspec": {
   "display_name": "conda_env",
   "language": "python",
   "name": "python3"
  },
  "language_info": {
   "codemirror_mode": {
    "name": "ipython",
    "version": 3
   },
   "file_extension": ".py",
   "mimetype": "text/x-python",
   "name": "python",
   "nbconvert_exporter": "python",
   "pygments_lexer": "ipython3",
   "version": "3.9.15"
  }
 },
 "nbformat": 4,
 "nbformat_minor": 2
}
