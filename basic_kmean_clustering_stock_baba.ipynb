{
 "cells": [
  {
   "cell_type": "code",
   "execution_count": 244,
   "metadata": {},
   "outputs": [],
   "source": [
    "# !pip install --upgrade pip"
   ]
  },
  {
   "cell_type": "code",
   "execution_count": 245,
   "metadata": {},
   "outputs": [],
   "source": [
    "# !pip install yfinance"
   ]
  },
  {
   "cell_type": "code",
   "execution_count": 246,
   "metadata": {},
   "outputs": [],
   "source": [
    "# import libraries\n",
    "\n",
    "import numpy as np \n",
    "import pandas as pd\n",
    "import yfinance as yf\n",
    "\n",
    "from sklearn.preprocessing import StandardScaler # use it because kmean is sentsitive for the wide range of features, then we apply it for normalization\n",
    "\n",
    "import matplotlib.pyplot as plt \n",
    "%matplotlib inline"
   ]
  },
  {
   "cell_type": "code",
   "execution_count": 247,
   "metadata": {},
   "outputs": [],
   "source": [
    "start = \"2010-01-01\"\n",
    "end = \"2023-12-31\""
   ]
  },
  {
   "cell_type": "code",
   "execution_count": 248,
   "metadata": {},
   "outputs": [
    {
     "data": {
      "text/html": [
       "<div>\n",
       "<style scoped>\n",
       "    .dataframe tbody tr th:only-of-type {\n",
       "        vertical-align: middle;\n",
       "    }\n",
       "\n",
       "    .dataframe tbody tr th {\n",
       "        vertical-align: top;\n",
       "    }\n",
       "\n",
       "    .dataframe thead th {\n",
       "        text-align: right;\n",
       "    }\n",
       "</style>\n",
       "<table border=\"1\" class=\"dataframe\">\n",
       "  <thead>\n",
       "    <tr style=\"text-align: right;\">\n",
       "      <th></th>\n",
       "      <th>Open</th>\n",
       "      <th>High</th>\n",
       "      <th>Low</th>\n",
       "      <th>Close</th>\n",
       "      <th>Adj Close</th>\n",
       "      <th>Volume</th>\n",
       "    </tr>\n",
       "    <tr>\n",
       "      <th>Date</th>\n",
       "      <th></th>\n",
       "      <th></th>\n",
       "      <th></th>\n",
       "      <th></th>\n",
       "      <th></th>\n",
       "      <th></th>\n",
       "    </tr>\n",
       "  </thead>\n",
       "  <tbody>\n",
       "    <tr>\n",
       "      <th>2014-09-19</th>\n",
       "      <td>92.699997</td>\n",
       "      <td>99.699997</td>\n",
       "      <td>89.949997</td>\n",
       "      <td>93.889999</td>\n",
       "      <td>92.644608</td>\n",
       "      <td>271879400</td>\n",
       "    </tr>\n",
       "    <tr>\n",
       "      <th>2014-09-22</th>\n",
       "      <td>92.699997</td>\n",
       "      <td>92.949997</td>\n",
       "      <td>89.500000</td>\n",
       "      <td>89.889999</td>\n",
       "      <td>88.697670</td>\n",
       "      <td>66657800</td>\n",
       "    </tr>\n",
       "    <tr>\n",
       "      <th>2014-09-23</th>\n",
       "      <td>88.940002</td>\n",
       "      <td>90.480003</td>\n",
       "      <td>86.620003</td>\n",
       "      <td>87.169998</td>\n",
       "      <td>86.013741</td>\n",
       "      <td>39009800</td>\n",
       "    </tr>\n",
       "    <tr>\n",
       "      <th>2014-09-24</th>\n",
       "      <td>88.470001</td>\n",
       "      <td>90.570000</td>\n",
       "      <td>87.220001</td>\n",
       "      <td>90.570000</td>\n",
       "      <td>89.368645</td>\n",
       "      <td>32088000</td>\n",
       "    </tr>\n",
       "    <tr>\n",
       "      <th>2014-09-25</th>\n",
       "      <td>91.089996</td>\n",
       "      <td>91.500000</td>\n",
       "      <td>88.500000</td>\n",
       "      <td>88.919998</td>\n",
       "      <td>87.740532</td>\n",
       "      <td>28598000</td>\n",
       "    </tr>\n",
       "  </tbody>\n",
       "</table>\n",
       "</div>"
      ],
      "text/plain": [
       "                 Open       High        Low      Close  Adj Close     Volume\n",
       "Date                                                                        \n",
       "2014-09-19  92.699997  99.699997  89.949997  93.889999  92.644608  271879400\n",
       "2014-09-22  92.699997  92.949997  89.500000  89.889999  88.697670   66657800\n",
       "2014-09-23  88.940002  90.480003  86.620003  87.169998  86.013741   39009800\n",
       "2014-09-24  88.470001  90.570000  87.220001  90.570000  89.368645   32088000\n",
       "2014-09-25  91.089996  91.500000  88.500000  88.919998  87.740532   28598000"
      ]
     },
     "execution_count": 248,
     "metadata": {},
     "output_type": "execute_result"
    }
   ],
   "source": [
    "baba_df = yf.download(\"BABA\", start = start, end = end, progress = False) # raw data\n",
    "baba_df.head()"
   ]
  },
  {
   "cell_type": "code",
   "execution_count": 249,
   "metadata": {},
   "outputs": [
    {
     "data": {
      "text/plain": [
       "(2336, 6)"
      ]
     },
     "execution_count": 249,
     "metadata": {},
     "output_type": "execute_result"
    }
   ],
   "source": [
    "baba_df.shape"
   ]
  },
  {
   "cell_type": "code",
   "execution_count": 250,
   "metadata": {},
   "outputs": [
    {
     "data": {
      "text/plain": [
       "DatetimeIndex(['2014-09-19', '2014-09-22', '2014-09-23', '2014-09-24',\n",
       "               '2014-09-25', '2014-09-26', '2014-09-29', '2014-09-30',\n",
       "               '2014-10-01', '2014-10-02',\n",
       "               ...\n",
       "               '2023-12-15', '2023-12-18', '2023-12-19', '2023-12-20',\n",
       "               '2023-12-21', '2023-12-22', '2023-12-26', '2023-12-27',\n",
       "               '2023-12-28', '2023-12-29'],\n",
       "              dtype='datetime64[ns]', name='Date', length=2336, freq=None)"
      ]
     },
     "execution_count": 250,
     "metadata": {},
     "output_type": "execute_result"
    }
   ],
   "source": [
    "baba_df.index"
   ]
  },
  {
   "cell_type": "code",
   "execution_count": 251,
   "metadata": {},
   "outputs": [
    {
     "data": {
      "text/plain": [
       "pandas.core.frame.DataFrame"
      ]
     },
     "execution_count": 251,
     "metadata": {},
     "output_type": "execute_result"
    }
   ],
   "source": [
    "type(baba_df)"
   ]
  },
  {
   "cell_type": "code",
   "execution_count": 252,
   "metadata": {},
   "outputs": [
    {
     "data": {
      "text/html": [
       "<div>\n",
       "<style scoped>\n",
       "    .dataframe tbody tr th:only-of-type {\n",
       "        vertical-align: middle;\n",
       "    }\n",
       "\n",
       "    .dataframe tbody tr th {\n",
       "        vertical-align: top;\n",
       "    }\n",
       "\n",
       "    .dataframe thead th {\n",
       "        text-align: right;\n",
       "    }\n",
       "</style>\n",
       "<table border=\"1\" class=\"dataframe\">\n",
       "  <thead>\n",
       "    <tr style=\"text-align: right;\">\n",
       "      <th></th>\n",
       "      <th>Open</th>\n",
       "      <th>High</th>\n",
       "      <th>Low</th>\n",
       "      <th>Close</th>\n",
       "      <th>Adj Close</th>\n",
       "      <th>Volume</th>\n",
       "    </tr>\n",
       "    <tr>\n",
       "      <th>Date</th>\n",
       "      <th></th>\n",
       "      <th></th>\n",
       "      <th></th>\n",
       "      <th></th>\n",
       "      <th></th>\n",
       "      <th></th>\n",
       "    </tr>\n",
       "  </thead>\n",
       "  <tbody>\n",
       "    <tr>\n",
       "      <th>2014-09-19</th>\n",
       "      <td>92.699997</td>\n",
       "      <td>99.699997</td>\n",
       "      <td>89.949997</td>\n",
       "      <td>93.889999</td>\n",
       "      <td>92.644608</td>\n",
       "      <td>271879400</td>\n",
       "    </tr>\n",
       "    <tr>\n",
       "      <th>2014-09-22</th>\n",
       "      <td>92.699997</td>\n",
       "      <td>92.949997</td>\n",
       "      <td>89.500000</td>\n",
       "      <td>89.889999</td>\n",
       "      <td>88.697670</td>\n",
       "      <td>66657800</td>\n",
       "    </tr>\n",
       "    <tr>\n",
       "      <th>2014-09-23</th>\n",
       "      <td>88.940002</td>\n",
       "      <td>90.480003</td>\n",
       "      <td>86.620003</td>\n",
       "      <td>87.169998</td>\n",
       "      <td>86.013741</td>\n",
       "      <td>39009800</td>\n",
       "    </tr>\n",
       "    <tr>\n",
       "      <th>2014-09-24</th>\n",
       "      <td>88.470001</td>\n",
       "      <td>90.570000</td>\n",
       "      <td>87.220001</td>\n",
       "      <td>90.570000</td>\n",
       "      <td>89.368645</td>\n",
       "      <td>32088000</td>\n",
       "    </tr>\n",
       "    <tr>\n",
       "      <th>2014-09-25</th>\n",
       "      <td>91.089996</td>\n",
       "      <td>91.500000</td>\n",
       "      <td>88.500000</td>\n",
       "      <td>88.919998</td>\n",
       "      <td>87.740532</td>\n",
       "      <td>28598000</td>\n",
       "    </tr>\n",
       "  </tbody>\n",
       "</table>\n",
       "</div>"
      ],
      "text/plain": [
       "                 Open       High        Low      Close  Adj Close     Volume\n",
       "Date                                                                        \n",
       "2014-09-19  92.699997  99.699997  89.949997  93.889999  92.644608  271879400\n",
       "2014-09-22  92.699997  92.949997  89.500000  89.889999  88.697670   66657800\n",
       "2014-09-23  88.940002  90.480003  86.620003  87.169998  86.013741   39009800\n",
       "2014-09-24  88.470001  90.570000  87.220001  90.570000  89.368645   32088000\n",
       "2014-09-25  91.089996  91.500000  88.500000  88.919998  87.740532   28598000"
      ]
     },
     "execution_count": 252,
     "metadata": {},
     "output_type": "execute_result"
    }
   ],
   "source": [
    "stock = baba_df.copy()\n",
    "stock.head()"
   ]
  },
  {
   "cell_type": "code",
   "execution_count": 253,
   "metadata": {},
   "outputs": [
    {
     "data": {
      "text/plain": [
       "(2336, 6)"
      ]
     },
     "execution_count": 253,
     "metadata": {},
     "output_type": "execute_result"
    }
   ],
   "source": [
    "stock.shape"
   ]
  },
  {
   "cell_type": "code",
   "execution_count": 254,
   "metadata": {},
   "outputs": [
    {
     "data": {
      "text/plain": [
       "Text(0.5, 1.0, 'Adj Close')"
      ]
     },
     "execution_count": 254,
     "metadata": {},
     "output_type": "execute_result"
    },
    {
     "data": {
      "image/png": "[encoded data removed]",
      "text/plain": [
       "<Figure size 640x480 with 1 Axes>"
      ]
     },
     "metadata": {},
     "output_type": "display_data"
    }
   ],
   "source": [
    "# plot \n",
    "\n",
    "plt.plot(stock['Adj Close'])\n",
    "plt.title('Adj Close')"
   ]
  },
  {
   "cell_type": "code",
   "execution_count": 255,
   "metadata": {},
   "outputs": [
    {
     "data": {
      "text/html": [
       "<div>\n",
       "<style scoped>\n",
       "    .dataframe tbody tr th:only-of-type {\n",
       "        vertical-align: middle;\n",
       "    }\n",
       "\n",
       "    .dataframe tbody tr th {\n",
       "        vertical-align: top;\n",
       "    }\n",
       "\n",
       "    .dataframe thead th {\n",
       "        text-align: right;\n",
       "    }\n",
       "</style>\n",
       "<table border=\"1\" class=\"dataframe\">\n",
       "  <thead>\n",
       "    <tr style=\"text-align: right;\">\n",
       "      <th></th>\n",
       "      <th>Open</th>\n",
       "      <th>High</th>\n",
       "      <th>Low</th>\n",
       "      <th>Close</th>\n",
       "      <th>Adj Close</th>\n",
       "      <th>Volume</th>\n",
       "      <th>Log Rets</th>\n",
       "    </tr>\n",
       "    <tr>\n",
       "      <th>Date</th>\n",
       "      <th></th>\n",
       "      <th></th>\n",
       "      <th></th>\n",
       "      <th></th>\n",
       "      <th></th>\n",
       "      <th></th>\n",
       "      <th></th>\n",
       "    </tr>\n",
       "  </thead>\n",
       "  <tbody>\n",
       "    <tr>\n",
       "      <th>2014-09-19</th>\n",
       "      <td>92.699997</td>\n",
       "      <td>99.699997</td>\n",
       "      <td>89.949997</td>\n",
       "      <td>93.889999</td>\n",
       "      <td>92.644608</td>\n",
       "      <td>271879400</td>\n",
       "      <td>NaN</td>\n",
       "    </tr>\n",
       "    <tr>\n",
       "      <th>2014-09-22</th>\n",
       "      <td>92.699997</td>\n",
       "      <td>92.949997</td>\n",
       "      <td>89.500000</td>\n",
       "      <td>89.889999</td>\n",
       "      <td>88.697670</td>\n",
       "      <td>66657800</td>\n",
       "      <td>-0.043537</td>\n",
       "    </tr>\n",
       "    <tr>\n",
       "      <th>2014-09-23</th>\n",
       "      <td>88.940002</td>\n",
       "      <td>90.480003</td>\n",
       "      <td>86.620003</td>\n",
       "      <td>87.169998</td>\n",
       "      <td>86.013741</td>\n",
       "      <td>39009800</td>\n",
       "      <td>-0.030727</td>\n",
       "    </tr>\n",
       "    <tr>\n",
       "      <th>2014-09-24</th>\n",
       "      <td>88.470001</td>\n",
       "      <td>90.570000</td>\n",
       "      <td>87.220001</td>\n",
       "      <td>90.570000</td>\n",
       "      <td>89.368645</td>\n",
       "      <td>32088000</td>\n",
       "      <td>0.038263</td>\n",
       "    </tr>\n",
       "    <tr>\n",
       "      <th>2014-09-25</th>\n",
       "      <td>91.089996</td>\n",
       "      <td>91.500000</td>\n",
       "      <td>88.500000</td>\n",
       "      <td>88.919998</td>\n",
       "      <td>87.740532</td>\n",
       "      <td>28598000</td>\n",
       "      <td>-0.018386</td>\n",
       "    </tr>\n",
       "  </tbody>\n",
       "</table>\n",
       "</div>"
      ],
      "text/plain": [
       "                 Open       High        Low      Close  Adj Close     Volume  \\\n",
       "Date                                                                           \n",
       "2014-09-19  92.699997  99.699997  89.949997  93.889999  92.644608  271879400   \n",
       "2014-09-22  92.699997  92.949997  89.500000  89.889999  88.697670   66657800   \n",
       "2014-09-23  88.940002  90.480003  86.620003  87.169998  86.013741   39009800   \n",
       "2014-09-24  88.470001  90.570000  87.220001  90.570000  89.368645   32088000   \n",
       "2014-09-25  91.089996  91.500000  88.500000  88.919998  87.740532   28598000   \n",
       "\n",
       "            Log Rets  \n",
       "Date                  \n",
       "2014-09-19       NaN  \n",
       "2014-09-22 -0.043537  \n",
       "2014-09-23 -0.030727  \n",
       "2014-09-24  0.038263  \n",
       "2014-09-25 -0.018386  "
      ]
     },
     "execution_count": 255,
     "metadata": {},
     "output_type": "execute_result"
    }
   ],
   "source": [
    "# get feature for clustering\n",
    "\n",
    "# calculate log return\n",
    "stock['Log Rets'] = np.log(stock['Adj Close'] / stock['Adj Close'].shift(1))\n",
    "stock.head()"
   ]
  },
  {
   "cell_type": "code",
   "execution_count": 256,
   "metadata": {},
   "outputs": [
    {
     "data": {
      "text/plain": [
       "-0.04353713286995342"
      ]
     },
     "execution_count": 256,
     "metadata": {},
     "output_type": "execute_result"
    }
   ],
   "source": [
    "np.log(88.697670/92.644608)"
   ]
  },
  {
   "cell_type": "code",
   "execution_count": 257,
   "metadata": {},
   "outputs": [
    {
     "data": {
      "text/plain": [
       "(2336, 7)"
      ]
     },
     "execution_count": 257,
     "metadata": {},
     "output_type": "execute_result"
    }
   ],
   "source": [
    "stock.shape"
   ]
  },
  {
   "cell_type": "code",
   "execution_count": 258,
   "metadata": {},
   "outputs": [],
   "source": [
    "stock.dropna(inplace = True)"
   ]
  },
  {
   "cell_type": "code",
   "execution_count": 259,
   "metadata": {},
   "outputs": [
    {
     "data": {
      "text/html": [
       "<div>\n",
       "<style scoped>\n",
       "    .dataframe tbody tr th:only-of-type {\n",
       "        vertical-align: middle;\n",
       "    }\n",
       "\n",
       "    .dataframe tbody tr th {\n",
       "        vertical-align: top;\n",
       "    }\n",
       "\n",
       "    .dataframe thead th {\n",
       "        text-align: right;\n",
       "    }\n",
       "</style>\n",
       "<table border=\"1\" class=\"dataframe\">\n",
       "  <thead>\n",
       "    <tr style=\"text-align: right;\">\n",
       "      <th></th>\n",
       "      <th>Open</th>\n",
       "      <th>High</th>\n",
       "      <th>Low</th>\n",
       "      <th>Close</th>\n",
       "      <th>Adj Close</th>\n",
       "      <th>Volume</th>\n",
       "      <th>Log Rets</th>\n",
       "    </tr>\n",
       "    <tr>\n",
       "      <th>Date</th>\n",
       "      <th></th>\n",
       "      <th></th>\n",
       "      <th></th>\n",
       "      <th></th>\n",
       "      <th></th>\n",
       "      <th></th>\n",
       "      <th></th>\n",
       "    </tr>\n",
       "  </thead>\n",
       "  <tbody>\n",
       "    <tr>\n",
       "      <th>2014-09-22</th>\n",
       "      <td>92.699997</td>\n",
       "      <td>92.949997</td>\n",
       "      <td>89.500000</td>\n",
       "      <td>89.889999</td>\n",
       "      <td>88.697670</td>\n",
       "      <td>66657800</td>\n",
       "      <td>-0.043537</td>\n",
       "    </tr>\n",
       "    <tr>\n",
       "      <th>2014-09-23</th>\n",
       "      <td>88.940002</td>\n",
       "      <td>90.480003</td>\n",
       "      <td>86.620003</td>\n",
       "      <td>87.169998</td>\n",
       "      <td>86.013741</td>\n",
       "      <td>39009800</td>\n",
       "      <td>-0.030727</td>\n",
       "    </tr>\n",
       "    <tr>\n",
       "      <th>2014-09-24</th>\n",
       "      <td>88.470001</td>\n",
       "      <td>90.570000</td>\n",
       "      <td>87.220001</td>\n",
       "      <td>90.570000</td>\n",
       "      <td>89.368645</td>\n",
       "      <td>32088000</td>\n",
       "      <td>0.038263</td>\n",
       "    </tr>\n",
       "    <tr>\n",
       "      <th>2014-09-25</th>\n",
       "      <td>91.089996</td>\n",
       "      <td>91.500000</td>\n",
       "      <td>88.500000</td>\n",
       "      <td>88.919998</td>\n",
       "      <td>87.740532</td>\n",
       "      <td>28598000</td>\n",
       "      <td>-0.018386</td>\n",
       "    </tr>\n",
       "    <tr>\n",
       "      <th>2014-09-26</th>\n",
       "      <td>89.730003</td>\n",
       "      <td>90.459999</td>\n",
       "      <td>88.660004</td>\n",
       "      <td>90.459999</td>\n",
       "      <td>89.260109</td>\n",
       "      <td>18340000</td>\n",
       "      <td>0.017171</td>\n",
       "    </tr>\n",
       "  </tbody>\n",
       "</table>\n",
       "</div>"
      ],
      "text/plain": [
       "                 Open       High        Low      Close  Adj Close    Volume  \\\n",
       "Date                                                                          \n",
       "2014-09-22  92.699997  92.949997  89.500000  89.889999  88.697670  66657800   \n",
       "2014-09-23  88.940002  90.480003  86.620003  87.169998  86.013741  39009800   \n",
       "2014-09-24  88.470001  90.570000  87.220001  90.570000  89.368645  32088000   \n",
       "2014-09-25  91.089996  91.500000  88.500000  88.919998  87.740532  28598000   \n",
       "2014-09-26  89.730003  90.459999  88.660004  90.459999  89.260109  18340000   \n",
       "\n",
       "            Log Rets  \n",
       "Date                  \n",
       "2014-09-22 -0.043537  \n",
       "2014-09-23 -0.030727  \n",
       "2014-09-24  0.038263  \n",
       "2014-09-25 -0.018386  \n",
       "2014-09-26  0.017171  "
      ]
     },
     "execution_count": 259,
     "metadata": {},
     "output_type": "execute_result"
    }
   ],
   "source": [
    "stock.head()"
   ]
  },
  {
   "cell_type": "code",
   "execution_count": 260,
   "metadata": {},
   "outputs": [
    {
     "data": {
      "text/plain": [
       "(2335, 7)"
      ]
     },
     "execution_count": 260,
     "metadata": {},
     "output_type": "execute_result"
    }
   ],
   "source": [
    "stock.shape"
   ]
  },
  {
   "cell_type": "code",
   "execution_count": 261,
   "metadata": {},
   "outputs": [
    {
     "data": {
      "text/html": [
       "<div>\n",
       "<style scoped>\n",
       "    .dataframe tbody tr th:only-of-type {\n",
       "        vertical-align: middle;\n",
       "    }\n",
       "\n",
       "    .dataframe tbody tr th {\n",
       "        vertical-align: top;\n",
       "    }\n",
       "\n",
       "    .dataframe thead th {\n",
       "        text-align: right;\n",
       "    }\n",
       "</style>\n",
       "<table border=\"1\" class=\"dataframe\">\n",
       "  <thead>\n",
       "    <tr style=\"text-align: right;\">\n",
       "      <th></th>\n",
       "      <th>Open</th>\n",
       "      <th>High</th>\n",
       "      <th>Low</th>\n",
       "      <th>Close</th>\n",
       "      <th>Adj Close</th>\n",
       "      <th>Volume</th>\n",
       "      <th>Log Rets</th>\n",
       "      <th>Rets Mean</th>\n",
       "    </tr>\n",
       "    <tr>\n",
       "      <th>Date</th>\n",
       "      <th></th>\n",
       "      <th></th>\n",
       "      <th></th>\n",
       "      <th></th>\n",
       "      <th></th>\n",
       "      <th></th>\n",
       "      <th></th>\n",
       "      <th></th>\n",
       "    </tr>\n",
       "  </thead>\n",
       "  <tbody>\n",
       "    <tr>\n",
       "      <th>2014-09-22</th>\n",
       "      <td>92.699997</td>\n",
       "      <td>92.949997</td>\n",
       "      <td>89.500000</td>\n",
       "      <td>89.889999</td>\n",
       "      <td>88.697670</td>\n",
       "      <td>66657800</td>\n",
       "      <td>-0.043537</td>\n",
       "      <td>NaN</td>\n",
       "    </tr>\n",
       "    <tr>\n",
       "      <th>2014-09-23</th>\n",
       "      <td>88.940002</td>\n",
       "      <td>90.480003</td>\n",
       "      <td>86.620003</td>\n",
       "      <td>87.169998</td>\n",
       "      <td>86.013741</td>\n",
       "      <td>39009800</td>\n",
       "      <td>-0.030727</td>\n",
       "      <td>NaN</td>\n",
       "    </tr>\n",
       "    <tr>\n",
       "      <th>2014-09-24</th>\n",
       "      <td>88.470001</td>\n",
       "      <td>90.570000</td>\n",
       "      <td>87.220001</td>\n",
       "      <td>90.570000</td>\n",
       "      <td>89.368645</td>\n",
       "      <td>32088000</td>\n",
       "      <td>0.038263</td>\n",
       "      <td>NaN</td>\n",
       "    </tr>\n",
       "    <tr>\n",
       "      <th>2014-09-25</th>\n",
       "      <td>91.089996</td>\n",
       "      <td>91.500000</td>\n",
       "      <td>88.500000</td>\n",
       "      <td>88.919998</td>\n",
       "      <td>87.740532</td>\n",
       "      <td>28598000</td>\n",
       "      <td>-0.018386</td>\n",
       "      <td>NaN</td>\n",
       "    </tr>\n",
       "    <tr>\n",
       "      <th>2014-09-26</th>\n",
       "      <td>89.730003</td>\n",
       "      <td>90.459999</td>\n",
       "      <td>88.660004</td>\n",
       "      <td>90.459999</td>\n",
       "      <td>89.260109</td>\n",
       "      <td>18340000</td>\n",
       "      <td>0.017171</td>\n",
       "      <td>-0.007443</td>\n",
       "    </tr>\n",
       "  </tbody>\n",
       "</table>\n",
       "</div>"
      ],
      "text/plain": [
       "                 Open       High        Low      Close  Adj Close    Volume  \\\n",
       "Date                                                                          \n",
       "2014-09-22  92.699997  92.949997  89.500000  89.889999  88.697670  66657800   \n",
       "2014-09-23  88.940002  90.480003  86.620003  87.169998  86.013741  39009800   \n",
       "2014-09-24  88.470001  90.570000  87.220001  90.570000  89.368645  32088000   \n",
       "2014-09-25  91.089996  91.500000  88.500000  88.919998  87.740532  28598000   \n",
       "2014-09-26  89.730003  90.459999  88.660004  90.459999  89.260109  18340000   \n",
       "\n",
       "            Log Rets  Rets Mean  \n",
       "Date                             \n",
       "2014-09-22 -0.043537        NaN  \n",
       "2014-09-23 -0.030727        NaN  \n",
       "2014-09-24  0.038263        NaN  \n",
       "2014-09-25 -0.018386        NaN  \n",
       "2014-09-26  0.017171  -0.007443  "
      ]
     },
     "execution_count": 261,
     "metadata": {},
     "output_type": "execute_result"
    }
   ],
   "source": [
    "# prepare features to be used for clustering\n",
    "\n",
    "stock['Rets Mean'] = stock['Log Rets'].rolling(5).mean() # calculate mean eavery 5 days\n",
    "stock.head()"
   ]
  },
  {
   "cell_type": "code",
   "execution_count": 262,
   "metadata": {},
   "outputs": [
    {
     "data": {
      "text/html": [
       "<div>\n",
       "<style scoped>\n",
       "    .dataframe tbody tr th:only-of-type {\n",
       "        vertical-align: middle;\n",
       "    }\n",
       "\n",
       "    .dataframe tbody tr th {\n",
       "        vertical-align: top;\n",
       "    }\n",
       "\n",
       "    .dataframe thead th {\n",
       "        text-align: right;\n",
       "    }\n",
       "</style>\n",
       "<table border=\"1\" class=\"dataframe\">\n",
       "  <thead>\n",
       "    <tr style=\"text-align: right;\">\n",
       "      <th></th>\n",
       "      <th>Open</th>\n",
       "      <th>High</th>\n",
       "      <th>Low</th>\n",
       "      <th>Close</th>\n",
       "      <th>Adj Close</th>\n",
       "      <th>Volume</th>\n",
       "      <th>Log Rets</th>\n",
       "      <th>Rets Mean</th>\n",
       "      <th>Rets STD</th>\n",
       "    </tr>\n",
       "    <tr>\n",
       "      <th>Date</th>\n",
       "      <th></th>\n",
       "      <th></th>\n",
       "      <th></th>\n",
       "      <th></th>\n",
       "      <th></th>\n",
       "      <th></th>\n",
       "      <th></th>\n",
       "      <th></th>\n",
       "      <th></th>\n",
       "    </tr>\n",
       "  </thead>\n",
       "  <tbody>\n",
       "    <tr>\n",
       "      <th>2014-09-22</th>\n",
       "      <td>92.699997</td>\n",
       "      <td>92.949997</td>\n",
       "      <td>89.500000</td>\n",
       "      <td>89.889999</td>\n",
       "      <td>88.697670</td>\n",
       "      <td>66657800</td>\n",
       "      <td>-0.043537</td>\n",
       "      <td>NaN</td>\n",
       "      <td>NaN</td>\n",
       "    </tr>\n",
       "    <tr>\n",
       "      <th>2014-09-23</th>\n",
       "      <td>88.940002</td>\n",
       "      <td>90.480003</td>\n",
       "      <td>86.620003</td>\n",
       "      <td>87.169998</td>\n",
       "      <td>86.013741</td>\n",
       "      <td>39009800</td>\n",
       "      <td>-0.030727</td>\n",
       "      <td>NaN</td>\n",
       "      <td>NaN</td>\n",
       "    </tr>\n",
       "    <tr>\n",
       "      <th>2014-09-24</th>\n",
       "      <td>88.470001</td>\n",
       "      <td>90.570000</td>\n",
       "      <td>87.220001</td>\n",
       "      <td>90.570000</td>\n",
       "      <td>89.368645</td>\n",
       "      <td>32088000</td>\n",
       "      <td>0.038263</td>\n",
       "      <td>NaN</td>\n",
       "      <td>NaN</td>\n",
       "    </tr>\n",
       "    <tr>\n",
       "      <th>2014-09-25</th>\n",
       "      <td>91.089996</td>\n",
       "      <td>91.500000</td>\n",
       "      <td>88.500000</td>\n",
       "      <td>88.919998</td>\n",
       "      <td>87.740532</td>\n",
       "      <td>28598000</td>\n",
       "      <td>-0.018386</td>\n",
       "      <td>NaN</td>\n",
       "      <td>NaN</td>\n",
       "    </tr>\n",
       "    <tr>\n",
       "      <th>2014-09-26</th>\n",
       "      <td>89.730003</td>\n",
       "      <td>90.459999</td>\n",
       "      <td>88.660004</td>\n",
       "      <td>90.459999</td>\n",
       "      <td>89.260109</td>\n",
       "      <td>18340000</td>\n",
       "      <td>0.017171</td>\n",
       "      <td>-0.007443</td>\n",
       "      <td>0.03413</td>\n",
       "    </tr>\n",
       "  </tbody>\n",
       "</table>\n",
       "</div>"
      ],
      "text/plain": [
       "                 Open       High        Low      Close  Adj Close    Volume  \\\n",
       "Date                                                                          \n",
       "2014-09-22  92.699997  92.949997  89.500000  89.889999  88.697670  66657800   \n",
       "2014-09-23  88.940002  90.480003  86.620003  87.169998  86.013741  39009800   \n",
       "2014-09-24  88.470001  90.570000  87.220001  90.570000  89.368645  32088000   \n",
       "2014-09-25  91.089996  91.500000  88.500000  88.919998  87.740532  28598000   \n",
       "2014-09-26  89.730003  90.459999  88.660004  90.459999  89.260109  18340000   \n",
       "\n",
       "            Log Rets  Rets Mean  Rets STD  \n",
       "Date                                       \n",
       "2014-09-22 -0.043537        NaN       NaN  \n",
       "2014-09-23 -0.030727        NaN       NaN  \n",
       "2014-09-24  0.038263        NaN       NaN  \n",
       "2014-09-25 -0.018386        NaN       NaN  \n",
       "2014-09-26  0.017171  -0.007443   0.03413  "
      ]
     },
     "execution_count": 262,
     "metadata": {},
     "output_type": "execute_result"
    }
   ],
   "source": [
    "stock['Rets STD'] = stock['Log Rets'].rolling(5).std() # calculate mean eavery 5 days\n",
    "stock.head()"
   ]
  },
  {
   "cell_type": "code",
   "execution_count": 263,
   "metadata": {},
   "outputs": [
    {
     "data": {
      "text/html": [
       "<div>\n",
       "<style scoped>\n",
       "    .dataframe tbody tr th:only-of-type {\n",
       "        vertical-align: middle;\n",
       "    }\n",
       "\n",
       "    .dataframe tbody tr th {\n",
       "        vertical-align: top;\n",
       "    }\n",
       "\n",
       "    .dataframe thead th {\n",
       "        text-align: right;\n",
       "    }\n",
       "</style>\n",
       "<table border=\"1\" class=\"dataframe\">\n",
       "  <thead>\n",
       "    <tr style=\"text-align: right;\">\n",
       "      <th></th>\n",
       "      <th>Open</th>\n",
       "      <th>High</th>\n",
       "      <th>Low</th>\n",
       "      <th>Close</th>\n",
       "      <th>Adj Close</th>\n",
       "      <th>Volume</th>\n",
       "      <th>Log Rets</th>\n",
       "      <th>Rets Mean</th>\n",
       "      <th>Rets STD</th>\n",
       "    </tr>\n",
       "    <tr>\n",
       "      <th>Date</th>\n",
       "      <th></th>\n",
       "      <th></th>\n",
       "      <th></th>\n",
       "      <th></th>\n",
       "      <th></th>\n",
       "      <th></th>\n",
       "      <th></th>\n",
       "      <th></th>\n",
       "      <th></th>\n",
       "    </tr>\n",
       "  </thead>\n",
       "  <tbody>\n",
       "    <tr>\n",
       "      <th>2014-09-26</th>\n",
       "      <td>89.730003</td>\n",
       "      <td>90.459999</td>\n",
       "      <td>88.660004</td>\n",
       "      <td>90.459999</td>\n",
       "      <td>89.260109</td>\n",
       "      <td>18340000</td>\n",
       "      <td>0.017171</td>\n",
       "      <td>-0.007443</td>\n",
       "      <td>0.034130</td>\n",
       "    </tr>\n",
       "    <tr>\n",
       "      <th>2014-09-29</th>\n",
       "      <td>89.620003</td>\n",
       "      <td>89.699997</td>\n",
       "      <td>88.019997</td>\n",
       "      <td>88.750000</td>\n",
       "      <td>87.572784</td>\n",
       "      <td>25302000</td>\n",
       "      <td>-0.019084</td>\n",
       "      <td>-0.002553</td>\n",
       "      <td>0.029037</td>\n",
       "    </tr>\n",
       "    <tr>\n",
       "      <th>2014-09-30</th>\n",
       "      <td>89.000000</td>\n",
       "      <td>90.879997</td>\n",
       "      <td>88.459999</td>\n",
       "      <td>88.849998</td>\n",
       "      <td>87.671463</td>\n",
       "      <td>24419400</td>\n",
       "      <td>0.001126</td>\n",
       "      <td>0.003818</td>\n",
       "      <td>0.024441</td>\n",
       "    </tr>\n",
       "    <tr>\n",
       "      <th>2014-10-01</th>\n",
       "      <td>88.699997</td>\n",
       "      <td>88.940002</td>\n",
       "      <td>86.040001</td>\n",
       "      <td>86.099998</td>\n",
       "      <td>84.957939</td>\n",
       "      <td>24029600</td>\n",
       "      <td>-0.031440</td>\n",
       "      <td>-0.010123</td>\n",
       "      <td>0.019200</td>\n",
       "    </tr>\n",
       "    <tr>\n",
       "      <th>2014-10-02</th>\n",
       "      <td>86.269997</td>\n",
       "      <td>88.199997</td>\n",
       "      <td>85.611000</td>\n",
       "      <td>87.059998</td>\n",
       "      <td>85.905205</td>\n",
       "      <td>21469700</td>\n",
       "      <td>0.011088</td>\n",
       "      <td>-0.004228</td>\n",
       "      <td>0.020508</td>\n",
       "    </tr>\n",
       "  </tbody>\n",
       "</table>\n",
       "</div>"
      ],
      "text/plain": [
       "                 Open       High        Low      Close  Adj Close    Volume  \\\n",
       "Date                                                                          \n",
       "2014-09-26  89.730003  90.459999  88.660004  90.459999  89.260109  18340000   \n",
       "2014-09-29  89.620003  89.699997  88.019997  88.750000  87.572784  25302000   \n",
       "2014-09-30  89.000000  90.879997  88.459999  88.849998  87.671463  24419400   \n",
       "2014-10-01  88.699997  88.940002  86.040001  86.099998  84.957939  24029600   \n",
       "2014-10-02  86.269997  88.199997  85.611000  87.059998  85.905205  21469700   \n",
       "\n",
       "            Log Rets  Rets Mean  Rets STD  \n",
       "Date                                       \n",
       "2014-09-26  0.017171  -0.007443  0.034130  \n",
       "2014-09-29 -0.019084  -0.002553  0.029037  \n",
       "2014-09-30  0.001126   0.003818  0.024441  \n",
       "2014-10-01 -0.031440  -0.010123  0.019200  \n",
       "2014-10-02  0.011088  -0.004228  0.020508  "
      ]
     },
     "execution_count": 263,
     "metadata": {},
     "output_type": "execute_result"
    }
   ],
   "source": [
    "stock.dropna(inplace = True)\n",
    "stock.head()\n",
    "\n",
    "# or we can use\n",
    "# stock = stock.dropna()"
   ]
  },
  {
   "cell_type": "code",
   "execution_count": 264,
   "metadata": {},
   "outputs": [
    {
     "data": {
      "text/plain": [
       "(2331, 9)"
      ]
     },
     "execution_count": 264,
     "metadata": {},
     "output_type": "execute_result"
    }
   ],
   "source": [
    "stock.shape"
   ]
  },
  {
   "cell_type": "code",
   "execution_count": 265,
   "metadata": {},
   "outputs": [
    {
     "data": {
      "image/png": "[encoded data removed]",
      "text/plain": [
       "<Figure size 640x480 with 1 Axes>"
      ]
     },
     "metadata": {},
     "output_type": "display_data"
    }
   ],
   "source": [
    "# plot\n",
    "\n",
    "plt.scatter(stock['Rets Mean'], stock['Rets STD']); # plot X and y"
   ]
  },
  {
   "cell_type": "code",
   "execution_count": 266,
   "metadata": {},
   "outputs": [
    {
     "data": {
      "text/plain": [
       "Date\n",
       "2014-09-26   -0.007443\n",
       "2014-09-29   -0.002553\n",
       "2014-09-30    0.003818\n",
       "2014-10-01   -0.010123\n",
       "2014-10-02   -0.004228\n",
       "                ...   \n",
       "2023-12-22    0.004727\n",
       "2023-12-26    0.008042\n",
       "2023-12-27    0.004572\n",
       "2023-12-28    0.010335\n",
       "2023-12-29    0.003252\n",
       "Name: Rets Mean, Length: 2331, dtype: float64"
      ]
     },
     "execution_count": 266,
     "metadata": {},
     "output_type": "execute_result"
    }
   ],
   "source": [
    "# get array X in order to perform clustering\n",
    "\n",
    "X1 = stock['Rets Mean']\n",
    "X1"
   ]
  },
  {
   "cell_type": "code",
   "execution_count": 267,
   "metadata": {},
   "outputs": [
    {
     "data": {
      "text/plain": [
       "pandas.core.series.Series"
      ]
     },
     "execution_count": 267,
     "metadata": {},
     "output_type": "execute_result"
    }
   ],
   "source": [
    "type(X1)"
   ]
  },
  {
   "cell_type": "code",
   "execution_count": 268,
   "metadata": {},
   "outputs": [
    {
     "data": {
      "text/plain": [
       "Date\n",
       "2014-09-26    0.034130\n",
       "2014-09-29    0.029037\n",
       "2014-09-30    0.024441\n",
       "2014-10-01    0.019200\n",
       "2014-10-02    0.020508\n",
       "                ...   \n",
       "2023-12-22    0.023878\n",
       "2023-12-26    0.022607\n",
       "2023-12-27    0.021467\n",
       "2023-12-28    0.018926\n",
       "2023-12-29    0.010154\n",
       "Name: Rets STD, Length: 2331, dtype: float64"
      ]
     },
     "execution_count": 268,
     "metadata": {},
     "output_type": "execute_result"
    }
   ],
   "source": [
    "X2 = stock['Rets STD']\n",
    "X2"
   ]
  },
  {
   "cell_type": "code",
   "execution_count": 269,
   "metadata": {},
   "outputs": [
    {
     "data": {
      "text/plain": [
       "pandas.core.series.Series"
      ]
     },
     "execution_count": 269,
     "metadata": {},
     "output_type": "execute_result"
    }
   ],
   "source": [
    "type(X2)"
   ]
  },
  {
   "cell_type": "code",
   "execution_count": 270,
   "metadata": {},
   "outputs": [
    {
     "data": {
      "text/plain": [
       "array([-0.00744321, -0.00255267,  0.00381788, ...,  0.00457163,\n",
       "        0.01033499,  0.00325168])"
      ]
     },
     "execution_count": 270,
     "metadata": {},
     "output_type": "execute_result"
    }
   ],
   "source": [
    "X1 = stock['Rets Mean'].values\n",
    "X1"
   ]
  },
  {
   "cell_type": "code",
   "execution_count": 271,
   "metadata": {},
   "outputs": [
    {
     "data": {
      "text/plain": [
       "array([0.03413033, 0.02903737, 0.02444137, ..., 0.02146687, 0.01892569,\n",
       "       0.01015397])"
      ]
     },
     "execution_count": 271,
     "metadata": {},
     "output_type": "execute_result"
    }
   ],
   "source": [
    "X2 = stock['Rets STD'].values\n",
    "X2"
   ]
  },
  {
   "cell_type": "code",
   "execution_count": 272,
   "metadata": {},
   "outputs": [
    {
     "data": {
      "text/plain": [
       "(numpy.ndarray, numpy.ndarray)"
      ]
     },
     "execution_count": 272,
     "metadata": {},
     "output_type": "execute_result"
    }
   ],
   "source": [
    "type(X1), type(X2)"
   ]
  },
  {
   "cell_type": "code",
   "execution_count": 273,
   "metadata": {},
   "outputs": [
    {
     "data": {
      "text/plain": [
       "array([[-0.00744321,  0.03413033],\n",
       "       [-0.00255267,  0.02903737],\n",
       "       [ 0.00381788,  0.02444137],\n",
       "       ...,\n",
       "       [ 0.00457163,  0.02146687],\n",
       "       [ 0.01033499,  0.01892569],\n",
       "       [ 0.00325168,  0.01015397]])"
      ]
     },
     "execution_count": 273,
     "metadata": {},
     "output_type": "execute_result"
    }
   ],
   "source": [
    "X = np.array(list(zip(X1, X2)))\n",
    "X"
   ]
  },
  {
   "cell_type": "code",
   "execution_count": 274,
   "metadata": {},
   "outputs": [
    {
     "data": {
      "text/plain": [
       "numpy.ndarray"
      ]
     },
     "execution_count": 274,
     "metadata": {},
     "output_type": "execute_result"
    }
   ],
   "source": [
    "type(X)"
   ]
  },
  {
   "cell_type": "code",
   "execution_count": 275,
   "metadata": {},
   "outputs": [
    {
     "data": {
      "image/png": "[encoded data removed]",
      "text/plain": [
       "<Figure size 640x480 with 1 Axes>"
      ]
     },
     "metadata": {},
     "output_type": "display_data"
    }
   ],
   "source": [
    "# plot \n",
    "\n",
    "plt.scatter(X[:, 0], X[:, 1]); # not need to use stock dataframe"
   ]
  },
  {
   "cell_type": "code",
   "execution_count": 276,
   "metadata": {},
   "outputs": [],
   "source": [
    "# feature X are not bad but require normalization for kmean - better\n",
    "\n",
    "def normalizedFeature(x):\n",
    "    sc = StandardScaler()\n",
    "    x = sc.fit_transform(x)\n",
    "\n",
    "    return x\n"
   ]
  },
  {
   "cell_type": "code",
   "execution_count": 277,
   "metadata": {},
   "outputs": [
    {
     "data": {
      "text/plain": [
       "array([[-0.64642521,  0.86102206],\n",
       "       [-0.2179584 ,  0.49902732],\n",
       "       [ 0.34017362,  0.17235457],\n",
       "       ...,\n",
       "       [ 0.40621077, -0.039066  ],\n",
       "       [ 0.911146  , -0.21968672],\n",
       "       [ 0.29056827, -0.84315945]])"
      ]
     },
     "execution_count": 277,
     "metadata": {},
     "output_type": "execute_result"
    }
   ],
   "source": [
    "# call a function and keep data in X_norm\n",
    "X_norm = normalizedFeature(X)\n",
    "X_norm"
   ]
  },
  {
   "cell_type": "code",
   "execution_count": 278,
   "metadata": {},
   "outputs": [
    {
     "data": {
      "image/png": "[encoded data removed]",
      "text/plain": [
       "<Figure size 640x480 with 1 Axes>"
      ]
     },
     "metadata": {},
     "output_type": "display_data"
    }
   ],
   "source": [
    "# plot \n",
    "\n",
    "plt.scatter(X_norm[:, 0], X_norm[:, 1]);"
   ]
  },
  {
   "cell_type": "code",
   "execution_count": 279,
   "metadata": {},
   "outputs": [],
   "source": [
    "# start KMean Clustering\n",
    "\n",
    "# prepare a function for distance between 2 points\n",
    "\n",
    "def distance_fn(a, b, ax = 1):\n",
    "    return np.linalg.norm(a-b, axis = ax) # Euclidean distance"
   ]
  },
  {
   "cell_type": "code",
   "execution_count": 280,
   "metadata": {},
   "outputs": [],
   "source": [
    "def plotCluster(data, C, K, cluster_label):\n",
    "\n",
    "    colors = ['green', 'blue', 'orange', 'red', 'yellow', 'pink', 'purple', 'salmon']\n",
    "\n",
    "    plt.figure(figsize = (8, 6))\n",
    "\n",
    "    for i in range(K):\n",
    "        points = [] # empty list\n",
    "        points = np.array([data[j] for j in range(len(data)) if cluster_label[j] == i]) # find data for each cluster\n",
    "        plt.scatter(points[:, 0], points[:, 1], s = 7, c = colors[i]) # plot\n",
    "        plt.annotate(i, (C[i, 0], C[i, 1]), size = 20)\n",
    "        \n",
    "    plt.scatter(C[:, 0], C[:, 1], marker = '*', color = 'black', s = 200)\n",
    "\n",
    "    plt.xlabel('Rets Mean')\n",
    "    plt.ylabel('Rets STD')\n",
    "    plt.title('Cluster')"
   ]
  },
  {
   "cell_type": "code",
   "execution_count": 281,
   "metadata": {},
   "outputs": [],
   "source": [
    "def kmeanClustering(data, K):\n",
    "\n",
    "    # step 1. random centroids\n",
    "    C_x = np.random.randint(np.min(data[:, 0]), np.max(data[:, 0]), size = K)\n",
    "    C_y = np.random.randint(np.min(data[:, 1]), np.max(data[:, 1]), size = K)\n",
    "\n",
    "    # set Centroid to variable C\n",
    "    C = np.zeros((K, 2))\n",
    "    C_old = np.zeros(C.shape)\n",
    "\n",
    "    C[:, 0] = C_x \n",
    "    C[:, 1] = C_y \n",
    "\n",
    "    # Step 2. label data\n",
    "    cluster_label = np.zeros((len(data), 1))\n",
    "\n",
    "    for i in range(len(data)): # run 150 rounds - depands on length of data\n",
    "        distance = distance_fn(data[i, :], C)\n",
    "        cluster = np.argmin(distance) # for the shortest distance\n",
    "        cluster_label[i] = cluster\n",
    "\n",
    "    # Step 3. calculate new centroids\n",
    "    C_old = C.copy()\n",
    "\n",
    "    for i in range(K):\n",
    "        points = [] # empty list\n",
    "        points = np.array([data[j] for j in range(len(data)) if cluster_label[j] == i])\n",
    "        C[i] = np.mean(points, axis = 0) # calculate mean and keep in C for each group (i)\n",
    "\n",
    "    # Calculate error\n",
    "    error = distance_fn(C, C_old, None)\n",
    "    \n",
    "    # Plot\n",
    "    plotCluster(data, C, K, cluster_label)\n",
    "\n",
    "    # Check if error is ok to stop\n",
    "    while error != 0: # will stop when error = 0\n",
    "    \n",
    "        cluster_label = np.zeros((len(data), 1))\n",
    "    \n",
    "        for i in range(len(data)):\n",
    "            distance = distance_fn(data[i, :], C)\n",
    "            cluster = np.argmin(distance)\n",
    "            cluster_label[i] = cluster\n",
    "    \n",
    "        C_old = C.copy()\n",
    "    \n",
    "        for i in range(K):\n",
    "            points = []\n",
    "            points = np.array([data[j] for j in range(len(data)) if cluster_label[j] == i])\n",
    "            C[i] = np.mean(points, axis=0)\n",
    "        \n",
    "        plotCluster(data, C, K, cluster_label.copy())\n",
    "    \n",
    "        error = distance_fn(C, C_old, None)\n",
    "        print(error)\n",
    "\n",
    "    return cluster_label"
   ]
  },
  {
   "cell_type": "code",
   "execution_count": 282,
   "metadata": {},
   "outputs": [
    {
     "name": "stderr",
     "output_type": "stream",
     "text": [
      "/opt/homebrew/Caskroom/miniforge/base/envs/conda_env/lib/python3.9/site-packages/numpy/core/fromnumeric.py:3504: RuntimeWarning: Mean of empty slice.\n",
      "  return _methods._mean(a, axis=axis, dtype=dtype,\n",
      "/opt/homebrew/Caskroom/miniforge/base/envs/conda_env/lib/python3.9/site-packages/numpy/core/_methods.py:129: RuntimeWarning: invalid value encountered in scalar divide\n",
      "  ret = ret.dtype.type(ret / rcount)\n"
     ]
    },
    {
     "ename": "IndexError",
     "evalue": "too many indices for array: array is 1-dimensional, but 2 were indexed",
     "output_type": "error",
     "traceback": [
      "\u001b[0;31m---------------------------------------------------------------------------\u001b[0m",
      "\u001b[0;31mIndexError\u001b[0m                                Traceback (most recent call last)",
      "Cell \u001b[0;32mIn[282], line 3\u001b[0m\n\u001b[1;32m      1\u001b[0m \u001b[38;5;66;03m# call a function\u001b[39;00m\n\u001b[1;32m      2\u001b[0m K \u001b[38;5;241m=\u001b[39m \u001b[38;5;241m3\u001b[39m\n\u001b[0;32m----> 3\u001b[0m label_kmean \u001b[38;5;241m=\u001b[39m \u001b[43mkmeanClustering\u001b[49m\u001b[43m(\u001b[49m\u001b[43mX_norm\u001b[49m\u001b[43m,\u001b[49m\u001b[43m \u001b[49m\u001b[43mK\u001b[49m\u001b[43m)\u001b[49m\n",
      "Cell \u001b[0;32mIn[281], line 34\u001b[0m, in \u001b[0;36mkmeanClustering\u001b[0;34m(data, K)\u001b[0m\n\u001b[1;32m     31\u001b[0m error \u001b[38;5;241m=\u001b[39m distance_fn(C, C_old, \u001b[38;5;28;01mNone\u001b[39;00m)\n\u001b[1;32m     33\u001b[0m \u001b[38;5;66;03m# Plot\u001b[39;00m\n\u001b[0;32m---> 34\u001b[0m \u001b[43mplotCluster\u001b[49m\u001b[43m(\u001b[49m\u001b[43mdata\u001b[49m\u001b[43m,\u001b[49m\u001b[43m \u001b[49m\u001b[43mC\u001b[49m\u001b[43m,\u001b[49m\u001b[43m \u001b[49m\u001b[43mK\u001b[49m\u001b[43m,\u001b[49m\u001b[43m \u001b[49m\u001b[43mcluster_label\u001b[49m\u001b[43m)\u001b[49m\n\u001b[1;32m     36\u001b[0m \u001b[38;5;66;03m# Check if error is ok to stop\u001b[39;00m\n\u001b[1;32m     37\u001b[0m \u001b[38;5;28;01mwhile\u001b[39;00m error \u001b[38;5;241m!=\u001b[39m \u001b[38;5;241m0\u001b[39m: \u001b[38;5;66;03m# will stop when error = 0\u001b[39;00m\n",
      "Cell \u001b[0;32mIn[280], line 10\u001b[0m, in \u001b[0;36mplotCluster\u001b[0;34m(data, C, K, cluster_label)\u001b[0m\n\u001b[1;32m      8\u001b[0m     points \u001b[38;5;241m=\u001b[39m [] \u001b[38;5;66;03m# empty list\u001b[39;00m\n\u001b[1;32m      9\u001b[0m     points \u001b[38;5;241m=\u001b[39m np\u001b[38;5;241m.\u001b[39marray([data[j] \u001b[38;5;28;01mfor\u001b[39;00m j \u001b[38;5;129;01min\u001b[39;00m \u001b[38;5;28mrange\u001b[39m(\u001b[38;5;28mlen\u001b[39m(data)) \u001b[38;5;28;01mif\u001b[39;00m cluster_label[j] \u001b[38;5;241m==\u001b[39m i]) \u001b[38;5;66;03m# find data for each cluster\u001b[39;00m\n\u001b[0;32m---> 10\u001b[0m     plt\u001b[38;5;241m.\u001b[39mscatter(\u001b[43mpoints\u001b[49m\u001b[43m[\u001b[49m\u001b[43m:\u001b[49m\u001b[43m,\u001b[49m\u001b[43m \u001b[49m\u001b[38;5;241;43m0\u001b[39;49m\u001b[43m]\u001b[49m, points[:, \u001b[38;5;241m1\u001b[39m], s \u001b[38;5;241m=\u001b[39m \u001b[38;5;241m7\u001b[39m, c \u001b[38;5;241m=\u001b[39m colors[i]) \u001b[38;5;66;03m# plot\u001b[39;00m\n\u001b[1;32m     11\u001b[0m     plt\u001b[38;5;241m.\u001b[39mannotate(i, (C[i, \u001b[38;5;241m0\u001b[39m], C[i, \u001b[38;5;241m1\u001b[39m]), size \u001b[38;5;241m=\u001b[39m \u001b[38;5;241m20\u001b[39m)\n\u001b[1;32m     13\u001b[0m plt\u001b[38;5;241m.\u001b[39mscatter(C[:, \u001b[38;5;241m0\u001b[39m], C[:, \u001b[38;5;241m1\u001b[39m], marker \u001b[38;5;241m=\u001b[39m \u001b[38;5;124m'\u001b[39m\u001b[38;5;124m*\u001b[39m\u001b[38;5;124m'\u001b[39m, color \u001b[38;5;241m=\u001b[39m \u001b[38;5;124m'\u001b[39m\u001b[38;5;124mblack\u001b[39m\u001b[38;5;124m'\u001b[39m, s \u001b[38;5;241m=\u001b[39m \u001b[38;5;241m200\u001b[39m)\n",
      "\u001b[0;31mIndexError\u001b[0m: too many indices for array: array is 1-dimensional, but 2 were indexed"
     ]
    },
    {
     "data": {
      "image/png": "[encoded data removed]",
      "text/plain": [
       "<Figure size 800x600 with 1 Axes>"
      ]
     },
     "metadata": {},
     "output_type": "display_data"
    }
   ],
   "source": [
    "# call a function\n",
    "K = 3\n",
    "label_kmean = kmeanClustering(X_norm, K)"
   ]
  },
  {
   "cell_type": "code",
   "execution_count": null,
   "metadata": {},
   "outputs": [],
   "source": [
    "label_kmean"
   ]
  },
  {
   "cell_type": "markdown",
   "metadata": {},
   "source": [
    "### Use label from KMean"
   ]
  },
  {
   "cell_type": "code",
   "execution_count": null,
   "metadata": {},
   "outputs": [],
   "source": [
    "stock['Class'] = label_kmean \n",
    "stock.head(10)"
   ]
  },
  {
   "cell_type": "code",
   "execution_count": null,
   "metadata": {},
   "outputs": [],
   "source": [
    "# idea to trade\n",
    "\n",
    "idx_c0 = np.where(stock['Class'] == 0) # find index in class 0\n",
    "idx_c0"
   ]
  },
  {
   "cell_type": "code",
   "execution_count": null,
   "metadata": {},
   "outputs": [],
   "source": [
    "len(idx_c0)"
   ]
  },
  {
   "cell_type": "code",
   "execution_count": null,
   "metadata": {},
   "outputs": [],
   "source": [
    "len(idx_c0[0])"
   ]
  },
  {
   "cell_type": "code",
   "execution_count": null,
   "metadata": {},
   "outputs": [],
   "source": [
    "idx_c1 = np.where(stock['Class'] == 1)\n",
    "idx_c1"
   ]
  },
  {
   "cell_type": "code",
   "execution_count": null,
   "metadata": {},
   "outputs": [],
   "source": [
    "len(idx_c1[0])"
   ]
  },
  {
   "cell_type": "code",
   "execution_count": null,
   "metadata": {},
   "outputs": [],
   "source": [
    "idx_c2 = np.where(stock['Class'] == 2)\n",
    "idx_c2"
   ]
  },
  {
   "cell_type": "code",
   "execution_count": null,
   "metadata": {},
   "outputs": [],
   "source": [
    "len(idx_c2[0])"
   ]
  },
  {
   "cell_type": "code",
   "execution_count": null,
   "metadata": {},
   "outputs": [],
   "source": [
    "len(stock), len(idx_c0[0]) + len(idx_c1[0]) + len(idx_c2[0])"
   ]
  },
  {
   "cell_type": "code",
   "execution_count": null,
   "metadata": {},
   "outputs": [],
   "source": [
    "# if we would like to trade only some class\n",
    "\n",
    "profit_c0 = stock['Log Rets']\n",
    "profit_c0"
   ]
  },
  {
   "cell_type": "code",
   "execution_count": null,
   "metadata": {},
   "outputs": [],
   "source": [
    "type(profit_c0)"
   ]
  },
  {
   "cell_type": "code",
   "execution_count": null,
   "metadata": {},
   "outputs": [],
   "source": [
    "profit_c0 = np.array(profit_c0).reshape(-1, 1)\n",
    "profit_c0"
   ]
  },
  {
   "cell_type": "code",
   "execution_count": null,
   "metadata": {},
   "outputs": [],
   "source": [
    "profit_c0[idx_c1, 0] = 0\n",
    "profit_c0[idx_c2, 0] = 0\n",
    "profit_c0"
   ]
  },
  {
   "cell_type": "code",
   "execution_count": null,
   "metadata": {},
   "outputs": [],
   "source": [
    "plt.plot(profit_c0.cumsum())\n",
    "plt.title('Cluster 0 Profit')"
   ]
  },
  {
   "cell_type": "code",
   "execution_count": null,
   "metadata": {},
   "outputs": [],
   "source": [
    "profit_c1 = np.array(stock['Log Rets']).reshape(-1, 1)\n",
    "profit_c1"
   ]
  },
  {
   "cell_type": "code",
   "execution_count": null,
   "metadata": {},
   "outputs": [],
   "source": [
    "profit_c1[idx_c0, 0] = 0\n",
    "profit_c1[idx_c2, 0] = 0\n",
    "profit_c1"
   ]
  },
  {
   "cell_type": "code",
   "execution_count": null,
   "metadata": {},
   "outputs": [],
   "source": [
    "plt.plot(profit_c1.cumsum())\n",
    "plt.title('Cluster 1 Profit')"
   ]
  },
  {
   "cell_type": "code",
   "execution_count": null,
   "metadata": {},
   "outputs": [],
   "source": [
    "profit_c2 = np.array(stock['Log Rets']).reshape(-1, 1)\n",
    "profit_c2"
   ]
  },
  {
   "cell_type": "code",
   "execution_count": null,
   "metadata": {},
   "outputs": [],
   "source": [
    "profit_c2[idx_c0, 0] = 0\n",
    "profit_c2[idx_c1, 0] = 0\n",
    "profit_c2"
   ]
  },
  {
   "cell_type": "code",
   "execution_count": null,
   "metadata": {},
   "outputs": [],
   "source": [
    "plt.plot(profit_c2.cumsum())\n",
    "plt.title('Cluster 2 Profit')"
   ]
  },
  {
   "cell_type": "markdown",
   "metadata": {},
   "source": [
    "*** Require to select the correct class and time before trade\n",
    "- What we require to do more\n",
    "    - Lock ahead bias\n",
    "    - In sample & Out sample"
   ]
  },
  {
   "cell_type": "code",
   "execution_count": null,
   "metadata": {},
   "outputs": [],
   "source": [
    "stock.head()"
   ]
  },
  {
   "cell_type": "code",
   "execution_count": null,
   "metadata": {},
   "outputs": [],
   "source": [
    "stock.head(10)"
   ]
  },
  {
   "cell_type": "code",
   "execution_count": null,
   "metadata": {},
   "outputs": [],
   "source": []
  }
 ],
 "metadata": {
  "kernelspec": {
   "display_name": "conda_env",
   "language": "python",
   "name": "python3"
  },
  "language_info": {
   "codemirror_mode": {
    "name": "ipython",
    "version": 3
   },
   "file_extension": ".py",
   "mimetype": "text/x-python",
   "name": "python",
   "nbconvert_exporter": "python",
   "pygments_lexer": "ipython3",
   "version": "3.9.15"
  }
 },
 "nbformat": 4,
 "nbformat_minor": 2
}
