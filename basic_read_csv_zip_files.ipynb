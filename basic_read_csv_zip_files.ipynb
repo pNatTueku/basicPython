{
 "cells": [
  {
   "cell_type": "code",
   "execution_count": 29,
   "metadata": {},
   "outputs": [],
   "source": [
    "# import libraries\n",
    "\n",
    "import os\n",
    "import pandas as pd\n",
    "import numpy as np"
   ]
  },
  {
   "cell_type": "code",
   "execution_count": 30,
   "metadata": {},
   "outputs": [],
   "source": [
    "# source and destination directory of csv files\n",
    "\n",
    "src_dir = r'multiple_zip_files/'\n",
    "\n",
    "des_dir = r'Result/'\n"
   ]
  },
  {
   "cell_type": "code",
   "execution_count": 31,
   "metadata": {},
   "outputs": [],
   "source": [
    "# create a function to concate columns to be timestamp, select columns, and convert data type \n",
    "\n",
    "def summary_data(df):\n",
    "\n",
    "    df.loc[:, 'timestamp'] = df['YYYY'].str.cat(df[['MM', \"DD\"]].astype(str), sep = \"-\")\n",
    "    df.loc[:, 'timestamp'] = df['timestamp'].str.cat(df['hh'].astype(str), sep = \" \")\n",
    "    df.loc[:, 'timestamp'] = df['timestamp'].str.cat(df[['mm', \"ss\"]].astype(str), sep = \":\")\n",
    "\n",
    "    used_col = ['TesterID', 'unique_key', 'timestamp', 'YYYY', 'MM', 'DD', 'hh', 'mm', 'ss', 'AmpsCells', 'ccc_type', 'ccc_sn']\n",
    "\n",
    "    ok_df = df[used_col]\n",
    "\n",
    "    num_cols = ['AmpsCells']\n",
    "\n",
    "    ok_df[num_cols] = ok_df[num_cols].apply(pd.to_numeric, errors = 'coerce')\n",
    "\n",
    "    return ok_df"
   ]
  },
  {
   "cell_type": "code",
   "execution_count": 32,
   "metadata": {},
   "outputs": [
    {
     "data": {
      "text/plain": [
       "['/Users/pnatzz/basicPython/multiple_zip_files/AB013005_20230601_182410_PRO01_AB123463_none_AB123464_414X12.csv.zip',\n",
       " '/Users/pnatzz/basicPython/multiple_zip_files/AB012401_20230601_182004_PRO01_AB123460_none_AB123461_414X11.csv.zip',\n",
       " '/Users/pnatzz/basicPython/multiple_zip_files/AB012002_20230601_180308_PRO01_AB123458_none_AB123459_414X10.csv.zip']"
      ]
     },
     "execution_count": 32,
     "metadata": {},
     "output_type": "execute_result"
    }
   ],
   "source": [
    "# file list\n",
    "\n",
    "files_list = []\n",
    "\n",
    "for path_dir, _, filenames in os.walk(src_dir):\n",
    "\n",
    "    for f in filenames:\n",
    "        files_list.append(os.path.abspath(os.path.join(path_dir, f)))\n",
    "        \n",
    "files_list"
   ]
  },
  {
   "cell_type": "code",
   "execution_count": 33,
   "metadata": {},
   "outputs": [],
   "source": [
    "all_df = pd.DataFrame()\n"
   ]
  },
  {
   "cell_type": "code",
   "execution_count": 34,
   "metadata": {},
   "outputs": [
    {
     "name": "stdout",
     "output_type": "stream",
     "text": [
      "/Users/pnatzz/basicPython/multiple_zip_files/AB013005_20230601_182410_PRO01_AB123463_none_AB123464_414X12.csv.zip\n",
      "/Users/pnatzz/basicPython/multiple_zip_files/AB012401_20230601_182004_PRO01_AB123460_none_AB123461_414X11.csv.zip\n",
      "/Users/pnatzz/basicPython/multiple_zip_files/AB012002_20230601_180308_PRO01_AB123458_none_AB123459_414X10.csv.zip\n"
     ]
    }
   ],
   "source": [
    "for file in range(len(files_list)):\n",
    "\n",
    "    print(files_list[file])"
   ]
  },
  {
   "cell_type": "code",
   "execution_count": 35,
   "metadata": {},
   "outputs": [
    {
     "data": {
      "text/plain": [
       "'/Users/pnatzz/basicPython/multiple_zip_files/AB013005_20230601_182410_PRO01_AB123463_none_AB123464_414X12.csv.zip'"
      ]
     },
     "execution_count": 35,
     "metadata": {},
     "output_type": "execute_result"
    }
   ],
   "source": [
    "files_list[0]"
   ]
  },
  {
   "cell_type": "code",
   "execution_count": 36,
   "metadata": {},
   "outputs": [
    {
     "data": {
      "text/plain": [
       "'/Users/pnatzz/basicPython/multiple_zip_files/AB012002_20230601_180308_PRO01_AB123458_none_AB123459_414X10.csv.zip'"
      ]
     },
     "execution_count": 36,
     "metadata": {},
     "output_type": "execute_result"
    }
   ],
   "source": [
    "files_list[2]"
   ]
  },
  {
   "cell_type": "code",
   "execution_count": null,
   "metadata": {},
   "outputs": [],
   "source": []
  },
  {
   "cell_type": "code",
   "execution_count": null,
   "metadata": {},
   "outputs": [],
   "source": [
    "xya"
   ]
  },
  {
   "cell_type": "code",
   "execution_count": null,
   "metadata": {},
   "outputs": [],
   "source": [
    "for i in range(len(files_list)):\n",
    "\n",
    "    temp_df = pd.read_csv(files_list[i], dtype = str, index_col = None)\n",
    "    filename = os.path.basename(files_list[i]) # get filename AB012002_20230601_180308_PRO01_AB123458_none_AB123459_414X10.csv.zip\n",
    "    temp_df.loc[:, 'unique_key'] = filename[:-8] # get filename AB012002_20230601_180308_PRO01_AB123458_none_AB123459_414X10 as a unique key\n",
    "    temp_df.loc[:, 'ccc_sn'] = filename[-14:-8]\n",
    "    \n",
    "    all_df = temp_df[0:]\n",
    "\n",
    "all_df"
   ]
  },
  {
   "cell_type": "code",
   "execution_count": null,
   "metadata": {},
   "outputs": [],
   "source": []
  }
 ],
 "metadata": {
  "kernelspec": {
   "display_name": "conda_env",
   "language": "python",
   "name": "python3"
  },
  "language_info": {
   "codemirror_mode": {
    "name": "ipython",
    "version": 3
   },
   "file_extension": ".py",
   "mimetype": "text/x-python",
   "name": "python",
   "nbconvert_exporter": "python",
   "pygments_lexer": "ipython3",
   "version": "3.9.15"
  }
 },
 "nbformat": 4,
 "nbformat_minor": 2
}
