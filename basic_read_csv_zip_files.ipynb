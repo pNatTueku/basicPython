{
 "cells": [
  {
   "cell_type": "code",
   "execution_count": 1,
   "metadata": {},
   "outputs": [],
   "source": [
    "# import libraries\n",
    "\n",
    "import os\n",
    "import pandas as csv\n",
    "import numpy as np"
   ]
  },
  {
   "cell_type": "code",
   "execution_count": 2,
   "metadata": {},
   "outputs": [],
   "source": [
    "# source and destination directory of csv files\n",
    "\n",
    "src_dir = r'multiple_csv_zip_files/'\n",
    "\n",
    "des_dir = r'multiple_csv_zip_files/result/'\n"
   ]
  },
  {
   "cell_type": "code",
   "execution_count": 3,
   "metadata": {},
   "outputs": [
    {
     "data": {
      "text/plain": [
       "['/Users/pnatzz/basicPython/multiple_csv_zip_files/.DS_Store',\n",
       " '/Users/pnatzz/basicPython/multiple_csv_zip_files/AB013005_20230601_182410_PRO01_AB123463_none_AB123464_414X12.csv.zip',\n",
       " '/Users/pnatzz/basicPython/multiple_csv_zip_files/AB012401_20230601_182004_PRO01_AB123460_none_AB123461_414X11.csv.zip',\n",
       " '/Users/pnatzz/basicPython/multiple_csv_zip_files/AB012002_20230601_180308_PRO01_AB123458_none_AB123459_414X10.csv.zip']"
      ]
     },
     "execution_count": 3,
     "metadata": {},
     "output_type": "execute_result"
    }
   ],
   "source": [
    "# file list\n",
    "\n",
    "files_list = []\n",
    "\n",
    "for path_dir, _, filenames in os.walk(src_dir):\n",
    "\n",
    "    for f in filenames:\n",
    "        files_list.append(os.path.abspath(os.path.join(path_dir, f)))\n",
    "        \n",
    "files_list"
   ]
  },
  {
   "cell_type": "code",
   "execution_count": null,
   "metadata": {},
   "outputs": [],
   "source": []
  }
 ],
 "metadata": {
  "kernelspec": {
   "display_name": "conda_env",
   "language": "python",
   "name": "python3"
  },
  "language_info": {
   "codemirror_mode": {
    "name": "ipython",
    "version": 3
   },
   "file_extension": ".py",
   "mimetype": "text/x-python",
   "name": "python",
   "nbconvert_exporter": "python",
   "pygments_lexer": "ipython3",
   "version": "3.9.15"
  }
 },
 "nbformat": 4,
 "nbformat_minor": 2
}
