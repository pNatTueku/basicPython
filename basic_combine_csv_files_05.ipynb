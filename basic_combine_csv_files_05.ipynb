{
 "cells": [
  {
   "cell_type": "code",
   "execution_count": 12,
   "metadata": {},
   "outputs": [],
   "source": [
    "import glob\n",
    "import csv\n",
    "import pandas as pd"
   ]
  },
  {
   "cell_type": "code",
   "execution_count": 13,
   "metadata": {},
   "outputs": [
    {
     "data": {
      "text/plain": [
       "['multiple_csv/AB012401_20230601_182004_PRO01_AB123460_none_AB123461_414X11.csv',\n",
       " 'multiple_csv/AB012002_20230601_180308_PRO01_AB123458_none_AB123459_414X10.csv',\n",
       " 'multiple_csv/AB013005_20230601_182410_PRO01_AB123463_none_AB123464_414X12.csv']"
      ]
     },
     "execution_count": 13,
     "metadata": {},
     "output_type": "execute_result"
    }
   ],
   "source": [
    "# multi_files = glob.glob(\"files_to_process/*.csv\")\n",
    "multi_files = glob.glob(\"multiple_csv/*.csv\")\n",
    "multi_files"
   ]
  },
  {
   "cell_type": "code",
   "execution_count": 14,
   "metadata": {},
   "outputs": [
    {
     "data": {
      "text/plain": [
       "False"
      ]
     },
     "execution_count": 14,
     "metadata": {},
     "output_type": "execute_result"
    }
   ],
   "source": [
    "header_saved = False\n",
    "header_saved"
   ]
  },
  {
   "cell_type": "code",
   "execution_count": 15,
   "metadata": {},
   "outputs": [],
   "source": [
    "with open('combine_files_output.csv', 'w') as fout:\n",
    "\n",
    "    writer = csv.writer(fout)\n",
    "\n",
    "    for filename in multi_files:\n",
    "        with open(filename) as fin:\n",
    "            header = next(fin)\n",
    "\n",
    "            if not header_saved:\n",
    "                writer.writerow(header) \n",
    "                header_saved = True\n",
    "            writer.writerow(fin.readlines())"
   ]
  },
  {
   "cell_type": "code",
   "execution_count": null,
   "metadata": {},
   "outputs": [],
   "source": []
  }
 ],
 "metadata": {
  "kernelspec": {
   "display_name": "conda_env",
   "language": "python",
   "name": "python3"
  },
  "language_info": {
   "codemirror_mode": {
    "name": "ipython",
    "version": 3
   },
   "file_extension": ".py",
   "mimetype": "text/x-python",
   "name": "python",
   "nbconvert_exporter": "python",
   "pygments_lexer": "ipython3",
   "version": "3.9.15"
  }
 },
 "nbformat": 4,
 "nbformat_minor": 2
}
