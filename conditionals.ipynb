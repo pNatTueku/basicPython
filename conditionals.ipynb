{
 "cells": [
  {
   "cell_type": "code",
   "execution_count": 1,
   "metadata": {},
   "outputs": [],
   "source": [
    "a = 13"
   ]
  },
  {
   "cell_type": "code",
   "execution_count": 2,
   "metadata": {},
   "outputs": [
    {
     "name": "stdout",
     "output_type": "stream",
     "text": [
      "a > 10\n"
     ]
    }
   ],
   "source": [
    "if a < 10:\n",
    "    print('a < 10')\n",
    "else:\n",
    "    print('a > 10')"
   ]
  },
  {
   "cell_type": "code",
   "execution_count": 3,
   "metadata": {},
   "outputs": [
    {
     "name": "stdout",
     "output_type": "stream",
     "text": [
      "10 <= a < 15\n"
     ]
    }
   ],
   "source": [
    "if a < 10:\n",
    "    print('a < 10')\n",
    "else:\n",
    "    if a < 15:\n",
    "        print('10 <= a < 15')\n",
    "    else:\n",
    "        print('a > 15')"
   ]
  },
  {
   "cell_type": "code",
   "execution_count": 6,
   "metadata": {},
   "outputs": [
    {
     "name": "stdout",
     "output_type": "stream",
     "text": [
      "a >= 10\n"
     ]
    }
   ],
   "source": [
    "if a < 10:\n",
    "    print('a < 10')\n",
    "elif a < 5:\n",
    "    print('5 <= a <10')\n",
    "else:\n",
    "    print('a >= 10')"
   ]
  },
  {
   "cell_type": "code",
   "execution_count": 7,
   "metadata": {},
   "outputs": [
    {
     "name": "stdout",
     "output_type": "stream",
     "text": [
      "a < 20\n"
     ]
    }
   ],
   "source": [
    "# X if (condition is TRUE) else Y\n",
    "\n",
    "a = 10\n",
    "\n",
    "b = 'a < 20' if a < 20 else 'a > 20'\n",
    "print(b)"
   ]
  },
  {
   "cell_type": "code",
   "execution_count": null,
   "metadata": {},
   "outputs": [],
   "source": [
    "\n",
    "\n"
   ]
  }
 ],
 "metadata": {
  "kernelspec": {
   "display_name": "Python 3",
   "language": "python",
   "name": "python3"
  },
  "language_info": {
   "codemirror_mode": {
    "name": "ipython",
    "version": 3
   },
   "file_extension": ".py",
   "mimetype": "text/x-python",
   "name": "python",
   "nbconvert_exporter": "python",
   "pygments_lexer": "ipython3",
   "version": "3.11.1 (main, Dec 24 2022, 22:46:17) [Clang 14.0.0 (clang-1400.0.29.202)]"
  },
  "orig_nbformat": 4,
  "vscode": {
   "interpreter": {
    "hash": "87a1d552f91eeb558c0ccd448f410e247f4277ae8c89a1716b4b50ef0e37ae74"
   }
  }
 },
 "nbformat": 4,
 "nbformat_minor": 2
}
