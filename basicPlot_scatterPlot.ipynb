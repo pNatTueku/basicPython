{
 "cells": [
  {
   "cell_type": "code",
   "execution_count": 10,
   "metadata": {},
   "outputs": [],
   "source": [
    "# import library\n",
    "import numpy as np\n",
    "import plotly.graph_objs as pgo\n",
    "import plotly.offline as plo\n"
   ]
  },
  {
   "cell_type": "code",
   "execution_count": 11,
   "metadata": {},
   "outputs": [],
   "source": [
    "# set random seed to get the same random data each time\n",
    "np.random.seed(42)"
   ]
  },
  {
   "cell_type": "code",
   "execution_count": 12,
   "metadata": {},
   "outputs": [
    {
     "data": {
      "text/plain": [
       "array([ 52,  93,  15,  72,  61,  21,  83,  87,  75,  75,  88, 100,  24,\n",
       "         3,  22,  53,   2,  88,  30,  38,   2,  64,  60,  21,  33,  76,\n",
       "        58,  22,  89,  49,  91,  59,  42,  92,  60,  80,  15,  62,  62,\n",
       "        47,  62,  51,  55,  64,   3,  51,   7,  21,  73,  39,  18,   4,\n",
       "        89,  60,  14,   9,  90,  53,   2,  84,  92,  60,  71,  44,   8,\n",
       "        47,  35,  78,  81,  36,  50,   4,   2,   6,  54,   4,  54,  93,\n",
       "        63,  18,  90,  44,  34,  74,  62, 100,  14,  95,  48,  15,  72,\n",
       "        78,  87,  62,  40,  85,  80,  82,  53,  24])"
      ]
     },
     "execution_count": 12,
     "metadata": {},
     "output_type": "execute_result"
    }
   ],
   "source": [
    "# create random data\n",
    "randX = np.random.randint(1, 101, 100)\n",
    "randX"
   ]
  },
  {
   "cell_type": "code",
   "execution_count": 13,
   "metadata": {},
   "outputs": [
    {
     "data": {
      "text/plain": [
       "array([26, 89, 60, 41, 29, 15, 45, 65, 89, 71,  9, 88,  1,  8, 88, 63, 11,\n",
       "       81,  8, 35, 35, 33,  5, 41, 28,  7, 73, 72, 12, 34, 33, 48, 23, 62,\n",
       "       88, 37, 99, 44, 86, 91, 35, 65, 99, 47, 78,  3,  1,  5, 90, 14, 27,\n",
       "        9, 79, 15, 90, 42, 77, 51, 63, 96, 52, 96,  4, 94, 23, 15, 43, 29,\n",
       "       36, 13, 32, 71, 59, 86, 28, 66, 42, 45, 62, 57,  6, 28, 28, 44, 84,\n",
       "       30, 62, 75, 92, 89, 62, 97,  1, 27, 62, 77,  3, 70, 72, 27])"
      ]
     },
     "execution_count": 13,
     "metadata": {},
     "output_type": "execute_result"
    }
   ],
   "source": [
    "randY = np.random.randint(1, 101, 100)\n",
    "randY"
   ]
  },
  {
   "cell_type": "code",
   "execution_count": 14,
   "metadata": {},
   "outputs": [],
   "source": [
    "# create data\n",
    "data = [pgo.Scatter(x = randX, y = randY, mode = 'markers', marker = dict(size = 12,\n",
    "        color = 'rgb(51, 204, 153)', symbol = 'pentagon', line = {'width': 2}))]"
   ]
  },
  {
   "cell_type": "code",
   "execution_count": 15,
   "metadata": {},
   "outputs": [],
   "source": [
    "# create layout\n",
    "layout = pgo.Layout(title = 'Hello First Plot',\n",
    "                    xaxis = {'title': 'MY X AXIS'}, # we can use script like this row using {} or next row calling dict() to set the axis, they are same\n",
    "                    yaxis = dict(title = 'MY Y AXIS'),\n",
    "                    hovermode = 'closest') # it's going to allow us to handle multiple point, landing on the same virtical"
   ]
  },
  {
   "cell_type": "code",
   "execution_count": 16,
   "metadata": {},
   "outputs": [],
   "source": [
    "# pass in data\n",
    "figure = pgo.Figure(data = data, layout = layout)"
   ]
  },
  {
   "cell_type": "code",
   "execution_count": 17,
   "metadata": {},
   "outputs": [
    {
     "data": {
      "text/plain": [
       "'scatterPlot.html'"
      ]
     },
     "execution_count": 17,
     "metadata": {},
     "output_type": "execute_result"
    }
   ],
   "source": [
    "# plot\n",
    "plo.plot(figure, filename= 'scatterPlot.html')"
   ]
  }
 ],
 "metadata": {
  "kernelspec": {
   "display_name": "Python 3",
   "language": "python",
   "name": "python3"
  },
  "language_info": {
   "codemirror_mode": {
    "name": "ipython",
    "version": 3
   },
   "file_extension": ".py",
   "mimetype": "text/x-python",
   "name": "python",
   "nbconvert_exporter": "python",
   "pygments_lexer": "ipython3",
   "version": "3.11.1 (main, Dec 24 2022, 22:46:17) [Clang 14.0.0 (clang-1400.0.29.202)]"
  },
  "orig_nbformat": 4,
  "vscode": {
   "interpreter": {
    "hash": "87a1d552f91eeb558c0ccd448f410e247f4277ae8c89a1716b4b50ef0e37ae74"
   }
  }
 },
 "nbformat": 4,
 "nbformat_minor": 2
}
