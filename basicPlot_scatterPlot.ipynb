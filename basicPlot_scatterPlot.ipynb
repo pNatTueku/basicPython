{
 "cells": [
  {
   "cell_type": "code",
   "execution_count": 1,
   "metadata": {},
   "outputs": [],
   "source": [
    "# import library\n",
    "import numpy as np\n",
    "import plotly.graph_objs as pgo\n",
    "import plotly.offline as plo\n"
   ]
  },
  {
   "cell_type": "code",
   "execution_count": 2,
   "metadata": {},
   "outputs": [],
   "source": [
    "# set random seed to get the same random data each time\n",
    "np.random.seed(42)"
   ]
  },
  {
   "cell_type": "code",
   "execution_count": 3,
   "metadata": {},
   "outputs": [
    {
     "data": {
      "text/plain": [
       "array([ 52,  93,  15,  72,  61,  21,  83,  87,  75,  75,  88, 100,  24,\n",
       "         3,  22,  53,   2,  88,  30,  38,   2,  64,  60,  21,  33,  76,\n",
       "        58,  22,  89,  49,  91,  59,  42,  92,  60,  80,  15,  62,  62,\n",
       "        47,  62,  51,  55,  64,   3,  51,   7,  21,  73,  39,  18,   4,\n",
       "        89,  60,  14,   9,  90,  53,   2,  84,  92,  60,  71,  44,   8,\n",
       "        47,  35,  78,  81,  36,  50,   4,   2,   6,  54,   4,  54,  93,\n",
       "        63,  18,  90,  44,  34,  74,  62, 100,  14,  95,  48,  15,  72,\n",
       "        78,  87,  62,  40,  85,  80,  82,  53,  24])"
      ]
     },
     "execution_count": 3,
     "metadata": {},
     "output_type": "execute_result"
    }
   ],
   "source": [
    "# create random data\n",
    "randX = np.random.randint(1, 101, 100)\n",
    "randX"
   ]
  },
  {
   "cell_type": "code",
   "execution_count": 5,
   "metadata": {},
   "outputs": [
    {
     "data": {
      "text/plain": [
       "array([ 9, 62, 37, 97, 51, 44, 24, 79, 59, 32, 96, 88, 52, 62, 58, 52, 12,\n",
       "       39,  2,  3, 56, 81, 59,  2,  2, 92, 54, 87, 96, 97,  1, 19,  2, 53,\n",
       "       44, 90, 32, 70, 32, 68, 55, 75, 56, 17, 38, 24, 69, 98, 70, 86, 11,\n",
       "       16, 97, 73, 59, 70, 80, 93,  3, 20, 59, 36, 19, 90, 67, 19, 20, 96,\n",
       "       71, 52, 33, 40, 39, 82,  1, 11, 92, 57, 89, 50, 23, 31, 94, 42, 99,\n",
       "        7, 16, 90, 60,  2,  1, 48, 12, 69, 37, 32,  9, 99, 19, 48])"
      ]
     },
     "execution_count": 5,
     "metadata": {},
     "output_type": "execute_result"
    }
   ],
   "source": [
    "randY = np.random.randint(1, 101, 100)\n",
    "randY"
   ]
  },
  {
   "cell_type": "code",
   "execution_count": 6,
   "metadata": {},
   "outputs": [],
   "source": [
    "# create data\n",
    "data = [pgo.Scatter(x = randX, y = randY, mode = 'markers', marker = dict(size = 12,\n",
    "        color = 'rgb(51, 204, 153)', symbol = 'pentagon', line = {'width': 2}))]"
   ]
  },
  {
   "cell_type": "code",
   "execution_count": 7,
   "metadata": {},
   "outputs": [],
   "source": [
    "# create layout\n",
    "layout = pgo.Layout(title = 'Hello First Plot',\n",
    "                    xaxis = {'title': 'MY X AXIS'}, # we can use script like this row using {} or next row calling dict() to set the axis, they are same\n",
    "                    yaxis = dict(title = 'MY Y AXIS'),\n",
    "                    hovermode = 'closest') # it's going to allow us to handle multiple point, landing on the same virtical"
   ]
  },
  {
   "cell_type": "code",
   "execution_count": 8,
   "metadata": {},
   "outputs": [],
   "source": [
    "# pass in data\n",
    "figure = pgo.Figure(data = data, layout = layout)"
   ]
  },
  {
   "cell_type": "code",
   "execution_count": 9,
   "metadata": {},
   "outputs": [
    {
     "data": {
      "text/plain": [
       "'scatterplot3.html'"
      ]
     },
     "execution_count": 9,
     "metadata": {},
     "output_type": "execute_result"
    }
   ],
   "source": [
    "# plot\n",
    "plo.plot(figure, filename= 'scatterPlot.html')"
   ]
  }
 ],
 "metadata": {
  "kernelspec": {
   "display_name": "Python 3",
   "language": "python",
   "name": "python3"
  },
  "language_info": {
   "codemirror_mode": {
    "name": "ipython",
    "version": 3
   },
   "file_extension": ".py",
   "mimetype": "text/x-python",
   "name": "python",
   "nbconvert_exporter": "python",
   "pygments_lexer": "ipython3",
   "version": "3.11.1"
  },
  "orig_nbformat": 4,
  "vscode": {
   "interpreter": {
    "hash": "87a1d552f91eeb558c0ccd448f410e247f4277ae8c89a1716b4b50ef0e37ae74"
   }
  }
 },
 "nbformat": 4,
 "nbformat_minor": 2
}
