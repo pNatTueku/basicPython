{
 "cells": [
  {
   "cell_type": "markdown",
   "metadata": {},
   "source": [
    "### OOP: Object-Oriented Programming\n",
    "\n",
    "- helps to organize our code by grouping related data and functions into classes and objects\n",
    "- can create blueprints (classes) for objects that represent real-world things, and then create multiple instances of those objects\n",
    "- ex. like a car, a person\n",
    "- There are 6 important concepts here:\n",
    "    - Object: It can be defined using 2 things\n",
    "        - Properies: describe an object\n",
    "        - Bahavior: finction that an object can perform\n",
    "    - Class: It is a blueprint for creating objects. \n",
    "        - It defines properties and function (method) which will be common to all object created from the class\n",
    "    - Inheritance\n",
    "    - Encapulation\n",
    "    - Abstraction\n",
    "    - Polymorphism"
   ]
  },
  {
   "cell_type": "code",
   "execution_count": 12,
   "metadata": {},
   "outputs": [],
   "source": [
    "'''\n",
    "Object: Car\n",
    "    - Properies: brand, model, color, and etc\n",
    "    - Bahavior: braking, turning, accelerating, and etc\n",
    "'''\n",
    "\n",
    "# let's define a Car class and create it's instance/object\n",
    "\n",
    "class Car:\n",
    "\n",
    "    def __init__(self, brand, model, year):\n",
    "\n",
    "        # create the properties for all cars\n",
    "        self.brand = brand\n",
    "        self.model = model\n",
    "        self.year = year\n",
    "\n",
    "    # create cars behavior \n",
    "    def breaking(self):\n",
    "        print('Breaking!')"
   ]
  },
  {
   "cell_type": "code",
   "execution_count": 13,
   "metadata": {},
   "outputs": [
    {
     "data": {
      "text/plain": [
       "<__main__.Car at 0x1077534f0>"
      ]
     },
     "execution_count": 13,
     "metadata": {},
     "output_type": "execute_result"
    }
   ],
   "source": [
    "# create an instance/object of class Car\n",
    "\n",
    "my_car = Car(\"Toyota\", \"Sienta\", 2017) \n",
    "my_car"
   ]
  },
  {
   "cell_type": "code",
   "execution_count": 14,
   "metadata": {},
   "outputs": [
    {
     "data": {
      "text/plain": [
       "'Sienta'"
      ]
     },
     "execution_count": 14,
     "metadata": {},
     "output_type": "execute_result"
    }
   ],
   "source": [
    "my_car.model"
   ]
  },
  {
   "cell_type": "code",
   "execution_count": 15,
   "metadata": {},
   "outputs": [
    {
     "data": {
      "text/plain": [
       "2017"
      ]
     },
     "execution_count": 15,
     "metadata": {},
     "output_type": "execute_result"
    }
   ],
   "source": [
    "my_car.year"
   ]
  },
  {
   "cell_type": "code",
   "execution_count": 16,
   "metadata": {},
   "outputs": [
    {
     "data": {
      "text/plain": [
       "__main__.Car"
      ]
     },
     "execution_count": 16,
     "metadata": {},
     "output_type": "execute_result"
    }
   ],
   "source": [
    "type(my_car)"
   ]
  },
  {
   "cell_type": "code",
   "execution_count": 17,
   "metadata": {},
   "outputs": [
    {
     "data": {
      "text/plain": [
       "str"
      ]
     },
     "execution_count": 17,
     "metadata": {},
     "output_type": "execute_result"
    }
   ],
   "source": [
    "type(my_car.model)"
   ]
  },
  {
   "cell_type": "code",
   "execution_count": 18,
   "metadata": {},
   "outputs": [
    {
     "data": {
      "text/plain": [
       "int"
      ]
     },
     "execution_count": 18,
     "metadata": {},
     "output_type": "execute_result"
    }
   ],
   "source": [
    "type(my_car.year)"
   ]
  },
  {
   "cell_type": "code",
   "execution_count": 19,
   "metadata": {},
   "outputs": [],
   "source": [
    "# create multiple instances/obhjects of class Car\n",
    "\n",
    "my_car2 = Car(brand = 'Honda', model = 'Jazz', year = 2007)\n",
    "my_car3 = Car(brand = 'Mitsubishi', model = 'Tritan', year = 2000)"
   ]
  },
  {
   "cell_type": "code",
   "execution_count": 20,
   "metadata": {},
   "outputs": [
    {
     "data": {
      "text/plain": [
       "('Sienta', 'Jazz', 'Tritan')"
      ]
     },
     "execution_count": 20,
     "metadata": {},
     "output_type": "execute_result"
    }
   ],
   "source": [
    "my_car.model, my_car2.model, my_car3.model"
   ]
  },
  {
   "cell_type": "code",
   "execution_count": 21,
   "metadata": {},
   "outputs": [
    {
     "name": "stdout",
     "output_type": "stream",
     "text": [
      "Breaking!\n"
     ]
    }
   ],
   "source": [
    "my_car.breaking()"
   ]
  },
  {
   "cell_type": "code",
   "execution_count": null,
   "metadata": {},
   "outputs": [],
   "source": []
  }
 ],
 "metadata": {
  "kernelspec": {
   "display_name": "conda_env",
   "language": "python",
   "name": "python3"
  },
  "language_info": {
   "codemirror_mode": {
    "name": "ipython",
    "version": 3
   },
   "file_extension": ".py",
   "mimetype": "text/x-python",
   "name": "python",
   "nbconvert_exporter": "python",
   "pygments_lexer": "ipython3",
   "version": "3.9.15"
  }
 },
 "nbformat": 4,
 "nbformat_minor": 2
}
