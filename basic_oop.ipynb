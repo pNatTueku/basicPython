{
 "cells": [
  {
   "cell_type": "markdown",
   "metadata": {},
   "source": [
    "### OOP: Object-Oriented Programming\n",
    "\n",
    "- helps to organize our code by grouping related data and functions into classes and objects\n",
    "- can create blueprints (classes) for objects that represent real-world things, and then create multiple instances of those objects\n",
    "- ex. like a car, a person\n",
    "- There are 6 important concepts here:\n",
    "    - Object: It can be defined using 2 things\n",
    "        - Properies: describe an object\n",
    "        - Bahavior: finction that an object can perform\n",
    "    - Class: It is a blueprint for creating objects. \n",
    "        - It defines properties and function (method) which will be common to all object created from the class\n",
    "    - Inheritance: It helps us to inherit all properties/methods of parent class \n",
    "        - We can add new ones or overide existing\n",
    "    - Encapsulation: Private attributes/methods (with a '_' or '__' prefix) are used to achive this encapsulation. \n",
    "        - It helps to bundle data and methods inside a class\n",
    "        - It helps to restrict direct access to certain attributes and methods\n",
    "    - Abstraction\n",
    "    - Polymorphism"
   ]
  },
  {
   "cell_type": "code",
   "execution_count": 12,
   "metadata": {},
   "outputs": [],
   "source": [
    "'''\n",
    "Object: Car\n",
    "    - Properies: brand, model, color, and etc\n",
    "    - Bahavior: braking, turning, accelerating, and etc\n",
    "'''\n",
    "\n",
    "# let's define a Car class and create it's instance/object\n",
    "\n",
    "class Car:\n",
    "\n",
    "    def __init__(self, brand, model, year):\n",
    "\n",
    "        # create the properties for all cars\n",
    "        self.brand = brand\n",
    "        self.model = model\n",
    "        self.year = year\n",
    "\n",
    "    # create cars behavior \n",
    "    def breaking(self):\n",
    "        print('Breaking!')"
   ]
  },
  {
   "cell_type": "code",
   "execution_count": 13,
   "metadata": {},
   "outputs": [
    {
     "data": {
      "text/plain": [
       "<__main__.Car at 0x1077534f0>"
      ]
     },
     "execution_count": 13,
     "metadata": {},
     "output_type": "execute_result"
    }
   ],
   "source": [
    "# create an instance/object of class Car\n",
    "\n",
    "my_car = Car(\"Toyota\", \"Sienta\", 2017) \n",
    "my_car"
   ]
  },
  {
   "cell_type": "code",
   "execution_count": 14,
   "metadata": {},
   "outputs": [
    {
     "data": {
      "text/plain": [
       "'Sienta'"
      ]
     },
     "execution_count": 14,
     "metadata": {},
     "output_type": "execute_result"
    }
   ],
   "source": [
    "my_car.model"
   ]
  },
  {
   "cell_type": "code",
   "execution_count": 15,
   "metadata": {},
   "outputs": [
    {
     "data": {
      "text/plain": [
       "2017"
      ]
     },
     "execution_count": 15,
     "metadata": {},
     "output_type": "execute_result"
    }
   ],
   "source": [
    "my_car.year"
   ]
  },
  {
   "cell_type": "code",
   "execution_count": 16,
   "metadata": {},
   "outputs": [
    {
     "data": {
      "text/plain": [
       "__main__.Car"
      ]
     },
     "execution_count": 16,
     "metadata": {},
     "output_type": "execute_result"
    }
   ],
   "source": [
    "type(my_car)"
   ]
  },
  {
   "cell_type": "code",
   "execution_count": 17,
   "metadata": {},
   "outputs": [
    {
     "data": {
      "text/plain": [
       "str"
      ]
     },
     "execution_count": 17,
     "metadata": {},
     "output_type": "execute_result"
    }
   ],
   "source": [
    "type(my_car.model)"
   ]
  },
  {
   "cell_type": "code",
   "execution_count": 18,
   "metadata": {},
   "outputs": [
    {
     "data": {
      "text/plain": [
       "int"
      ]
     },
     "execution_count": 18,
     "metadata": {},
     "output_type": "execute_result"
    }
   ],
   "source": [
    "type(my_car.year)"
   ]
  },
  {
   "cell_type": "code",
   "execution_count": 19,
   "metadata": {},
   "outputs": [],
   "source": [
    "# create multiple instances/obhjects of class Car\n",
    "\n",
    "my_car2 = Car(brand = 'Honda', model = 'Jazz', year = 2007)\n",
    "my_car3 = Car(brand = 'Mitsubishi', model = 'Tritan', year = 2000)"
   ]
  },
  {
   "cell_type": "code",
   "execution_count": 20,
   "metadata": {},
   "outputs": [
    {
     "data": {
      "text/plain": [
       "('Sienta', 'Jazz', 'Tritan')"
      ]
     },
     "execution_count": 20,
     "metadata": {},
     "output_type": "execute_result"
    }
   ],
   "source": [
    "my_car.model, my_car2.model, my_car3.model"
   ]
  },
  {
   "cell_type": "code",
   "execution_count": 21,
   "metadata": {},
   "outputs": [
    {
     "name": "stdout",
     "output_type": "stream",
     "text": [
      "Breaking!\n"
     ]
    }
   ],
   "source": [
    "my_car.breaking()"
   ]
  },
  {
   "cell_type": "code",
   "execution_count": 22,
   "metadata": {},
   "outputs": [],
   "source": [
    "# let's try inheritance\n",
    "\n",
    "class ElectricCar(Car):\n",
    "\n",
    "    def __init__(self, brand, model, year, battery_size):\n",
    "        super().__init__(brand, model, year)\n",
    "        self.batter_size = battery_size\n",
    "\n",
    "    def charge(self):\n",
    "        print(\"It's time to charce the batery!\")"
   ]
  },
  {
   "cell_type": "code",
   "execution_count": 23,
   "metadata": {},
   "outputs": [
    {
     "data": {
      "text/plain": [
       "<__main__.ElectricCar at 0x1077edb50>"
      ]
     },
     "execution_count": 23,
     "metadata": {},
     "output_type": "execute_result"
    }
   ],
   "source": [
    "# create an instance/object of class ElectricCar\n",
    "\n",
    "my_electric_car = ElectricCar(brand = 'BYD', model = \"Seal\", year = 2023, battery_size = \"82.56 kWh\")\n",
    "my_electric_car"
   ]
  },
  {
   "cell_type": "code",
   "execution_count": 24,
   "metadata": {},
   "outputs": [
    {
     "data": {
      "text/plain": [
       "'BYD'"
      ]
     },
     "execution_count": 24,
     "metadata": {},
     "output_type": "execute_result"
    }
   ],
   "source": [
    "my_electric_car.brand"
   ]
  },
  {
   "cell_type": "code",
   "execution_count": 26,
   "metadata": {},
   "outputs": [
    {
     "name": "stdout",
     "output_type": "stream",
     "text": [
      "BYD\n"
     ]
    }
   ],
   "source": [
    "print(my_electric_car.brand)"
   ]
  },
  {
   "cell_type": "code",
   "execution_count": 27,
   "metadata": {},
   "outputs": [
    {
     "data": {
      "text/plain": [
       "type"
      ]
     },
     "execution_count": 27,
     "metadata": {},
     "output_type": "execute_result"
    }
   ],
   "source": [
    "type(ElectricCar)"
   ]
  },
  {
   "cell_type": "code",
   "execution_count": 28,
   "metadata": {},
   "outputs": [
    {
     "data": {
      "text/plain": [
       "type"
      ]
     },
     "execution_count": 28,
     "metadata": {},
     "output_type": "execute_result"
    }
   ],
   "source": [
    "type(Car)"
   ]
  },
  {
   "cell_type": "code",
   "execution_count": 29,
   "metadata": {},
   "outputs": [
    {
     "name": "stdout",
     "output_type": "stream",
     "text": [
      "82.56 kWh\n"
     ]
    }
   ],
   "source": [
    "print(my_electric_car.batter_size)"
   ]
  },
  {
   "cell_type": "code",
   "execution_count": 33,
   "metadata": {},
   "outputs": [
    {
     "name": "stdout",
     "output_type": "stream",
     "text": [
      "Breaking!\n",
      "It's time to charce the batery!\n"
     ]
    }
   ],
   "source": [
    "# It still do breaking and also be charged\n",
    "\n",
    "my_electric_car.breaking()\n",
    "my_electric_car.charge()"
   ]
  },
  {
   "cell_type": "code",
   "execution_count": 34,
   "metadata": {},
   "outputs": [],
   "source": [
    "# Let's work on the Encapsulation\n",
    "\n",
    "class Car: #  define a Car class and create it's instance/object and add Private attributes/methods to this Car class\n",
    "\n",
    "    def __init__(self, brand, model, year):\n",
    "\n",
    "        # create the properties for all cars\n",
    "        self.brand = brand\n",
    "        self.model = model\n",
    "        self.year = year\n",
    "        self.__speed = 0\n",
    "\n",
    "    # create cars behavior \n",
    "    def breaking(self):\n",
    "        print('Breaking!')\n",
    "\n",
    "    # create a method to increase speed\n",
    "    def increase_speed(self, speed):\n",
    "\n",
    "        # call private __accelerate methos to increas speed\n",
    "        self.__accelerate(speed)\n",
    "\n",
    "    # create a function to get speed\n",
    "    def get_speed(self):\n",
    "        return self.__speed\n",
    "    \n",
    "    # create a functon to accelerate the speed\n",
    "    def __accelerate(self, speed):\n",
    "\n",
    "        # need to ensure the speed is not increased beyond a limit\n",
    "        if self.__speed + speed <= 120:\n",
    "            self.__speed += speed\n",
    "\n",
    "        else:\n",
    "            self.__speed = 120"
   ]
  },
  {
   "cell_type": "code",
   "execution_count": 38,
   "metadata": {},
   "outputs": [
    {
     "name": "stdout",
     "output_type": "stream",
     "text": [
      "Honda\n",
      "2017\n"
     ]
    }
   ],
   "source": [
    "my_car = Car(\"Honda\", \"CRV\", 2017)\n",
    "print(my_car.brand)\n",
    "print(my_car.year)"
   ]
  },
  {
   "cell_type": "code",
   "execution_count": 39,
   "metadata": {},
   "outputs": [
    {
     "name": "stdout",
     "output_type": "stream",
     "text": [
      "Breaking!\n"
     ]
    }
   ],
   "source": [
    "my_car.breaking()"
   ]
  },
  {
   "cell_type": "code",
   "execution_count": 40,
   "metadata": {},
   "outputs": [],
   "source": [
    "my_car.increase_speed(70)"
   ]
  },
  {
   "cell_type": "code",
   "execution_count": 41,
   "metadata": {},
   "outputs": [
    {
     "data": {
      "text/plain": [
       "70"
      ]
     },
     "execution_count": 41,
     "metadata": {},
     "output_type": "execute_result"
    }
   ],
   "source": [
    "my_car.get_speed()"
   ]
  },
  {
   "cell_type": "code",
   "execution_count": 42,
   "metadata": {},
   "outputs": [],
   "source": [
    "my_car.increase_speed(125)"
   ]
  },
  {
   "cell_type": "code",
   "execution_count": 43,
   "metadata": {},
   "outputs": [
    {
     "data": {
      "text/plain": [
       "120"
      ]
     },
     "execution_count": 43,
     "metadata": {},
     "output_type": "execute_result"
    }
   ],
   "source": [
    "my_car.get_speed()"
   ]
  },
  {
   "cell_type": "code",
   "execution_count": 44,
   "metadata": {},
   "outputs": [
    {
     "ename": "AttributeError",
     "evalue": "'Car' object has no attribute '__accelerate'",
     "output_type": "error",
     "traceback": [
      "\u001b[0;31m---------------------------------------------------------------------------\u001b[0m",
      "\u001b[0;31mAttributeError\u001b[0m                            Traceback (most recent call last)",
      "Cell \u001b[0;32mIn[44], line 1\u001b[0m\n\u001b[0;32m----> 1\u001b[0m \u001b[43mmy_car\u001b[49m\u001b[38;5;241;43m.\u001b[39;49m\u001b[43m__accelerate\u001b[49m(\u001b[38;5;241m30\u001b[39m)\n",
      "\u001b[0;31mAttributeError\u001b[0m: 'Car' object has no attribute '__accelerate'"
     ]
    }
   ],
   "source": [
    "my_car.__accelerate(30) # it will throw AttributeError dur to it is private"
   ]
  },
  {
   "cell_type": "code",
   "execution_count": null,
   "metadata": {},
   "outputs": [],
   "source": []
  }
 ],
 "metadata": {
  "kernelspec": {
   "display_name": "conda_env",
   "language": "python",
   "name": "python3"
  },
  "language_info": {
   "codemirror_mode": {
    "name": "ipython",
    "version": 3
   },
   "file_extension": ".py",
   "mimetype": "text/x-python",
   "name": "python",
   "nbconvert_exporter": "python",
   "pygments_lexer": "ipython3",
   "version": "3.9.15"
  }
 },
 "nbformat": 4,
 "nbformat_minor": 2
}
