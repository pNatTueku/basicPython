{
 "cells": [
  {
   "cell_type": "code",
   "execution_count": 1,
   "metadata": {},
   "outputs": [],
   "source": [
    "from collections import defaultdict\n",
    "import csv"
   ]
  },
  {
   "cell_type": "code",
   "execution_count": 2,
   "metadata": {},
   "outputs": [],
   "source": [
    "class age_heigh(object):\n",
    "    def __init__(self, Age = 0, Height = 0, count = 0):\n",
    "        self.Age = float(Age)\n",
    "        self.Height = float(Height)\n",
    "        self.count = count \n",
    "\n",
    "    def __iadd__(self, other):\n",
    "        self.Age += other.Age \n",
    "        self.Height += other.Height\n",
    "        self.count += other.count\n",
    "\n",
    "        return self "
   ]
  },
  {
   "cell_type": "code",
   "execution_count": 3,
   "metadata": {},
   "outputs": [
    {
     "data": {
      "text/plain": [
       "('files_to_process/D1.csv',\n",
       " 'files_to_process/D2.csv',\n",
       " 'files_to_process/D3.csv')"
      ]
     },
     "execution_count": 3,
     "metadata": {},
     "output_type": "execute_result"
    }
   ],
   "source": [
    "filenames = 'files_to_process/D1.csv', 'files_to_process/D2.csv', 'files_to_process/D3.csv'\n",
    "filenames"
   ]
  },
  {
   "cell_type": "code",
   "execution_count": 4,
   "metadata": {},
   "outputs": [
    {
     "data": {
      "text/plain": [
       "defaultdict(__main__.age_heigh, {})"
      ]
     },
     "execution_count": 4,
     "metadata": {},
     "output_type": "execute_result"
    }
   ],
   "source": [
    "stats = defaultdict(age_heigh)\n",
    "stats"
   ]
  },
  {
   "cell_type": "code",
   "execution_count": 5,
   "metadata": {},
   "outputs": [
    {
     "name": "stdout",
     "output_type": "stream",
     "text": [
      "{'Name': 'Natty', 'Age': '15', 'Height': '157'}\n",
      "{'Name': 'Nueng', 'Age': '20', 'Height': '176'}\n",
      "{'Name': 'Chew', 'Age': '13', 'Height': '165'}\n"
     ]
    }
   ],
   "source": [
    "for filename in filenames:\n",
    "    with open(filename) as f:\n",
    "\n",
    "        reader = csv.DictReader(f, delimiter = '|')\n",
    "\n",
    "        for row in reader:\n",
    "            stat = age_heigh(row['Age'], row['Height'], count = 1)\n",
    "            stats[row['Name']] += stat\n",
    "\n",
    "        print(row)"
   ]
  },
  {
   "cell_type": "code",
   "execution_count": 6,
   "metadata": {},
   "outputs": [
    {
     "name": "stdout",
     "output_type": "stream",
     "text": [
      "Chew\n",
      "Natty\n",
      "Nueng\n"
     ]
    }
   ],
   "source": [
    "for name in sorted(stats, key = lambda name: stats[name].Age):\n",
    "    print(name)"
   ]
  },
  {
   "cell_type": "code",
   "execution_count": 7,
   "metadata": {},
   "outputs": [
    {
     "name": "stdout",
     "output_type": "stream",
     "text": [
      "<__main__.age_heigh object at 0x107887220>\n",
      "<__main__.age_heigh object at 0x107876c10>\n",
      "<__main__.age_heigh object at 0x107895a60>\n"
     ]
    }
   ],
   "source": [
    "for name in sorted(stats, key = lambda name: stats[name].Age):\n",
    "    stat  = stats[name]\n",
    "    print(stat)"
   ]
  },
  {
   "cell_type": "code",
   "execution_count": 8,
   "metadata": {},
   "outputs": [
    {
     "name": "stdout",
     "output_type": "stream",
     "text": [
      "Natty\n",
      "Chew\n",
      "Nueng\n"
     ]
    }
   ],
   "source": [
    "for name in sorted(stats, key = lambda name: stats[name].Height):\n",
    "    print(name)"
   ]
  },
  {
   "cell_type": "code",
   "execution_count": 9,
   "metadata": {},
   "outputs": [],
   "source": [
    "for name in sorted(stats, key = lambda name: stats[name].Age):\n",
    "    stat  = stats[name]\n",
    "    if stat.count == 1:\n",
    "    # if stat.count != 1:\n",
    "        continue\n",
    "\n",
    "    print('{1.Age} {1.Height}'.format(name, stat))  # noqa: F523"
   ]
  },
  {
   "cell_type": "code",
   "execution_count": 10,
   "metadata": {},
   "outputs": [
    {
     "name": "stdout",
     "output_type": "stream",
     "text": [
      "13.0 165.0\n",
      "15.0 157.0\n",
      "20.0 176.0\n"
     ]
    }
   ],
   "source": [
    "for name in sorted(stats, key = lambda name: stats[name].Age):\n",
    "    stat  = stats[name]\n",
    "    # if stat.count == 1:\n",
    "    if stat.count != 1:\n",
    "        continue\n",
    "\n",
    "    print('{1.Age} {1.Height}'.format(name, stat))  # noqa: F523"
   ]
  },
  {
   "cell_type": "code",
   "execution_count": null,
   "metadata": {},
   "outputs": [],
   "source": []
  }
 ],
 "metadata": {
  "kernelspec": {
   "display_name": "conda_env",
   "language": "python",
   "name": "python3"
  },
  "language_info": {
   "codemirror_mode": {
    "name": "ipython",
    "version": 3
   },
   "file_extension": ".py",
   "mimetype": "text/x-python",
   "name": "python",
   "nbconvert_exporter": "python",
   "pygments_lexer": "ipython3",
   "version": "3.9.15"
  }
 },
 "nbformat": 4,
 "nbformat_minor": 2
}
