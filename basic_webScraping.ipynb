{
 "cells": [
  {
   "cell_type": "code",
   "execution_count": 1,
   "metadata": {},
   "outputs": [],
   "source": [
    "# import libraries\n",
    "import pandas as pd"
   ]
  },
  {
   "cell_type": "code",
   "execution_count": 2,
   "metadata": {},
   "outputs": [],
   "source": [
    "data = pd.read_html('https://en.wikipedia.org/wiki/Share_price')"
   ]
  },
  {
   "cell_type": "code",
   "execution_count": 3,
   "metadata": {},
   "outputs": [
    {
     "name": "stdout",
     "output_type": "stream",
     "text": [
      "Collecting lxml\n",
      "  Downloading lxml-4.9.2.tar.gz (3.7 MB)\n",
      "\u001b[2K     \u001b[38;2;114;156;31m━━━━━━━━━━━━━━━━━━━━━━━━━━━━━━━━━━━━━━━━\u001b[0m \u001b[32m3.7/3.7 MB\u001b[0m \u001b[31m2.3 MB/s\u001b[0m eta \u001b[36m0:00:00\u001b[0mm eta \u001b[36m0:00:01\u001b[0m[36m0:00:01\u001b[0m\n",
      "\u001b[?25h  Preparing metadata (setup.py) ... \u001b[?25ldone\n",
      "\u001b[?25hInstalling collected packages: lxml\n",
      "\u001b[33m  DEPRECATION: lxml is being installed using the legacy 'setup.py install' method, because it does not have a 'pyproject.toml' and the 'wheel' package is not installed. pip 23.1 will enforce this behaviour change. A possible replacement is to enable the '--use-pep517' option. Discussion can be found at https://github.com/pypa/pip/issues/8559\u001b[0m\u001b[33m\n",
      "\u001b[0m  Running setup.py install for lxml ... \u001b[?25ldone\n",
      "\u001b[?25hSuccessfully installed lxml-4.9.2\n",
      "Note: you may need to restart the kernel to use updated packages.\n"
     ]
    }
   ],
   "source": [
    "#pip install lxml"
   ]
  },
  {
   "cell_type": "code",
   "execution_count": 3,
   "metadata": {},
   "outputs": [
    {
     "data": {
      "text/plain": [
       "[                             Company Price (US$)                Date  \\\n",
       " 0                 Berkshire Hathaway     518'400          April 2022   \n",
       " 1                   Lindt & Sprüngli     122'000          April 2022   \n",
       " 2                    Bastfaserkontor      11'435          March 2022   \n",
       " 3                         Berlin Zoo       9'365           June 2021   \n",
       " 4                  Financière Moncey       8'711      September 2021   \n",
       " 5                 Zuger Kantonalbank       7'200            May 2022   \n",
       " 6                Swiss National Bank       6'371  February 1st, 2022   \n",
       " 7           Reederei Herbert Ekkenga       5'400       February 2022   \n",
       " 8                          NVR, Inc.       5'330       November 2021   \n",
       " 9            Berkeley Group Holdings       4'484          April 2022   \n",
       " 10             Financière des Sucres       4'355          April 2022   \n",
       " 11         Ultra Electronics Holding       4'330          April 2022   \n",
       " 12                          Givaudan       4'017          April 2022   \n",
       " 13              Seaboard Corporation       3'980       November 2021   \n",
       " 14             Wizz Air Holdings plc       3'776          April 2022   \n",
       " 15                            Amazon       3'110          April 2022   \n",
       " 16                     Alphabet Inc.       2'920       November 2021   \n",
       " 17  Société Générale de Surveillance       2'696          April 2022   \n",
       " 18                   Barry Callebaut       2'513         August 2021   \n",
       " \n",
       "                                        Industry Notes                  Country  \n",
       " 0   holding company Most expensive share in the wo...            United States  \n",
       " 1   chocolate manufacture Most expensive European ...              Switzerland  \n",
       " 2   small real estate company Company name: See „b...                  Germany  \n",
       " 3                     zoo 4000 shares in circulation.                  Germany  \n",
       " 4   holding company; specializing in urban public ...                   France  \n",
       " 5                     state bank of the Canton of Zug              Switzerland  \n",
       " 6                                        central bank              Switzerland  \n",
       " 7             tourist ships on the Zwischenahner Meer                  Germany  \n",
       " 8                 home construction, mortgage banking            United States  \n",
       " 9                         house building, real estate           United Kingdom  \n",
       " 10                        sugar refinery, sugar trade                  Belgium  \n",
       " 11                     defense and security equipment           United Kingdom  \n",
       " 12                            flavours and fragrances              Switzerland  \n",
       " 13                 agriculture, shipping, electricity            United States  \n",
       " 14                                   low cost airline  Jersey (United Kingdom)  \n",
       " 15                                    online commerce            United States  \n",
       " 16                             information technology            United States  \n",
       " 17                 inspection, certification, testing              Switzerland  \n",
       " 18                                              cocoa              Switzerland  ,\n",
       "     Authority control           Authority control.1\n",
       " 0  National libraries  Germany Israel United States\n",
       " 1               Other                          FAST]"
      ]
     },
     "execution_count": 3,
     "metadata": {},
     "output_type": "execute_result"
    }
   ],
   "source": [
    "data"
   ]
  },
  {
   "cell_type": "code",
   "execution_count": 4,
   "metadata": {},
   "outputs": [
    {
     "data": {
      "text/plain": [
       "list"
      ]
     },
     "execution_count": 4,
     "metadata": {},
     "output_type": "execute_result"
    }
   ],
   "source": [
    "type(data)"
   ]
  },
  {
   "cell_type": "code",
   "execution_count": null,
   "metadata": {},
   "outputs": [],
   "source": []
  },
  {
   "cell_type": "code",
   "execution_count": 5,
   "metadata": {},
   "outputs": [
    {
     "data": {
      "text/html": [
       "<div>\n",
       "<style scoped>\n",
       "    .dataframe tbody tr th:only-of-type {\n",
       "        vertical-align: middle;\n",
       "    }\n",
       "\n",
       "    .dataframe tbody tr th {\n",
       "        vertical-align: top;\n",
       "    }\n",
       "\n",
       "    .dataframe thead th {\n",
       "        text-align: right;\n",
       "    }\n",
       "</style>\n",
       "<table border=\"1\" class=\"dataframe\">\n",
       "  <thead>\n",
       "    <tr style=\"text-align: right;\">\n",
       "      <th></th>\n",
       "      <th>Company</th>\n",
       "      <th>Price (US$)</th>\n",
       "      <th>Date</th>\n",
       "      <th>Industry Notes</th>\n",
       "      <th>Country</th>\n",
       "    </tr>\n",
       "  </thead>\n",
       "  <tbody>\n",
       "    <tr>\n",
       "      <th>0</th>\n",
       "      <td>Berkshire Hathaway</td>\n",
       "      <td>518'400</td>\n",
       "      <td>April 2022</td>\n",
       "      <td>holding company Most expensive share in the wo...</td>\n",
       "      <td>United States</td>\n",
       "    </tr>\n",
       "    <tr>\n",
       "      <th>1</th>\n",
       "      <td>Lindt &amp; Sprüngli</td>\n",
       "      <td>122'000</td>\n",
       "      <td>April 2022</td>\n",
       "      <td>chocolate manufacture Most expensive European ...</td>\n",
       "      <td>Switzerland</td>\n",
       "    </tr>\n",
       "    <tr>\n",
       "      <th>2</th>\n",
       "      <td>Bastfaserkontor</td>\n",
       "      <td>11'435</td>\n",
       "      <td>March 2022</td>\n",
       "      <td>small real estate company Company name: See „b...</td>\n",
       "      <td>Germany</td>\n",
       "    </tr>\n",
       "    <tr>\n",
       "      <th>3</th>\n",
       "      <td>Berlin Zoo</td>\n",
       "      <td>9'365</td>\n",
       "      <td>June 2021</td>\n",
       "      <td>zoo 4000 shares in circulation.</td>\n",
       "      <td>Germany</td>\n",
       "    </tr>\n",
       "    <tr>\n",
       "      <th>4</th>\n",
       "      <td>Financière Moncey</td>\n",
       "      <td>8'711</td>\n",
       "      <td>September 2021</td>\n",
       "      <td>holding company; specializing in urban public ...</td>\n",
       "      <td>France</td>\n",
       "    </tr>\n",
       "  </tbody>\n",
       "</table>\n",
       "</div>"
      ],
      "text/plain": [
       "              Company Price (US$)            Date  \\\n",
       "0  Berkshire Hathaway     518'400      April 2022   \n",
       "1    Lindt & Sprüngli     122'000      April 2022   \n",
       "2     Bastfaserkontor      11'435      March 2022   \n",
       "3          Berlin Zoo       9'365       June 2021   \n",
       "4   Financière Moncey       8'711  September 2021   \n",
       "\n",
       "                                      Industry Notes        Country  \n",
       "0  holding company Most expensive share in the wo...  United States  \n",
       "1  chocolate manufacture Most expensive European ...    Switzerland  \n",
       "2  small real estate company Company name: See „b...        Germany  \n",
       "3                    zoo 4000 shares in circulation.        Germany  \n",
       "4  holding company; specializing in urban public ...         France  "
      ]
     },
     "execution_count": 5,
     "metadata": {},
     "output_type": "execute_result"
    }
   ],
   "source": [
    "data[0].head()"
   ]
  },
  {
   "cell_type": "code",
   "execution_count": 6,
   "metadata": {},
   "outputs": [
    {
     "data": {
      "text/html": [
       "<div>\n",
       "<style scoped>\n",
       "    .dataframe tbody tr th:only-of-type {\n",
       "        vertical-align: middle;\n",
       "    }\n",
       "\n",
       "    .dataframe tbody tr th {\n",
       "        vertical-align: top;\n",
       "    }\n",
       "\n",
       "    .dataframe thead th {\n",
       "        text-align: right;\n",
       "    }\n",
       "</style>\n",
       "<table border=\"1\" class=\"dataframe\">\n",
       "  <thead>\n",
       "    <tr style=\"text-align: right;\">\n",
       "      <th></th>\n",
       "      <th>Authority control</th>\n",
       "      <th>Authority control.1</th>\n",
       "    </tr>\n",
       "  </thead>\n",
       "  <tbody>\n",
       "    <tr>\n",
       "      <th>0</th>\n",
       "      <td>National libraries</td>\n",
       "      <td>Germany Israel United States</td>\n",
       "    </tr>\n",
       "    <tr>\n",
       "      <th>1</th>\n",
       "      <td>Other</td>\n",
       "      <td>FAST</td>\n",
       "    </tr>\n",
       "  </tbody>\n",
       "</table>\n",
       "</div>"
      ],
      "text/plain": [
       "    Authority control           Authority control.1\n",
       "0  National libraries  Germany Israel United States\n",
       "1               Other                          FAST"
      ]
     },
     "execution_count": 6,
     "metadata": {},
     "output_type": "execute_result"
    }
   ],
   "source": [
    "data[1].head()"
   ]
  },
  {
   "cell_type": "code",
   "execution_count": 7,
   "metadata": {},
   "outputs": [],
   "source": [
    "share_prices = data[0]"
   ]
  },
  {
   "cell_type": "code",
   "execution_count": 8,
   "metadata": {},
   "outputs": [
    {
     "data": {
      "text/plain": [
       "(19, 5)"
      ]
     },
     "execution_count": 8,
     "metadata": {},
     "output_type": "execute_result"
    }
   ],
   "source": [
    "# data wrangling\n",
    "share_prices.shape"
   ]
  },
  {
   "cell_type": "code",
   "execution_count": 9,
   "metadata": {},
   "outputs": [
    {
     "data": {
      "text/html": [
       "<div>\n",
       "<style scoped>\n",
       "    .dataframe tbody tr th:only-of-type {\n",
       "        vertical-align: middle;\n",
       "    }\n",
       "\n",
       "    .dataframe tbody tr th {\n",
       "        vertical-align: top;\n",
       "    }\n",
       "\n",
       "    .dataframe thead th {\n",
       "        text-align: right;\n",
       "    }\n",
       "</style>\n",
       "<table border=\"1\" class=\"dataframe\">\n",
       "  <thead>\n",
       "    <tr style=\"text-align: right;\">\n",
       "      <th></th>\n",
       "      <th>Company</th>\n",
       "      <th>Price (US$)</th>\n",
       "      <th>Date</th>\n",
       "      <th>Industry Notes</th>\n",
       "      <th>Country</th>\n",
       "    </tr>\n",
       "  </thead>\n",
       "  <tbody>\n",
       "    <tr>\n",
       "      <th>0</th>\n",
       "      <td>Berkshire Hathaway</td>\n",
       "      <td>518'400</td>\n",
       "      <td>April 2022</td>\n",
       "      <td>holding company Most expensive share in the wo...</td>\n",
       "      <td>United States</td>\n",
       "    </tr>\n",
       "    <tr>\n",
       "      <th>1</th>\n",
       "      <td>Lindt &amp; Sprüngli</td>\n",
       "      <td>122'000</td>\n",
       "      <td>April 2022</td>\n",
       "      <td>chocolate manufacture Most expensive European ...</td>\n",
       "      <td>Switzerland</td>\n",
       "    </tr>\n",
       "    <tr>\n",
       "      <th>2</th>\n",
       "      <td>Bastfaserkontor</td>\n",
       "      <td>11'435</td>\n",
       "      <td>March 2022</td>\n",
       "      <td>small real estate company Company name: See „b...</td>\n",
       "      <td>Germany</td>\n",
       "    </tr>\n",
       "    <tr>\n",
       "      <th>3</th>\n",
       "      <td>Berlin Zoo</td>\n",
       "      <td>9'365</td>\n",
       "      <td>June 2021</td>\n",
       "      <td>zoo 4000 shares in circulation.</td>\n",
       "      <td>Germany</td>\n",
       "    </tr>\n",
       "    <tr>\n",
       "      <th>4</th>\n",
       "      <td>Financière Moncey</td>\n",
       "      <td>8'711</td>\n",
       "      <td>September 2021</td>\n",
       "      <td>holding company; specializing in urban public ...</td>\n",
       "      <td>France</td>\n",
       "    </tr>\n",
       "    <tr>\n",
       "      <th>5</th>\n",
       "      <td>Zuger Kantonalbank</td>\n",
       "      <td>7'200</td>\n",
       "      <td>May 2022</td>\n",
       "      <td>state bank of the Canton of Zug</td>\n",
       "      <td>Switzerland</td>\n",
       "    </tr>\n",
       "    <tr>\n",
       "      <th>6</th>\n",
       "      <td>Swiss National Bank</td>\n",
       "      <td>6'371</td>\n",
       "      <td>February 1st, 2022</td>\n",
       "      <td>central bank</td>\n",
       "      <td>Switzerland</td>\n",
       "    </tr>\n",
       "    <tr>\n",
       "      <th>7</th>\n",
       "      <td>Reederei Herbert Ekkenga</td>\n",
       "      <td>5'400</td>\n",
       "      <td>February 2022</td>\n",
       "      <td>tourist ships on the Zwischenahner Meer</td>\n",
       "      <td>Germany</td>\n",
       "    </tr>\n",
       "    <tr>\n",
       "      <th>8</th>\n",
       "      <td>NVR, Inc.</td>\n",
       "      <td>5'330</td>\n",
       "      <td>November 2021</td>\n",
       "      <td>home construction, mortgage banking</td>\n",
       "      <td>United States</td>\n",
       "    </tr>\n",
       "    <tr>\n",
       "      <th>9</th>\n",
       "      <td>Berkeley Group Holdings</td>\n",
       "      <td>4'484</td>\n",
       "      <td>April 2022</td>\n",
       "      <td>house building, real estate</td>\n",
       "      <td>United Kingdom</td>\n",
       "    </tr>\n",
       "    <tr>\n",
       "      <th>10</th>\n",
       "      <td>Financière des Sucres</td>\n",
       "      <td>4'355</td>\n",
       "      <td>April 2022</td>\n",
       "      <td>sugar refinery, sugar trade</td>\n",
       "      <td>Belgium</td>\n",
       "    </tr>\n",
       "    <tr>\n",
       "      <th>11</th>\n",
       "      <td>Ultra Electronics Holding</td>\n",
       "      <td>4'330</td>\n",
       "      <td>April 2022</td>\n",
       "      <td>defense and security equipment</td>\n",
       "      <td>United Kingdom</td>\n",
       "    </tr>\n",
       "    <tr>\n",
       "      <th>12</th>\n",
       "      <td>Givaudan</td>\n",
       "      <td>4'017</td>\n",
       "      <td>April 2022</td>\n",
       "      <td>flavours and fragrances</td>\n",
       "      <td>Switzerland</td>\n",
       "    </tr>\n",
       "    <tr>\n",
       "      <th>13</th>\n",
       "      <td>Seaboard Corporation</td>\n",
       "      <td>3'980</td>\n",
       "      <td>November 2021</td>\n",
       "      <td>agriculture, shipping, electricity</td>\n",
       "      <td>United States</td>\n",
       "    </tr>\n",
       "    <tr>\n",
       "      <th>14</th>\n",
       "      <td>Wizz Air Holdings plc</td>\n",
       "      <td>3'776</td>\n",
       "      <td>April 2022</td>\n",
       "      <td>low cost airline</td>\n",
       "      <td>Jersey (United Kingdom)</td>\n",
       "    </tr>\n",
       "    <tr>\n",
       "      <th>15</th>\n",
       "      <td>Amazon</td>\n",
       "      <td>3'110</td>\n",
       "      <td>April 2022</td>\n",
       "      <td>online commerce</td>\n",
       "      <td>United States</td>\n",
       "    </tr>\n",
       "    <tr>\n",
       "      <th>16</th>\n",
       "      <td>Alphabet Inc.</td>\n",
       "      <td>2'920</td>\n",
       "      <td>November 2021</td>\n",
       "      <td>information technology</td>\n",
       "      <td>United States</td>\n",
       "    </tr>\n",
       "    <tr>\n",
       "      <th>17</th>\n",
       "      <td>Société Générale de Surveillance</td>\n",
       "      <td>2'696</td>\n",
       "      <td>April 2022</td>\n",
       "      <td>inspection, certification, testing</td>\n",
       "      <td>Switzerland</td>\n",
       "    </tr>\n",
       "    <tr>\n",
       "      <th>18</th>\n",
       "      <td>Barry Callebaut</td>\n",
       "      <td>2'513</td>\n",
       "      <td>August 2021</td>\n",
       "      <td>cocoa</td>\n",
       "      <td>Switzerland</td>\n",
       "    </tr>\n",
       "  </tbody>\n",
       "</table>\n",
       "</div>"
      ],
      "text/plain": [
       "                             Company Price (US$)                Date  \\\n",
       "0                 Berkshire Hathaway     518'400          April 2022   \n",
       "1                   Lindt & Sprüngli     122'000          April 2022   \n",
       "2                    Bastfaserkontor      11'435          March 2022   \n",
       "3                         Berlin Zoo       9'365           June 2021   \n",
       "4                  Financière Moncey       8'711      September 2021   \n",
       "5                 Zuger Kantonalbank       7'200            May 2022   \n",
       "6                Swiss National Bank       6'371  February 1st, 2022   \n",
       "7           Reederei Herbert Ekkenga       5'400       February 2022   \n",
       "8                          NVR, Inc.       5'330       November 2021   \n",
       "9            Berkeley Group Holdings       4'484          April 2022   \n",
       "10             Financière des Sucres       4'355          April 2022   \n",
       "11         Ultra Electronics Holding       4'330          April 2022   \n",
       "12                          Givaudan       4'017          April 2022   \n",
       "13              Seaboard Corporation       3'980       November 2021   \n",
       "14             Wizz Air Holdings plc       3'776          April 2022   \n",
       "15                            Amazon       3'110          April 2022   \n",
       "16                     Alphabet Inc.       2'920       November 2021   \n",
       "17  Société Générale de Surveillance       2'696          April 2022   \n",
       "18                   Barry Callebaut       2'513         August 2021   \n",
       "\n",
       "                                       Industry Notes                  Country  \n",
       "0   holding company Most expensive share in the wo...            United States  \n",
       "1   chocolate manufacture Most expensive European ...              Switzerland  \n",
       "2   small real estate company Company name: See „b...                  Germany  \n",
       "3                     zoo 4000 shares in circulation.                  Germany  \n",
       "4   holding company; specializing in urban public ...                   France  \n",
       "5                     state bank of the Canton of Zug              Switzerland  \n",
       "6                                        central bank              Switzerland  \n",
       "7             tourist ships on the Zwischenahner Meer                  Germany  \n",
       "8                 home construction, mortgage banking            United States  \n",
       "9                         house building, real estate           United Kingdom  \n",
       "10                        sugar refinery, sugar trade                  Belgium  \n",
       "11                     defense and security equipment           United Kingdom  \n",
       "12                            flavours and fragrances              Switzerland  \n",
       "13                 agriculture, shipping, electricity            United States  \n",
       "14                                   low cost airline  Jersey (United Kingdom)  \n",
       "15                                    online commerce            United States  \n",
       "16                             information technology            United States  \n",
       "17                 inspection, certification, testing              Switzerland  \n",
       "18                                              cocoa              Switzerland  "
      ]
     },
     "execution_count": 9,
     "metadata": {},
     "output_type": "execute_result"
    }
   ],
   "source": [
    "share_prices"
   ]
  },
  {
   "cell_type": "code",
   "execution_count": 10,
   "metadata": {},
   "outputs": [
    {
     "data": {
      "text/plain": [
       "Company           object\n",
       "Price (US$)       object\n",
       "Date              object\n",
       "Industry Notes    object\n",
       "Country           object\n",
       "dtype: object"
      ]
     },
     "execution_count": 10,
     "metadata": {},
     "output_type": "execute_result"
    }
   ],
   "source": [
    "share_prices.dtypes"
   ]
  },
  {
   "cell_type": "code",
   "execution_count": 13,
   "metadata": {},
   "outputs": [],
   "source": [
    "# convert data\n",
    "share_prices['Prices'] = share_prices[\"Price (US$)\"].str.replace(\"'\", \"\") # replace ' with nothing"
   ]
  },
  {
   "cell_type": "code",
   "execution_count": 14,
   "metadata": {},
   "outputs": [
    {
     "data": {
      "text/html": [
       "<div>\n",
       "<style scoped>\n",
       "    .dataframe tbody tr th:only-of-type {\n",
       "        vertical-align: middle;\n",
       "    }\n",
       "\n",
       "    .dataframe tbody tr th {\n",
       "        vertical-align: top;\n",
       "    }\n",
       "\n",
       "    .dataframe thead th {\n",
       "        text-align: right;\n",
       "    }\n",
       "</style>\n",
       "<table border=\"1\" class=\"dataframe\">\n",
       "  <thead>\n",
       "    <tr style=\"text-align: right;\">\n",
       "      <th></th>\n",
       "      <th>Company</th>\n",
       "      <th>Price (US$)</th>\n",
       "      <th>Date</th>\n",
       "      <th>Industry Notes</th>\n",
       "      <th>Country</th>\n",
       "      <th>Prices</th>\n",
       "    </tr>\n",
       "  </thead>\n",
       "  <tbody>\n",
       "    <tr>\n",
       "      <th>0</th>\n",
       "      <td>Berkshire Hathaway</td>\n",
       "      <td>518'400</td>\n",
       "      <td>April 2022</td>\n",
       "      <td>holding company Most expensive share in the wo...</td>\n",
       "      <td>United States</td>\n",
       "      <td>518400</td>\n",
       "    </tr>\n",
       "    <tr>\n",
       "      <th>1</th>\n",
       "      <td>Lindt &amp; Sprüngli</td>\n",
       "      <td>122'000</td>\n",
       "      <td>April 2022</td>\n",
       "      <td>chocolate manufacture Most expensive European ...</td>\n",
       "      <td>Switzerland</td>\n",
       "      <td>122000</td>\n",
       "    </tr>\n",
       "    <tr>\n",
       "      <th>2</th>\n",
       "      <td>Bastfaserkontor</td>\n",
       "      <td>11'435</td>\n",
       "      <td>March 2022</td>\n",
       "      <td>small real estate company Company name: See „b...</td>\n",
       "      <td>Germany</td>\n",
       "      <td>11435</td>\n",
       "    </tr>\n",
       "    <tr>\n",
       "      <th>3</th>\n",
       "      <td>Berlin Zoo</td>\n",
       "      <td>9'365</td>\n",
       "      <td>June 2021</td>\n",
       "      <td>zoo 4000 shares in circulation.</td>\n",
       "      <td>Germany</td>\n",
       "      <td>9365</td>\n",
       "    </tr>\n",
       "    <tr>\n",
       "      <th>4</th>\n",
       "      <td>Financière Moncey</td>\n",
       "      <td>8'711</td>\n",
       "      <td>September 2021</td>\n",
       "      <td>holding company; specializing in urban public ...</td>\n",
       "      <td>France</td>\n",
       "      <td>8711</td>\n",
       "    </tr>\n",
       "  </tbody>\n",
       "</table>\n",
       "</div>"
      ],
      "text/plain": [
       "              Company Price (US$)            Date  \\\n",
       "0  Berkshire Hathaway     518'400      April 2022   \n",
       "1    Lindt & Sprüngli     122'000      April 2022   \n",
       "2     Bastfaserkontor      11'435      March 2022   \n",
       "3          Berlin Zoo       9'365       June 2021   \n",
       "4   Financière Moncey       8'711  September 2021   \n",
       "\n",
       "                                      Industry Notes        Country  Prices  \n",
       "0  holding company Most expensive share in the wo...  United States  518400  \n",
       "1  chocolate manufacture Most expensive European ...    Switzerland  122000  \n",
       "2  small real estate company Company name: See „b...        Germany   11435  \n",
       "3                    zoo 4000 shares in circulation.        Germany    9365  \n",
       "4  holding company; specializing in urban public ...         France    8711  "
      ]
     },
     "execution_count": 14,
     "metadata": {},
     "output_type": "execute_result"
    }
   ],
   "source": [
    "share_prices.head()"
   ]
  },
  {
   "cell_type": "code",
   "execution_count": 16,
   "metadata": {},
   "outputs": [
    {
     "data": {
      "text/plain": [
       "Company           object\n",
       "Price (US$)       object\n",
       "Date              object\n",
       "Industry Notes    object\n",
       "Country           object\n",
       "Prices            object\n",
       "dtype: object"
      ]
     },
     "execution_count": 16,
     "metadata": {},
     "output_type": "execute_result"
    }
   ],
   "source": [
    "share_prices.dtypes"
   ]
  },
  {
   "cell_type": "code",
   "execution_count": 17,
   "metadata": {},
   "outputs": [],
   "source": [
    "share_prices['Prices'] = pd.to_numeric(share_prices['Prices']) # convert string to integer"
   ]
  },
  {
   "cell_type": "code",
   "execution_count": 18,
   "metadata": {},
   "outputs": [
    {
     "data": {
      "text/plain": [
       "Company           object\n",
       "Price (US$)       object\n",
       "Date              object\n",
       "Industry Notes    object\n",
       "Country           object\n",
       "Prices             int64\n",
       "dtype: object"
      ]
     },
     "execution_count": 18,
     "metadata": {},
     "output_type": "execute_result"
    }
   ],
   "source": [
    "share_prices.dtypes"
   ]
  },
  {
   "cell_type": "code",
   "execution_count": null,
   "metadata": {},
   "outputs": [],
   "source": []
  }
 ],
 "metadata": {
  "kernelspec": {
   "display_name": "Python 3",
   "language": "python",
   "name": "python3"
  },
  "language_info": {
   "codemirror_mode": {
    "name": "ipython",
    "version": 3
   },
   "file_extension": ".py",
   "mimetype": "text/x-python",
   "name": "python",
   "nbconvert_exporter": "python",
   "pygments_lexer": "ipython3",
   "version": "3.11.1"
  },
  "orig_nbformat": 4,
  "vscode": {
   "interpreter": {
    "hash": "87a1d552f91eeb558c0ccd448f410e247f4277ae8c89a1716b4b50ef0e37ae74"
   }
  }
 },
 "nbformat": 4,
 "nbformat_minor": 2
}
