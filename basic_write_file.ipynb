{
 "cells": [
  {
   "cell_type": "code",
   "execution_count": 27,
   "metadata": {},
   "outputs": [],
   "source": [
    "# use with and /n for new line\n",
    "\n",
    "with open('text_file.txt', 'w', encoding = 'utf-8') as f:\n",
    "    f.write('This is the 1st line\\n')\n",
    "    f.write('This is the 2nd line\\n')\n",
    "    f.write('Yeah, this is the 3rd line')"
   ]
  },
  {
   "cell_type": "code",
   "execution_count": 28,
   "metadata": {},
   "outputs": [],
   "source": [
    "# not use with\n",
    "\n",
    "f = open('text_file_2.txt', 'w', encoding = 'utf-8')\n",
    "f.write('This is the 1st line\\n')\n",
    "f.write('This is the 2nd line\\n')    \n",
    "f.write('Yeah, this is the 3rd line')\n",
    "f.close() # need to close to get the result"
   ]
  },
  {
   "cell_type": "code",
   "execution_count": 29,
   "metadata": {},
   "outputs": [],
   "source": [
    "# append data to a file\n",
    "\n",
    "f = open('text_file_2.txt', 'a')\n",
    "f.write('\\nAppend this line \\n')\n",
    "f.close()\n"
   ]
  },
  {
   "cell_type": "code",
   "execution_count": 30,
   "metadata": {},
   "outputs": [],
   "source": [
    "with open('text_file.txt', 'a') as f:\n",
    "    f.write('\\nAppend this line\\n')"
   ]
  },
  {
   "cell_type": "code",
   "execution_count": null,
   "metadata": {},
   "outputs": [],
   "source": []
  }
 ],
 "metadata": {
  "kernelspec": {
   "display_name": "Python 3",
   "language": "python",
   "name": "python3"
  },
  "language_info": {
   "codemirror_mode": {
    "name": "ipython",
    "version": 3
   },
   "file_extension": ".py",
   "mimetype": "text/x-python",
   "name": "python",
   "nbconvert_exporter": "python",
   "pygments_lexer": "ipython3",
   "version": "3.11.1"
  },
  "orig_nbformat": 4,
  "vscode": {
   "interpreter": {
    "hash": "87a1d552f91eeb558c0ccd448f410e247f4277ae8c89a1716b4b50ef0e37ae74"
   }
  }
 },
 "nbformat": 4,
 "nbformat_minor": 2
}
